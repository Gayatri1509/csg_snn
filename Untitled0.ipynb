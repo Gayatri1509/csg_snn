{
  "nbformat": 4,
  "nbformat_minor": 0,
  "metadata": {
    "colab": {
      "name": "Untitled0.ipynb",
      "version": "0.3.2",
      "provenance": [],
      "include_colab_link": true
    },
    "kernelspec": {
      "name": "python3",
      "display_name": "Python 3"
    }
  },
  "cells": [
    {
      "cell_type": "markdown",
      "metadata": {
        "id": "view-in-github",
        "colab_type": "text"
      },
      "source": [
        "<a href=\"https://colab.research.google.com/github/Gayatri1509/csg_snn/blob/master/Untitled0.ipynb\" target=\"_parent\"><img src=\"https://colab.research.google.com/assets/colab-badge.svg\" alt=\"Open In Colab\"/></a>"
      ]
    },
    {
      "cell_type": "code",
      "metadata": {
        "id": "c52MYgewVOkt",
        "colab_type": "code",
        "outputId": "2173a7e1-2564-4872-c55d-291e1fb6c8c6",
        "colab": {
          "base_uri": "https://localhost:8080/",
          "height": 224
        }
      },
      "source": [
        "!pip3 install http://download.pytorch.org/whl/cu80/torch-0.3.0.post4-cp36-cp36m-linux_x86_64.whl "
      ],
      "execution_count": 0,
      "outputs": [
        {
          "output_type": "stream",
          "text": [
            "Collecting torch==0.3.0.post4 from http://download.pytorch.org/whl/cu80/torch-0.3.0.post4-cp36-cp36m-linux_x86_64.whl\n",
            "\u001b[?25l  Downloading http://download.pytorch.org/whl/cu80/torch-0.3.0.post4-cp36-cp36m-linux_x86_64.whl (592.3MB)\n",
            "\u001b[K     |████████████████████████████████| 592.3MB 1.1MB/s \n",
            "\u001b[?25hRequirement already satisfied: pyyaml in /usr/local/lib/python3.6/dist-packages (from torch==0.3.0.post4) (3.13)\n",
            "Requirement already satisfied: numpy in /usr/local/lib/python3.6/dist-packages (from torch==0.3.0.post4) (1.16.3)\n",
            "\u001b[31mERROR: fastai 1.0.52 has requirement torch>=1.0.0, but you'll have torch 0.3.0.post4 which is incompatible.\u001b[0m\n",
            "Installing collected packages: torch\n",
            "  Found existing installation: torch 1.1.0\n",
            "    Uninstalling torch-1.1.0:\n",
            "      Successfully uninstalled torch-1.1.0\n",
            "Successfully installed torch-0.3.0.post4\n"
          ],
          "name": "stdout"
        }
      ]
    },
    {
      "cell_type": "code",
      "metadata": {
        "id": "8efd9SQireB_",
        "colab_type": "code",
        "outputId": "99d423ec-d756-4758-b991-0d7df35c75d4",
        "colab": {
          "base_uri": "https://localhost:8080/",
          "height": 156
        }
      },
      "source": [
        "!pip3 install torchvision"
      ],
      "execution_count": 0,
      "outputs": [
        {
          "output_type": "stream",
          "text": [
            "Requirement already satisfied: torchvision in /usr/local/lib/python3.6/dist-packages (0.2.2.post3)\n",
            "Requirement already satisfied: six in /usr/local/lib/python3.6/dist-packages (from torchvision) (1.12.0)\n",
            "Requirement already satisfied: numpy in /usr/local/lib/python3.6/dist-packages (from torchvision) (1.16.3)\n",
            "Requirement already satisfied: pillow>=4.1.1 in /usr/local/lib/python3.6/dist-packages (from torchvision) (4.3.0)\n",
            "Requirement already satisfied: torch in /usr/local/lib/python3.6/dist-packages (from torchvision) (0.3.0.post4)\n",
            "Requirement already satisfied: olefile in /usr/local/lib/python3.6/dist-packages (from pillow>=4.1.1->torchvision) (0.46)\n",
            "Requirement already satisfied: pyyaml in /usr/local/lib/python3.6/dist-packages (from torch->torchvision) (3.13)\n"
          ],
          "name": "stdout"
        }
      ]
    },
    {
      "cell_type": "code",
      "metadata": {
        "id": "7-GlEw17sPjU",
        "colab_type": "code",
        "outputId": "c63211ee-91f6-4dfb-a0e1-42cb1b2bbf61",
        "colab": {
          "base_uri": "https://localhost:8080/",
          "height": 102
        }
      },
      "source": [
        "!git clone https://github.com/jiasenlu/HieCoAttenVQA.git\n",
        "  "
      ],
      "execution_count": 0,
      "outputs": [
        {
          "output_type": "stream",
          "text": [
            "Cloning into 'HieCoAttenVQA'...\n",
            "remote: Enumerating objects: 159, done.\u001b[K\n",
            "remote: Total 159 (delta 0), reused 0 (delta 0), pack-reused 159\u001b[K\n",
            "Receiving objects: 100% (159/159), 1.54 MiB | 4.12 MiB/s, done.\n",
            "Resolving deltas: 100% (75/75), done.\n"
          ],
          "name": "stdout"
        }
      ]
    },
    {
      "cell_type": "code",
      "metadata": {
        "id": "lkFw17WNteac",
        "colab_type": "code",
        "outputId": "981e6afc-c271-449f-bb73-1178d31d3322",
        "colab": {
          "base_uri": "https://localhost:8080/",
          "height": 34
        }
      },
      "source": [
        "cd /content/HieCoAttenVQA/data/"
      ],
      "execution_count": 0,
      "outputs": [
        {
          "output_type": "stream",
          "text": [
            "/content/HieCoAttenVQA/data\n"
          ],
          "name": "stdout"
        }
      ]
    },
    {
      "cell_type": "code",
      "metadata": {
        "id": "Bv1s9M68sPmc",
        "colab_type": "code",
        "outputId": "ea3032c5-bd8d-4951-a727-24047963ffc3",
        "colab": {
          "base_uri": "https://localhost:8080/",
          "height": 34
        }
      },
      "source": [
        "ls\n"
      ],
      "execution_count": 0,
      "outputs": [
        {
          "output_type": "stream",
          "text": [
            "\u001b[0m\u001b[01;34mannotations\u001b[0m/  \u001b[01;32mcocoqa_preprocess.py\u001b[0m*  \u001b[01;32mvqa_preprocess.py\u001b[0m*\n"
          ],
          "name": "stdout"
        }
      ]
    },
    {
      "cell_type": "code",
      "metadata": {
        "id": "MYxqMFlFsPpi",
        "colab_type": "code",
        "outputId": "57c45aac-5d92-43a0-9de7-63d78d5469f9",
        "colab": {
          "base_uri": "https://localhost:8080/",
          "height": 241
        }
      },
      "source": [
        "!python2 vqa_preprocess.py --download 0 --split 1"
      ],
      "execution_count": 0,
      "outputs": [
        {
          "output_type": "stream",
          "text": [
            "parsed input parameters:\n",
            "{\n",
            "  \"download\": 0, \n",
            "  \"split\": 1\n",
            "}\n",
            "Loading annotations and questions...\n",
            "Traceback (most recent call last):\n",
            "  File \"vqa_preprocess.py\", line 132, in <module>\n",
            "    main(params)\n",
            "  File \"vqa_preprocess.py\", line 47, in main\n",
            "    train_anno = json.load(open('annotations/mscoco_train2014_annotations.json', 'r'))\n",
            "IOError: [Errno 2] No such file or directory: 'annotations/mscoco_train2014_annotations.json'\n"
          ],
          "name": "stdout"
        }
      ]
    },
    {
      "cell_type": "code",
      "metadata": {
        "id": "U78IgkaXsPsE",
        "colab_type": "code",
        "outputId": "1c7c5a4e-8ded-45fc-afbf-1c73307d4de4",
        "colab": {
          "base_uri": "https://localhost:8080/",
          "height": 34
        }
      },
      "source": [
        "pwd\n"
      ],
      "execution_count": 0,
      "outputs": [
        {
          "output_type": "execute_result",
          "data": {
            "text/plain": [
              "'/content/HieCoAttenVQA/data'"
            ]
          },
          "metadata": {
            "tags": []
          },
          "execution_count": 16
        }
      ]
    },
    {
      "cell_type": "code",
      "metadata": {
        "id": "5t1ob7josPu0",
        "colab_type": "code",
        "outputId": "4824716d-02cb-424a-ba16-0eb2a5e51263",
        "colab": {
          "base_uri": "https://localhost:8080/",
          "height": 34
        }
      },
      "source": [
        "mkdir annotations"
      ],
      "execution_count": 0,
      "outputs": [
        {
          "output_type": "stream",
          "text": [
            "mkdir: cannot create directory ‘annotations’: File exists\n"
          ],
          "name": "stdout"
        }
      ]
    },
    {
      "cell_type": "code",
      "metadata": {
        "id": "jgm03esesPxC",
        "colab_type": "code",
        "outputId": "1a756ad5-65e3-4080-df24-ab6b47e35a15",
        "colab": {
          "base_uri": "https://localhost:8080/",
          "height": 34
        }
      },
      "source": [
        "cd annotations/"
      ],
      "execution_count": 0,
      "outputs": [
        {
          "output_type": "stream",
          "text": [
            "/content/HieCoAttenVQA/data/annotations\n"
          ],
          "name": "stdout"
        }
      ]
    },
    {
      "cell_type": "code",
      "metadata": {
        "id": "gNOilIQCsPzz",
        "colab_type": "code",
        "outputId": "b9ee2d15-c700-41e1-baae-24cdb71dd6ea",
        "colab": {
          "resources": {
            "http://localhost:8080/nbextensions/google.colab/files.js": {
              "data": "Ly8gQ29weXJpZ2h0IDIwMTcgR29vZ2xlIExMQwovLwovLyBMaWNlbnNlZCB1bmRlciB0aGUgQXBhY2hlIExpY2Vuc2UsIFZlcnNpb24gMi4wICh0aGUgIkxpY2Vuc2UiKTsKLy8geW91IG1heSBub3QgdXNlIHRoaXMgZmlsZSBleGNlcHQgaW4gY29tcGxpYW5jZSB3aXRoIHRoZSBMaWNlbnNlLgovLyBZb3UgbWF5IG9idGFpbiBhIGNvcHkgb2YgdGhlIExpY2Vuc2UgYXQKLy8KLy8gICAgICBodHRwOi8vd3d3LmFwYWNoZS5vcmcvbGljZW5zZXMvTElDRU5TRS0yLjAKLy8KLy8gVW5sZXNzIHJlcXVpcmVkIGJ5IGFwcGxpY2FibGUgbGF3IG9yIGFncmVlZCB0byBpbiB3cml0aW5nLCBzb2Z0d2FyZQovLyBkaXN0cmlidXRlZCB1bmRlciB0aGUgTGljZW5zZSBpcyBkaXN0cmlidXRlZCBvbiBhbiAiQVMgSVMiIEJBU0lTLAovLyBXSVRIT1VUIFdBUlJBTlRJRVMgT1IgQ09ORElUSU9OUyBPRiBBTlkgS0lORCwgZWl0aGVyIGV4cHJlc3Mgb3IgaW1wbGllZC4KLy8gU2VlIHRoZSBMaWNlbnNlIGZvciB0aGUgc3BlY2lmaWMgbGFuZ3VhZ2UgZ292ZXJuaW5nIHBlcm1pc3Npb25zIGFuZAovLyBsaW1pdGF0aW9ucyB1bmRlciB0aGUgTGljZW5zZS4KCi8qKgogKiBAZmlsZW92ZXJ2aWV3IEhlbHBlcnMgZm9yIGdvb2dsZS5jb2xhYiBQeXRob24gbW9kdWxlLgogKi8KKGZ1bmN0aW9uKHNjb3BlKSB7CmZ1bmN0aW9uIHNwYW4odGV4dCwgc3R5bGVBdHRyaWJ1dGVzID0ge30pIHsKICBjb25zdCBlbGVtZW50ID0gZG9jdW1lbnQuY3JlYXRlRWxlbWVudCgnc3BhbicpOwogIGVsZW1lbnQudGV4dENvbnRlbnQgPSB0ZXh0OwogIGZvciAoY29uc3Qga2V5IG9mIE9iamVjdC5rZXlzKHN0eWxlQXR0cmlidXRlcykpIHsKICAgIGVsZW1lbnQuc3R5bGVba2V5XSA9IHN0eWxlQXR0cmlidXRlc1trZXldOwogIH0KICByZXR1cm4gZWxlbWVudDsKfQoKLy8gTWF4IG51bWJlciBvZiBieXRlcyB3aGljaCB3aWxsIGJlIHVwbG9hZGVkIGF0IGEgdGltZS4KY29uc3QgTUFYX1BBWUxPQURfU0laRSA9IDEwMCAqIDEwMjQ7Ci8vIE1heCBhbW91bnQgb2YgdGltZSB0byBibG9jayB3YWl0aW5nIGZvciB0aGUgdXNlci4KY29uc3QgRklMRV9DSEFOR0VfVElNRU9VVF9NUyA9IDMwICogMTAwMDsKCmZ1bmN0aW9uIF91cGxvYWRGaWxlcyhpbnB1dElkLCBvdXRwdXRJZCkgewogIGNvbnN0IHN0ZXBzID0gdXBsb2FkRmlsZXNTdGVwKGlucHV0SWQsIG91dHB1dElkKTsKICBjb25zdCBvdXRwdXRFbGVtZW50ID0gZG9jdW1lbnQuZ2V0RWxlbWVudEJ5SWQob3V0cHV0SWQpOwogIC8vIENhY2hlIHN0ZXBzIG9uIHRoZSBvdXRwdXRFbGVtZW50IHRvIG1ha2UgaXQgYXZhaWxhYmxlIGZvciB0aGUgbmV4dCBjYWxsCiAgLy8gdG8gdXBsb2FkRmlsZXNDb250aW51ZSBmcm9tIFB5dGhvbi4KICBvdXRwdXRFbGVtZW50LnN0ZXBzID0gc3RlcHM7CgogIHJldHVybiBfdXBsb2FkRmlsZXNDb250aW51ZShvdXRwdXRJZCk7Cn0KCi8vIFRoaXMgaXMgcm91Z2hseSBhbiBhc3luYyBnZW5lcmF0b3IgKG5vdCBzdXBwb3J0ZWQgaW4gdGhlIGJyb3dzZXIgeWV0KSwKLy8gd2hlcmUgdGhlcmUgYXJlIG11bHRpcGxlIGFzeW5jaHJvbm91cyBzdGVwcyBhbmQgdGhlIFB5dGhvbiBzaWRlIGlzIGdvaW5nCi8vIHRvIHBvbGwgZm9yIGNvbXBsZXRpb24gb2YgZWFjaCBzdGVwLgovLyBUaGlzIHVzZXMgYSBQcm9taXNlIHRvIGJsb2NrIHRoZSBweXRob24gc2lkZSBvbiBjb21wbGV0aW9uIG9mIGVhY2ggc3RlcCwKLy8gdGhlbiBwYXNzZXMgdGhlIHJlc3VsdCBvZiB0aGUgcHJldmlvdXMgc3RlcCBhcyB0aGUgaW5wdXQgdG8gdGhlIG5leHQgc3RlcC4KZnVuY3Rpb24gX3VwbG9hZEZpbGVzQ29udGludWUob3V0cHV0SWQpIHsKICBjb25zdCBvdXRwdXRFbGVtZW50ID0gZG9jdW1lbnQuZ2V0RWxlbWVudEJ5SWQob3V0cHV0SWQpOwogIGNvbnN0IHN0ZXBzID0gb3V0cHV0RWxlbWVudC5zdGVwczsKCiAgY29uc3QgbmV4dCA9IHN0ZXBzLm5leHQob3V0cHV0RWxlbWVudC5sYXN0UHJvbWlzZVZhbHVlKTsKICByZXR1cm4gUHJvbWlzZS5yZXNvbHZlKG5leHQudmFsdWUucHJvbWlzZSkudGhlbigodmFsdWUpID0+IHsKICAgIC8vIENhY2hlIHRoZSBsYXN0IHByb21pc2UgdmFsdWUgdG8gbWFrZSBpdCBhdmFpbGFibGUgdG8gdGhlIG5leHQKICAgIC8vIHN0ZXAgb2YgdGhlIGdlbmVyYXRvci4KICAgIG91dHB1dEVsZW1lbnQubGFzdFByb21pc2VWYWx1ZSA9IHZhbHVlOwogICAgcmV0dXJuIG5leHQudmFsdWUucmVzcG9uc2U7CiAgfSk7Cn0KCi8qKgogKiBHZW5lcmF0b3IgZnVuY3Rpb24gd2hpY2ggaXMgY2FsbGVkIGJldHdlZW4gZWFjaCBhc3luYyBzdGVwIG9mIHRoZSB1cGxvYWQKICogcHJvY2Vzcy4KICogQHBhcmFtIHtzdHJpbmd9IGlucHV0SWQgRWxlbWVudCBJRCBvZiB0aGUgaW5wdXQgZmlsZSBwaWNrZXIgZWxlbWVudC4KICogQHBhcmFtIHtzdHJpbmd9IG91dHB1dElkIEVsZW1lbnQgSUQgb2YgdGhlIG91dHB1dCBkaXNwbGF5LgogKiBAcmV0dXJuIHshSXRlcmFibGU8IU9iamVjdD59IEl0ZXJhYmxlIG9mIG5leHQgc3RlcHMuCiAqLwpmdW5jdGlvbiogdXBsb2FkRmlsZXNTdGVwKGlucHV0SWQsIG91dHB1dElkKSB7CiAgY29uc3QgaW5wdXRFbGVtZW50ID0gZG9jdW1lbnQuZ2V0RWxlbWVudEJ5SWQoaW5wdXRJZCk7CiAgaW5wdXRFbGVtZW50LmRpc2FibGVkID0gZmFsc2U7CgogIGNvbnN0IG91dHB1dEVsZW1lbnQgPSBkb2N1bWVudC5nZXRFbGVtZW50QnlJZChvdXRwdXRJZCk7CiAgb3V0cHV0RWxlbWVudC5pbm5lckhUTUwgPSAnJzsKCiAgY29uc3QgcGlja2VkUHJvbWlzZSA9IG5ldyBQcm9taXNlKChyZXNvbHZlKSA9PiB7CiAgICBpbnB1dEVsZW1lbnQuYWRkRXZlbnRMaXN0ZW5lcignY2hhbmdlJywgKGUpID0+IHsKICAgICAgcmVzb2x2ZShlLnRhcmdldC5maWxlcyk7CiAgICB9KTsKICB9KTsKCiAgY29uc3QgY2FuY2VsID0gZG9jdW1lbnQuY3JlYXRlRWxlbWVudCgnYnV0dG9uJyk7CiAgaW5wdXRFbGVtZW50LnBhcmVudEVsZW1lbnQuYXBwZW5kQ2hpbGQoY2FuY2VsKTsKICBjYW5jZWwudGV4dENvbnRlbnQgPSAnQ2FuY2VsIHVwbG9hZCc7CiAgY29uc3QgY2FuY2VsUHJvbWlzZSA9IG5ldyBQcm9taXNlKChyZXNvbHZlKSA9PiB7CiAgICBjYW5jZWwub25jbGljayA9ICgpID0+IHsKICAgICAgcmVzb2x2ZShudWxsKTsKICAgIH07CiAgfSk7CgogIC8vIENhbmNlbCB1cGxvYWQgaWYgdXNlciBoYXNuJ3QgcGlja2VkIGFueXRoaW5nIGluIHRpbWVvdXQuCiAgY29uc3QgdGltZW91dFByb21pc2UgPSBuZXcgUHJvbWlzZSgocmVzb2x2ZSkgPT4gewogICAgc2V0VGltZW91dCgoKSA9PiB7CiAgICAgIHJlc29sdmUobnVsbCk7CiAgICB9LCBGSUxFX0NIQU5HRV9USU1FT1VUX01TKTsKICB9KTsKCiAgLy8gV2FpdCBmb3IgdGhlIHVzZXIgdG8gcGljayB0aGUgZmlsZXMuCiAgY29uc3QgZmlsZXMgPSB5aWVsZCB7CiAgICBwcm9taXNlOiBQcm9taXNlLnJhY2UoW3BpY2tlZFByb21pc2UsIHRpbWVvdXRQcm9taXNlLCBjYW5jZWxQcm9taXNlXSksCiAgICByZXNwb25zZTogewogICAgICBhY3Rpb246ICdzdGFydGluZycsCiAgICB9CiAgfTsKCiAgaWYgKCFmaWxlcykgewogICAgcmV0dXJuIHsKICAgICAgcmVzcG9uc2U6IHsKICAgICAgICBhY3Rpb246ICdjb21wbGV0ZScsCiAgICAgIH0KICAgIH07CiAgfQoKICBjYW5jZWwucmVtb3ZlKCk7CgogIC8vIERpc2FibGUgdGhlIGlucHV0IGVsZW1lbnQgc2luY2UgZnVydGhlciBwaWNrcyBhcmUgbm90IGFsbG93ZWQuCiAgaW5wdXRFbGVtZW50LmRpc2FibGVkID0gdHJ1ZTsKCiAgZm9yIChjb25zdCBmaWxlIG9mIGZpbGVzKSB7CiAgICBjb25zdCBsaSA9IGRvY3VtZW50LmNyZWF0ZUVsZW1lbnQoJ2xpJyk7CiAgICBsaS5hcHBlbmQoc3BhbihmaWxlLm5hbWUsIHtmb250V2VpZ2h0OiAnYm9sZCd9KSk7CiAgICBsaS5hcHBlbmQoc3BhbigKICAgICAgICBgKCR7ZmlsZS50eXBlIHx8ICduL2EnfSkgLSAke2ZpbGUuc2l6ZX0gYnl0ZXMsIGAgKwogICAgICAgIGBsYXN0IG1vZGlmaWVkOiAkewogICAgICAgICAgICBmaWxlLmxhc3RNb2RpZmllZERhdGUgPyBmaWxlLmxhc3RNb2RpZmllZERhdGUudG9Mb2NhbGVEYXRlU3RyaW5nKCkgOgogICAgICAgICAgICAgICAgICAgICAgICAgICAgICAgICAgICAnbi9hJ30gLSBgKSk7CiAgICBjb25zdCBwZXJjZW50ID0gc3BhbignMCUgZG9uZScpOwogICAgbGkuYXBwZW5kQ2hpbGQocGVyY2VudCk7CgogICAgb3V0cHV0RWxlbWVudC5hcHBlbmRDaGlsZChsaSk7CgogICAgY29uc3QgZmlsZURhdGFQcm9taXNlID0gbmV3IFByb21pc2UoKHJlc29sdmUpID0+IHsKICAgICAgY29uc3QgcmVhZGVyID0gbmV3IEZpbGVSZWFkZXIoKTsKICAgICAgcmVhZGVyLm9ubG9hZCA9IChlKSA9PiB7CiAgICAgICAgcmVzb2x2ZShlLnRhcmdldC5yZXN1bHQpOwogICAgICB9OwogICAgICByZWFkZXIucmVhZEFzQXJyYXlCdWZmZXIoZmlsZSk7CiAgICB9KTsKICAgIC8vIFdhaXQgZm9yIHRoZSBkYXRhIHRvIGJlIHJlYWR5LgogICAgbGV0IGZpbGVEYXRhID0geWllbGQgewogICAgICBwcm9taXNlOiBmaWxlRGF0YVByb21pc2UsCiAgICAgIHJlc3BvbnNlOiB7CiAgICAgICAgYWN0aW9uOiAnY29udGludWUnLAogICAgICB9CiAgICB9OwoKICAgIC8vIFVzZSBhIGNodW5rZWQgc2VuZGluZyB0byBhdm9pZCBtZXNzYWdlIHNpemUgbGltaXRzLiBTZWUgYi82MjExNTY2MC4KICAgIGxldCBwb3NpdGlvbiA9IDA7CiAgICB3aGlsZSAocG9zaXRpb24gPCBmaWxlRGF0YS5ieXRlTGVuZ3RoKSB7CiAgICAgIGNvbnN0IGxlbmd0aCA9IE1hdGgubWluKGZpbGVEYXRhLmJ5dGVMZW5ndGggLSBwb3NpdGlvbiwgTUFYX1BBWUxPQURfU0laRSk7CiAgICAgIGNvbnN0IGNodW5rID0gbmV3IFVpbnQ4QXJyYXkoZmlsZURhdGEsIHBvc2l0aW9uLCBsZW5ndGgpOwogICAgICBwb3NpdGlvbiArPSBsZW5ndGg7CgogICAgICBjb25zdCBiYXNlNjQgPSBidG9hKFN0cmluZy5mcm9tQ2hhckNvZGUuYXBwbHkobnVsbCwgY2h1bmspKTsKICAgICAgeWllbGQgewogICAgICAgIHJlc3BvbnNlOiB7CiAgICAgICAgICBhY3Rpb246ICdhcHBlbmQnLAogICAgICAgICAgZmlsZTogZmlsZS5uYW1lLAogICAgICAgICAgZGF0YTogYmFzZTY0LAogICAgICAgIH0sCiAgICAgIH07CiAgICAgIHBlcmNlbnQudGV4dENvbnRlbnQgPQogICAgICAgICAgYCR7TWF0aC5yb3VuZCgocG9zaXRpb24gLyBmaWxlRGF0YS5ieXRlTGVuZ3RoKSAqIDEwMCl9JSBkb25lYDsKICAgIH0KICB9CgogIC8vIEFsbCBkb25lLgogIHlpZWxkIHsKICAgIHJlc3BvbnNlOiB7CiAgICAgIGFjdGlvbjogJ2NvbXBsZXRlJywKICAgIH0KICB9Owp9CgpzY29wZS5nb29nbGUgPSBzY29wZS5nb29nbGUgfHwge307CnNjb3BlLmdvb2dsZS5jb2xhYiA9IHNjb3BlLmdvb2dsZS5jb2xhYiB8fCB7fTsKc2NvcGUuZ29vZ2xlLmNvbGFiLl9maWxlcyA9IHsKICBfdXBsb2FkRmlsZXMsCiAgX3VwbG9hZEZpbGVzQ29udGludWUsCn07Cn0pKHNlbGYpOwo=",
              "ok": true,
              "headers": [
                [
                  "content-type",
                  "application/javascript"
                ]
              ],
              "status": 200,
              "status_text": ""
            }
          },
          "base_uri": "https://localhost:8080/",
          "height": 224
        }
      },
      "source": [
        "from google.colab import files\n",
        "files.upload()"
      ],
      "execution_count": 0,
      "outputs": [
        {
          "output_type": "display_data",
          "data": {
            "text/html": [
              "\n",
              "     <input type=\"file\" id=\"files-5adcf0e9-ec75-4a89-ba0f-edf2d9c9e1f4\" name=\"files[]\" multiple disabled />\n",
              "     <output id=\"result-5adcf0e9-ec75-4a89-ba0f-edf2d9c9e1f4\">\n",
              "      Upload widget is only available when the cell has been executed in the\n",
              "      current browser session. Please rerun this cell to enable.\n",
              "      </output>\n",
              "      <script src=\"/nbextensions/google.colab/files.js\"></script> "
            ],
            "text/plain": [
              "<IPython.core.display.HTML object>"
            ]
          },
          "metadata": {
            "tags": []
          }
        },
        {
          "output_type": "stream",
          "text": [
            "Saving Annotations_Val_mscoco.zip to Annotations_Val_mscoco.zip\n",
            "Saving Annotations_Train_mscoco.zip to Annotations_Train_mscoco.zip\n",
            "Saving Questions_Test_mscoco.zip to Questions_Test_mscoco.zip\n",
            "Saving Questions_Val_mscoco.zip to Questions_Val_mscoco.zip\n",
            "Saving Questions_Train_mscoco.zip to Questions_Train_mscoco.zip\n"
          ],
          "name": "stdout"
        }
      ]
    },
    {
      "cell_type": "code",
      "metadata": {
        "id": "e3Utxz5HsP2g",
        "colab_type": "code",
        "outputId": "e1dc7df8-923e-49e3-f370-6c7fdded7c7e",
        "colab": {
          "base_uri": "https://localhost:8080/",
          "height": 34
        }
      },
      "source": [
        "!pwd\n"
      ],
      "execution_count": 0,
      "outputs": [
        {
          "output_type": "stream",
          "text": [
            "/content/HieCoAttenVQA/data/annotations\n"
          ],
          "name": "stdout"
        }
      ]
    },
    {
      "cell_type": "code",
      "metadata": {
        "id": "boGa5x_c_1hW",
        "colab_type": "code",
        "outputId": "055ac167-65cd-42ed-ac0e-ed98a928e4dd",
        "colab": {
          "base_uri": "https://localhost:8080/",
          "height": 68
        }
      },
      "source": [
        "!ls\n"
      ],
      "execution_count": 0,
      "outputs": [
        {
          "output_type": "stream",
          "text": [
            "Annotations_Train_mscoco.zip  Questions_Test_mscoco.zip\n",
            "Annotations_Val_mscoco.zip    Questions_Train_mscoco.zip\n",
            "HieCoAttenVQA\t\t      Questions_Val_mscoco.zip\n"
          ],
          "name": "stdout"
        }
      ]
    },
    {
      "cell_type": "code",
      "metadata": {
        "id": "XNzLtcg8_55J",
        "colab_type": "code",
        "outputId": "aab2248e-15c4-421c-de6c-8affdd3d0c12",
        "colab": {
          "base_uri": "https://localhost:8080/",
          "height": 54
        }
      },
      "source": [
        "!unzip Questions_Test_mscoco.zip"
      ],
      "execution_count": 0,
      "outputs": [
        {
          "output_type": "stream",
          "text": [
            "unzip:  cannot find or open Questions_Test_mscoco.zip, Questions_Test_mscoco.zip.zip or Questions_Test_mscoco.zip.ZIP.\n"
          ],
          "name": "stdout"
        }
      ]
    },
    {
      "cell_type": "code",
      "metadata": {
        "id": "mHBVFVsyA1kj",
        "colab_type": "code",
        "colab": {}
      },
      "source": [
        ""
      ],
      "execution_count": 0,
      "outputs": []
    },
    {
      "cell_type": "code",
      "metadata": {
        "id": "SpKpLG7cAn6D",
        "colab_type": "code",
        "colab": {}
      },
      "source": [
        "!cd ../\n",
        "\n"
      ],
      "execution_count": 0,
      "outputs": []
    },
    {
      "cell_type": "code",
      "metadata": {
        "id": "dV861-rSAskU",
        "colab_type": "code",
        "outputId": "d356564d-354e-4bea-808b-3ffad627bfdf",
        "colab": {
          "base_uri": "https://localhost:8080/",
          "height": 34
        }
      },
      "source": [
        "!pwd\n"
      ],
      "execution_count": 0,
      "outputs": [
        {
          "output_type": "stream",
          "text": [
            "/content/HieCoAttenVQA/data/annotations/HieCoAttenVQA\n"
          ],
          "name": "stdout"
        }
      ]
    },
    {
      "cell_type": "code",
      "metadata": {
        "id": "werXDqAbAvcT",
        "colab_type": "code",
        "outputId": "a7dcd313-bcb0-456f-b5f9-8ff6654d17b9",
        "colab": {
          "base_uri": "https://localhost:8080/",
          "height": 34
        }
      },
      "source": [
        "cd ../"
      ],
      "execution_count": 0,
      "outputs": [
        {
          "output_type": "stream",
          "text": [
            "/content/HieCoAttenVQA/data/annotations\n"
          ],
          "name": "stdout"
        }
      ]
    },
    {
      "cell_type": "code",
      "metadata": {
        "id": "HKF6opcAAyF_",
        "colab_type": "code",
        "outputId": "0115d76d-c3a6-43af-fa45-d9a3f18d9cf5",
        "colab": {
          "base_uri": "https://localhost:8080/",
          "height": 68
        }
      },
      "source": [
        "ls"
      ],
      "execution_count": 0,
      "outputs": [
        {
          "output_type": "stream",
          "text": [
            "Annotations_Train_mscoco.zip  Questions_Test_mscoco.zip\n",
            "Annotations_Val_mscoco.zip    Questions_Train_mscoco.zip\n",
            "\u001b[0m\u001b[01;34mHieCoAttenVQA\u001b[0m/                Questions_Val_mscoco.zip\n"
          ],
          "name": "stdout"
        }
      ]
    },
    {
      "cell_type": "code",
      "metadata": {
        "id": "omvFASIhA2Yf",
        "colab_type": "code",
        "outputId": "9946f971-4e34-4715-bd50-0964519a5dab",
        "colab": {
          "base_uri": "https://localhost:8080/",
          "height": 102
        }
      },
      "source": [
        "!unzip Questions_Test_mscoco.zip"
      ],
      "execution_count": 0,
      "outputs": [
        {
          "output_type": "stream",
          "text": [
            "Archive:  Questions_Test_mscoco.zip\n",
            "  inflating: OpenEnded_mscoco_test2015_questions.json  \n",
            "  inflating: MultipleChoice_mscoco_test2015_questions.json  \n",
            "  inflating: OpenEnded_mscoco_test-dev2015_questions.json  \n",
            "  inflating: MultipleChoice_mscoco_test-dev2015_questions.json  \n"
          ],
          "name": "stdout"
        }
      ]
    },
    {
      "cell_type": "code",
      "metadata": {
        "id": "hd4OxWiGA5GG",
        "colab_type": "code",
        "outputId": "29cc63d9-11f3-45ab-8f57-5df36db268ea",
        "colab": {
          "base_uri": "https://localhost:8080/",
          "height": 187
        }
      },
      "source": [
        "ls"
      ],
      "execution_count": 0,
      "outputs": [
        {
          "output_type": "stream",
          "text": [
            "Annotations_Train_mscoco.zip\n",
            "Annotations_Val_mscoco.zip\n",
            "\u001b[0m\u001b[01;34mHieCoAttenVQA\u001b[0m/\n",
            "MultipleChoice_mscoco_test2015_questions.json\n",
            "MultipleChoice_mscoco_test-dev2015_questions.json\n",
            "OpenEnded_mscoco_test2015_questions.json\n",
            "OpenEnded_mscoco_test-dev2015_questions.json\n",
            "Questions_Test_mscoco.zip\n",
            "Questions_Train_mscoco.zip\n",
            "Questions_Val_mscoco.zip\n"
          ],
          "name": "stdout"
        }
      ]
    },
    {
      "cell_type": "code",
      "metadata": {
        "id": "DmvWSyz9A9gf",
        "colab_type": "code",
        "outputId": "3eadcdc3-5767-4654-989c-568ddaa83ed5",
        "colab": {
          "base_uri": "https://localhost:8080/",
          "height": 51
        }
      },
      "source": [
        "!mkdir Questions_Test\n",
        "!cd Questions_Test"
      ],
      "execution_count": 0,
      "outputs": [
        {
          "output_type": "stream",
          "text": [
            "mkdir: cannot create directory ‘Questions_Test’: File exists\n",
            "cp: cannot stat '../*.json': No such file or directory\n"
          ],
          "name": "stdout"
        }
      ]
    },
    {
      "cell_type": "code",
      "metadata": {
        "id": "bUmoqDijBJQI",
        "colab_type": "code",
        "colab": {}
      },
      "source": [
        "!cp ../OpenEnded_mscoco_test2015_questions.json .\n",
        "!cp ../OpenEnded_mscoco_test-dev2015_questions.json .\n",
        "!cp ../MultipleChoice_mscoco_test2015_questions.json .\n",
        "!cp ../MultipleChoice_mscoco_test-dev2015_questions.json ."
      ],
      "execution_count": 0,
      "outputs": []
    },
    {
      "cell_type": "code",
      "metadata": {
        "id": "WJfuxsrEBkDF",
        "colab_type": "code",
        "outputId": "7e698743-2aeb-4586-ba8c-def1c3463520",
        "colab": {
          "base_uri": "https://localhost:8080/",
          "height": 34
        }
      },
      "source": [
        "pwd"
      ],
      "execution_count": 0,
      "outputs": [
        {
          "output_type": "execute_result",
          "data": {
            "text/plain": [
              "'/content/HieCoAttenVQA/data/annotations'"
            ]
          },
          "metadata": {
            "tags": []
          },
          "execution_count": 41
        }
      ]
    },
    {
      "cell_type": "code",
      "metadata": {
        "id": "1FLwv_gfBl_c",
        "colab_type": "code",
        "outputId": "7d6386c8-37a8-47e0-dd64-14af2ea1606e",
        "colab": {
          "base_uri": "https://localhost:8080/",
          "height": 34
        }
      },
      "source": [
        "cd Questions_Test/"
      ],
      "execution_count": 0,
      "outputs": [
        {
          "output_type": "stream",
          "text": [
            "/content/HieCoAttenVQA/data/annotations/Questions_Test\n"
          ],
          "name": "stdout"
        }
      ]
    },
    {
      "cell_type": "code",
      "metadata": {
        "id": "QzGaQGpVBr3v",
        "colab_type": "code",
        "outputId": "75c71ca2-9821-47cc-e7a0-c875c729ad1c",
        "colab": {
          "base_uri": "https://localhost:8080/",
          "height": 85
        }
      },
      "source": [
        "ls"
      ],
      "execution_count": 0,
      "outputs": [
        {
          "output_type": "stream",
          "text": [
            "MultipleChoice_mscoco_test2015_questions.json\n",
            "MultipleChoice_mscoco_test-dev2015_questions.json\n",
            "OpenEnded_mscoco_test2015_questions.json\n",
            "OpenEnded_mscoco_test-dev2015_questions.json\n"
          ],
          "name": "stdout"
        }
      ]
    },
    {
      "cell_type": "code",
      "metadata": {
        "id": "mq_1voLrBtfp",
        "colab_type": "code",
        "colab": {}
      },
      "source": [
        "!cd ../"
      ],
      "execution_count": 0,
      "outputs": []
    },
    {
      "cell_type": "code",
      "metadata": {
        "id": "Ryde_vb6Bv0C",
        "colab_type": "code",
        "outputId": "f2fc59e8-b086-43f2-a08c-b8a00c70789f",
        "colab": {
          "base_uri": "https://localhost:8080/",
          "height": 34
        }
      },
      "source": [
        "pwd"
      ],
      "execution_count": 0,
      "outputs": [
        {
          "output_type": "execute_result",
          "data": {
            "text/plain": [
              "'/content/HieCoAttenVQA/data/annotations/Questions_Test'"
            ]
          },
          "metadata": {
            "tags": []
          },
          "execution_count": 46
        }
      ]
    },
    {
      "cell_type": "code",
      "metadata": {
        "id": "bsRKS7TuBxb9",
        "colab_type": "code",
        "outputId": "3f674166-03ea-4c2e-9e76-b15a8df57be5",
        "colab": {
          "base_uri": "https://localhost:8080/",
          "height": 34
        }
      },
      "source": [
        "cd ../"
      ],
      "execution_count": 0,
      "outputs": [
        {
          "output_type": "stream",
          "text": [
            "/content/HieCoAttenVQA/data/annotations\n"
          ],
          "name": "stdout"
        }
      ]
    },
    {
      "cell_type": "code",
      "metadata": {
        "id": "pVIZ_xnyBy-b",
        "colab_type": "code",
        "colab": {}
      },
      "source": [
        "rm *.json"
      ],
      "execution_count": 0,
      "outputs": []
    },
    {
      "cell_type": "code",
      "metadata": {
        "id": "h_SnONT7B8KO",
        "colab_type": "code",
        "outputId": "35a755a7-dbc5-4d7e-a459-330fdf8594ac",
        "colab": {
          "base_uri": "https://localhost:8080/",
          "height": 119
        }
      },
      "source": [
        "!mkdir Annotations_Train\n",
        "!unzip Annotations_Train_mscoco.zip -d Annotations_Train\n",
        "!mkdir Annotations_Val\n",
        "!unzip Annotations_Val_mscoco.zip -d Annotations_Val"
      ],
      "execution_count": 0,
      "outputs": [
        {
          "output_type": "stream",
          "text": [
            "mkdir: cannot create directory ‘Annotations_Train’: File exists\n",
            "Archive:  Annotations_Train_mscoco.zip\n",
            "  inflating: Annotations_Train/mscoco_train2014_annotations.json  \n",
            "mkdir: cannot create directory ‘Annotations_Val’: File exists\n",
            "Archive:  Annotations_Val_mscoco.zip\n",
            "  inflating: Annotations_Val/mscoco_val2014_annotations.json  \n"
          ],
          "name": "stdout"
        }
      ]
    },
    {
      "cell_type": "code",
      "metadata": {
        "id": "3cHCC-uxCWLB",
        "colab_type": "code",
        "outputId": "8675658a-9518-451d-f52c-97a5a4802a25",
        "colab": {
          "base_uri": "https://localhost:8080/",
          "height": 34
        }
      },
      "source": [
        "pwd"
      ],
      "execution_count": 0,
      "outputs": [
        {
          "output_type": "execute_result",
          "data": {
            "text/plain": [
              "'/content/HieCoAttenVQA/data/annotations'"
            ]
          },
          "metadata": {
            "tags": []
          },
          "execution_count": 50
        }
      ]
    },
    {
      "cell_type": "code",
      "metadata": {
        "id": "Ik4DC-y1CXok",
        "colab_type": "code",
        "outputId": "95cf9617-d2a1-40de-b75d-c3e02f4631f2",
        "colab": {
          "base_uri": "https://localhost:8080/",
          "height": 34
        }
      },
      "source": [
        "cd Annotations_Train/"
      ],
      "execution_count": 0,
      "outputs": [
        {
          "output_type": "stream",
          "text": [
            "/content/HieCoAttenVQA/data/annotations/Annotations_Train\n"
          ],
          "name": "stdout"
        }
      ]
    },
    {
      "cell_type": "code",
      "metadata": {
        "id": "xttBSqcdCaPo",
        "colab_type": "code",
        "colab": {}
      },
      "source": [
        "ls"
      ],
      "execution_count": 0,
      "outputs": []
    },
    {
      "cell_type": "code",
      "metadata": {
        "id": "RDlKuykBCd_m",
        "colab_type": "code",
        "outputId": "e8f06214-b96e-4212-e821-2a19f052bd19",
        "colab": {
          "base_uri": "https://localhost:8080/",
          "height": 34
        }
      },
      "source": [
        "cd ../"
      ],
      "execution_count": 0,
      "outputs": [
        {
          "output_type": "stream",
          "text": [
            "/content/HieCoAttenVQA/data/annotations\n"
          ],
          "name": "stdout"
        }
      ]
    },
    {
      "cell_type": "code",
      "metadata": {
        "id": "ciEWNUu-Cfbd",
        "colab_type": "code",
        "outputId": "b4e9f619-bb0d-4689-9945-ac0bb734ac2a",
        "colab": {
          "base_uri": "https://localhost:8080/",
          "height": 102
        }
      },
      "source": [
        "ls"
      ],
      "execution_count": 0,
      "outputs": [
        {
          "output_type": "stream",
          "text": [
            "\u001b[0m\u001b[01;34mAnnotations_Train\u001b[0m/            \u001b[01;34mQuestions_Test\u001b[0m/\n",
            "Annotations_Train_mscoco.zip  Questions_Test_mscoco.zip\n",
            "\u001b[01;34mAnnotations_Val\u001b[0m/              Questions_Train_mscoco.zip\n",
            "Annotations_Val_mscoco.zip    Questions_Val_mscoco.zip\n",
            "\u001b[01;34mHieCoAttenVQA\u001b[0m/\n"
          ],
          "name": "stdout"
        }
      ]
    },
    {
      "cell_type": "code",
      "metadata": {
        "id": "IW_wrssPCqAj",
        "colab_type": "code",
        "outputId": "c27fb06d-39db-4712-d394-bdcc2f5aa2c0",
        "colab": {
          "base_uri": "https://localhost:8080/",
          "height": 34
        }
      },
      "source": [
        "pwd\n"
      ],
      "execution_count": 0,
      "outputs": [
        {
          "output_type": "execute_result",
          "data": {
            "text/plain": [
              "'/content/HieCoAttenVQA/data/annotations'"
            ]
          },
          "metadata": {
            "tags": []
          },
          "execution_count": 58
        }
      ]
    },
    {
      "cell_type": "code",
      "metadata": {
        "id": "8bqBZ0JoCsFQ",
        "colab_type": "code",
        "outputId": "f6cd2493-10ae-47fe-b764-29a4af40ba66",
        "colab": {
          "base_uri": "https://localhost:8080/",
          "height": 34
        }
      },
      "source": [
        "cd Annotations_Train/"
      ],
      "execution_count": 0,
      "outputs": [
        {
          "output_type": "stream",
          "text": [
            "/content/HieCoAttenVQA/data/annotations/Annotations_Train\n"
          ],
          "name": "stdout"
        }
      ]
    },
    {
      "cell_type": "code",
      "metadata": {
        "id": "ZCgpYKkaCwAa",
        "colab_type": "code",
        "outputId": "3f4ca2e1-308f-4037-b781-ed6ffe6882c9",
        "colab": {
          "base_uri": "https://localhost:8080/",
          "height": 34
        }
      },
      "source": [
        "ls"
      ],
      "execution_count": 0,
      "outputs": [
        {
          "output_type": "stream",
          "text": [
            "mscoco_train2014_annotations.json\n"
          ],
          "name": "stdout"
        }
      ]
    },
    {
      "cell_type": "code",
      "metadata": {
        "id": "_XKsGE-8Cx2e",
        "colab_type": "code",
        "outputId": "a9366655-d74c-44de-a7e8-e9fd83265a44",
        "colab": {
          "base_uri": "https://localhost:8080/",
          "height": 34
        }
      },
      "source": [
        "cd ../"
      ],
      "execution_count": 0,
      "outputs": [
        {
          "output_type": "stream",
          "text": [
            "/content/HieCoAttenVQA/data/annotations\n"
          ],
          "name": "stdout"
        }
      ]
    },
    {
      "cell_type": "code",
      "metadata": {
        "id": "e9qxKkr0CzzU",
        "colab_type": "code",
        "outputId": "90586bdd-d010-4aeb-e75d-54851de0dd6b",
        "colab": {
          "base_uri": "https://localhost:8080/",
          "height": 34
        }
      },
      "source": [
        "pwd"
      ],
      "execution_count": 0,
      "outputs": [
        {
          "output_type": "execute_result",
          "data": {
            "text/plain": [
              "'/content/HieCoAttenVQA/data/annotations'"
            ]
          },
          "metadata": {
            "tags": []
          },
          "execution_count": 62
        }
      ]
    },
    {
      "cell_type": "code",
      "metadata": {
        "id": "2-0fOOXcC1v_",
        "colab_type": "code",
        "outputId": "02f4d305-4e83-437a-8314-1f869235cada",
        "colab": {
          "base_uri": "https://localhost:8080/",
          "height": 71
        }
      },
      "source": [
        "!mkdir Questions_Val\n",
        "!cd Questions_Val\n",
        "!pwd\n",
        "!unzip ../Questions_Val_mscoco.zip -d .\n"
      ],
      "execution_count": 0,
      "outputs": [
        {
          "output_type": "stream",
          "text": [
            "/content/HieCoAttenVQA/data/annotations\n",
            "unzip:  cannot find or open ../Questions_Val_mscoco.zip, ../Questions_Val_mscoco.zip.zip or ../Questions_Val_mscoco.zip.ZIP.\n"
          ],
          "name": "stdout"
        }
      ]
    },
    {
      "cell_type": "code",
      "metadata": {
        "id": "KiAau6M-DJzR",
        "colab_type": "code",
        "outputId": "433e4294-399e-4ec9-db71-db474790626f",
        "colab": {
          "base_uri": "https://localhost:8080/",
          "height": 102
        }
      },
      "source": [
        "ls"
      ],
      "execution_count": 0,
      "outputs": [
        {
          "output_type": "stream",
          "text": [
            "\u001b[0m\u001b[01;34mAnnotations_Train\u001b[0m/            \u001b[01;34mQuestions_Test\u001b[0m/\n",
            "Annotations_Train_mscoco.zip  Questions_Test_mscoco.zip\n",
            "\u001b[01;34mAnnotations_Val\u001b[0m/              Questions_Train_mscoco.zip\n",
            "Annotations_Val_mscoco.zip    \u001b[01;34mQuestions_Val\u001b[0m/\n",
            "\u001b[01;34mHieCoAttenVQA\u001b[0m/                Questions_Val_mscoco.zip\n"
          ],
          "name": "stdout"
        }
      ]
    },
    {
      "cell_type": "code",
      "metadata": {
        "id": "RYtVYkmoDMNH",
        "colab_type": "code",
        "outputId": "9221d08d-4619-4a0e-be49-638828c3f0ad",
        "colab": {
          "base_uri": "https://localhost:8080/",
          "height": 68
        }
      },
      "source": [
        "!unzip Questions_Val_mscoco.zip -d Questions_Val/\n"
      ],
      "execution_count": 0,
      "outputs": [
        {
          "output_type": "stream",
          "text": [
            "Archive:  Questions_Val_mscoco.zip\n",
            "  inflating: Questions_Val/OpenEnded_mscoco_val2014_questions.json  \n",
            "  inflating: Questions_Val/MultipleChoice_mscoco_val2014_questions.json  \n"
          ],
          "name": "stdout"
        }
      ]
    },
    {
      "cell_type": "code",
      "metadata": {
        "id": "j2V4SWhNDTWW",
        "colab_type": "code",
        "outputId": "e0e7c3e8-de94-422e-b386-b331765a09a3",
        "colab": {
          "base_uri": "https://localhost:8080/",
          "height": 34
        }
      },
      "source": [
        "pwd"
      ],
      "execution_count": 0,
      "outputs": [
        {
          "output_type": "execute_result",
          "data": {
            "text/plain": [
              "'/content/HieCoAttenVQA/data/annotations'"
            ]
          },
          "metadata": {
            "tags": []
          },
          "execution_count": 67
        }
      ]
    },
    {
      "cell_type": "code",
      "metadata": {
        "id": "KeYMtHJ7DXTE",
        "colab_type": "code",
        "outputId": "7399e950-b7b2-40bc-eaa5-92403614d4c2",
        "colab": {
          "base_uri": "https://localhost:8080/",
          "height": 68
        }
      },
      "source": [
        "!mkdir Questions_Train\n",
        "!unzip Questions_Train_mscoco.zip -d Questions_Train/"
      ],
      "execution_count": 0,
      "outputs": [
        {
          "output_type": "stream",
          "text": [
            "Archive:  Questions_Train_mscoco.zip\n",
            "  inflating: Questions_Train/OpenEnded_mscoco_train2014_questions.json  \n",
            "  inflating: Questions_Train/MultipleChoice_mscoco_train2014_questions.json  \n"
          ],
          "name": "stdout"
        }
      ]
    },
    {
      "cell_type": "code",
      "metadata": {
        "id": "gYg4m7VnDj-U",
        "colab_type": "code",
        "colab": {}
      },
      "source": [
        "rm *.zip\n"
      ],
      "execution_count": 0,
      "outputs": []
    },
    {
      "cell_type": "code",
      "metadata": {
        "id": "LAsJ1ASWDoet",
        "colab_type": "code",
        "outputId": "5965aad9-9272-427d-8982-1ae6b7a2e603",
        "colab": {
          "resources": {
            "http://localhost:8080/nbextensions/google.colab/files.js": {
              "data": "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",
              "ok": true,
              "headers": [
                [
                  "content-type",
                  "application/javascript"
                ]
              ],
              "status": 200,
              "status_text": ""
            }
          },
          "base_uri": "https://localhost:8080/",
          "height": 108
        }
      },
      "source": [
        "files.upload()"
      ],
      "execution_count": 0,
      "outputs": [
        {
          "output_type": "display_data",
          "data": {
            "text/html": [
              "\n",
              "     <input type=\"file\" id=\"files-1355abd6-10f9-4597-a584-414b9666fb90\" name=\"files[]\" multiple disabled />\n",
              "     <output id=\"result-1355abd6-10f9-4597-a584-414b9666fb90\">\n",
              "      Upload widget is only available when the cell has been executed in the\n",
              "      current browser session. Please rerun this cell to enable.\n",
              "      </output>\n",
              "      <script src=\"/nbextensions/google.colab/files.js\"></script> "
            ],
            "text/plain": [
              "<IPython.core.display.HTML object>"
            ]
          },
          "metadata": {
            "tags": []
          }
        },
        {
          "output_type": "stream",
          "text": [
            "Saving vqa_preprocess.py to vqa_preprocess.py\n"
          ],
          "name": "stdout"
        },
        {
          "output_type": "execute_result",
          "data": {
            "text/plain": [
              "{'vqa_preprocess.py': b'\"\"\"\\nDownload the vqa data and preprocessing.\\n\\nVersion: 1.0\\nContributor: Jiasen Lu\\n\"\"\"\\n\\n\\n# Download the VQA Questions from http://www.visualqa.org/download.html\\nimport json\\nimport os\\nimport argparse\\n\\ndef download_vqa():\\n    os.system(\\'wget http://visualqa.org/data/mscoco/vqa/Questions_Train_mscoco.zip -P zip/\\')\\n    os.system(\\'wget http://visualqa.org/data/mscoco/vqa/Questions_Val_mscoco.zip -P zip/\\')\\n    os.system(\\'wget http://visualqa.org/data/mscoco/vqa/Questions_Test_mscoco.zip -P zip/\\')\\n\\n    # Download the VQA Annotations\\n    os.system(\\'wget http://visualqa.org/data/mscoco/vqa/Annotations_Train_mscoco.zip -P zip/\\')\\n    os.system(\\'wget http://visualqa.org/data/mscoco/vqa/Annotations_Val_mscoco.zip -P zip/\\')\\n\\n\\n    # Unzip the annotations\\n    os.system(\\'unzip zip/Questions_Train_mscoco.zip -d annotations/\\')\\n    os.system(\\'unzip zip/Questions_Val_mscoco.zip -d annotations/\\')\\n    os.system(\\'unzip zip/Questions_Test_mscoco.zip -d annotations/\\')\\n    os.system(\\'unzip zip/Annotations_Train_mscoco.zip -d annotations/\\')\\n    os.system(\\'unzip zip/Annotations_Val_mscoco.zip -d annotations/\\')\\n\\n\\ndef main(params):\\n    if params[\\'download\\'] == 1:\\n        download_vqa()\\n\\n    \\'\\'\\'\\n    Put the VQA data into single json file, where [[Question_id, Image_id, Question, multipleChoice_answer, Answer] ... ]\\n    \\'\\'\\'\\n\\n    train = []\\n    test = []\\n    imdir=\\'%s/COCO_%s_%012d.jpg\\'\\n\\n    if params[\\'split\\'] == 1:\\n\\n        print \\'Loading annotations and questions...\\'\\n        train_anno = json.load(open(\\'annotations/Annotations_Train/mscoco_train2014_annotations.json\\', \\'r\\'))\\n        val_anno = json.load(open(\\'annotations/Annotations_Val/mscoco_val2014_annotations.json\\', \\'r\\'))\\n\\n        train_ques = json.load(open(\\'annotations/Questions_Train/MultipleChoice_mscoco_train2014_questions.json\\', \\'r\\'))\\n        val_ques = json.load(open(\\'annotations/Questions_Val/MultipleChoice_mscoco_val2014_questions.json\\', \\'r\\'))\\n\\n        subtype = \\'train2014\\'\\n        for i in range(len(train_anno[\\'annotations\\'])):\\n            ans = train_anno[\\'annotations\\'][i][\\'multiple_choice_answer\\']\\n            question_id = train_anno[\\'annotations\\'][i][\\'question_id\\']\\n            image_path = imdir%(subtype, subtype, train_anno[\\'annotations\\'][i][\\'image_id\\'])\\n\\n            question = train_ques[\\'questions\\'][i][\\'question\\']\\n            mc_ans = train_ques[\\'questions\\'][i][\\'multiple_choices\\']\\n\\n            train.append({\\'ques_id\\': question_id, \\'img_path\\': image_path, \\'question\\': question, \\'MC_ans\\': mc_ans, \\'ans\\': ans})\\n        \\n        subtype = \\'val2014\\'\\n        for i in range(len(val_anno[\\'annotations\\'])):\\n            ans = val_anno[\\'annotations\\'][i][\\'multiple_choice_answer\\']\\n            question_id = val_anno[\\'annotations\\'][i][\\'question_id\\']\\n            image_path = imdir%(subtype, subtype, val_anno[\\'annotations\\'][i][\\'image_id\\'])\\n\\n            question = val_ques[\\'questions\\'][i][\\'question\\']\\n            mc_ans = val_ques[\\'questions\\'][i][\\'multiple_choices\\']\\n\\n            test.append({\\'ques_id\\': question_id, \\'img_path\\': image_path, \\'question\\': question, \\'MC_ans\\': mc_ans, \\'ans\\': ans})\\n    else:\\n        print \\'Loading annotations and questions...\\'\\n        train_anno = json.load(open(\\'annotations/Annotations_Train/mscoco_train2014_annotations.json\\', \\'r\\'))\\n        val_anno = json.load(open(\\'annotations/Annotations_Val/mscoco_val2014_annotations.json\\', \\'r\\'))\\n\\n        train_ques = json.load(open(\\'annotations/Questions_Train/Questions_MultipleChoice_mscoco_train2014_questions.json\\', \\'r\\'))\\n        val_ques = json.load(open(\\'annotations/Questions_Val/MultipleChoice_mscoco_val2014_questions.json\\', \\'r\\'))\\n        test_ques = json.load(open(\\'annotations/Questions_Test/MultipleChoice_mscoco_test2015_questions.json\\', \\'r\\'))\\n        \\n        subtype = \\'train2014\\'\\n        for i in range(len(train_anno[\\'annotations\\'])):\\n            ans = train_anno[\\'annotations\\'][i][\\'multiple_choice_answer\\']\\n            question_id = train_anno[\\'annotations\\'][i][\\'question_id\\']\\n            image_path = imdir%(subtype, subtype, train_anno[\\'annotations\\'][i][\\'image_id\\'])\\n\\n            question = train_ques[\\'questions\\'][i][\\'question\\']\\n            mc_ans = train_ques[\\'questions\\'][i][\\'multiple_choices\\']\\n\\n            train.append({\\'ques_id\\': question_id, \\'img_path\\': image_path, \\'question\\': question, \\'MC_ans\\': mc_ans, \\'ans\\': ans})\\n\\n        subtype = \\'val2014\\'\\n        for i in range(len(val_anno[\\'annotations\\'])):\\n            ans = val_anno[\\'annotations\\'][i][\\'multiple_choice_answer\\']\\n            question_id = val_anno[\\'annotations\\'][i][\\'question_id\\']\\n            image_path = imdir%(subtype, subtype, val_anno[\\'annotations\\'][i][\\'image_id\\'])\\n\\n            question = val_ques[\\'questions\\'][i][\\'question\\']\\n            mc_ans = val_ques[\\'questions\\'][i][\\'multiple_choices\\']\\n\\n            train.append({\\'ques_id\\': question_id, \\'img_path\\': image_path, \\'question\\': question, \\'MC_ans\\': mc_ans, \\'ans\\': ans})\\n        \\n        subtype = \\'test2015\\'\\n        for i in range(len(test_ques[\\'questions\\'])):\\n            question_id = test_ques[\\'questions\\'][i][\\'question_id\\']\\n            image_path = imdir%(subtype, subtype, test_ques[\\'questions\\'][i][\\'image_id\\'])\\n\\n            question = test_ques[\\'questions\\'][i][\\'question\\']\\n            mc_ans = test_ques[\\'questions\\'][i][\\'multiple_choices\\']\\n\\n            test.append({\\'ques_id\\': question_id, \\'img_path\\': image_path, \\'question\\': question, \\'MC_ans\\': mc_ans})\\n\\n    print \\'Training sample %d, Testing sample %d...\\' %(len(train), len(test))\\n\\n    json.dump(train, open(\\'vqa_raw_train.json\\', \\'w\\'))\\n    json.dump(test, open(\\'vqa_raw_test.json\\', \\'w\\'))\\n\\nif __name__ == \"__main__\":\\n\\n    parser = argparse.ArgumentParser()\\n\\n    # input json\\n    parser.add_argument(\\'--download\\', default=1, type=int, help=\\'Download and extract data from VQA server\\')\\n    parser.add_argument(\\'--split\\', default=1, type=int, help=\\'1: train on Train and test on Val, 2: train on Train+Val and test on Test\\')\\n  \\n    args = parser.parse_args()\\n    params = vars(args)\\n    print \\'parsed input parameters:\\'\\n    print json.dumps(params, indent = 2)\\n    main(params)\\n\\n\\n\\n\\n\\n\\n\\n\\n\\n'}"
            ]
          },
          "metadata": {
            "tags": []
          },
          "execution_count": 80
        }
      ]
    },
    {
      "cell_type": "code",
      "metadata": {
        "id": "qZ7L7_8UFRqY",
        "colab_type": "code",
        "outputId": "f9be4147-60d7-4dcd-90ae-d31afcc1fc3e",
        "colab": {
          "base_uri": "https://localhost:8080/",
          "height": 241
        }
      },
      "source": [
        "!python2 vqa_preprocess.py --download 0 --split 1"
      ],
      "execution_count": 0,
      "outputs": [
        {
          "output_type": "stream",
          "text": [
            "parsed input parameters:\n",
            "{\n",
            "  \"download\": 0, \n",
            "  \"split\": 1\n",
            "}\n",
            "Loading annotations and questions...\n",
            "Traceback (most recent call last):\n",
            "  File \"vqa_preprocess.py\", line 132, in <module>\n",
            "    main(params)\n",
            "  File \"vqa_preprocess.py\", line 47, in main\n",
            "    train_anno = json.load(open('annotations/mscoco_train2014_annotations.json', 'r'))\n",
            "IOError: [Errno 2] No such file or directory: 'annotations/mscoco_train2014_annotations.json'\n"
          ],
          "name": "stdout"
        }
      ]
    },
    {
      "cell_type": "code",
      "metadata": {
        "id": "GQBW3fKPFnCi",
        "colab_type": "code",
        "outputId": "d1e5483e-50bf-4bfc-9551-a269a700e83a",
        "colab": {
          "base_uri": "https://localhost:8080/",
          "height": 34
        }
      },
      "source": [
        "pwd"
      ],
      "execution_count": 0,
      "outputs": [
        {
          "output_type": "execute_result",
          "data": {
            "text/plain": [
              "'/content/HieCoAttenVQA/data'"
            ]
          },
          "metadata": {
            "tags": []
          },
          "execution_count": 76
        }
      ]
    },
    {
      "cell_type": "code",
      "metadata": {
        "id": "XmG-cV3fFwIN",
        "colab_type": "code",
        "outputId": "0d8b6fbe-d62d-4279-cbe4-701aa489ea81",
        "colab": {
          "base_uri": "https://localhost:8080/",
          "height": 241
        }
      },
      "source": [
        "!python2 vqa_preprocess.py --download 0 --split 1"
      ],
      "execution_count": 0,
      "outputs": [
        {
          "output_type": "stream",
          "text": [
            "parsed input parameters:\n",
            "{\n",
            "  \"download\": 0, \n",
            "  \"split\": 1\n",
            "}\n",
            "Loading annotations and questions...\n",
            "Traceback (most recent call last):\n",
            "  File \"vqa_preprocess.py\", line 132, in <module>\n",
            "    main(params)\n",
            "  File \"vqa_preprocess.py\", line 47, in main\n",
            "    train_anno = json.load(open('annotations/mscoco_train2014_annotations.json', 'r'))\n",
            "IOError: [Errno 2] No such file or directory: 'annotations/mscoco_train2014_annotations.json'\n"
          ],
          "name": "stdout"
        }
      ]
    },
    {
      "cell_type": "code",
      "metadata": {
        "id": "S15TmRGHF3t2",
        "colab_type": "code",
        "outputId": "9b828124-6869-48c3-a697-40568f5dd0fe",
        "colab": {
          "base_uri": "https://localhost:8080/",
          "height": 34
        }
      },
      "source": [
        "!vi vqa_preprocess.py"
      ],
      "execution_count": 0,
      "outputs": [
        {
          "output_type": "stream",
          "text": [
            "/bin/bash: vi: command not found\n"
          ],
          "name": "stdout"
        }
      ]
    },
    {
      "cell_type": "code",
      "metadata": {
        "id": "yhJTr92KFphV",
        "colab_type": "code",
        "outputId": "9ff457ae-8bfb-4d7d-fd20-75e799daaae1",
        "colab": {
          "base_uri": "https://localhost:8080/",
          "height": 34
        }
      },
      "source": [
        "cd ../"
      ],
      "execution_count": 0,
      "outputs": [
        {
          "output_type": "stream",
          "text": [
            "/content/HieCoAttenVQA/data\n"
          ],
          "name": "stdout"
        }
      ]
    },
    {
      "cell_type": "code",
      "metadata": {
        "id": "XVUqd_0oGGzj",
        "colab_type": "code",
        "outputId": "6f7c5168-962a-4b43-b28f-dc950a80ac87",
        "colab": {
          "base_uri": "https://localhost:8080/",
          "height": 34
        }
      },
      "source": [
        "pwd"
      ],
      "execution_count": 0,
      "outputs": [
        {
          "output_type": "execute_result",
          "data": {
            "text/plain": [
              "'/content/HieCoAttenVQA/data'"
            ]
          },
          "metadata": {
            "tags": []
          },
          "execution_count": 81
        }
      ]
    },
    {
      "cell_type": "code",
      "metadata": {
        "id": "7_DklbkEGG4e",
        "colab_type": "code",
        "outputId": "3af9f078-30c5-4af2-cca6-20921c8599f7",
        "colab": {
          "base_uri": "https://localhost:8080/",
          "height": 34
        }
      },
      "source": [
        "ls"
      ],
      "execution_count": 0,
      "outputs": [
        {
          "output_type": "stream",
          "text": [
            "\u001b[0m\u001b[01;34mannotations\u001b[0m/  \u001b[01;32mcocoqa_preprocess.py\u001b[0m*  vqa_preprocess.py\n"
          ],
          "name": "stdout"
        }
      ]
    },
    {
      "cell_type": "code",
      "metadata": {
        "id": "B69Ah9NmGHK0",
        "colab_type": "code",
        "outputId": "c4f7ac6b-859a-41c7-8303-62676e0c4a39",
        "colab": {
          "base_uri": "https://localhost:8080/",
          "height": 136
        }
      },
      "source": [
        "!python2 vqa_preprocess.py --download 0 --split 1"
      ],
      "execution_count": 0,
      "outputs": [
        {
          "output_type": "stream",
          "text": [
            "parsed input parameters:\n",
            "{\n",
            "  \"download\": 0, \n",
            "  \"split\": 1\n",
            "}\n",
            "Loading annotations and questions...\n",
            "Training sample 248349, Testing sample 121512...\n"
          ],
          "name": "stdout"
        }
      ]
    },
    {
      "cell_type": "code",
      "metadata": {
        "id": "ob8QnCp5GHIx",
        "colab_type": "code",
        "outputId": "a698e0ea-f2ce-4528-99b5-d1ed2ee04b92",
        "colab": {
          "resources": {
            "http://localhost:8080/nbextensions/google.colab/files.js": {
              "data": "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",
              "ok": true,
              "headers": [
                [
                  "content-type",
                  "application/javascript"
                ]
              ],
              "status": 200,
              "status_text": ""
            }
          },
          "base_uri": "https://localhost:8080/",
          "height": 125
        }
      },
      "source": [
        "files.upload()"
      ],
      "execution_count": 0,
      "outputs": [
        {
          "output_type": "display_data",
          "data": {
            "text/html": [
              "\n",
              "     <input type=\"file\" id=\"files-9a797f56-c11e-467b-b8a7-28bc4c69f07e\" name=\"files[]\" multiple disabled />\n",
              "     <output id=\"result-9a797f56-c11e-467b-b8a7-28bc4c69f07e\">\n",
              "      Upload widget is only available when the cell has been executed in the\n",
              "      current browser session. Please rerun this cell to enable.\n",
              "      </output>\n",
              "      <script src=\"/nbextensions/google.colab/files.js\"></script> "
            ],
            "text/plain": [
              "<IPython.core.display.HTML object>"
            ]
          },
          "metadata": {
            "tags": []
          }
        },
        {
          "output_type": "stream",
          "text": [
            "Saving 3785162f95cd2d5fee77-f43eeefc869d646b449aa6ce66f87bf987a1c9b5.zip to 3785162f95cd2d5fee77-f43eeefc869d646b449aa6ce66f87bf987a1c9b5.zip\n"
          ],
          "name": "stdout"
        },
        {
          "output_type": "execute_result",
          "data": {
            "text/plain": [
              "{'3785162f95cd2d5fee77-f43eeefc869d646b449aa6ce66f87bf987a1c9b5.zip': b'PK\\x03\\x04\\n\\x00\\x00\\x00\\x00\\x00R0\\xc4H\\x00\\x00\\x00\\x00\\x00\\x00\\x00\\x00\\x00\\x00\\x00\\x00>\\x00\\t\\x003785162f95cd2d5fee77-f43eeefc869d646b449aa6ce66f87bf987a1c9b5/UT\\x05\\x00\\x01m\\xd1RWPK\\x03\\x04\\n\\x00\\x00\\x00\\x08\\x00R0\\xc4H\\xfa\\xb7\\xd2\\xd4\\xa9\\x02\\x00\\x00{\\x15\\x00\\x00b\\x00\\t\\x003785162f95cd2d5fee77-f43eeefc869d646b449aa6ce66f87bf987a1c9b5/VGG_ILSVRC_19_layers_deploy.prototxtUT\\x05\\x00\\x01m\\xd1RW\\xc5\\x94Q\\x8f\\x9a@\\x14\\x85\\xdf\\xfd\\x15\\x93\\xfd\\x01\\r\\xcc\\xccU\\xd7\\xb7\\xc6\\xdd\\x1a\\x13+\\xc6U\\xd37\\xc2\\nmH\\x95!\\x08M\\xb6\\x8d\\xff\\xbd\\x8c\\xb8.\\xdc\\x01\\xc2d\\xb2\\xf2\\xe6\\x1d\\xe2\\x99s.\\x87/\\xf2\\x8e\\xc1\\x84<\\xecf3w\\xbex\\xd9\\xad\\xa7\\xae\\xfd\\xe8\\x1e\\xbc\\xb7 9=\\x0c\\xc2(\\xce\\xd2\\xfc\\xa9\\xef\\xa5\\xdeur\\xfd\\xf08!\\xb6U\\x9eXy\\xa0\\x94\\xe3\\xb1\\x90#\\xff\\x06\\x84\\xbc\\x8a4\\x15\\xc7\\x9b$!\\xa9\\x88\\xf3i/\\xa2?\\xb6k\\xcb\\x83\\xa80T:I\\xdf\\xe2\\xfcd\\xea,w\\xceb\\xbb\\x99;\\xcb\\xfcL>\\x16\\x87,\\rE\\xe4\\xc6^\\xe2\\x1d/\\xea\\xf9\\xbf\\xb3\\xa3+\\xb2\\xf4b{\\xc8/G\\xb1\\xe7\\xe7\\x86/?\\x7f\\x07I\\x14\\x1c\\xdcS\\xf87\\x90\\xae\\t9\\x0f\\xce\\xb5\\xee\\xca\\xb77\\x18L\\x82CV1\\xb8~^l\\xf5\\xe4\\xa8\\x92\\x97\\xf6\\x9a\\x97\\xb6\\x19,\\xf2R\\x8d\\xbc%\\xb9X\\x88Cyy\\xb7\\xb9\\x90Z9\\xceb\\xbe\\x9c\\xe5\\xb3|\\x10F\\xbf*\\x19\\xe5\\xd9\\x84|\\xff\\xfaC\\xcdD/G\\xa74\\t\\xfd\\xeb\\xd4\\x94\\xf0\\xe3\\xc6[>\\xaa\\x14\\x8e\\x9a\\x15\\xce\\xa6c\\xa37@qE\\xa8\\xd28\\xaa\\xd1\\xb8\\x1a9\\xdc8j\\xd68\\xf3\\xc0\\xb4\\xcda\\x11\\xb8{\\xe5(\\xae\\x1cE\\x95\\xa3w\\xaf\\x1c\\xca\\xc7\\x94\\xca1\\xb3\\xcaQ\\x18\\x1a\\xbd\\x01\\x86;\\xc2\\x94\\xca1\\x8d\\xca\\xd5\\xc8\\xe1\\xca1\\xb3\\xca\\x99\\x07V^\\t\\xae\\x1c\\xd3\\xa8\\\\\\x8d\\x1cS\\x02\\xb3~\\x03\\xb36\\x87E`\\xa6\\x11X\\x91\\xe3J`\\xdeo`\\xde\\xe6\\xb0\\x08\\xcc5\\x02\\xf3*T\\x18\\x82\\n\\xbb;T\\xd0\\x1b\\xe0\\nT\\xb8\\x19T\\xc0\\xa6Fo\\x80c\\np\\x05*\\\\\\x03*5r\\x18*\\xdc\\x0c*\\xe6\\x81i\\x9b\\xc3\"pw\\xa8\\xd4\\xc8a\\xa8p3\\xa8\\x98\\x07V:\\x88\\xa1\\xc25\\xa0R#\\x87\\xa1\\xc2\\xcd\\xa0b\\x1e\\x98\\xb79,\\x02w\\x87\\n\\xc7P\\xe1\\x08*\\xfc\\xeePA\\xf9@\\x81\\n\\xf4\\x0b\\x15\\xc0\\x14\\x00\\x05*\\xa0\\x01\\x95\\x1a9\\x0c\\x15\\xe8\\x17*\\x80)\\x00\\nT@\\x03*5r\\x18*\\xd0/T\\x00S\\x00\\x14\\xa8\\x80\\x06Tj\\xe40T\\xa0_\\xa8\\x00\\x86\\n(P\\x01\\r\\xa8\\x00\\x86\\n \\xa8\\xc0\\xdd\\xa1\\x02\\x1f\\x86~\\xee\\x87%;\\xd7\\xa903_.\\x9f\\xd7\\xeej\\xed<m\\xa7\\x9b\\xfc4\\x8c\\xa2 q\\xe3D\\xf8\\xd9>m\\xdc>\\xb7\\x1e\\x87-\\xd7\\xbf\\xdfPs\\xb9\\\\\\xec\\xb0\\xd3Z[D\\xfcD\\xc4%\\x91\\xa7\\xb5\\xb3r\\xb6\\xd2\\xbd|\\x90{\\xac\\xf8~?K\\xbc\\xbcP\\x13b}\\x81\\xee\\xceG\\x95\\xb5\\x8d>}m\\xa3\\xa6\\xcb\\xe5\\xdaF\\x1d\\xd7\\xd6(\"71\\xfa\\xa4\\xb5U.\\x1dW\\xd666]\\x9bmYV\\xeb\\xe5\\xe3\\xd2\\xb7\\x97\\x88\\xd7\\xf2\\xa7w\\x1d\\x8b\\xeb_\\x9co\\x1b\\xf9e\\x9d\\x07\\xff\\x01PK\\x03\\x04\\n\\x00\\x00\\x00\\x08\\x00R0\\xc4H\\xc8\\xb4(Q\\x88\\x03\\x00\\x00\\x95\\x07\\x00\\x00G\\x00\\t\\x003785162f95cd2d5fee77-f43eeefc869d646b449aa6ce66f87bf987a1c9b5/readme.mdUT\\x05\\x00\\x01m\\xd1RW\\xa5TQo\\xdb6\\x10~\\xd7\\xaf84(\\x10\\x036\\x15\\xd9\\xb1\\x1d\\xfb\\xad\\xcd\\x86 XZ\\x0cI\\x17\\x0c\\x0b\\n\\x99\\x92N\\x12W\\x8a\\x14H\\xca\\x8e\\xf6\\xb0\\xdf\\xbe#\\xe5\\xc4N\\xd7-X\\xe7\\'\\xf9x\\xbc\\xef\\xee\\xfb>\\xde\\xc9\\xc9\\xb5*\\xb5i\\xb8\\x13ZE\\x91\\xe2\\r\\xae!YM$\\xef\\xd1@\\xa3\\x0b\\x94P\\x1a\\xdd\\x80\\xab\\x11\\xb8\\xf9Ul\\xa1\\xe5-\\x9a5\\xbc\\xb9G\\xd3\\xc3\\x0f\\x88-\\\\j\\xb5\\xd5\\xb2\\xf3%\\xb8\\x84\\x8f\\xe8v\\xda|\\xb1@u\\xe1\\x86\\x9b\\n\\'w9\\x97\\x08\\xd7\\r\\xaf\\x10n1\\xd7\\x95\\x12>\\xf9M\\x14\\xe5\\xbc,1\\xc0\\xac\\xe1\\xfe\\xea*\\xbd\\xbe\\xb9\\xbb\\xbf\\xbdL\\x93U\\x1a:\\xb0\\xc7\\x19ig(\\xabv\\xae]\\xc7\\xf1n\\xb7cFg\\xdaY\\xa6\\x1f\\x19\\xcfY\\xf7%\\xfes[U\\xb1\\xd5\\xa5\\xdbq\\x83\\xf1\\x96\\xfaK\\x0b\\xea/\\x0e%\\xe2o\\x95g\\x87\\xeaQ$E\\x8e\\xca\\xd2\\xfc\\x16\\xf1U\\x18\\x83\\x16\\xb9\\xc9\\xeb#\\x98}\\xaf)E,M\\xb7\\x06g\\xb8PX@g\\x85\\xaa\\x80C\\xdeYGT^\\xfa\\xacI\\xc6-\\x1d\\x95\\x86\\x18\\xf7tEQ%\\xacKE\\xb1\\x86\\xd9\\xf2b\\x9e,\\xa6\\xe5j\\x9e\\x17\\xd3b^\".\\x97QtrBd\\xdb\\xdc\\x88v\\x90\\xea\\x13\\t2\\xe8#,p\\x05\\xa2i\\x8d\\xdeR\\xc9=<\\xe82\\x88\\xf6\\x95\\x98\\x9dG\\xcd\\xfapD\\x8c\\x80C\\xde\\x80P\\xe1\\xff\\xc0\\xcedz\\x96\\x9cC\\xae\\x9b\\x16]\\x90\\x89\\x81\\xc7*\\xd0q!-\\xe4\\x84\\x95!\\x89\\xdb\\xa9\\xe2\\xe9b\\xa9\\xa5\\xd4;?\\xe4\\xc3\\x91G>\\x9f\\xeeI\\xe4\\xe6Ql\\x996U\\xdc\\x16e\\x9c\\x9c\\x9f\\xadX2\\x9f/F\\xeb(\\x02\\xfa\\xfd\\x7f#\\x852?1\\xb8\\x13\\x8dV=Wcx\\xc7\\xe07a-\\x92\\xb3\\x87\\xd3\\xd0\\xd7\\xfa\\x19;\\x8a~\\x96H\\n@.\\x1c\\x86\\x19B\\xcb J\\xe8u\\xe7Y\\n\\xc1\\xc0\\x19\\x8b\\xa2ku\\xc8\\x19\\x1fN<\\xf5\\x05*\\xed\\x88SnC<\\xd7\\xaa\\x14Ug\\xc2\\x83\\x82\\xcd\\x8f\\x9bg\\x17\\xec\\x84\\xab\\xc1\\x86\\x01~\\x17\\xce\\xa1!\\xbe\\x06j\\x85j;G\\x02\\xd2T\\x16l\\xad;Yx\\x8a\\xff@\\xa3\\'dIJ\\x1d4k\\x90\\xb8o\\xc5#\\x01\\x9f\\x12@M\\xfd\\xba\\x9aB!\\x1e\\xae\\x8f\\xc0v\\x19\\x01\\xe6\\x83n\\x1f\\xc9\\\\\\xb2\\x1f\\x7f\\xa5\\xd1\\xfb\\xab[\\xd8r\\xd9\\xbd\\x00{\\xba\\x87d\\xc0\\xcdCr6c\\xab\\xd9j\\x0cI\\xb2`\\xcb\\xa5\\xff\\x98\\xce\\xd8\\xe2\\xe2\\xf3\\x86\\x05\\'\\x06\\x0b\\x07\\x8f\\xd0\\x9c\\x99\\x90\\xc2\\xf5G\\x8e$?\\x1a:\\xed\\x8c\\xa1\\xe6eO\\xb5\\xdbV\\x1bw0\\xde\\xa6\\xc0\\xed\\x062\\xc3U^{\\x9f>\\x84z\\x83_,\\x19\\xa6\"\\xaa\\xba\\x8cQ\\xfd\\xf8\\xfd\\xfd\\xcd\\xe5\\xfe\\x01\\x8f\\xc6\\x90\\x11O\\xbe6Q\\x0e=\\xba\\xe7\\x0e\\x88\\xd3@\\xef\\xa6\\xe1\\x96\\xe8\\xa2.\\xdf)\\xc0G\\xde\\xb4tB\\x00\\xb5\\xde\\x81\\xd3/e\\xb5\\xde\\xbd\\x1f\\xb8\\x93<\\xfb\\x9b\\xa9\\x1f\\x9a\\x10\\xdf\\x03\\xd3\\x9f\\xe1e\\x17\\xb4*Rz\\xfd\\xacy\\xad\\xd7L\\xea,\\xa6)\\xe3\\x7f/\\x94z\\xe9R\\x92\\x945#\\x08\\xcc\\x1e\\xde\\xe0\\x14\\xc8la7\\xab\\x1c\\xa3\\xe8\\x97\\xb0D\\n\\xbf\\xa1\\xc0\\x7fJ\\x9c\\x0cfB\\xaf\\xe5`\\xb7S?\\x9cm\\xb8\\x94h\\xf7\\x86\\xa2\\xdc\\x02\\x81\\xb6\\x95\\xcf-<\\t\\xb3\\x8b\\xf3\\xd1`\\t\\xa7\\xdb\\xc9\\x1cr\\xc9\\xad\\x15\\xa5\\xc8\\x87\\x1ah\\x0c=7=\\x18\\x9eJ\\x8bb\\x88[\\xa2\\x9b\\x98<\\xee\\x8f\\xdc\\x7f\\xc1\\xce\\xde\\xc2\\xa9_\\x98\\x9f\\xb8Wa\\xf6\\xb4\\x12\\xfe\\xd3\"\\x18\\xb1\\x97\\xf35\\x9dt\\xe2;\\xc7\\x9b\\xce\\x17c?\\xe3\\x98\\x96b\\x01\\xf3d\\xfa\\xfa\\xb04\\xc7\\x92\\xcd\\xdf\\xfe\\xc3\\xd0\\xbe\\xcc\\x92\\xcd\\x9e\\x8f\\x9d\\x07\\xff\\x06\\x1b\\x07\\x16,\\x9c\\x87[\\x8b\\xef$\\xe3/PK\\x01\\x02\\x00\\x00\\n\\x00\\x00\\x00\\x00\\x00R0\\xc4H\\x00\\x00\\x00\\x00\\x00\\x00\\x00\\x00\\x00\\x00\\x00\\x00>\\x00\\t\\x00\\x00\\x00\\x00\\x00\\x00\\x00\\x10\\x00\\x00\\x00\\x00\\x00\\x00\\x003785162f95cd2d5fee77-f43eeefc869d646b449aa6ce66f87bf987a1c9b5/UT\\x05\\x00\\x01m\\xd1RWPK\\x01\\x02\\x00\\x00\\n\\x00\\x00\\x00\\x08\\x00R0\\xc4H\\xfa\\xb7\\xd2\\xd4\\xa9\\x02\\x00\\x00{\\x15\\x00\\x00b\\x00\\t\\x00\\x00\\x00\\x00\\x00\\x01\\x00\\x00\\x00\\x00\\x00e\\x00\\x00\\x003785162f95cd2d5fee77-f43eeefc869d646b449aa6ce66f87bf987a1c9b5/VGG_ILSVRC_19_layers_deploy.prototxtUT\\x05\\x00\\x01m\\xd1RWPK\\x01\\x02\\x00\\x00\\n\\x00\\x00\\x00\\x08\\x00R0\\xc4H\\xc8\\xb4(Q\\x88\\x03\\x00\\x00\\x95\\x07\\x00\\x00G\\x00\\t\\x00\\x00\\x00\\x00\\x00\\x01\\x00\\x00\\x00\\x00\\x00\\x97\\x03\\x00\\x003785162f95cd2d5fee77-f43eeefc869d646b449aa6ce66f87bf987a1c9b5/readme.mdUT\\x05\\x00\\x01m\\xd1RWPK\\x05\\x06\\x00\\x00\\x00\\x00\\x03\\x00\\x03\\x00\\x8c\\x01\\x00\\x00\\x8d\\x07\\x00\\x00(\\x00f43eeefc869d646b449aa6ce66f87bf987a1c9b5'}"
            ]
          },
          "metadata": {
            "tags": []
          },
          "execution_count": 86
        }
      ]
    },
    {
      "cell_type": "code",
      "metadata": {
        "id": "YrxIfgAhGHF_",
        "colab_type": "code",
        "outputId": "57f8e83a-20e3-4a43-9d39-1def45246ca6",
        "colab": {
          "base_uri": "https://localhost:8080/",
          "height": 34
        }
      },
      "source": [
        "pwd"
      ],
      "execution_count": 0,
      "outputs": [
        {
          "output_type": "execute_result",
          "data": {
            "text/plain": [
              "'/content/HieCoAttenVQA/data'"
            ]
          },
          "metadata": {
            "tags": []
          },
          "execution_count": 87
        }
      ]
    },
    {
      "cell_type": "code",
      "metadata": {
        "id": "miSkBH_XGHD_",
        "colab_type": "code",
        "outputId": "6cd03d45-e3db-456f-cf8d-f59d7264390d",
        "colab": {
          "base_uri": "https://localhost:8080/",
          "height": 122
        }
      },
      "source": [
        "!mkdir image_model\n",
        "!unzip 3785162f95cd2d5fee77-f43eeefc869d646b449aa6ce66f87bf987a1c9b5.zip -d image_model"
      ],
      "execution_count": 0,
      "outputs": [
        {
          "output_type": "stream",
          "text": [
            "Archive:  3785162f95cd2d5fee77-f43eeefc869d646b449aa6ce66f87bf987a1c9b5.zip\n",
            "f43eeefc869d646b449aa6ce66f87bf987a1c9b5\n",
            "   creating: image_model/3785162f95cd2d5fee77-f43eeefc869d646b449aa6ce66f87bf987a1c9b5/\n",
            "  inflating: image_model/3785162f95cd2d5fee77-f43eeefc869d646b449aa6ce66f87bf987a1c9b5/VGG_ILSVRC_19_layers_deploy.prototxt  \n",
            "  inflating: image_model/3785162f95cd2d5fee77-f43eeefc869d646b449aa6ce66f87bf987a1c9b5/readme.md  \n"
          ],
          "name": "stdout"
        }
      ]
    },
    {
      "cell_type": "code",
      "metadata": {
        "id": "IKoFsPlxGHB_",
        "colab_type": "code",
        "outputId": "0fc6ad32-2725-47b6-96c5-0765a1faba28",
        "colab": {
          "base_uri": "https://localhost:8080/",
          "height": 34
        }
      },
      "source": [
        "pwd"
      ],
      "execution_count": 0,
      "outputs": [
        {
          "output_type": "execute_result",
          "data": {
            "text/plain": [
              "'/content/HieCoAttenVQA/data'"
            ]
          },
          "metadata": {
            "tags": []
          },
          "execution_count": 91
        }
      ]
    },
    {
      "cell_type": "code",
      "metadata": {
        "id": "o3jghBvfGG_d",
        "colab_type": "code",
        "outputId": "b4f19f32-f511-4a4f-978e-b49c846987d7",
        "colab": {
          "base_uri": "https://localhost:8080/",
          "height": 54
        }
      },
      "source": [
        "cd image_model/3785162f95cd2d5fee77-f43eeefc869d646b449aa6ce66f87bf987a1c9b5/"
      ],
      "execution_count": 0,
      "outputs": [
        {
          "output_type": "stream",
          "text": [
            "/content/HieCoAttenVQA/data/image_model/3785162f95cd2d5fee77-f43eeefc869d646b449aa6ce66f87bf987a1c9b5\n"
          ],
          "name": "stdout"
        }
      ]
    },
    {
      "cell_type": "code",
      "metadata": {
        "id": "f-8A-0X5GG9b",
        "colab_type": "code",
        "outputId": "ee58e32d-8ad7-4dbe-e89c-05ca19a3effd",
        "colab": {
          "base_uri": "https://localhost:8080/",
          "height": 34
        }
      },
      "source": [
        "ls"
      ],
      "execution_count": 0,
      "outputs": [
        {
          "output_type": "stream",
          "text": [
            "readme.md  VGG_ILSVRC_19_layers_deploy.prototxt\n"
          ],
          "name": "stdout"
        }
      ]
    },
    {
      "cell_type": "code",
      "metadata": {
        "id": "bYpuSbsoGG7W",
        "colab_type": "code",
        "outputId": "c96609ae-8094-40d0-ed4a-9714c1ba20bf",
        "colab": {
          "base_uri": "https://localhost:8080/",
          "height": 54
        }
      },
      "source": [
        "pwd"
      ],
      "execution_count": 0,
      "outputs": [
        {
          "output_type": "execute_result",
          "data": {
            "text/plain": [
              "'/content/HieCoAttenVQA/data/image_model/3785162f95cd2d5fee77-f43eeefc869d646b449aa6ce66f87bf987a1c9b5'"
            ]
          },
          "metadata": {
            "tags": []
          },
          "execution_count": 94
        }
      ]
    },
    {
      "cell_type": "code",
      "metadata": {
        "id": "Wz3dWRm_GG2g",
        "colab_type": "code",
        "outputId": "5d344ad5-8782-4821-e8e1-cbc6a93983fc",
        "colab": {
          "base_uri": "https://localhost:8080/",
          "height": 34
        }
      },
      "source": [
        "cd ../"
      ],
      "execution_count": 0,
      "outputs": [
        {
          "output_type": "stream",
          "text": [
            "/content/HieCoAttenVQA/data/image_model\n"
          ],
          "name": "stdout"
        }
      ]
    },
    {
      "cell_type": "code",
      "metadata": {
        "id": "xhkQuoUYJtJ8",
        "colab_type": "code",
        "outputId": "d49fd987-c08c-4410-ae5c-aeb9a6a28ce2",
        "colab": {
          "base_uri": "https://localhost:8080/",
          "height": 34
        }
      },
      "source": [
        "ls"
      ],
      "execution_count": 0,
      "outputs": [
        {
          "output_type": "stream",
          "text": [
            "\u001b[0m\u001b[01;34m3785162f95cd2d5fee77-f43eeefc869d646b449aa6ce66f87bf987a1c9b5\u001b[0m/\n"
          ],
          "name": "stdout"
        }
      ]
    },
    {
      "cell_type": "code",
      "metadata": {
        "id": "qbDMuFcNJtU5",
        "colab_type": "code",
        "outputId": "a065e608-1609-4fe6-a222-21d94dab4178",
        "colab": {
          "base_uri": "https://localhost:8080/",
          "height": 34
        }
      },
      "source": [
        "cd ../"
      ],
      "execution_count": 0,
      "outputs": [
        {
          "output_type": "stream",
          "text": [
            "/content/HieCoAttenVQA/data\n"
          ],
          "name": "stdout"
        }
      ]
    },
    {
      "cell_type": "code",
      "metadata": {
        "id": "qE4e-SSGJtdB",
        "colab_type": "code",
        "outputId": "c7543784-12ce-476f-d067-2ec83210c400",
        "colab": {
          "base_uri": "https://localhost:8080/",
          "height": 136
        }
      },
      "source": [
        "ls"
      ],
      "execution_count": 0,
      "outputs": [
        {
          "output_type": "stream",
          "text": [
            "3785162f95cd2d5fee77-f43eeefc869d646b449aa6ce66f87bf987a1c9b5.zip\n",
            "\u001b[0m\u001b[01;34mannotations\u001b[0m/\n",
            "\u001b[01;32mcocoqa_preprocess.py\u001b[0m*\n",
            "\u001b[01;34mimage_model\u001b[0m/\n",
            "vqa_preprocess.py\n",
            "vqa_raw_test.json\n",
            "vqa_raw_train.json\n"
          ],
          "name": "stdout"
        }
      ]
    },
    {
      "cell_type": "code",
      "metadata": {
        "id": "TUx8OI4TJtSJ",
        "colab_type": "code",
        "colab": {}
      },
      "source": [
        "rm 3785162f95cd2d5fee77-f43eeefc869d646b449aa6ce66f87bf987a1c9b5.zip"
      ],
      "execution_count": 0,
      "outputs": []
    },
    {
      "cell_type": "code",
      "metadata": {
        "id": "_Z8pDk9SJtP6",
        "colab_type": "code",
        "outputId": "494d362f-5df9-47d0-eef6-21a248025b83",
        "colab": {
          "base_uri": "https://localhost:8080/",
          "height": 51
        }
      },
      "source": [
        "ls"
      ],
      "execution_count": 0,
      "outputs": [
        {
          "output_type": "stream",
          "text": [
            "\u001b[0m\u001b[01;34mannotations\u001b[0m/           \u001b[01;34mimage_model\u001b[0m/       vqa_raw_test.json\n",
            "\u001b[01;32mcocoqa_preprocess.py\u001b[0m*  vqa_preprocess.py  vqa_raw_train.json\n"
          ],
          "name": "stdout"
        }
      ]
    },
    {
      "cell_type": "code",
      "metadata": {
        "id": "IOk64PinJtNg",
        "colab_type": "code",
        "colab": {}
      },
      "source": [
        "rm -rf image_model/"
      ],
      "execution_count": 0,
      "outputs": []
    },
    {
      "cell_type": "code",
      "metadata": {
        "id": "GCEWGQ8wKGPI",
        "colab_type": "code",
        "outputId": "0669dd6c-07fe-4904-bb31-de4c3a72e833",
        "colab": {
          "base_uri": "https://localhost:8080/",
          "height": 34
        }
      },
      "source": [
        "pwd"
      ],
      "execution_count": 0,
      "outputs": [
        {
          "output_type": "execute_result",
          "data": {
            "text/plain": [
              "'/content/HieCoAttenVQA/data'"
            ]
          },
          "metadata": {
            "tags": []
          },
          "execution_count": 102
        }
      ]
    },
    {
      "cell_type": "code",
      "metadata": {
        "id": "i89KSINsKNmH",
        "colab_type": "code",
        "outputId": "fa57a7e5-72e6-403b-aa1d-08ef790cf182",
        "colab": {
          "resources": {
            "http://localhost:8080/nbextensions/google.colab/files.js": {
              "data": "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",
              "ok": true,
              "headers": [
                [
                  "content-type",
                  "application/javascript"
                ]
              ],
              "status": 200,
              "status_text": ""
            }
          },
          "base_uri": "https://localhost:8080/",
          "height": 125
        }
      },
      "source": [
        "files.upload()"
      ],
      "execution_count": 0,
      "outputs": [
        {
          "output_type": "display_data",
          "data": {
            "text/html": [
              "\n",
              "     <input type=\"file\" id=\"files-7622152c-f9bc-4cad-9284-245a4c1b1607\" name=\"files[]\" multiple disabled />\n",
              "     <output id=\"result-7622152c-f9bc-4cad-9284-245a4c1b1607\">\n",
              "      Upload widget is only available when the cell has been executed in the\n",
              "      current browser session. Please rerun this cell to enable.\n",
              "      </output>\n",
              "      <script src=\"/nbextensions/google.colab/files.js\"></script> "
            ],
            "text/plain": [
              "<IPython.core.display.HTML object>"
            ]
          },
          "metadata": {
            "tags": []
          }
        },
        {
          "output_type": "stream",
          "text": [
            "Saving 3785162f95cd2d5fee77-f43eeefc869d646b449aa6ce66f87bf987a1c9b5.zip to 3785162f95cd2d5fee77-f43eeefc869d646b449aa6ce66f87bf987a1c9b5.zip\n"
          ],
          "name": "stdout"
        },
        {
          "output_type": "execute_result",
          "data": {
            "text/plain": [
              "{'3785162f95cd2d5fee77-f43eeefc869d646b449aa6ce66f87bf987a1c9b5.zip': b'PK\\x03\\x04\\n\\x00\\x00\\x00\\x00\\x00R0\\xc4H\\x00\\x00\\x00\\x00\\x00\\x00\\x00\\x00\\x00\\x00\\x00\\x00>\\x00\\t\\x003785162f95cd2d5fee77-f43eeefc869d646b449aa6ce66f87bf987a1c9b5/UT\\x05\\x00\\x01m\\xd1RWPK\\x03\\x04\\n\\x00\\x00\\x00\\x08\\x00R0\\xc4H\\xfa\\xb7\\xd2\\xd4\\xa9\\x02\\x00\\x00{\\x15\\x00\\x00b\\x00\\t\\x003785162f95cd2d5fee77-f43eeefc869d646b449aa6ce66f87bf987a1c9b5/VGG_ILSVRC_19_layers_deploy.prototxtUT\\x05\\x00\\x01m\\xd1RW\\xc5\\x94Q\\x8f\\x9a@\\x14\\x85\\xdf\\xfd\\x15\\x93\\xfd\\x01\\r\\xcc\\xccU\\xd7\\xb7\\xc6\\xdd\\x1a\\x13+\\xc6U\\xd37\\xc2\\nmH\\x95!\\x08M\\xb6\\x8d\\xff\\xbd\\x8c\\xb8.\\xdc\\x01\\xc2d\\xb2\\xf2\\xe6\\x1d\\xe2\\x99s.\\x87/\\xf2\\x8e\\xc1\\x84<\\xecf3w\\xbex\\xd9\\xad\\xa7\\xae\\xfd\\xe8\\x1e\\xbc\\xb7 9=\\x0c\\xc2(\\xce\\xd2\\xfc\\xa9\\xef\\xa5\\xdeur\\xfd\\xf08!\\xb6U\\x9eXy\\xa0\\x94\\xe3\\xb1\\x90#\\xff\\x06\\x84\\xbc\\x8a4\\x15\\xc7\\x9b$!\\xa9\\x88\\xf3i/\\xa2?\\xb6k\\xcb\\x83\\xa80T:I\\xdf\\xe2\\xfcd\\xea,w\\xceb\\xbb\\x99;\\xcb\\xfcL>\\x16\\x87,\\rE\\xe4\\xc6^\\xe2\\x1d/\\xea\\xf9\\xbf\\xb3\\xa3+\\xb2\\xf4b{\\xc8/G\\xb1\\xe7\\xe7\\x86/?\\x7f\\x07I\\x14\\x1c\\xdcS\\xf87\\x90\\xae\\t9\\x0f\\xce\\xb5\\xee\\xca\\xb77\\x18L\\x82CV1\\xb8~^l\\xf5\\xe4\\xa8\\x92\\x97\\xf6\\x9a\\x97\\xb6\\x19,\\xf2R\\x8d\\xbc%\\xb9X\\x88Cyy\\xb7\\xb9\\x90Z9\\xceb\\xbe\\x9c\\xe5\\xb3|\\x10F\\xbf*\\x19\\xe5\\xd9\\x84|\\xff\\xfaC\\xcdD/G\\xa74\\t\\xfd\\xeb\\xd4\\x94\\xf0\\xe3\\xc6[>\\xaa\\x14\\x8e\\x9a\\x15\\xce\\xa6c\\xa37@qE\\xa8\\xd28\\xaa\\xd1\\xb8\\x1a9\\xdc8j\\xd68\\xf3\\xc0\\xb4\\xcda\\x11\\xb8{\\xe5(\\xae\\x1cE\\x95\\xa3w\\xaf\\x1c\\xca\\xc7\\x94\\xca1\\xb3\\xcaQ\\x18\\x1a\\xbd\\x01\\x86;\\xc2\\x94\\xca1\\x8d\\xca\\xd5\\xc8\\xe1\\xca1\\xb3\\xca\\x99\\x07V^\\t\\xae\\x1c\\xd3\\xa8\\\\\\x8d\\x1cS\\x02\\xb3~\\x03\\xb36\\x87E`\\xa6\\x11X\\x91\\xe3J`\\xdeo`\\xde\\xe6\\xb0\\x08\\xcc5\\x02\\xf3*T\\x18\\x82\\n\\xbb;T\\xd0\\x1b\\xe0\\nT\\xb8\\x19T\\xc0\\xa6Fo\\x80c\\np\\x05*\\\\\\x03*5r\\x18*\\xdc\\x0c*\\xe6\\x81i\\x9b\\xc3\"pw\\xa8\\xd4\\xc8a\\xa8p3\\xa8\\x98\\x07V:\\x88\\xa1\\xc25\\xa0R#\\x87\\xa1\\xc2\\xcd\\xa0b\\x1e\\x98\\xb79,\\x02w\\x87\\n\\xc7P\\xe1\\x08*\\xfc\\xeePA\\xf9@\\x81\\n\\xf4\\x0b\\x15\\xc0\\x14\\x00\\x05*\\xa0\\x01\\x95\\x1a9\\x0c\\x15\\xe8\\x17*\\x80)\\x00\\nT@\\x03*5r\\x18*\\xd0/T\\x00S\\x00\\x14\\xa8\\x80\\x06Tj\\xe40T\\xa0_\\xa8\\x00\\x86\\n(P\\x01\\r\\xa8\\x00\\x86\\n \\xa8\\xc0\\xdd\\xa1\\x02\\x1f\\x86~\\xee\\x87%;\\xd7\\xa903_.\\x9f\\xd7\\xeej\\xed<m\\xa7\\x9b\\xfc4\\x8c\\xa2 q\\xe3D\\xf8\\xd9>m\\xdc>\\xb7\\x1e\\x87-\\xd7\\xbf\\xdfPs\\xb9\\\\\\xec\\xb0\\xd3Z[D\\xfcD\\xc4%\\x91\\xa7\\xb5\\xb3r\\xb6\\xd2\\xbd|\\x90{\\xac\\xf8~?K\\xbc\\xbcP\\x13b}\\x81\\xee\\xceG\\x95\\xb5\\x8d>}m\\xa3\\xa6\\xcb\\xe5\\xdaF\\x1d\\xd7\\xd6(\"71\\xfa\\xa4\\xb5U.\\x1dW\\xd666]\\x9bmYV\\xeb\\xe5\\xe3\\xd2\\xb7\\x97\\x88\\xd7\\xf2\\xa7w\\x1d\\x8b\\xeb_\\x9co\\x1b\\xf9e\\x9d\\x07\\xff\\x01PK\\x03\\x04\\n\\x00\\x00\\x00\\x08\\x00R0\\xc4H\\xc8\\xb4(Q\\x88\\x03\\x00\\x00\\x95\\x07\\x00\\x00G\\x00\\t\\x003785162f95cd2d5fee77-f43eeefc869d646b449aa6ce66f87bf987a1c9b5/readme.mdUT\\x05\\x00\\x01m\\xd1RW\\xa5TQo\\xdb6\\x10~\\xd7\\xaf84(\\x10\\x036\\x15\\xd9\\xb1\\x1d\\xfb\\xad\\xcd\\x86 XZ\\x0cI\\x17\\x0c\\x0b\\n\\x99\\x92N\\x12W\\x8a\\x14H\\xca\\x8e\\xf6\\xb0\\xdf\\xbe#\\xe5\\xc4N\\xd7-X\\xe7\\'\\xf9x\\xbc\\xef\\xee\\xfb>\\xde\\xc9\\xc9\\xb5*\\xb5i\\xb8\\x13ZE\\x91\\xe2\\r\\xae!YM$\\xef\\xd1@\\xa3\\x0b\\x94P\\x1a\\xdd\\x80\\xab\\x11\\xb8\\xf9Ul\\xa1\\xe5-\\x9a5\\xbc\\xb9G\\xd3\\xc3\\x0f\\x88-\\\\j\\xb5\\xd5\\xb2\\xf3%\\xb8\\x84\\x8f\\xe8v\\xda|\\xb1@u\\xe1\\x86\\x9b\\n\\'w9\\x97\\x08\\xd7\\r\\xaf\\x10n1\\xd7\\x95\\x12>\\xf9M\\x14\\xe5\\xbc,1\\xc0\\xac\\xe1\\xfe\\xea*\\xbd\\xbe\\xb9\\xbb\\xbf\\xbdL\\x93U\\x1a:\\xb0\\xc7\\x19ig(\\xabv\\xae]\\xc7\\xf1n\\xb7cFg\\xdaY\\xa6\\x1f\\x19\\xcfY\\xf7%\\xfes[U\\xb1\\xd5\\xa5\\xdbq\\x83\\xf1\\x96\\xfaK\\x0b\\xea/\\x0e%\\xe2o\\x95g\\x87\\xeaQ$E\\x8e\\xca\\xd2\\xfc\\x16\\xf1U\\x18\\x83\\x16\\xb9\\xc9\\xeb#\\x98}\\xaf)E,M\\xb7\\x06g\\xb8PX@g\\x85\\xaa\\x80C\\xdeYGT^\\xfa\\xacI\\xc6-\\x1d\\x95\\x86\\x18\\xf7tEQ%\\xacKE\\xb1\\x86\\xd9\\xf2b\\x9e,\\xa6\\xe5j\\x9e\\x17\\xd3b^\".\\x97QtrBd\\xdb\\xdc\\x88v\\x90\\xea\\x13\\t2\\xe8#,p\\x05\\xa2i\\x8d\\xdeR\\xc9=<\\xe82\\x88\\xf6\\x95\\x98\\x9dG\\xcd\\xfapD\\x8c\\x80C\\xde\\x80P\\xe1\\xff\\xc0\\xcedz\\x96\\x9cC\\xae\\x9b\\x16]\\x90\\x89\\x81\\xc7*\\xd0q!-\\xe4\\x84\\x95!\\x89\\xdb\\xa9\\xe2\\xe9b\\xa9\\xa5\\xd4;?\\xe4\\xc3\\x91G>\\x9f\\xeeI\\xe4\\xe6Ql\\x996U\\xdc\\x16e\\x9c\\x9c\\x9f\\xadX2\\x9f/F\\xeb(\\x02\\xfa\\xfd\\x7f#\\x852?1\\xb8\\x13\\x8dV=Wcx\\xc7\\xe07a-\\x92\\xb3\\x87\\xd3\\xd0\\xd7\\xfa\\x19;\\x8a~\\x96H\\n@.\\x1c\\x86\\x19B\\xcb J\\xe8u\\xe7Y\\n\\xc1\\xc0\\x19\\x8b\\xa2ku\\xc8\\x19\\x1fN<\\xf5\\x05*\\xed\\x88SnC<\\xd7\\xaa\\x14Ug\\xc2\\x83\\x82\\xcd\\x8f\\x9bg\\x17\\xec\\x84\\xab\\xc1\\x86\\x01~\\x17\\xce\\xa1!\\xbe\\x06j\\x85j;G\\x02\\xd2T\\x16l\\xad;Yx\\x8a\\xff@\\xa3\\'dIJ\\x1d4k\\x90\\xb8o\\xc5#\\x01\\x9f\\x12@M\\xfd\\xba\\x9aB!\\x1e\\xae\\x8f\\xc0v\\x19\\x01\\xe6\\x83n\\x1f\\xc9\\\\\\xb2\\x1f\\x7f\\xa5\\xd1\\xfb\\xab[\\xd8r\\xd9\\xbd\\x00{\\xba\\x87d\\xc0\\xcdCr6c\\xab\\xd9j\\x0cI\\xb2`\\xcb\\xa5\\xff\\x98\\xce\\xd8\\xe2\\xe2\\xf3\\x86\\x05\\'\\x06\\x0b\\x07\\x8f\\xd0\\x9c\\x99\\x90\\xc2\\xf5G\\x8e$?\\x1a:\\xed\\x8c\\xa1\\xe6eO\\xb5\\xdbV\\x1bw0\\xde\\xa6\\xc0\\xed\\x062\\xc3U^{\\x9f>\\x84z\\x83_,\\x19\\xa6\"\\xaa\\xba\\x8cQ\\xfd\\xf8\\xfd\\xfd\\xcd\\xe5\\xfe\\x01\\x8f\\xc6\\x90\\x11O\\xbe6Q\\x0e=\\xba\\xe7\\x0e\\x88\\xd3@\\xef\\xa6\\xe1\\x96\\xe8\\xa2.\\xdf)\\xc0G\\xde\\xb4tB\\x00\\xb5\\xde\\x81\\xd3/e\\xb5\\xde\\xbd\\x1f\\xb8\\x93<\\xfb\\x9b\\xa9\\x1f\\x9a\\x10\\xdf\\x03\\xd3\\x9f\\xe1e\\x17\\xb4*Rz\\xfd\\xacy\\xad\\xd7L\\xea,\\xa6)\\xe3\\x7f/\\x94z\\xe9R\\x92\\x945#\\x08\\xcc\\x1e\\xde\\xe0\\x14\\xc8la7\\xab\\x1c\\xa3\\xe8\\x97\\xb0D\\n\\xbf\\xa1\\xc0\\x7fJ\\x9c\\x0cfB\\xaf\\xe5`\\xb7S?\\x9cm\\xb8\\x94h\\xf7\\x86\\xa2\\xdc\\x02\\x81\\xb6\\x95\\xcf-<\\t\\xb3\\x8b\\xf3\\xd1`\\t\\xa7\\xdb\\xc9\\x1cr\\xc9\\xad\\x15\\xa5\\xc8\\x87\\x1ah\\x0c=7=\\x18\\x9eJ\\x8bb\\x88[\\xa2\\x9b\\x98<\\xee\\x8f\\xdc\\x7f\\xc1\\xce\\xde\\xc2\\xa9_\\x98\\x9f\\xb8Wa\\xf6\\xb4\\x12\\xfe\\xd3\"\\x18\\xb1\\x97\\xf35\\x9dt\\xe2;\\xc7\\x9b\\xce\\x17c?\\xe3\\x98\\x96b\\x01\\xf3d\\xfa\\xfa\\xb04\\xc7\\x92\\xcd\\xdf\\xfe\\xc3\\xd0\\xbe\\xcc\\x92\\xcd\\x9e\\x8f\\x9d\\x07\\xff\\x06\\x1b\\x07\\x16,\\x9c\\x87[\\x8b\\xef$\\xe3/PK\\x01\\x02\\x00\\x00\\n\\x00\\x00\\x00\\x00\\x00R0\\xc4H\\x00\\x00\\x00\\x00\\x00\\x00\\x00\\x00\\x00\\x00\\x00\\x00>\\x00\\t\\x00\\x00\\x00\\x00\\x00\\x00\\x00\\x10\\x00\\x00\\x00\\x00\\x00\\x00\\x003785162f95cd2d5fee77-f43eeefc869d646b449aa6ce66f87bf987a1c9b5/UT\\x05\\x00\\x01m\\xd1RWPK\\x01\\x02\\x00\\x00\\n\\x00\\x00\\x00\\x08\\x00R0\\xc4H\\xfa\\xb7\\xd2\\xd4\\xa9\\x02\\x00\\x00{\\x15\\x00\\x00b\\x00\\t\\x00\\x00\\x00\\x00\\x00\\x01\\x00\\x00\\x00\\x00\\x00e\\x00\\x00\\x003785162f95cd2d5fee77-f43eeefc869d646b449aa6ce66f87bf987a1c9b5/VGG_ILSVRC_19_layers_deploy.prototxtUT\\x05\\x00\\x01m\\xd1RWPK\\x01\\x02\\x00\\x00\\n\\x00\\x00\\x00\\x08\\x00R0\\xc4H\\xc8\\xb4(Q\\x88\\x03\\x00\\x00\\x95\\x07\\x00\\x00G\\x00\\t\\x00\\x00\\x00\\x00\\x00\\x01\\x00\\x00\\x00\\x00\\x00\\x97\\x03\\x00\\x003785162f95cd2d5fee77-f43eeefc869d646b449aa6ce66f87bf987a1c9b5/readme.mdUT\\x05\\x00\\x01m\\xd1RWPK\\x05\\x06\\x00\\x00\\x00\\x00\\x03\\x00\\x03\\x00\\x8c\\x01\\x00\\x00\\x8d\\x07\\x00\\x00(\\x00f43eeefc869d646b449aa6ce66f87bf987a1c9b5'}"
            ]
          },
          "metadata": {
            "tags": []
          },
          "execution_count": 103
        }
      ]
    },
    {
      "cell_type": "code",
      "metadata": {
        "id": "9Xx2psBrKReI",
        "colab_type": "code",
        "colab": {}
      },
      "source": [
        "mkdir temp3_folder"
      ],
      "execution_count": 0,
      "outputs": []
    },
    {
      "cell_type": "code",
      "metadata": {
        "id": "TkTDtxjOKWDm",
        "colab_type": "code",
        "outputId": "9532be03-7a8e-4370-e022-264f0bc55af8",
        "colab": {
          "base_uri": "https://localhost:8080/",
          "height": 34
        }
      },
      "source": [
        "cd temp3_folder/"
      ],
      "execution_count": 0,
      "outputs": [
        {
          "output_type": "stream",
          "text": [
            "/content/HieCoAttenVQA/data/temp3_folder\n"
          ],
          "name": "stdout"
        }
      ]
    },
    {
      "cell_type": "code",
      "metadata": {
        "id": "ubE-fjD4KXrk",
        "colab_type": "code",
        "outputId": "b286912e-4fd1-480f-c2cf-ae248688cec6",
        "colab": {
          "base_uri": "https://localhost:8080/",
          "height": 122
        }
      },
      "source": [
        "!unzip ../3785162f95cd2d5fee77-f43eeefc869d646b449aa6ce66f87bf987a1c9b5.zip -d ."
      ],
      "execution_count": 0,
      "outputs": [
        {
          "output_type": "stream",
          "text": [
            "Archive:  ../3785162f95cd2d5fee77-f43eeefc869d646b449aa6ce66f87bf987a1c9b5.zip\n",
            "f43eeefc869d646b449aa6ce66f87bf987a1c9b5\n",
            "   creating: ./3785162f95cd2d5fee77-f43eeefc869d646b449aa6ce66f87bf987a1c9b5/\n",
            "  inflating: ./3785162f95cd2d5fee77-f43eeefc869d646b449aa6ce66f87bf987a1c9b5/VGG_ILSVRC_19_layers_deploy.prototxt  \n",
            "  inflating: ./3785162f95cd2d5fee77-f43eeefc869d646b449aa6ce66f87bf987a1c9b5/readme.md  \n"
          ],
          "name": "stdout"
        }
      ]
    },
    {
      "cell_type": "code",
      "metadata": {
        "id": "Mb4ergwbKfCc",
        "colab_type": "code",
        "outputId": "445c7048-c2de-4d1a-d49b-0a50899942cf",
        "colab": {
          "base_uri": "https://localhost:8080/",
          "height": 34
        }
      },
      "source": [
        "cd ../"
      ],
      "execution_count": 0,
      "outputs": [
        {
          "output_type": "stream",
          "text": [
            "/content/HieCoAttenVQA/data\n"
          ],
          "name": "stdout"
        }
      ]
    },
    {
      "cell_type": "code",
      "metadata": {
        "id": "vlrI7O1yKjH8",
        "colab_type": "code",
        "outputId": "b6f4cfdc-b3af-4583-afb2-cb2851d38707",
        "colab": {
          "base_uri": "https://localhost:8080/",
          "height": 51
        }
      },
      "source": [
        "cd image_model"
      ],
      "execution_count": 0,
      "outputs": [
        {
          "output_type": "stream",
          "text": [
            "[Errno 2] No such file or directory: 'image_model'\n",
            "/content/HieCoAttenVQA/data\n"
          ],
          "name": "stdout"
        }
      ]
    },
    {
      "cell_type": "code",
      "metadata": {
        "id": "vQu_Om41Km9l",
        "colab_type": "code",
        "outputId": "1917c402-b7f2-4243-efca-ce0d13f80277",
        "colab": {
          "base_uri": "https://localhost:8080/",
          "height": 34
        }
      },
      "source": [
        "cd ../image_model/"
      ],
      "execution_count": 0,
      "outputs": [
        {
          "output_type": "stream",
          "text": [
            "/content/HieCoAttenVQA/image_model\n"
          ],
          "name": "stdout"
        }
      ]
    },
    {
      "cell_type": "code",
      "metadata": {
        "id": "aB3lEWwxKowx",
        "colab_type": "code",
        "outputId": "f1b6086f-af11-4f00-9b2d-20f8567574dc",
        "colab": {
          "base_uri": "https://localhost:8080/",
          "height": 496
        }
      },
      "source": [
        "!python2 download_model.py --download 'VGG' "
      ],
      "execution_count": 0,
      "outputs": [
        {
          "output_type": "stream",
          "text": [
            "parsed input parameters:\n",
            "{\n",
            "  \"download\": \"VGG\"\n",
            "}\n",
            "Downloading VGG model from http://www.robots.ox.ac.uk/~vgg/software/very_deep/caffe/VGG_ILSVRC_19_layers.caffemodel\n",
            "--2019-05-25 22:44:38--  http://www.robots.ox.ac.uk/~vgg/software/very_deep/caffe/VGG_ILSVRC_19_layers.caffemodel\n",
            "Resolving www.robots.ox.ac.uk (www.robots.ox.ac.uk)... 129.67.94.2\n",
            "Connecting to www.robots.ox.ac.uk (www.robots.ox.ac.uk)|129.67.94.2|:80... connected.\n",
            "HTTP request sent, awaiting response... 200 OK\n",
            "Length: 574671192 (548M)\n",
            "Saving to: ‘VGG_ILSVRC_19_layers.caffemodel’\n",
            "\n",
            "VGG_ILSVRC_19_layer 100%[===================>] 548.05M  20.0MB/s    in 29s     \n",
            "\n",
            "2019-05-25 22:45:07 (19.2 MB/s) - ‘VGG_ILSVRC_19_layers.caffemodel’ saved [574671192/574671192]\n",
            "\n",
            "--2019-05-25 22:45:07--  https://gist.githubusercontent.com/ksimonyan/3785162f95cd2d5fee77/raw/bb2b4fe0a9bb0669211cf3d0bc949dfdda173e9e/VGG_ILSVRC_19_layers_deploy.prototxt\n",
            "Resolving gist.githubusercontent.com (gist.githubusercontent.com)... 151.101.0.133, 151.101.64.133, 151.101.128.133, ...\n",
            "Connecting to gist.githubusercontent.com (gist.githubusercontent.com)|151.101.0.133|:443... connected.\n",
            "HTTP request sent, awaiting response... 200 OK\n",
            "Length: 5499 (5.4K) [text/plain]\n",
            "Saving to: ‘VGG_ILSVRC_19_layers_deploy.prototxt’\n",
            "\n",
            "VGG_ILSVRC_19_layer 100%[===================>]   5.37K  --.-KB/s    in 0s      \n",
            "\n",
            "2019-05-25 22:45:07 (76.4 MB/s) - ‘VGG_ILSVRC_19_layers_deploy.prototxt’ saved [5499/5499]\n",
            "\n"
          ],
          "name": "stdout"
        }
      ]
    },
    {
      "cell_type": "code",
      "metadata": {
        "id": "MT-RLt9hK3m3",
        "colab_type": "code",
        "outputId": "f43ae5ff-fdc8-4e0d-ac11-4d9dd67b76ce",
        "colab": {
          "base_uri": "https://localhost:8080/",
          "height": 496
        }
      },
      "source": [
        "!python2 download_model.py --download 'Residual' "
      ],
      "execution_count": 0,
      "outputs": [
        {
          "output_type": "stream",
          "text": [
            "parsed input parameters:\n",
            "{\n",
            "  \"download\": \"Residual\"\n",
            "}\n",
            "Downloading deep residual model from https://d2j0dndfm35trm.cloudfront.net/resnet-200.t7\n",
            "--2019-05-25 22:45:37--  https://d2j0dndfm35trm.cloudfront.net/resnet-200.t7\n",
            "Resolving d2j0dndfm35trm.cloudfront.net (d2j0dndfm35trm.cloudfront.net)... 99.84.231.196, 99.84.231.158, 99.84.231.83, ...\n",
            "Connecting to d2j0dndfm35trm.cloudfront.net (d2j0dndfm35trm.cloudfront.net)|99.84.231.196|:443... connected.\n",
            "HTTP request sent, awaiting response... 200 OK\n",
            "Length: 519384926 (495M) [application/octet-stream]\n",
            "Saving to: ‘resnet-200.t7’\n",
            "\n",
            "resnet-200.t7       100%[===================>] 495.32M  64.7MB/s    in 7.7s    \n",
            "\n",
            "2019-05-25 22:45:46 (64.5 MB/s) - ‘resnet-200.t7’ saved [519384926/519384926]\n",
            "\n",
            "--2019-05-25 22:45:46--  https://raw.githubusercontent.com/facebook/fb.resnet.torch/master/datasets/transforms.lua\n",
            "Resolving raw.githubusercontent.com (raw.githubusercontent.com)... 151.101.0.133, 151.101.64.133, 151.101.128.133, ...\n",
            "Connecting to raw.githubusercontent.com (raw.githubusercontent.com)|151.101.0.133|:443... connected.\n",
            "HTTP request sent, awaiting response... 200 OK\n",
            "Length: 7525 (7.3K) [text/plain]\n",
            "Saving to: ‘transforms.lua’\n",
            "\n",
            "transforms.lua      100%[===================>]   7.35K  --.-KB/s    in 0s      \n",
            "\n",
            "2019-05-25 22:45:46 (81.9 MB/s) - ‘transforms.lua’ saved [7525/7525]\n",
            "\n"
          ],
          "name": "stdout"
        }
      ]
    },
    {
      "cell_type": "code",
      "metadata": {
        "id": "nlS1a5t3K3kk",
        "colab_type": "code",
        "outputId": "63f8b4c3-2907-49f9-ee87-21f6a911dfa9",
        "colab": {
          "base_uri": "https://localhost:8080/",
          "height": 34
        }
      },
      "source": [
        "pwd"
      ],
      "execution_count": 0,
      "outputs": [
        {
          "output_type": "execute_result",
          "data": {
            "text/plain": [
              "'/content/HieCoAttenVQA/image_model'"
            ]
          },
          "metadata": {
            "tags": []
          },
          "execution_count": 113
        }
      ]
    },
    {
      "cell_type": "markdown",
      "metadata": {
        "id": "bNzyq6bpLYKL",
        "colab_type": "text"
      },
      "source": [
        ""
      ]
    },
    {
      "cell_type": "code",
      "metadata": {
        "id": "27lbbLkYK3iD",
        "colab_type": "code",
        "colab": {}
      },
      "source": [
        "!cd ../prepro"
      ],
      "execution_count": 0,
      "outputs": []
    },
    {
      "cell_type": "code",
      "metadata": {
        "id": "Sab9Y3QyK3fr",
        "colab_type": "code",
        "outputId": "a5ec2b46-13ff-4245-951b-140295d4f37d",
        "colab": {
          "base_uri": "https://localhost:8080/",
          "height": 34
        }
      },
      "source": [
        "pwd"
      ],
      "execution_count": 0,
      "outputs": [
        {
          "output_type": "execute_result",
          "data": {
            "text/plain": [
              "'/content/HieCoAttenVQA/image_model'"
            ]
          },
          "metadata": {
            "tags": []
          },
          "execution_count": 117
        }
      ]
    },
    {
      "cell_type": "code",
      "metadata": {
        "id": "7pjOgV5DK3dQ",
        "colab_type": "code",
        "outputId": "878eb3d4-8b91-4d8c-8936-45cf4eb9cad2",
        "colab": {
          "base_uri": "https://localhost:8080/",
          "height": 34
        }
      },
      "source": [
        "cd ../"
      ],
      "execution_count": 0,
      "outputs": [
        {
          "output_type": "stream",
          "text": [
            "/content/HieCoAttenVQA\n"
          ],
          "name": "stdout"
        }
      ]
    },
    {
      "cell_type": "code",
      "metadata": {
        "id": "2bl7Z3R0K3ax",
        "colab_type": "code",
        "outputId": "7c0751cc-03f9-4e8e-dc74-8222c18b66db",
        "colab": {
          "base_uri": "https://localhost:8080/",
          "height": 34
        }
      },
      "source": [
        "cd prepro/"
      ],
      "execution_count": 0,
      "outputs": [
        {
          "output_type": "stream",
          "text": [
            "/content/HieCoAttenVQA/prepro\n"
          ],
          "name": "stdout"
        }
      ]
    },
    {
      "cell_type": "code",
      "metadata": {
        "id": "Up_agkrlK3YF",
        "colab_type": "code",
        "outputId": "a1f5afa2-928a-42dd-fadd-599c4c127b91",
        "colab": {
          "base_uri": "https://localhost:8080/",
          "height": 1448
        }
      },
      "source": [
        "!python2 prepro_vqa.py --input_train_json ../data/vqa_raw_train.json --input_test_json ../data/vqa_raw_test.json --num_ans 1000"
      ],
      "execution_count": 0,
      "outputs": [
        {
          "output_type": "stream",
          "text": [
            "parsed input parameters:\n",
            "{\n",
            "  \"input_train_json\": \"../data/vqa_raw_train.json\", \n",
            "  \"num_ans\": 1000, \n",
            "  \"input_test_json\": \"../data/vqa_raw_test.json\", \n",
            "  \"word_count_threshold\": 0, \n",
            "  \"max_length\": 26, \n",
            "  \"output_h5\": \"../data/vqa_data_prepro.h5\", \n",
            "  \"output_json\": \"../data/vqa_data_prepro.json\", \n",
            "  \"token_method\": \"nltk\"\n",
            "}\n",
            "top answer and their counts:\n",
            "(58729, u'yes')\n",
            "(36920, u'no')\n",
            "(8106, u'2')\n",
            "(4714, u'1')\n",
            "(4460, u'white')\n",
            "(4377, u'3')\n",
            "(3618, u'red')\n",
            "(3267, u'blue')\n",
            "(2577, u'4')\n",
            "(2395, u'green')\n",
            "(2269, u'black')\n",
            "(1863, u'yellow')\n",
            "(1662, u'brown')\n",
            "(1481, u'5')\n",
            "(1102, u'tennis')\n",
            "(1061, u'baseball')\n",
            "(1018, u'right')\n",
            "(953, u'orange')\n",
            "(922, u'bathroom')\n",
            "(921, u'left')\n",
            "question number reduce from 248349 to 215375 \n",
            "example processed tokens:\n",
            "['is', 'there', 'a', 'shadow', '?']\n",
            "['is', 'this', 'one', 'bench', 'or', 'multiple', 'benches', '?']\n",
            "['is', 'this', 'a', 'modern', 'train', '?']\n",
            "['what', 'color', 'is', 'the', 'stripe', 'on', 'the', 'train', '?']\n",
            "['what', 'is', 'on', 'the', 'other', 'side', 'of', 'the', 'train', '?']\n",
            "['is', 'the', 'bus', 'driver', 'on', 'any', 'kind', 'of', 'antidepressant', 'medication', '?']\n",
            "['is', 'the', 'bus', 'moving', '?']\n",
            "['what', 'color', 'is', 'the', 'bus', '?']\n",
            "['are', 'these', 'items', 'for', 'sale', '?']\n",
            "['what', 'is', 'for', 'sale', 'under', 'this', 'tent', '?']\n",
            "example processed tokens:\n",
            "['what', 'is', 'the', 'table', 'made', 'of', '?']\n",
            "['is', 'the', 'food', 'napping', 'on', 'the', 'table', '?']\n",
            "['what', 'has', 'been', 'upcycled', 'to', 'make', 'lights', '?']\n",
            "['is', 'this', 'an', 'spanish', 'town', '?']\n",
            "['are', 'there', 'shadows', 'on', 'the', 'sidewalk', '?']\n",
            "['what', 'is', 'in', 'the', 'top', 'right', 'corner', '?']\n",
            "['is', 'it', 'cold', 'outside', '?']\n",
            "['what', 'is', 'leaning', 'against', 'the', 'house', '?']\n",
            "['how', 'many', 'windows', 'can', 'you', 'see', '?']\n",
            "['is', 'this', 'in', 'a', 'park', '?']\n",
            "top words and their counts:\n",
            "(215455, '?')\n",
            "(151456, 'the')\n",
            "(134966, 'is')\n",
            "(79219, 'what')\n",
            "(51799, 'are')\n",
            "(43900, 'this')\n",
            "(33605, 'in')\n",
            "(30983, 'a')\n",
            "(27890, 'on')\n",
            "(26907, 'how')\n",
            "(25699, 'many')\n",
            "(24758, 'of')\n",
            "(24690, 'color')\n",
            "(19972, 'there')\n",
            "(12314, 'man')\n",
            "(9759, 'does')\n",
            "(9249, 'people')\n",
            "(8577, 'picture')\n",
            "(7902, \"'s\")\n",
            "(7879, 'to')\n",
            "total words: 1537357\n",
            "number of bad words: 0/12603 = 0.00%\n",
            "number of words in vocab would be 12603\n",
            "number of UNKs: 0/1537357 = 0.00%\n",
            "inserting the special UNK token\n",
            "wrote  ../data/vqa_data_prepro.h5\n",
            "wrote  ../data/vqa_data_prepro.json\n"
          ],
          "name": "stdout"
        }
      ]
    },
    {
      "cell_type": "code",
      "metadata": {
        "id": "17lYJAzJK3Vp",
        "colab_type": "code",
        "outputId": "ccae6b62-a6ea-48da-c4e5-f163a161d734",
        "colab": {
          "base_uri": "https://localhost:8080/",
          "height": 68
        }
      },
      "source": [
        "import nltk\n",
        "nltk.download('punkt')"
      ],
      "execution_count": 0,
      "outputs": [
        {
          "output_type": "stream",
          "text": [
            "[nltk_data] Downloading package punkt to /root/nltk_data...\n",
            "[nltk_data]   Unzipping tokenizers/punkt.zip.\n"
          ],
          "name": "stdout"
        },
        {
          "output_type": "execute_result",
          "data": {
            "text/plain": [
              "True"
            ]
          },
          "metadata": {
            "tags": []
          },
          "execution_count": 121
        }
      ]
    },
    {
      "cell_type": "code",
      "metadata": {
        "id": "ES33Z_OVK3S3",
        "colab_type": "code",
        "outputId": "e67d14a8-8df2-47ee-e52b-e0a19f6e671d",
        "colab": {
          "base_uri": "https://localhost:8080/",
          "height": 34
        }
      },
      "source": [
        "!th prepro_img_vgg.lua -input_json ../data/vqa_data_prepro.json -image_root /home/jiasenlu/data/ -cnn_proto ../image_model/VGG_ILSVRC_19_layers_deploy.prototxt -cnn_model ../image_model/VGG_ILSVRC_19_layers.caffemodel"
      ],
      "execution_count": 0,
      "outputs": [
        {
          "output_type": "stream",
          "text": [
            "/bin/bash: th: command not found\n"
          ],
          "name": "stdout"
        }
      ]
    },
    {
      "cell_type": "code",
      "metadata": {
        "id": "-VMwkbfkT0CH",
        "colab_type": "code",
        "outputId": "a55d502f-58e2-4cbc-f771-e7e899517a35",
        "colab": {
          "base_uri": "https://localhost:8080/",
          "height": 34
        }
      },
      "source": [
        "!pwd"
      ],
      "execution_count": 0,
      "outputs": [
        {
          "output_type": "stream",
          "text": [
            "/content/HieCoAttenVQA/data\n"
          ],
          "name": "stdout"
        }
      ]
    },
    {
      "cell_type": "code",
      "metadata": {
        "id": "Trhp1BT1Ufr3",
        "colab_type": "code",
        "outputId": "1af09cf4-638d-4cb4-f9e8-8ace932fac7e",
        "colab": {
          "base_uri": "https://localhost:8080/",
          "height": 3539
        }
      },
      "source": [
        "!git clone https://github.com/torch/distro.git ~/torch --recursive"
      ],
      "execution_count": 0,
      "outputs": [
        {
          "output_type": "stream",
          "text": [
            "Cloning into '/root/torch'...\n",
            "remote: Enumerating objects: 1601, done.\u001b[K\n",
            "remote: Total 1601 (delta 0), reused 0 (delta 0), pack-reused 1601\u001b[K\n",
            "Receiving objects: 100% (1601/1601), 345.52 KiB | 1.38 MiB/s, done.\n",
            "Resolving deltas: 100% (927/927), done.\n",
            "Submodule 'exe/env' (https://github.com/torch/env.git) registered for path 'exe/env'\n",
            "Submodule 'exe/luajit-rocks' (https://github.com/torch/luajit-rocks.git) registered for path 'exe/luajit-rocks'\n",
            "Submodule 'exe/qtlua' (https://github.com/torch/qtlua.git) registered for path 'exe/qtlua'\n",
            "Submodule 'exe/trepl' (https://github.com/torch/trepl.git) registered for path 'exe/trepl'\n",
            "Submodule 'extra/argcheck' (https://github.com/torch/argcheck.git) registered for path 'extra/argcheck'\n",
            "Submodule 'extra/cudnn' (https://github.com/soumith/cudnn.torch.git) registered for path 'extra/cudnn'\n",
            "Submodule 'extra/cunn' (https://github.com/torch/cunn.git) registered for path 'extra/cunn'\n",
            "Submodule 'extra/cutorch' (https://github.com/torch/cutorch.git) registered for path 'extra/cutorch'\n",
            "Submodule 'extra/graph' (https://github.com/torch/graph) registered for path 'extra/graph'\n",
            "Submodule 'extra/lua-cjson' (https://github.com/mpx/lua-cjson) registered for path 'extra/lua-cjson'\n",
            "Submodule 'extra/luaffifb' (https://github.com/facebook/luaffifb) registered for path 'extra/luaffifb'\n",
            "Submodule 'extra/luafilesystem' (https://github.com/keplerproject/luafilesystem.git) registered for path 'extra/luafilesystem'\n",
            "Submodule 'extra/moses' (https://github.com/Yonaba/Moses.git) registered for path 'extra/moses'\n",
            "Submodule 'extra/nn' (https://github.com/torch/nn.git) registered for path 'extra/nn'\n",
            "Submodule 'extra/nngraph' (https://github.com/torch/nngraph) registered for path 'extra/nngraph'\n",
            "Submodule 'extra/nnx' (https://github.com/clementfarabet/lua---nnx.git) registered for path 'extra/nnx'\n",
            "Submodule 'extra/penlight' (https://github.com/stevedonovan/Penlight.git) registered for path 'extra/penlight'\n",
            "Submodule 'extra/threads' (https://github.com/torch/threads-ffi.git) registered for path 'extra/threads'\n",
            "Submodule 'pkg/cwrap' (https://github.com/torch/cwrap.git) registered for path 'pkg/cwrap'\n",
            "Submodule 'pkg/dok' (https://github.com/torch/dok.git) registered for path 'pkg/dok'\n",
            "Submodule 'pkg/gnuplot' (https://github.com/torch/gnuplot.git) registered for path 'pkg/gnuplot'\n",
            "Submodule 'pkg/image' (https://github.com/torch/image.git) registered for path 'pkg/image'\n",
            "Submodule 'pkg/optim' (https://github.com/torch/optim.git) registered for path 'pkg/optim'\n",
            "Submodule 'pkg/paths' (https://github.com/torch/paths.git) registered for path 'pkg/paths'\n",
            "Submodule 'pkg/qttorch' (https://github.com/torch/qttorch.git) registered for path 'pkg/qttorch'\n",
            "Submodule 'pkg/sundown' (https://github.com/torch/sundown-ffi.git) registered for path 'pkg/sundown'\n",
            "Submodule 'pkg/sys' (https://github.com/torch/sys.git) registered for path 'pkg/sys'\n",
            "Submodule 'pkg/torch' (https://github.com/torch/torch7.git) registered for path 'pkg/torch'\n",
            "Submodule 'pkg/xlua' (https://github.com/torch/xlua.git) registered for path 'pkg/xlua'\n",
            "Cloning into '/root/torch/exe/env'...\n",
            "remote: Enumerating objects: 26, done.        \n",
            "remote: Total 26 (delta 0), reused 0 (delta 0), pack-reused 26        \n",
            "Cloning into '/root/torch/exe/luajit-rocks'...\n",
            "remote: Enumerating objects: 2737, done.        \n",
            "remote: Total 2737 (delta 0), reused 0 (delta 0), pack-reused 2737        \n",
            "Receiving objects: 100% (2737/2737), 7.53 MiB | 11.79 MiB/s, done.\n",
            "Resolving deltas: 100% (1759/1759), done.\n",
            "Cloning into '/root/torch/exe/qtlua'...\n",
            "remote: Enumerating objects: 710, done.        \n",
            "remote: Total 710 (delta 0), reused 0 (delta 0), pack-reused 710        \n",
            "Receiving objects: 100% (710/710), 597.10 KiB | 2.29 MiB/s, done.\n",
            "Resolving deltas: 100% (354/354), done.\n",
            "Cloning into '/root/torch/exe/trepl'...\n",
            "remote: Enumerating objects: 514, done.        \n",
            "remote: Total 514 (delta 0), reused 0 (delta 0), pack-reused 514        \n",
            "Receiving objects: 100% (514/514), 115.87 KiB | 949.00 KiB/s, done.\n",
            "Resolving deltas: 100% (294/294), done.\n",
            "Cloning into '/root/torch/extra/argcheck'...\n",
            "remote: Enumerating objects: 538, done.        \n",
            "remote: Total 538 (delta 0), reused 0 (delta 0), pack-reused 538        \n",
            "Receiving objects: 100% (538/538), 646.22 KiB | 2.18 MiB/s, done.\n",
            "Resolving deltas: 100% (291/291), done.\n",
            "Cloning into '/root/torch/extra/cudnn'...\n",
            "remote: Enumerating objects: 2074, done.        \n",
            "remote: Total 2074 (delta 0), reused 0 (delta 0), pack-reused 2074        \n",
            "Receiving objects: 100% (2074/2074), 801.49 KiB | 3.11 MiB/s, done.\n",
            "Resolving deltas: 100% (1351/1351), done.\n",
            "Cloning into '/root/torch/extra/cunn'...\n",
            "remote: Enumerating objects: 3995, done.        \n",
            "remote: Total 3995 (delta 0), reused 0 (delta 0), pack-reused 3995        \n",
            "Receiving objects: 100% (3995/3995), 1.47 MiB | 4.76 MiB/s, done.\n",
            "Resolving deltas: 100% (2581/2581), done.\n",
            "Cloning into '/root/torch/extra/cutorch'...\n",
            "remote: Enumerating objects: 5701, done.        \n",
            "remote: Total 5701 (delta 0), reused 0 (delta 0), pack-reused 5701        \n",
            "Receiving objects: 100% (5701/5701), 2.10 MiB | 6.10 MiB/s, done.\n",
            "Resolving deltas: 100% (3465/3465), done.\n",
            "Cloning into '/root/torch/extra/graph'...\n",
            "remote: Enumerating objects: 225, done.        \n",
            "remote: Total 225 (delta 0), reused 0 (delta 0), pack-reused 225        \n",
            "Receiving objects: 100% (225/225), 56.70 KiB | 936.00 KiB/s, done.\n",
            "Resolving deltas: 100% (112/112), done.\n",
            "Cloning into '/root/torch/extra/lua-cjson'...\n",
            "remote: Enumerating objects: 1040, done.        \n",
            "remote: Total 1040 (delta 0), reused 0 (delta 0), pack-reused 1040        \n",
            "Receiving objects: 100% (1040/1040), 269.29 KiB | 1.42 MiB/s, done.\n",
            "Resolving deltas: 100% (661/661), done.\n",
            "Cloning into '/root/torch/extra/luaffifb'...\n",
            "remote: Enumerating objects: 963, done.        \n",
            "remote: Total 963 (delta 0), reused 0 (delta 0), pack-reused 963        \n",
            "Receiving objects: 100% (963/963), 452.83 KiB | 1.79 MiB/s, done.\n",
            "Resolving deltas: 100% (684/684), done.\n",
            "Cloning into '/root/torch/extra/luafilesystem'...\n",
            "remote: Enumerating objects: 1643, done.        \n",
            "remote: Total 1643 (delta 0), reused 0 (delta 0), pack-reused 1643        \n",
            "Receiving objects: 100% (1643/1643), 327.00 KiB | 1.33 MiB/s, done.\n",
            "Resolving deltas: 100% (746/746), done.\n",
            "Cloning into '/root/torch/extra/moses'...\n",
            "remote: Enumerating objects: 2013, done.        \n",
            "remote: Total 2013 (delta 0), reused 0 (delta 0), pack-reused 2013        \n",
            "Receiving objects: 100% (2013/2013), 1.41 MiB | 3.62 MiB/s, done.\n",
            "Resolving deltas: 100% (1179/1179), done.\n",
            "Cloning into '/root/torch/extra/nn'...\n",
            "remote: Enumerating objects: 7662, done.        \n",
            "remote: Total 7662 (delta 0), reused 0 (delta 0), pack-reused 7662        \n",
            "Receiving objects: 100% (7662/7662), 3.72 MiB | 9.40 MiB/s, done.\n",
            "Resolving deltas: 100% (4898/4898), done.\n",
            "Cloning into '/root/torch/extra/nngraph'...\n",
            "remote: Enumerating objects: 664, done.        \n",
            "remote: Total 664 (delta 0), reused 0 (delta 0), pack-reused 664        \n",
            "Receiving objects: 100% (664/664), 1.87 MiB | 4.93 MiB/s, done.\n",
            "Resolving deltas: 100% (356/356), done.\n",
            "Cloning into '/root/torch/extra/nnx'...\n",
            "remote: Enumerating objects: 2483, done.        \n",
            "remote: Total 2483 (delta 0), reused 0 (delta 0), pack-reused 2483        \n",
            "Receiving objects: 100% (2483/2483), 1.27 MiB | 3.41 MiB/s, done.\n",
            "Resolving deltas: 100% (1420/1420), done.\n",
            "Cloning into '/root/torch/extra/penlight'...\n",
            "remote: Enumerating objects: 4677, done.        \n",
            "remote: Total 4677 (delta 0), reused 0 (delta 0), pack-reused 4677        \n",
            "Receiving objects: 100% (4677/4677), 1.75 MiB | 5.33 MiB/s, done.\n",
            "Resolving deltas: 100% (2860/2860), done.\n",
            "Cloning into '/root/torch/extra/threads'...\n",
            "remote: Enumerating objects: 429, done.        \n",
            "remote: Total 429 (delta 0), reused 0 (delta 0), pack-reused 429        \n",
            "Receiving objects: 100% (429/429), 108.21 KiB | 886.00 KiB/s, done.\n",
            "Resolving deltas: 100% (228/228), done.\n",
            "Cloning into '/root/torch/pkg/cwrap'...\n",
            "remote: Enumerating objects: 109, done.        \n",
            "remote: Total 109 (delta 0), reused 0 (delta 0), pack-reused 109        \n",
            "Receiving objects: 100% (109/109), 38.05 KiB | 638.00 KiB/s, done.\n",
            "Resolving deltas: 100% (43/43), done.\n",
            "Cloning into '/root/torch/pkg/dok'...\n",
            "remote: Enumerating objects: 186, done.        \n",
            "remote: Total 186 (delta 0), reused 0 (delta 0), pack-reused 186        \n",
            "Receiving objects: 100% (186/186), 133.83 KiB | 1.05 MiB/s, done.\n",
            "Resolving deltas: 100% (59/59), done.\n",
            "Cloning into '/root/torch/pkg/gnuplot'...\n",
            "remote: Enumerating objects: 308, done.        \n",
            "remote: Total 308 (delta 0), reused 0 (delta 0), pack-reused 308        \n",
            "Receiving objects: 100% (308/308), 240.88 KiB | 1.27 MiB/s, done.\n",
            "Resolving deltas: 100% (167/167), done.\n",
            "Cloning into '/root/torch/pkg/image'...\n",
            "remote: Enumerating objects: 1392, done.        \n",
            "remote: Total 1392 (delta 0), reused 0 (delta 0), pack-reused 1392        \n",
            "Receiving objects: 100% (1392/1392), 2.75 MiB | 7.08 MiB/s, done.\n",
            "Resolving deltas: 100% (767/767), done.\n",
            "Cloning into '/root/torch/pkg/optim'...\n",
            "remote: Enumerating objects: 929, done.        \n",
            "remote: Total 929 (delta 0), reused 0 (delta 0), pack-reused 929        \n",
            "Receiving objects: 100% (929/929), 408.10 KiB | 1.62 MiB/s, done.\n",
            "Resolving deltas: 100% (512/512), done.\n",
            "Cloning into '/root/torch/pkg/paths'...\n",
            "remote: Enumerating objects: 153, done.        \n",
            "remote: Total 153 (delta 0), reused 0 (delta 0), pack-reused 153        \n",
            "Receiving objects: 100% (153/153), 53.42 KiB | 882.00 KiB/s, done.\n",
            "Resolving deltas: 100% (62/62), done.\n",
            "Cloning into '/root/torch/pkg/qttorch'...\n",
            "remote: Enumerating objects: 60, done.        \n",
            "remote: Total 60 (delta 0), reused 0 (delta 0), pack-reused 60        \n",
            "Cloning into '/root/torch/pkg/sundown'...\n",
            "remote: Enumerating objects: 238, done.        \n",
            "remote: Total 238 (delta 0), reused 0 (delta 0), pack-reused 238        \n",
            "Receiving objects: 100% (238/238), 140.57 KiB | 1.11 MiB/s, done.\n",
            "Resolving deltas: 100% (80/80), done.\n",
            "Cloning into '/root/torch/pkg/sys'...\n",
            "remote: Enumerating objects: 220, done.        \n",
            "remote: Total 220 (delta 0), reused 0 (delta 0), pack-reused 220        \n",
            "Receiving objects: 100% (220/220), 36.83 KiB | 608.00 KiB/s, done.\n",
            "Resolving deltas: 100% (115/115), done.\n",
            "Cloning into '/root/torch/pkg/torch'...\n",
            "remote: Enumerating objects: 3, done.        \n",
            "remote: Counting objects: 100% (3/3), done.        \n",
            "remote: Compressing objects: 100% (3/3), done.        \n",
            "remote: Total 6725 (delta 0), reused 0 (delta 0), pack-reused 6722        \n",
            "Receiving objects: 100% (6725/6725), 2.56 MiB | 7.54 MiB/s, done.\n",
            "Resolving deltas: 100% (4214/4214), done.\n",
            "Cloning into '/root/torch/pkg/xlua'...\n",
            "remote: Enumerating objects: 282, done.        \n",
            "remote: Total 282 (delta 0), reused 0 (delta 0), pack-reused 282        \n",
            "Receiving objects: 100% (282/282), 59.22 KiB | 994.00 KiB/s, done.\n",
            "Resolving deltas: 100% (156/156), done.\n",
            "Submodule path 'exe/env': checked out 'd28424ac5b638686410304c60c31693849f3d1dd'\n",
            "Submodule path 'exe/luajit-rocks': checked out '411f4b9d9c4be176d4aab965ebfce50911583e14'\n",
            "Submodule path 'exe/qtlua': checked out '8b80419ca2458e172b0d245999114f2b9d4ac118'\n",
            "Submodule path 'exe/trepl': checked out 'e5e17e3a56997123bd6c66cb8575175d3a6945bb'\n",
            "Submodule path 'extra/argcheck': checked out 'b3b32c060c4269c25d11cf9f983c291d9448e1ee'\n",
            "Submodule path 'extra/cudnn': checked out '008c49de3982119378576fa4244e472a50fd9ebe'\n",
            "Submodule path 'extra/cunn': checked out '27d79db5ac8f9fa3995ac43f876e4eb146d99913'\n",
            "Submodule path 'extra/cutorch': checked out 'caf84f3af0b1e9f6bd5c4129c01345f7bd72e431'\n",
            "Submodule path 'extra/graph': checked out '37dac07a19eb3809b8081514bc781206241863a0'\n",
            "Submodule path 'extra/lua-cjson': checked out 'e8972ac754788d3ef10a57a36016d6c3e85ba20d'\n",
            "Submodule path 'extra/luaffifb': checked out '610ce4dc6de318c8f0eb027f052be081349097be'\n",
            "Submodule path 'extra/luafilesystem': checked out '3c4e563d9c140319e28c419f2710b51a2f6d6d24'\n",
            "Submodule path 'extra/moses': checked out 'ded0a9b773bb78ded2c1dd5da721bbee4a3e32c6'\n",
            "Submodule path 'extra/nn': checked out '200ae7d55a3381a232256223c0694498f8f51df0'\n",
            "Submodule path 'extra/nngraph': checked out '3ed3b9ba9d1adf72c1fe15291a1e50b843cf04f9'\n",
            "Submodule path 'extra/nnx': checked out '1c28e231f885899a4ed68266e788306cab2ac07a'\n",
            "Submodule path 'extra/penlight': checked out '6d108e6a699fbafd5dace1019d03f4b4b18231fa'\n",
            "Submodule path 'extra/threads': checked out '7094a90be44ecdd5f9f0b90560473ad27f3bb07d'\n",
            "Submodule path 'pkg/cwrap': checked out 'dbd0a623dc4dfb4b8169d5aecc6dd9aec2f22792'\n",
            "Submodule path 'pkg/dok': checked out '1b36900e1bfa6ee7f48db52c577bdeb7d9e85909'\n",
            "Submodule path 'pkg/gnuplot': checked out 'a75e6782bdd5a7aa3ed5c2a0a88b63a916472c66'\n",
            "Submodule path 'pkg/image': checked out '5aa18819b6a7b44751f8a858bd232d1c07b67985'\n",
            "Submodule path 'pkg/optim': checked out '656c42af1f996e4a5d6aae3b9aeac831ca162241'\n",
            "Submodule path 'pkg/paths': checked out '4ebe222ba12589fb9d86c1d3895d7f509df77b6a'\n",
            "Submodule path 'pkg/qttorch': checked out 'ba5b5a143482857f80237181d5fde0a3ba20477b'\n",
            "Submodule path 'pkg/sundown': checked out '4324669b1adbde92cef2dbf4550428a13a03ca6f'\n",
            "Submodule path 'pkg/sys': checked out 'f073f057d3fd2148866eaa0444a62ababfdf935e'\n",
            "Submodule path 'pkg/torch': checked out '3e9e141ced1afd0cad451e69f90e6e53503647ca'\n",
            "Submodule path 'pkg/xlua': checked out '41308fe696bf8b0892f4ad4f9857d12a87a3f75e'\n"
          ],
          "name": "stdout"
        }
      ]
    },
    {
      "cell_type": "code",
      "metadata": {
        "id": "y25kIPAPUp7S",
        "colab_type": "code",
        "outputId": "f198c575-981b-48e7-8bf7-d5204ff198fb",
        "colab": {
          "base_uri": "https://localhost:8080/",
          "height": 34
        }
      },
      "source": [
        "cd ~/torch"
      ],
      "execution_count": 0,
      "outputs": [
        {
          "output_type": "stream",
          "text": [
            "/root/torch\n"
          ],
          "name": "stdout"
        }
      ]
    },
    {
      "cell_type": "code",
      "metadata": {
        "id": "nUQfdjeiUuyc",
        "colab_type": "code",
        "outputId": "47d25a70-a5a0-4148-9361-fd1af946c9b8",
        "colab": {
          "base_uri": "https://localhost:8080/",
          "height": 428
        }
      },
      "source": [
        "!bash install-deps"
      ],
      "execution_count": 0,
      "outputs": [
        {
          "output_type": "stream",
          "text": [
            "\r0% [Working]\r            \rIgn:1 https://developer.download.nvidia.com/compute/cuda/repos/ubuntu1804/x86_64  InRelease\n",
            "\r0% [Connecting to archive.ubuntu.com (91.189.88.162)] [Waiting for headers] [Co\r                                                                               \rHit:2 https://cloud.r-project.org/bin/linux/ubuntu bionic-cran35/ InRelease\n",
            "\r0% [Connecting to archive.ubuntu.com (91.189.88.162)] [Waiting for headers] [Wa\r                                                                               \rIgn:3 https://developer.download.nvidia.com/compute/machine-learning/repos/ubuntu1804/x86_64  InRelease\n",
            "\r0% [Connecting to archive.ubuntu.com (91.189.88.162)] [Waiting for headers] [Co\r0% [2 InRelease gpgv 3,609 B] [Connecting to archive.ubuntu.com (91.189.88.162)\r                                                                               \rHit:4 https://developer.download.nvidia.com/compute/cuda/repos/ubuntu1804/x86_64  Release\n",
            "\r0% [2 InRelease gpgv 3,609 B] [Connecting to archive.ubuntu.com (91.189.88.162)\r                                                                               \rHit:5 http://security.ubuntu.com/ubuntu bionic-security InRelease\n",
            "\r0% [2 InRelease gpgv 3,609 B] [Waiting for headers] [Waiting for headers] [Wait\r                                                                               \rHit:6 https://developer.download.nvidia.com/compute/machine-learning/repos/ubuntu1804/x86_64  Release\n",
            "\r                                                                               \r0% [2 InRelease gpgv 3,609 B] [Waiting for headers] [Waiting for headers]\r                                                                         \r0% [Waiting for headers] [Waiting for headers]\r0% [Release.gpg gpgv 564 B] [Waiting for headers] [Waiting for headers]\r                                                                       \rHit:7 http://ppa.launchpad.net/graphics-drivers/ppa/ubuntu bionic InRelease\n",
            "\r0% [Release.gpg gpgv 564 B] [Waiting for headers] [Connecting to ppa.launchpad.\r                                                                               \rHit:8 http://archive.ubuntu.com/ubuntu bionic InRelease\n",
            "Hit:10 http://archive.ubuntu.com/ubuntu bionic-updates InRelease\n",
            "Hit:12 http://ppa.launchpad.net/marutter/c2d4u3.5/ubuntu bionic InRelease\n",
            "Hit:13 http://archive.ubuntu.com/ubuntu bionic-backports InRelease\n",
            "Reading package lists... Done\n",
            "Updated successfully.\n",
            "Reading package lists... Done\n",
            "Building dependency tree       \n",
            "Reading state information... Done\n",
            "Package python-software-properties is not available, but is referred to by another package.\n",
            "This may mean that the package is missing, has been obsoleted, or\n",
            "is only available from another source\n",
            "However the following packages replace it:\n",
            "  software-properties-common\n",
            "\n",
            "E: Package 'python-software-properties' has no installation candidate\n"
          ],
          "name": "stdout"
        }
      ]
    },
    {
      "cell_type": "code",
      "metadata": {
        "id": "7LwbFB5xUz-l",
        "colab_type": "code",
        "outputId": "13a58b3b-57bc-4879-81b1-b0dce826ef74",
        "colab": {
          "base_uri": "https://localhost:8080/",
          "height": 17819
        }
      },
      "source": [
        "!./install.sh"
      ],
      "execution_count": 0,
      "outputs": [
        {
          "output_type": "stream",
          "text": [
            "Prefix set to /root/torch/install\n",
            "Installing Lua version: LUAJIT21\n",
            "CMake Warning (dev) at /usr/local/lib/python2.7/dist-packages/cmake/data/share/cmake-3.12/Modules/CheckIncludeFile.cmake:70 (message):\n",
            "  Policy CMP0075 is not set: Include file check macros honor\n",
            "  CMAKE_REQUIRED_LIBRARIES.  Run \"cmake --help-policy CMP0075\" for policy\n",
            "  details.  Use the cmake_policy command to set the policy and suppress this\n",
            "  warning.\n",
            "\n",
            "  CMAKE_REQUIRED_LIBRARIES is set to:\n",
            "\n",
            "    /usr/lib/x86_64-linux-gnu/libdl.so\n",
            "\n",
            "  For compatibility with CMake 3.11 and below this check is ignoring it.\n",
            "Call Stack (most recent call first):\n",
            "  /usr/local/lib/python2.7/dist-packages/cmake/data/share/cmake-3.12/Modules/FindThreads.cmake:121 (CHECK_INCLUDE_FILE)\n",
            "  exe/luajit-rocks/luajit-2.1/CMakeLists.txt:174 (FIND_PACKAGE)\n",
            "This warning is for project developers.  Use -Wno-dev to suppress it.\n",
            "\n",
            "Found CUDA on your machine. Installing CMake 3.6 modules to get up-to-date FindCUDA\n",
            "-- The C compiler identification is GNU 7.4.0\n",
            "-- The CXX compiler identification is GNU 7.4.0\n",
            "-- Check for working C compiler: /usr/bin/cc\n",
            "-- Check for working C compiler: /usr/bin/cc -- works\n",
            "-- Detecting C compiler ABI info\n",
            "-- Detecting C compiler ABI info - done\n",
            "-- Detecting C compile features\n",
            "-- Detecting C compile features - done\n",
            "-- Check for working CXX compiler: /usr/bin/c++\n",
            "-- Check for working CXX compiler: /usr/bin/c++ -- works\n",
            "-- Detecting CXX compiler ABI info\n",
            "-- Detecting CXX compiler ABI info - done\n",
            "-- Detecting CXX compile features\n",
            "-- Detecting CXX compile features - done\n",
            "-- Configuring done\n",
            "-- Generating done\n",
            "-- Build files have been written to: /root/torch/cmake/3.6/build\n",
            "\u001b[36mInstall the project...\u001b[0m\n",
            "-- Install configuration: \"\"\n",
            "-- Installing: /root/torch/install/share/cmake/torch\n",
            "-- Installing: /root/torch/install/share/cmake/torch/FindCUDA\n",
            "-- Installing: /root/torch/install/share/cmake/torch/FindCUDA/run_nvcc.cmake\n",
            "-- Installing: /root/torch/install/share/cmake/torch/FindCUDA/select_compute_arch.cmake\n",
            "-- Installing: /root/torch/install/share/cmake/torch/FindCUDA/make2cmake.cmake\n",
            "-- Installing: /root/torch/install/share/cmake/torch/FindCUDA/parse_cubin.cmake\n",
            "-- Installing: /root/torch/install/share/cmake/torch/FindCUDA.cmake\n",
            "FindCuda bits of CMake 3.6 installed\n",
            "Installing common Lua packages\n",
            "gcc -O2 -fPIC -I/root/torch/install/include -c src/lfs.c -o src/lfs.o\n",
            "gcc -shared -o lfs.so -L/root/torch/install/lib src/lfs.o\n",
            "Updating manifest for /root/torch/install/lib/luarocks/rocks\n",
            "No existing manifest. Attempting to rebuild...\n",
            "luafilesystem 1.6.3-1 is now built and installed in /root/torch/install/ (license: MIT/X11)\n",
            "\n",
            "Updating manifest for /root/torch/install/lib/luarocks/rocks\n",
            "penlight scm-1 is now built and installed in /root/torch/install/ (license: MIT/X11)\n",
            "\n",
            "gcc -O2 -fPIC -I/root/torch/install/include -c lua_cjson.c -o lua_cjson.o\n",
            "gcc -O2 -fPIC -I/root/torch/install/include -c strbuf.c -o strbuf.o\n",
            "gcc -O2 -fPIC -I/root/torch/install/include -c fpconv.c -o fpconv.o\n",
            "gcc -shared -o cjson.so -L/root/torch/install/lib lua_cjson.o strbuf.o fpconv.o\n",
            "Updating manifest for /root/torch/install/lib/luarocks/rocks\n",
            "lua-cjson 2.1devel-1 is now built and installed in /root/torch/install/ (license: MIT)\n",
            "\n",
            "Installing core Torch packages\n",
            "gcc -O2 -fPIC -I/root/torch/install/include -c test.c -o test.o\n",
            "gcc -shared -o ffi/libtest.so -L/root/torch/install/lib test.o\n",
            "gcc -O2 -fPIC -I/root/torch/install/include -c call.c -o call.o -Idynasm\n",
            "gcc -O2 -fPIC -I/root/torch/install/include -c ctype.c -o ctype.o -Idynasm\n",
            "gcc -O2 -fPIC -I/root/torch/install/include -c ffi.c -o ffi.o -Idynasm\n",
            "gcc -O2 -fPIC -I/root/torch/install/include -c parser.c -o parser.o -Idynasm\n",
            "gcc -shared -o ffi.so -L/root/torch/install/lib call.o ctype.o ffi.o parser.o\n",
            "Updating manifest for /root/torch/install/lib/luarocks/rocks\n",
            "luaffi scm-1 is now built and installed in /root/torch/install/ (license: BSD)\n",
            "\n",
            "gcc -O2 -fPIC -I/root/torch/install/include -c src/autolink.c -o src/autolink.o -Isrc/ -Ihtml/\n",
            "gcc -O2 -fPIC -I/root/torch/install/include -c src/buffer.c -o src/buffer.o -Isrc/ -Ihtml/\n",
            "gcc -O2 -fPIC -I/root/torch/install/include -c src/markdown.c -o src/markdown.o -Isrc/ -Ihtml/\n",
            "gcc -O2 -fPIC -I/root/torch/install/include -c src/stack.c -o src/stack.o -Isrc/ -Ihtml/\n",
            "gcc -O2 -fPIC -I/root/torch/install/include -c html/houdini_href_e.c -o html/houdini_href_e.o -Isrc/ -Ihtml/\n",
            "gcc -O2 -fPIC -I/root/torch/install/include -c html/houdini_html_e.c -o html/houdini_html_e.o -Isrc/ -Ihtml/\n",
            "gcc -O2 -fPIC -I/root/torch/install/include -c html/html.c -o html/html.o -Isrc/ -Ihtml/\n",
            "gcc -O2 -fPIC -I/root/torch/install/include -c html/html_smartypants.c -o html/html_smartypants.o -Isrc/ -Ihtml/\n",
            "gcc -shared -o libsundown.so -L/root/torch/install/lib src/autolink.o src/buffer.o src/markdown.o src/stack.o html/houdini_href_e.o html/houdini_html_e.o html/html.o html/html_smartypants.o\n",
            "Updating manifest for /root/torch/install/lib/luarocks/rocks\n",
            "sundown scm-1 is now built and installed in /root/torch/install/ (license: BSD)\n",
            "\n",
            "Updating manifest for /root/torch/install/lib/luarocks/rocks\n",
            "cwrap scm-1 is now built and installed in /root/torch/install/ (license: BSD)\n",
            "\n",
            "Warning: unmatched variable LUALIB\n",
            "cmake -E make_directory build && cd build && cmake .. -DCMAKE_BUILD_TYPE=Release -DLUALIB= -DLUA_INCDIR=\"/root/torch/install/include\" -DLUA_LIBDIR=\"/root/torch/install/lib\" -DLUADIR=\"/root/torch/install/lib/luarocks/rocks/paths/scm-1/lua\" -DLIBDIR=\"/root/torch/install/lib/luarocks/rocks/paths/scm-1/lib\" -DCMAKE_INSTALL_PREFIX=\"/root/torch/install/lib/luarocks/rocks/paths/scm-1\" && make\n",
            "\n",
            "-- The C compiler identification is GNU 7.4.0\n",
            "-- The CXX compiler identification is GNU 7.4.0\n",
            "-- Check for working C compiler: /usr/bin/cc\n",
            "-- Check for working C compiler: /usr/bin/cc -- works\n",
            "-- Detecting C compiler ABI info\n",
            "-- Detecting C compiler ABI info - done\n",
            "-- Detecting C compile features\n",
            "-- Detecting C compile features - done\n",
            "-- Check for working CXX compiler: /usr/bin/c++\n",
            "-- Check for working CXX compiler: /usr/bin/c++ -- works\n",
            "-- Detecting CXX compiler ABI info\n",
            "-- Detecting CXX compiler ABI info - done\n",
            "-- Detecting CXX compile features\n",
            "-- Detecting CXX compile features - done\n",
            "-- Looking for include file fcntl.h\n",
            "-- Looking for include file fcntl.h - found\n",
            "-- Looking for include file unistd.h\n",
            "-- Looking for include file unistd.h - found\n",
            "-- Looking for include file dirent.h\n",
            "-- Looking for include file dirent.h - found\n",
            "-- Looking for include file time.h\n",
            "-- Looking for include file time.h - found\n",
            "-- Looking for include file sys/time.h\n",
            "-- Looking for include file sys/time.h - found\n",
            "-- Looking for include file sys/ndir.h\n",
            "-- Looking for include file sys/ndir.h - not found\n",
            "-- Looking for include file sys/utsname.h\n",
            "-- Looking for include file sys/utsname.h - found\n",
            "-- Looking for include file sys/dir.h\n",
            "-- Looking for include file sys/dir.h - found\n",
            "-- Looking for include file ndir.h\n",
            "-- Looking for include file ndir.h - not found\n",
            "-- Looking for getcwd\n",
            "-- Looking for getcwd - found\n",
            "-- Looking for dlopen in dl\n",
            "-- Looking for dlopen in dl - found\n",
            "-- Configuring done\n",
            "-- Generating done\n",
            "-- Build files have been written to: /root/torch/pkg/paths/build\n",
            "\u001b[35m\u001b[1mScanning dependencies of target paths\u001b[0m\n",
            "[ 50%] \u001b[32mBuilding C object CMakeFiles/paths.dir/paths.c.o\u001b[0m\n",
            "[100%] \u001b[32m\u001b[1mLinking C shared module libpaths.so\u001b[0m\n",
            "CMakeFiles/paths.dir/paths.c.o: In function `lua_tmpname':\n",
            "paths.c:(.text+0x637): warning: the use of `tempnam' is dangerous, better use `mkstemp'\n",
            "[100%] Built target paths\n",
            "cd build && make install\n",
            "[100%] Built target paths\n",
            "\u001b[36mInstall the project...\u001b[0m\n",
            "-- Install configuration: \"Release\"\n",
            "-- Installing: /root/torch/install/lib/luarocks/rocks/paths/scm-1/lua/paths/init.lua\n",
            "-- Installing: /root/torch/install/lib/luarocks/rocks/paths/scm-1/lib/libpaths.so\n",
            "Updating manifest for /root/torch/install/lib/luarocks/rocks\n",
            "paths scm-1 is now built and installed in /root/torch/install/ (license: BSD)\n",
            "\n",
            "Warning: unmatched variable LUALIB\n",
            "cmake -E make_directory build && cd build && cmake .. -DCMAKE_BUILD_TYPE=Release -DLUA=/root/torch/install/bin/luajit -DLUALIB= -DLUA_BINDIR=\"/root/torch/install/bin\" -DLUA_INCDIR=\"/root/torch/install/include\" -DLUA_LIBDIR=\"/root/torch/install/lib\" -DLUADIR=\"/root/torch/install/lib/luarocks/rocks/torch/scm-1/lua\" -DLIBDIR=\"/root/torch/install/lib/luarocks/rocks/torch/scm-1/lib\" -DCMAKE_INSTALL_PREFIX=\"/root/torch/install/lib/luarocks/rocks/torch/scm-1\" && make -j$(getconf _NPROCESSORS_ONLN)\n",
            "\n",
            "-- The C compiler identification is GNU 7.4.0\n",
            "-- The CXX compiler identification is GNU 7.4.0\n",
            "-- Check for working C compiler: /usr/bin/cc\n",
            "-- Check for working C compiler: /usr/bin/cc -- works\n",
            "-- Detecting C compiler ABI info\n",
            "-- Detecting C compiler ABI info - done\n",
            "-- Detecting C compile features\n",
            "-- Detecting C compile features - done\n",
            "-- Check for working CXX compiler: /usr/bin/c++\n",
            "-- Check for working CXX compiler: /usr/bin/c++ -- works\n",
            "-- Detecting CXX compiler ABI info\n",
            "-- Detecting CXX compiler ABI info - done\n",
            "-- Detecting CXX compile features\n",
            "-- Detecting CXX compile features - done\n",
            "-- Found OpenMP_C: -fopenmp (found version \"4.5\") \n",
            "-- Found OpenMP_CXX: -fopenmp (found version \"4.5\") \n",
            "-- Found OpenMP: TRUE (found version \"4.5\")  \n",
            "-- Compiling with OpenMP support\n",
            "CMake Deprecation Warning at lib/TH/CMakeLists.txt:5 (CMAKE_POLICY):\n",
            "  The OLD behavior for policy CMP0026 will be removed from a future version\n",
            "  of CMake.\n",
            "\n",
            "  The cmake-policies(7) manual explains that the OLD behaviors of all\n",
            "  policies are deprecated and that a policy should be set to OLD only under\n",
            "  specific short-term circumstances.  Projects should be ported to the NEW\n",
            "  behavior and not rely on setting a policy to OLD.\n",
            "\n",
            "\n",
            "-- Found OpenMP_C: -fopenmp (found version \"4.5\") \n",
            "-- Found OpenMP_CXX: -fopenmp (found version \"4.5\") \n",
            "-- Compiling with OpenMP support\n",
            "-- Could not find hardware support for NEON on this machine.\n",
            "-- No OMAP3 processor on this machine.\n",
            "-- No OMAP4 processor on this machine.\n",
            "-- Looking for cpuid.h\n",
            "-- Looking for cpuid.h - found\n",
            "-- Performing Test HAVE_GCC_GET_CPUID\n",
            "-- Performing Test HAVE_GCC_GET_CPUID - Success\n",
            "-- Performing Test NO_GCC_EBX_FPIC_BUG\n",
            "-- Performing Test NO_GCC_EBX_FPIC_BUG - Success\n",
            "-- Performing Test C_HAS_SSE1_1\n",
            "-- Performing Test C_HAS_SSE1_1 - Success\n",
            "-- Performing Test C_HAS_SSE2_1\n",
            "-- Performing Test C_HAS_SSE2_1 - Success\n",
            "-- Performing Test C_HAS_SSE3_1\n",
            "-- Performing Test C_HAS_SSE3_1 - Failed\n",
            "-- Performing Test C_HAS_SSE3_2\n",
            "-- Performing Test C_HAS_SSE3_2 - Success\n",
            "-- Performing Test C_HAS_SSE4_1_1\n",
            "-- Performing Test C_HAS_SSE4_1_1 - Failed\n",
            "-- Performing Test C_HAS_SSE4_1_2\n",
            "-- Performing Test C_HAS_SSE4_1_2 - Success\n",
            "-- Performing Test C_HAS_SSE4_2_1\n",
            "-- Performing Test C_HAS_SSE4_2_1 - Failed\n",
            "-- Performing Test C_HAS_SSE4_2_2\n",
            "-- Performing Test C_HAS_SSE4_2_2 - Success\n",
            "-- Performing Test C_HAS_AVX_1\n",
            "-- Performing Test C_HAS_AVX_1 - Failed\n",
            "-- Performing Test C_HAS_AVX_2\n",
            "-- Performing Test C_HAS_AVX_2 - Success\n",
            "-- Performing Test C_HAS_AVX2_1\n",
            "-- Performing Test C_HAS_AVX2_1 - Failed\n",
            "-- Performing Test C_HAS_AVX2_2\n",
            "-- Performing Test C_HAS_AVX2_2 - Success\n",
            "-- Performing Test CXX_HAS_SSE1_1\n",
            "-- Performing Test CXX_HAS_SSE1_1 - Success\n",
            "-- Performing Test CXX_HAS_SSE2_1\n",
            "-- Performing Test CXX_HAS_SSE2_1 - Success\n",
            "-- Performing Test CXX_HAS_SSE3_1\n",
            "-- Performing Test CXX_HAS_SSE3_1 - Failed\n",
            "-- Performing Test CXX_HAS_SSE3_2\n",
            "-- Performing Test CXX_HAS_SSE3_2 - Success\n",
            "-- Performing Test CXX_HAS_SSE4_1_1\n",
            "-- Performing Test CXX_HAS_SSE4_1_1 - Failed\n",
            "-- Performing Test CXX_HAS_SSE4_1_2\n",
            "-- Performing Test CXX_HAS_SSE4_1_2 - Success\n",
            "-- Performing Test CXX_HAS_SSE4_2_1\n",
            "-- Performing Test CXX_HAS_SSE4_2_1 - Failed\n",
            "-- Performing Test CXX_HAS_SSE4_2_2\n",
            "-- Performing Test CXX_HAS_SSE4_2_2 - Success\n",
            "-- Performing Test CXX_HAS_AVX_1\n",
            "-- Performing Test CXX_HAS_AVX_1 - Failed\n",
            "-- Performing Test CXX_HAS_AVX_2\n",
            "-- Performing Test CXX_HAS_AVX_2 - Success\n",
            "-- Performing Test CXX_HAS_AVX2_1\n",
            "-- Performing Test CXX_HAS_AVX2_1 - Failed\n",
            "-- Performing Test CXX_HAS_AVX2_2\n",
            "-- Performing Test CXX_HAS_AVX2_2 - Success\n",
            "-- SSE2 Found\n",
            "-- SSE3 Found\n",
            "-- AVX Found\n",
            "-- AVX2 Found\n",
            "-- Performing Test HAS_C11_ATOMICS\n",
            "-- Performing Test HAS_C11_ATOMICS - Success\n",
            "-- TH_SO_VERSION: 0\n",
            "-- Atomics: using C11 intrinsics\n",
            "-- Looking for sys/types.h\n",
            "-- Looking for sys/types.h - found\n",
            "-- Looking for stdint.h\n",
            "-- Looking for stdint.h - found\n",
            "-- Looking for stddef.h\n",
            "-- Looking for stddef.h - found\n",
            "-- Check size of void*\n",
            "-- Check size of void* - done\n",
            "-- Checking for [mkl_gf_lp64 - mkl_gnu_thread - mkl_core - iomp5 - pthread - m]\n",
            "--   Library mkl_gf_lp64: /usr/local/lib/libmkl_gf_lp64.so\n",
            "--   Library mkl_gnu_thread: /usr/local/lib/libmkl_gnu_thread.so\n",
            "--   Library mkl_core: /usr/local/lib/libmkl_core.so\n",
            "--   Library iomp5: /usr/local/lib/libiomp5.so\n",
            "--   Library pthread: /usr/lib/x86_64-linux-gnu/libpthread.so\n",
            "--   Library m: /usr/lib/x86_64-linux-gnu/libm.so\n",
            "-- Looking for cblas_sgemm\n",
            "-- Looking for cblas_sgemm - found\n",
            "-- MKL library found\n",
            "-- Performing Test BLAS_F2C_DOUBLE_WORKS\n",
            "-- Performing Test BLAS_F2C_DOUBLE_WORKS - Failed\n",
            "-- Performing Test BLAS_F2C_FLOAT_WORKS\n",
            "-- Performing Test BLAS_F2C_FLOAT_WORKS - Success\n",
            "-- Performing Test BLAS_USE_CBLAS_DOT\n",
            "-- Performing Test BLAS_USE_CBLAS_DOT - Success\n",
            "-- Found a library with BLAS API (mkl).\n",
            "-- Found a library with LAPACK API. (mkl)\n",
            "-- Looking for clock_gettime in rt\n",
            "-- Looking for clock_gettime in rt - found\n",
            "-- Looking for mmap\n",
            "-- Looking for mmap - found\n",
            "-- Looking for shm_open\n",
            "-- Looking for shm_open - found\n",
            "-- Looking for shm_unlink\n",
            "-- Looking for shm_unlink - found\n",
            "-- Looking for malloc_usable_size\n",
            "-- Looking for malloc_usable_size - found\n",
            "-- Performing Test C_HAS_THREAD\n",
            "-- Performing Test C_HAS_THREAD - Success\n",
            "CMake Deprecation Warning at lib/luaT/CMakeLists.txt:3 (CMAKE_POLICY):\n",
            "  The OLD behavior for policy CMP0026 will be removed from a future version\n",
            "  of CMake.\n",
            "\n",
            "  The cmake-policies(7) manual explains that the OLD behaviors of all\n",
            "  policies are deprecated and that a policy should be set to OLD only under\n",
            "  specific short-term circumstances.  Projects should be ported to the NEW\n",
            "  behavior and not rely on setting a policy to OLD.\n",
            "\n",
            "\n",
            "-- Configuring done\n",
            "-- Generating done\n",
            "-- Build files have been written to: /root/torch/pkg/torch/build\n",
            "\u001b[35m\u001b[1mScanning dependencies of target luaT\u001b[0m\n",
            "\u001b[35m\u001b[1mScanning dependencies of target TH\u001b[0m\n",
            "[  2%] \u001b[32mBuilding C object lib/luaT/CMakeFiles/luaT.dir/luaT.c.o\u001b[0m\n",
            "[  5%] \u001b[32mBuilding C object lib/TH/CMakeFiles/TH.dir/THGeneral.c.o\u001b[0m\n",
            "[  7%] \u001b[32mBuilding C object lib/TH/CMakeFiles/TH.dir/THHalf.c.o\u001b[0m\n",
            "[ 10%] \u001b[32mBuilding C object lib/TH/CMakeFiles/TH.dir/THAllocator.c.o\u001b[0m\n",
            "[ 12%] \u001b[32mBuilding C object lib/TH/CMakeFiles/TH.dir/THSize.c.o\u001b[0m\n",
            "[ 15%] \u001b[32m\u001b[1mLinking C shared library libluaT.so\u001b[0m\n",
            "[ 17%] \u001b[32mBuilding C object lib/TH/CMakeFiles/TH.dir/THStorage.c.o\u001b[0m\n",
            "[ 17%] Built target luaT\n",
            "[ 20%] \u001b[32mBuilding C object lib/TH/CMakeFiles/TH.dir/THTensor.c.o\u001b[0m\n",
            "[ 23%] \u001b[32mBuilding C object lib/TH/CMakeFiles/TH.dir/THBlas.c.o\u001b[0m\n",
            "[ 25%] \u001b[32mBuilding C object lib/TH/CMakeFiles/TH.dir/THLapack.c.o\u001b[0m\n",
            "[ 28%] \u001b[32mBuilding C object lib/TH/CMakeFiles/TH.dir/THLogAdd.c.o\u001b[0m\n",
            "[ 30%] \u001b[32mBuilding C object lib/TH/CMakeFiles/TH.dir/THRandom.c.o\u001b[0m\n",
            "[ 33%] \u001b[32mBuilding C object lib/TH/CMakeFiles/TH.dir/THFile.c.o\u001b[0m\n",
            "[ 35%] \u001b[32mBuilding C object lib/TH/CMakeFiles/TH.dir/THDiskFile.c.o\u001b[0m\n",
            "[ 38%] \u001b[32mBuilding C object lib/TH/CMakeFiles/TH.dir/THMemoryFile.c.o\u001b[0m\n",
            "[ 41%] \u001b[32mBuilding C object lib/TH/CMakeFiles/TH.dir/THAtomic.c.o\u001b[0m\n",
            "[ 43%] \u001b[32mBuilding C object lib/TH/CMakeFiles/TH.dir/THVector.c.o\u001b[0m\n",
            "[ 46%] \u001b[32mBuilding C object lib/TH/CMakeFiles/TH.dir/generic/simd/convolve.c.o\u001b[0m\n",
            "[ 48%] \u001b[32mBuilding C object lib/TH/CMakeFiles/TH.dir/generic/simd/convolve5x5_sse.c.o\u001b[0m\n",
            "[ 51%] \u001b[32mBuilding C object lib/TH/CMakeFiles/TH.dir/vector/AVX.c.o\u001b[0m\n",
            "[ 53%] \u001b[32mBuilding C object lib/TH/CMakeFiles/TH.dir/generic/simd/convolve5x5_avx.c.o\u001b[0m\n",
            "[ 56%] \u001b[32mBuilding C object lib/TH/CMakeFiles/TH.dir/vector/AVX2.c.o\u001b[0m\n",
            "[ 58%] \u001b[32m\u001b[1mLinking C shared library libTH.so\u001b[0m\n",
            "[ 58%] Built target TH\n",
            "[ 64%] \u001b[34m\u001b[1mGenerating random.c\u001b[0m\n",
            "[ 64%] \u001b[34m\u001b[1mGenerating TensorMath.c\u001b[0m\n",
            "\u001b[35m\u001b[1mScanning dependencies of target torch\u001b[0m\n",
            "[ 69%] \u001b[32mBuilding C object CMakeFiles/torch.dir/File.c.o\u001b[0m\n",
            "[ 69%] \u001b[32mBuilding C object CMakeFiles/torch.dir/DiskFile.c.o\u001b[0m\n",
            "[ 71%] \u001b[32mBuilding C object CMakeFiles/torch.dir/MemoryFile.c.o\u001b[0m\n",
            "[ 74%] \u001b[32mBuilding C object CMakeFiles/torch.dir/PipeFile.c.o\u001b[0m\n",
            "[ 76%] \u001b[32mBuilding C object CMakeFiles/torch.dir/Storage.c.o\u001b[0m\n",
            "[ 79%] \u001b[32mBuilding C object CMakeFiles/torch.dir/Tensor.c.o\u001b[0m\n",
            "[ 82%] \u001b[32mBuilding C object CMakeFiles/torch.dir/Timer.c.o\u001b[0m\n",
            "[ 84%] \u001b[32mBuilding C object CMakeFiles/torch.dir/utils.c.o\u001b[0m\n",
            "[ 87%] \u001b[32mBuilding C object CMakeFiles/torch.dir/init.c.o\u001b[0m\n",
            "[ 89%] \u001b[32mBuilding C object CMakeFiles/torch.dir/TensorOperator.c.o\u001b[0m\n",
            "[ 92%] \u001b[32mBuilding C object CMakeFiles/torch.dir/TensorMath.c.o\u001b[0m\n",
            "[ 94%] \u001b[32mBuilding C object CMakeFiles/torch.dir/random.c.o\u001b[0m\n",
            "[ 97%] \u001b[32mBuilding C object CMakeFiles/torch.dir/Generator.c.o\u001b[0m\n",
            "[100%] \u001b[32m\u001b[1mLinking C shared module libtorch.so\u001b[0m\n",
            "[100%] Built target torch\n",
            "cd build && make install\n",
            "[  5%] Built target luaT\n",
            "[ 58%] Built target TH\n",
            "[100%] Built target torch\n",
            "\u001b[36mInstall the project...\u001b[0m\n",
            "-- Install configuration: \"Release\"\n",
            "-- Installing: /root/torch/install/share/cmake/torch/TorchExports.cmake\n",
            "-- Installing: /root/torch/install/share/cmake/torch/TorchExports-release.cmake\n",
            "-- Installing: /root/torch/install/share/cmake/torch/TorchConfig.cmake\n",
            "-- Installing: /root/torch/install/share/cmake/torch/TorchWrap.cmake\n",
            "-- Installing: /root/torch/install/share/cmake/torch/TorchPathsInit.cmake\n",
            "-- Installing: /root/torch/install/share/cmake/torch/TorchPackage.cmake\n",
            "-- Installing: /root/torch/install/lib/luarocks/rocks/torch/scm-1/lib/libtorch.so\n",
            "-- Set runtime path of \"/root/torch/install/lib/luarocks/rocks/torch/scm-1/lib/libtorch.so\" to \"$ORIGIN/../lib:/root/torch/install/lib:/usr/local/lib\"\n",
            "-- Installing: /root/torch/install/lib/luarocks/rocks/torch/scm-1/lua/torch/init.lua\n",
            "-- Installing: /root/torch/install/lib/luarocks/rocks/torch/scm-1/lua/torch/File.lua\n",
            "-- Installing: /root/torch/install/lib/luarocks/rocks/torch/scm-1/lua/torch/Tensor.lua\n",
            "-- Installing: /root/torch/install/lib/luarocks/rocks/torch/scm-1/lua/torch/CmdLine.lua\n",
            "-- Installing: /root/torch/install/lib/luarocks/rocks/torch/scm-1/lua/torch/FFInterface.lua\n",
            "-- Installing: /root/torch/install/lib/luarocks/rocks/torch/scm-1/lua/torch/Tester.lua\n",
            "-- Installing: /root/torch/install/lib/luarocks/rocks/torch/scm-1/lua/torch/TestSuite.lua\n",
            "-- Installing: /root/torch/install/lib/luarocks/rocks/torch/scm-1/lua/torch/paths.lua\n",
            "-- Installing: /root/torch/install/lib/luarocks/rocks/torch/scm-1/lua/torch/test.lua\n",
            "-- Installing: /root/torch/install/lib/luarocks/rocks/torch/scm-1/lua/torch/README.md\n",
            "-- Installing: /root/torch/install/lib/luarocks/rocks/torch/scm-1/lua/torch/doc\n",
            "-- Installing: /root/torch/install/lib/luarocks/rocks/torch/scm-1/lua/torch/doc/storage.md\n",
            "-- Installing: /root/torch/install/lib/luarocks/rocks/torch/scm-1/lua/torch/doc/tensor.md\n",
            "-- Installing: /root/torch/install/lib/luarocks/rocks/torch/scm-1/lua/torch/doc/file.md\n",
            "-- Installing: /root/torch/install/lib/luarocks/rocks/torch/scm-1/lua/torch/doc/pipefile.md\n",
            "-- Installing: /root/torch/install/lib/luarocks/rocks/torch/scm-1/lua/torch/doc/serialization.md\n",
            "-- Installing: /root/torch/install/lib/luarocks/rocks/torch/scm-1/lua/torch/doc/gather.png\n",
            "-- Installing: /root/torch/install/lib/luarocks/rocks/torch/scm-1/lua/torch/doc/cmdline.md\n",
            "-- Installing: /root/torch/install/lib/luarocks/rocks/torch/scm-1/lua/torch/doc/utility.md\n",
            "-- Installing: /root/torch/install/lib/luarocks/rocks/torch/scm-1/lua/torch/doc/index.md\n",
            "-- Installing: /root/torch/install/lib/luarocks/rocks/torch/scm-1/lua/torch/doc/memoryfile.md\n",
            "-- Installing: /root/torch/install/lib/luarocks/rocks/torch/scm-1/lua/torch/doc/tester.md\n",
            "-- Installing: /root/torch/install/lib/luarocks/rocks/torch/scm-1/lua/torch/doc/diskfile.md\n",
            "-- Installing: /root/torch/install/lib/luarocks/rocks/torch/scm-1/lua/torch/doc/timer.md\n",
            "-- Installing: /root/torch/install/lib/luarocks/rocks/torch/scm-1/lua/torch/doc/random.md\n",
            "-- Installing: /root/torch/install/lib/luarocks/rocks/torch/scm-1/lua/torch/doc/maths.md\n",
            "-- Installing: /root/torch/install/lib/libTH.so.0\n",
            "-- Set runtime path of \"/root/torch/install/lib/libTH.so.0\" to \"$ORIGIN/../lib:/usr/local/lib\"\n",
            "-- Installing: /root/torch/install/lib/libTH.so\n",
            "-- Installing: /root/torch/install/include/TH/TH.h\n",
            "-- Installing: /root/torch/install/include/TH/THAllocator.h\n",
            "-- Installing: /root/torch/install/include/TH/THMath.h\n",
            "-- Installing: /root/torch/install/include/TH/THBlas.h\n",
            "-- Installing: /root/torch/install/include/TH/THDiskFile.h\n",
            "-- Installing: /root/torch/install/include/TH/THFile.h\n",
            "-- Installing: /root/torch/install/include/TH/THFilePrivate.h\n",
            "-- Installing: /root/torch/install/include/TH/THGeneral.h\n",
            "-- Installing: /root/torch/install/include/TH/THGenerateAllTypes.h\n",
            "-- Installing: /root/torch/install/include/TH/THGenerateDoubleType.h\n",
            "-- Installing: /root/torch/install/include/TH/THGenerateFloatType.h\n",
            "-- Installing: /root/torch/install/include/TH/THGenerateHalfType.h\n",
            "-- Installing: /root/torch/install/include/TH/THGenerateLongType.h\n",
            "-- Installing: /root/torch/install/include/TH/THGenerateIntType.h\n",
            "-- Installing: /root/torch/install/include/TH/THGenerateShortType.h\n",
            "-- Installing: /root/torch/install/include/TH/THGenerateCharType.h\n",
            "-- Installing: /root/torch/install/include/TH/THGenerateByteType.h\n",
            "-- Installing: /root/torch/install/include/TH/THGenerateFloatTypes.h\n",
            "-- Installing: /root/torch/install/include/TH/THGenerateIntTypes.h\n",
            "-- Installing: /root/torch/install/include/TH/THLapack.h\n",
            "-- Installing: /root/torch/install/include/TH/THLogAdd.h\n",
            "-- Installing: /root/torch/install/include/TH/THMemoryFile.h\n",
            "-- Installing: /root/torch/install/include/TH/THRandom.h\n",
            "-- Installing: /root/torch/install/include/TH/THSize.h\n",
            "-- Installing: /root/torch/install/include/TH/THStorage.h\n",
            "-- Installing: /root/torch/install/include/TH/THTensor.h\n",
            "-- Installing: /root/torch/install/include/TH/THTensorApply.h\n",
            "-- Installing: /root/torch/install/include/TH/THTensorDimApply.h\n",
            "-- Installing: /root/torch/install/include/TH/THTensorMacros.h\n",
            "-- Installing: /root/torch/install/include/TH/THVector.h\n",
            "-- Installing: /root/torch/install/include/TH/THAtomic.h\n",
            "-- Installing: /root/torch/install/include/TH/THHalf.h\n",
            "-- Installing: /root/torch/install/include/TH/vector/AVX.h\n",
            "-- Installing: /root/torch/install/include/TH/vector/AVX2.h\n",
            "-- Installing: /root/torch/install/include/TH/generic/THBlas.c\n",
            "-- Installing: /root/torch/install/include/TH/generic/THBlas.h\n",
            "-- Installing: /root/torch/install/include/TH/generic/THLapack.c\n",
            "-- Installing: /root/torch/install/include/TH/generic/THLapack.h\n",
            "-- Installing: /root/torch/install/include/TH/generic/THStorage.c\n",
            "-- Installing: /root/torch/install/include/TH/generic/THStorage.h\n",
            "-- Installing: /root/torch/install/include/TH/generic/THStorageCopy.c\n",
            "-- Installing: /root/torch/install/include/TH/generic/THStorageCopy.h\n",
            "-- Installing: /root/torch/install/include/TH/generic/THTensor.c\n",
            "-- Installing: /root/torch/install/include/TH/generic/THTensor.h\n",
            "-- Installing: /root/torch/install/include/TH/generic/THTensorConv.c\n",
            "-- Installing: /root/torch/install/include/TH/generic/THTensorConv.h\n",
            "-- Installing: /root/torch/install/include/TH/generic/THTensorCopy.c\n",
            "-- Installing: /root/torch/install/include/TH/generic/THTensorCopy.h\n",
            "-- Installing: /root/torch/install/include/TH/generic/THTensorLapack.c\n",
            "-- Installing: /root/torch/install/include/TH/generic/THTensorLapack.h\n",
            "-- Installing: /root/torch/install/include/TH/generic/THTensorMath.c\n",
            "-- Installing: /root/torch/install/include/TH/generic/THTensorMath.h\n",
            "-- Installing: /root/torch/install/include/TH/generic/THTensorRandom.c\n",
            "-- Installing: /root/torch/install/include/TH/generic/THTensorRandom.h\n",
            "-- Installing: /root/torch/install/include/TH/generic/THVectorDispatch.c\n",
            "-- Installing: /root/torch/install/include/TH/generic/THVector.h\n",
            "-- Installing: /root/torch/install/share/cmake/torch/THConfig.cmake\n",
            "-- Installing: /root/torch/install/lib/libluaT.so.0\n",
            "-- Set runtime path of \"/root/torch/install/lib/libluaT.so.0\" to \"$ORIGIN/../lib\"\n",
            "-- Installing: /root/torch/install/lib/libluaT.so\n",
            "-- Installing: /root/torch/install/include/luaT.h\n",
            "-- Installing: /root/torch/install/share/cmake/torch/luaTConfig.cmake\n",
            "Updating manifest for /root/torch/install/lib/luarocks/rocks\n",
            "torch scm-1 is now built and installed in /root/torch/install/ (license: BSD)\n",
            "\n",
            "Updating manifest for /root/torch/install/lib/luarocks/rocks\n",
            "dok scm-1 is now built and installed in /root/torch/install/ (license: BSD)\n",
            "\n",
            "gcc -O2 -fPIC -I/root/torch/install/include -c utils.c -o utils.o\n",
            "gcc -shared -o treplutils.so -L/root/torch/install/lib utils.o\n",
            "gcc -O2 -fPIC -I/root/torch/install/include -c readline.c -o readline.o\n",
            "gcc -shared -o readline.so -L/root/torch/install/lib readline.o -lreadline\n",
            "Updating manifest for /root/torch/install/lib/luarocks/rocks\n",
            "trepl scm-1 is now built and installed in /root/torch/install/ (license: BSD)\n",
            "\n",
            "Warning: unmatched variable LUALIB\n",
            "cmake -E make_directory build && cd build && cmake .. -DLUALIB= -DCMAKE_BUILD_TYPE=Release  -DCMAKE_INSTALL_PREFIX=\"/root/torch/install/lib/luarocks/rocks/sys/1.1-0\" && make\n",
            "-- The C compiler identification is GNU 7.4.0\n",
            "-- The CXX compiler identification is GNU 7.4.0\n",
            "-- Check for working C compiler: /usr/bin/cc\n",
            "-- Check for working C compiler: /usr/bin/cc -- works\n",
            "-- Detecting C compiler ABI info\n",
            "-- Detecting C compiler ABI info - done\n",
            "-- Detecting C compile features\n",
            "-- Detecting C compile features - done\n",
            "-- Check for working CXX compiler: /usr/bin/c++\n",
            "-- Check for working CXX compiler: /usr/bin/c++ -- works\n",
            "-- Detecting CXX compiler ABI info\n",
            "-- Detecting CXX compiler ABI info - done\n",
            "-- Detecting CXX compile features\n",
            "-- Detecting CXX compile features - done\n",
            "-- Found Torch7 in /root/torch/install\n",
            "-- Configuring done\n",
            "-- Generating done\n",
            "-- Build files have been written to: /root/torch/pkg/sys/build\n",
            "\u001b[35m\u001b[1mScanning dependencies of target sys\u001b[0m\n",
            "[ 50%] \u001b[32mBuilding C object CMakeFiles/sys.dir/sys.c.o\u001b[0m\n",
            "[100%] \u001b[32m\u001b[1mLinking C shared module libsys.so\u001b[0m\n",
            "[100%] Built target sys\n",
            "cd build && make install\n",
            "[100%] Built target sys\n",
            "\u001b[36mInstall the project...\u001b[0m\n",
            "-- Install configuration: \"Release\"\n",
            "-- Installing: /root/torch/install/lib/luarocks/rocks/sys/1.1-0/lib/libsys.so\n",
            "-- Set runtime path of \"/root/torch/install/lib/luarocks/rocks/sys/1.1-0/lib/libsys.so\" to \"$ORIGIN/../lib:/root/torch/install/lib:/usr/local/lib\"\n",
            "-- Installing: /root/torch/install/lib/luarocks/rocks/sys/1.1-0/lua/sys/init.lua\n",
            "-- Installing: /root/torch/install/lib/luarocks/rocks/sys/1.1-0/lua/sys/colors.lua\n",
            "-- Installing: /root/torch/install/lib/luarocks/rocks/sys/1.1-0/lua/sys/fpath.lua\n",
            "Updating manifest for /root/torch/install/lib/luarocks/rocks\n",
            "sys 1.1-0 is now built and installed in /root/torch/install/ (license: BSD)\n",
            "\n",
            "Updating manifest for /root/torch/install/lib/luarocks/rocks\n",
            "xlua 1.0-0 is now built and installed in /root/torch/install/ (license: BSD)\n",
            "\n",
            "Updating manifest for /root/torch/install/lib/luarocks/rocks\n",
            "moses 1.6.1-1 is now built and installed in /root/torch/install/ (license: MIT <http://www.opensource.org/licenses/mit-license.php>)\n",
            "\n",
            "cmake -E make_directory build && cd build && cmake .. -DCMAKE_BUILD_TYPE=Release -DCMAKE_PREFIX_PATH=\"/root/torch/install/bin/..\" -DCMAKE_INSTALL_PREFIX=\"/root/torch/install/lib/luarocks/rocks/nn/scm-1\"  -DLUA_INCDIR=\"/root/torch/install/include\" -DLUA_LIBDIR=\"/root/torch/install/lib\" && make\n",
            "\n",
            "-- The C compiler identification is GNU 7.4.0\n",
            "-- The CXX compiler identification is GNU 7.4.0\n",
            "-- Check for working C compiler: /usr/bin/cc\n",
            "-- Check for working C compiler: /usr/bin/cc -- works\n",
            "-- Detecting C compiler ABI info\n",
            "-- Detecting C compiler ABI info - done\n",
            "-- Detecting C compile features\n",
            "-- Detecting C compile features - done\n",
            "-- Check for working CXX compiler: /usr/bin/c++\n",
            "-- Check for working CXX compiler: /usr/bin/c++ -- works\n",
            "-- Detecting CXX compiler ABI info\n",
            "-- Detecting CXX compiler ABI info - done\n",
            "-- Detecting CXX compile features\n",
            "-- Detecting CXX compile features - done\n",
            "-- Found Torch7 in /root/torch/install\n",
            "-- TH_LIBRARIES: TH\n",
            "-- Found OpenMP_C: -fopenmp (found version \"4.5\") \n",
            "-- Found OpenMP_CXX: -fopenmp (found version \"4.5\") \n",
            "-- Found OpenMP: TRUE (found version \"4.5\")  \n",
            "-- Compiling with OpenMP support\n",
            "-- Configuring done\n",
            "-- Generating done\n",
            "CMake Warning:\n",
            "  Manually-specified variables were not used by the project:\n",
            "\n",
            "    LUA_INCDIR\n",
            "    LUA_LIBDIR\n",
            "\n",
            "\n",
            "-- Build files have been written to: /root/torch/extra/nn/build\n",
            "\u001b[35m\u001b[1mScanning dependencies of target THNN\u001b[0m\n",
            "[ 50%] \u001b[32mBuilding C object lib/THNN/CMakeFiles/THNN.dir/init.c.o\u001b[0m\n",
            "[100%] \u001b[32m\u001b[1mLinking C shared module libTHNN.so\u001b[0m\n",
            "[100%] Built target THNN\n",
            "cd build && make install\n",
            "[100%] Built target THNN\n",
            "\u001b[36mInstall the project...\u001b[0m\n",
            "-- Install configuration: \"Release\"\n",
            "-- Installing: /root/torch/install/lib/luarocks/rocks/nn/scm-1/lua/nn/Abs.lua\n",
            "-- Installing: /root/torch/install/lib/luarocks/rocks/nn/scm-1/lua/nn/AbsCriterion.lua\n",
            "-- Installing: /root/torch/install/lib/luarocks/rocks/nn/scm-1/lua/nn/Add.lua\n",
            "-- Installing: /root/torch/install/lib/luarocks/rocks/nn/scm-1/lua/nn/AddConstant.lua\n",
            "-- Installing: /root/torch/install/lib/luarocks/rocks/nn/scm-1/lua/nn/BCECriterion.lua\n",
            "-- Installing: /root/torch/install/lib/luarocks/rocks/nn/scm-1/lua/nn/BatchNormalization.lua\n",
            "-- Installing: /root/torch/install/lib/luarocks/rocks/nn/scm-1/lua/nn/Bilinear.lua\n",
            "-- Installing: /root/torch/install/lib/luarocks/rocks/nn/scm-1/lua/nn/Bottle.lua\n",
            "-- Installing: /root/torch/install/lib/luarocks/rocks/nn/scm-1/lua/nn/CAdd.lua\n",
            "-- Installing: /root/torch/install/lib/luarocks/rocks/nn/scm-1/lua/nn/CAddTable.lua\n",
            "-- Installing: /root/torch/install/lib/luarocks/rocks/nn/scm-1/lua/nn/CAddTensorTable.lua\n",
            "-- Installing: /root/torch/install/lib/luarocks/rocks/nn/scm-1/lua/nn/CDivTable.lua\n",
            "-- Installing: /root/torch/install/lib/luarocks/rocks/nn/scm-1/lua/nn/CMaxTable.lua\n",
            "-- Installing: /root/torch/install/lib/luarocks/rocks/nn/scm-1/lua/nn/CMinTable.lua\n",
            "-- Installing: /root/torch/install/lib/luarocks/rocks/nn/scm-1/lua/nn/CMul.lua\n",
            "-- Installing: /root/torch/install/lib/luarocks/rocks/nn/scm-1/lua/nn/CMulTable.lua\n",
            "-- Installing: /root/torch/install/lib/luarocks/rocks/nn/scm-1/lua/nn/CReLU.lua\n",
            "-- Installing: /root/torch/install/lib/luarocks/rocks/nn/scm-1/lua/nn/CSubTable.lua\n",
            "-- Installing: /root/torch/install/lib/luarocks/rocks/nn/scm-1/lua/nn/Clamp.lua\n",
            "-- Installing: /root/torch/install/lib/luarocks/rocks/nn/scm-1/lua/nn/ClassNLLCriterion.lua\n",
            "-- Installing: /root/torch/install/lib/luarocks/rocks/nn/scm-1/lua/nn/ClassSimplexCriterion.lua\n",
            "-- Installing: /root/torch/install/lib/luarocks/rocks/nn/scm-1/lua/nn/Collapse.lua\n",
            "-- Installing: /root/torch/install/lib/luarocks/rocks/nn/scm-1/lua/nn/Concat.lua\n",
            "-- Installing: /root/torch/install/lib/luarocks/rocks/nn/scm-1/lua/nn/ConcatTable.lua\n",
            "-- Installing: /root/torch/install/lib/luarocks/rocks/nn/scm-1/lua/nn/Constant.lua\n",
            "-- Installing: /root/torch/install/lib/luarocks/rocks/nn/scm-1/lua/nn/Container.lua\n",
            "-- Installing: /root/torch/install/lib/luarocks/rocks/nn/scm-1/lua/nn/Contiguous.lua\n",
            "-- Installing: /root/torch/install/lib/luarocks/rocks/nn/scm-1/lua/nn/Convert.lua\n",
            "-- Installing: /root/torch/install/lib/luarocks/rocks/nn/scm-1/lua/nn/Copy.lua\n",
            "-- Installing: /root/torch/install/lib/luarocks/rocks/nn/scm-1/lua/nn/Cosine.lua\n",
            "-- Installing: /root/torch/install/lib/luarocks/rocks/nn/scm-1/lua/nn/CosineDistance.lua\n",
            "-- Installing: /root/torch/install/lib/luarocks/rocks/nn/scm-1/lua/nn/CosineEmbeddingCriterion.lua\n",
            "-- Installing: /root/torch/install/lib/luarocks/rocks/nn/scm-1/lua/nn/Criterion.lua\n",
            "-- Installing: /root/torch/install/lib/luarocks/rocks/nn/scm-1/lua/nn/CriterionTable.lua\n",
            "-- Installing: /root/torch/install/lib/luarocks/rocks/nn/scm-1/lua/nn/CrossEntropyCriterion.lua\n",
            "-- Installing: /root/torch/install/lib/luarocks/rocks/nn/scm-1/lua/nn/Decorator.lua\n",
            "-- Installing: /root/torch/install/lib/luarocks/rocks/nn/scm-1/lua/nn/DepthConcat.lua\n",
            "-- Installing: /root/torch/install/lib/luarocks/rocks/nn/scm-1/lua/nn/DistKLDivCriterion.lua\n",
            "-- Installing: /root/torch/install/lib/luarocks/rocks/nn/scm-1/lua/nn/DistanceRatioCriterion.lua\n",
            "-- Installing: /root/torch/install/lib/luarocks/rocks/nn/scm-1/lua/nn/DontCast.lua\n",
            "-- Installing: /root/torch/install/lib/luarocks/rocks/nn/scm-1/lua/nn/DotProduct.lua\n",
            "-- Installing: /root/torch/install/lib/luarocks/rocks/nn/scm-1/lua/nn/Dropout.lua\n",
            "-- Installing: /root/torch/install/lib/luarocks/rocks/nn/scm-1/lua/nn/ELU.lua\n",
            "-- Installing: /root/torch/install/lib/luarocks/rocks/nn/scm-1/lua/nn/ErrorMessages.lua\n",
            "-- Installing: /root/torch/install/lib/luarocks/rocks/nn/scm-1/lua/nn/Euclidean.lua\n",
            "-- Installing: /root/torch/install/lib/luarocks/rocks/nn/scm-1/lua/nn/Exp.lua\n",
            "-- Installing: /root/torch/install/lib/luarocks/rocks/nn/scm-1/lua/nn/FlattenTable.lua\n",
            "-- Installing: /root/torch/install/lib/luarocks/rocks/nn/scm-1/lua/nn/GPU.lua\n",
            "-- Installing: /root/torch/install/lib/luarocks/rocks/nn/scm-1/lua/nn/GatedLinearUnit.lua\n",
            "-- Installing: /root/torch/install/lib/luarocks/rocks/nn/scm-1/lua/nn/GradientReversal.lua\n",
            "-- Installing: /root/torch/install/lib/luarocks/rocks/nn/scm-1/lua/nn/HardShrink.lua\n",
            "-- Installing: /root/torch/install/lib/luarocks/rocks/nn/scm-1/lua/nn/HardTanh.lua\n",
            "-- Installing: /root/torch/install/lib/luarocks/rocks/nn/scm-1/lua/nn/HingeEmbeddingCriterion.lua\n",
            "-- Installing: /root/torch/install/lib/luarocks/rocks/nn/scm-1/lua/nn/Identity.lua\n",
            "-- Installing: /root/torch/install/lib/luarocks/rocks/nn/scm-1/lua/nn/Index.lua\n",
            "-- Installing: /root/torch/install/lib/luarocks/rocks/nn/scm-1/lua/nn/IndexLinear.lua\n",
            "-- Installing: /root/torch/install/lib/luarocks/rocks/nn/scm-1/lua/nn/Jacobian.lua\n",
            "-- Installing: /root/torch/install/lib/luarocks/rocks/nn/scm-1/lua/nn/JoinTable.lua\n",
            "-- Installing: /root/torch/install/lib/luarocks/rocks/nn/scm-1/lua/nn/Kmeans.lua\n",
            "-- Installing: /root/torch/install/lib/luarocks/rocks/nn/scm-1/lua/nn/L1Cost.lua\n",
            "-- Installing: /root/torch/install/lib/luarocks/rocks/nn/scm-1/lua/nn/L1HingeEmbeddingCriterion.lua\n",
            "-- Installing: /root/torch/install/lib/luarocks/rocks/nn/scm-1/lua/nn/L1Penalty.lua\n",
            "-- Installing: /root/torch/install/lib/luarocks/rocks/nn/scm-1/lua/nn/LayerNormalization.lua\n",
            "-- Installing: /root/torch/install/lib/luarocks/rocks/nn/scm-1/lua/nn/LeakyReLU.lua\n",
            "-- Installing: /root/torch/install/lib/luarocks/rocks/nn/scm-1/lua/nn/Linear.lua\n",
            "-- Installing: /root/torch/install/lib/luarocks/rocks/nn/scm-1/lua/nn/LinearWeightNorm.lua\n",
            "-- Installing: /root/torch/install/lib/luarocks/rocks/nn/scm-1/lua/nn/Log.lua\n",
            "-- Installing: /root/torch/install/lib/luarocks/rocks/nn/scm-1/lua/nn/LogSigmoid.lua\n",
            "-- Installing: /root/torch/install/lib/luarocks/rocks/nn/scm-1/lua/nn/LogSoftMax.lua\n",
            "-- Installing: /root/torch/install/lib/luarocks/rocks/nn/scm-1/lua/nn/LookupTable.lua\n",
            "-- Installing: /root/torch/install/lib/luarocks/rocks/nn/scm-1/lua/nn/MM.lua\n",
            "-- Installing: /root/torch/install/lib/luarocks/rocks/nn/scm-1/lua/nn/MSECriterion.lua\n",
            "-- Installing: /root/torch/install/lib/luarocks/rocks/nn/scm-1/lua/nn/MV.lua\n",
            "-- Installing: /root/torch/install/lib/luarocks/rocks/nn/scm-1/lua/nn/MapTable.lua\n",
            "-- Installing: /root/torch/install/lib/luarocks/rocks/nn/scm-1/lua/nn/MarginCriterion.lua\n",
            "-- Installing: /root/torch/install/lib/luarocks/rocks/nn/scm-1/lua/nn/MarginRankingCriterion.lua\n",
            "-- Installing: /root/torch/install/lib/luarocks/rocks/nn/scm-1/lua/nn/MaskedSelect.lua\n",
            "-- Installing: /root/torch/install/lib/luarocks/rocks/nn/scm-1/lua/nn/Max.lua\n",
            "-- Installing: /root/torch/install/lib/luarocks/rocks/nn/scm-1/lua/nn/Maxout.lua\n",
            "-- Installing: /root/torch/install/lib/luarocks/rocks/nn/scm-1/lua/nn/Mean.lua\n",
            "-- Installing: /root/torch/install/lib/luarocks/rocks/nn/scm-1/lua/nn/Min.lua\n",
            "-- Installing: /root/torch/install/lib/luarocks/rocks/nn/scm-1/lua/nn/MixtureTable.lua\n",
            "-- Installing: /root/torch/install/lib/luarocks/rocks/nn/scm-1/lua/nn/Module.lua\n",
            "-- Installing: /root/torch/install/lib/luarocks/rocks/nn/scm-1/lua/nn/ModuleCriterion.lua\n",
            "-- Installing: /root/torch/install/lib/luarocks/rocks/nn/scm-1/lua/nn/Mul.lua\n",
            "-- Installing: /root/torch/install/lib/luarocks/rocks/nn/scm-1/lua/nn/MulConstant.lua\n",
            "-- Installing: /root/torch/install/lib/luarocks/rocks/nn/scm-1/lua/nn/MultiCriterion.lua\n",
            "-- Installing: /root/torch/install/lib/luarocks/rocks/nn/scm-1/lua/nn/MultiLabelMarginCriterion.lua\n",
            "-- Installing: /root/torch/install/lib/luarocks/rocks/nn/scm-1/lua/nn/MultiLabelSoftMarginCriterion.lua\n",
            "-- Installing: /root/torch/install/lib/luarocks/rocks/nn/scm-1/lua/nn/MultiMarginCriterion.lua\n",
            "-- Installing: /root/torch/install/lib/luarocks/rocks/nn/scm-1/lua/nn/NaN.lua\n",
            "-- Installing: /root/torch/install/lib/luarocks/rocks/nn/scm-1/lua/nn/Narrow.lua\n",
            "-- Installing: /root/torch/install/lib/luarocks/rocks/nn/scm-1/lua/nn/NarrowTable.lua\n",
            "-- Installing: /root/torch/install/lib/luarocks/rocks/nn/scm-1/lua/nn/Normalize.lua\n",
            "-- Installing: /root/torch/install/lib/luarocks/rocks/nn/scm-1/lua/nn/OneHot.lua\n",
            "-- Installing: /root/torch/install/lib/luarocks/rocks/nn/scm-1/lua/nn/PReLU.lua\n",
            "-- Installing: /root/torch/install/lib/luarocks/rocks/nn/scm-1/lua/nn/Padding.lua\n",
            "-- Installing: /root/torch/install/lib/luarocks/rocks/nn/scm-1/lua/nn/PairwiseDistance.lua\n",
            "-- Installing: /root/torch/install/lib/luarocks/rocks/nn/scm-1/lua/nn/Parallel.lua\n",
            "-- Installing: /root/torch/install/lib/luarocks/rocks/nn/scm-1/lua/nn/ParallelCriterion.lua\n",
            "-- Installing: /root/torch/install/lib/luarocks/rocks/nn/scm-1/lua/nn/ParallelTable.lua\n",
            "-- Installing: /root/torch/install/lib/luarocks/rocks/nn/scm-1/lua/nn/PartialLinear.lua\n",
            "-- Installing: /root/torch/install/lib/luarocks/rocks/nn/scm-1/lua/nn/PixelShuffle.lua\n",
            "-- Installing: /root/torch/install/lib/luarocks/rocks/nn/scm-1/lua/nn/Power.lua\n",
            "-- Installing: /root/torch/install/lib/luarocks/rocks/nn/scm-1/lua/nn/PrintSize.lua\n",
            "-- Installing: /root/torch/install/lib/luarocks/rocks/nn/scm-1/lua/nn/Profile.lua\n",
            "-- Installing: /root/torch/install/lib/luarocks/rocks/nn/scm-1/lua/nn/RReLU.lua\n",
            "-- Installing: /root/torch/install/lib/luarocks/rocks/nn/scm-1/lua/nn/ReLU.lua\n",
            "-- Installing: /root/torch/install/lib/luarocks/rocks/nn/scm-1/lua/nn/ReLU6.lua\n",
            "-- Installing: /root/torch/install/lib/luarocks/rocks/nn/scm-1/lua/nn/Replicate.lua\n",
            "-- Installing: /root/torch/install/lib/luarocks/rocks/nn/scm-1/lua/nn/Reshape.lua\n",
            "-- Installing: /root/torch/install/lib/luarocks/rocks/nn/scm-1/lua/nn/Select.lua\n",
            "-- Installing: /root/torch/install/lib/luarocks/rocks/nn/scm-1/lua/nn/SelectTable.lua\n",
            "-- Installing: /root/torch/install/lib/luarocks/rocks/nn/scm-1/lua/nn/Sequential.lua\n",
            "-- Installing: /root/torch/install/lib/luarocks/rocks/nn/scm-1/lua/nn/Sigmoid.lua\n",
            "-- Installing: /root/torch/install/lib/luarocks/rocks/nn/scm-1/lua/nn/SmoothL1Criterion.lua\n",
            "-- Installing: /root/torch/install/lib/luarocks/rocks/nn/scm-1/lua/nn/SoftMarginCriterion.lua\n",
            "-- Installing: /root/torch/install/lib/luarocks/rocks/nn/scm-1/lua/nn/SoftMax.lua\n",
            "-- Installing: /root/torch/install/lib/luarocks/rocks/nn/scm-1/lua/nn/SoftMin.lua\n",
            "-- Installing: /root/torch/install/lib/luarocks/rocks/nn/scm-1/lua/nn/SoftPlus.lua\n",
            "-- Installing: /root/torch/install/lib/luarocks/rocks/nn/scm-1/lua/nn/SoftShrink.lua\n",
            "-- Installing: /root/torch/install/lib/luarocks/rocks/nn/scm-1/lua/nn/SoftSign.lua\n",
            "-- Installing: /root/torch/install/lib/luarocks/rocks/nn/scm-1/lua/nn/SparseJacobian.lua\n",
            "-- Installing: /root/torch/install/lib/luarocks/rocks/nn/scm-1/lua/nn/SparseLinear.lua\n",
            "-- Installing: /root/torch/install/lib/luarocks/rocks/nn/scm-1/lua/nn/SpatialAdaptiveAveragePooling.lua\n",
            "-- Installing: /root/torch/install/lib/luarocks/rocks/nn/scm-1/lua/nn/SpatialAdaptiveMaxPooling.lua\n",
            "-- Installing: /root/torch/install/lib/luarocks/rocks/nn/scm-1/lua/nn/SpatialAutoCropMSECriterion.lua\n",
            "-- Installing: /root/torch/install/lib/luarocks/rocks/nn/scm-1/lua/nn/SpatialAveragePooling.lua\n",
            "-- Installing: /root/torch/install/lib/luarocks/rocks/nn/scm-1/lua/nn/SpatialBatchNormalization.lua\n",
            "-- Installing: /root/torch/install/lib/luarocks/rocks/nn/scm-1/lua/nn/SpatialClassNLLCriterion.lua\n",
            "-- Installing: /root/torch/install/lib/luarocks/rocks/nn/scm-1/lua/nn/SpatialContrastiveNormalization.lua\n",
            "-- Installing: /root/torch/install/lib/luarocks/rocks/nn/scm-1/lua/nn/SpatialConvolution.lua\n",
            "-- Installing: /root/torch/install/lib/luarocks/rocks/nn/scm-1/lua/nn/SpatialConvolutionLocal.lua\n",
            "-- Installing: /root/torch/install/lib/luarocks/rocks/nn/scm-1/lua/nn/SpatialConvolutionMM.lua\n",
            "-- Installing: /root/torch/install/lib/luarocks/rocks/nn/scm-1/lua/nn/SpatialConvolutionMap.lua\n",
            "-- Installing: /root/torch/install/lib/luarocks/rocks/nn/scm-1/lua/nn/SpatialCrossMapLRN.lua\n",
            "-- Installing: /root/torch/install/lib/luarocks/rocks/nn/scm-1/lua/nn/SpatialDepthWiseConvolution.lua\n",
            "-- Installing: /root/torch/install/lib/luarocks/rocks/nn/scm-1/lua/nn/SpatialDilatedConvolution.lua\n",
            "-- Installing: /root/torch/install/lib/luarocks/rocks/nn/scm-1/lua/nn/SpatialDilatedMaxPooling.lua\n",
            "-- Installing: /root/torch/install/lib/luarocks/rocks/nn/scm-1/lua/nn/SpatialDivisiveNormalization.lua\n",
            "-- Installing: /root/torch/install/lib/luarocks/rocks/nn/scm-1/lua/nn/SpatialDropout.lua\n",
            "-- Installing: /root/torch/install/lib/luarocks/rocks/nn/scm-1/lua/nn/SpatialFractionalMaxPooling.lua\n",
            "-- Installing: /root/torch/install/lib/luarocks/rocks/nn/scm-1/lua/nn/SpatialFullConvolution.lua\n",
            "-- Installing: /root/torch/install/lib/luarocks/rocks/nn/scm-1/lua/nn/SpatialFullConvolutionMap.lua\n",
            "-- Installing: /root/torch/install/lib/luarocks/rocks/nn/scm-1/lua/nn/SpatialLPPooling.lua\n",
            "-- Installing: /root/torch/install/lib/luarocks/rocks/nn/scm-1/lua/nn/SpatialLogSoftMax.lua\n",
            "-- Installing: /root/torch/install/lib/luarocks/rocks/nn/scm-1/lua/nn/SpatialMaxPooling.lua\n",
            "-- Installing: /root/torch/install/lib/luarocks/rocks/nn/scm-1/lua/nn/SpatialMaxUnpooling.lua\n",
            "-- Installing: /root/torch/install/lib/luarocks/rocks/nn/scm-1/lua/nn/SpatialReflectionPadding.lua\n",
            "-- Installing: /root/torch/install/lib/luarocks/rocks/nn/scm-1/lua/nn/SpatialReplicationPadding.lua\n",
            "-- Installing: /root/torch/install/lib/luarocks/rocks/nn/scm-1/lua/nn/SpatialSoftMax.lua\n",
            "-- Installing: /root/torch/install/lib/luarocks/rocks/nn/scm-1/lua/nn/SpatialSubSampling.lua\n",
            "-- Installing: /root/torch/install/lib/luarocks/rocks/nn/scm-1/lua/nn/SpatialSubtractiveNormalization.lua\n",
            "-- Installing: /root/torch/install/lib/luarocks/rocks/nn/scm-1/lua/nn/SpatialUpSamplingBilinear.lua\n",
            "-- Installing: /root/torch/install/lib/luarocks/rocks/nn/scm-1/lua/nn/SpatialUpSamplingNearest.lua\n",
            "-- Installing: /root/torch/install/lib/luarocks/rocks/nn/scm-1/lua/nn/SpatialZeroPadding.lua\n",
            "-- Installing: /root/torch/install/lib/luarocks/rocks/nn/scm-1/lua/nn/SplitTable.lua\n",
            "-- Installing: /root/torch/install/lib/luarocks/rocks/nn/scm-1/lua/nn/Sqrt.lua\n",
            "-- Installing: /root/torch/install/lib/luarocks/rocks/nn/scm-1/lua/nn/Square.lua\n",
            "-- Installing: /root/torch/install/lib/luarocks/rocks/nn/scm-1/lua/nn/Squeeze.lua\n",
            "-- Installing: /root/torch/install/lib/luarocks/rocks/nn/scm-1/lua/nn/StochasticGradient.lua\n",
            "-- Installing: /root/torch/install/lib/luarocks/rocks/nn/scm-1/lua/nn/Sum.lua\n",
            "-- Installing: /root/torch/install/lib/luarocks/rocks/nn/scm-1/lua/nn/THNN.lua\n",
            "-- Installing: /root/torch/install/lib/luarocks/rocks/nn/scm-1/lua/nn/THNN_h.lua\n",
            "-- Installing: /root/torch/install/lib/luarocks/rocks/nn/scm-1/lua/nn/Tanh.lua\n",
            "-- Installing: /root/torch/install/lib/luarocks/rocks/nn/scm-1/lua/nn/TanhShrink.lua\n",
            "-- Installing: /root/torch/install/lib/luarocks/rocks/nn/scm-1/lua/nn/TemporalConvolution.lua\n",
            "-- Installing: /root/torch/install/lib/luarocks/rocks/nn/scm-1/lua/nn/TemporalDynamicKMaxPooling.lua\n",
            "-- Installing: /root/torch/install/lib/luarocks/rocks/nn/scm-1/lua/nn/TemporalMaxPooling.lua\n",
            "-- Installing: /root/torch/install/lib/luarocks/rocks/nn/scm-1/lua/nn/TemporalRowConvolution.lua\n",
            "-- Installing: /root/torch/install/lib/luarocks/rocks/nn/scm-1/lua/nn/TemporalSubSampling.lua\n",
            "-- Installing: /root/torch/install/lib/luarocks/rocks/nn/scm-1/lua/nn/Threshold.lua\n",
            "-- Installing: /root/torch/install/lib/luarocks/rocks/nn/scm-1/lua/nn/Transpose.lua\n",
            "-- Installing: /root/torch/install/lib/luarocks/rocks/nn/scm-1/lua/nn/Unsqueeze.lua\n",
            "-- Installing: /root/torch/install/lib/luarocks/rocks/nn/scm-1/lua/nn/View.lua\n",
            "-- Installing: /root/torch/install/lib/luarocks/rocks/nn/scm-1/lua/nn/VolumetricAveragePooling.lua\n",
            "-- Installing: /root/torch/install/lib/luarocks/rocks/nn/scm-1/lua/nn/VolumetricBatchNormalization.lua\n",
            "-- Installing: /root/torch/install/lib/luarocks/rocks/nn/scm-1/lua/nn/VolumetricConvolution.lua\n",
            "-- Installing: /root/torch/install/lib/luarocks/rocks/nn/scm-1/lua/nn/VolumetricDilatedConvolution.lua\n",
            "-- Installing: /root/torch/install/lib/luarocks/rocks/nn/scm-1/lua/nn/VolumetricDilatedMaxPooling.lua\n",
            "-- Installing: /root/torch/install/lib/luarocks/rocks/nn/scm-1/lua/nn/VolumetricDropout.lua\n",
            "-- Installing: /root/torch/install/lib/luarocks/rocks/nn/scm-1/lua/nn/VolumetricFractionalMaxPooling.lua\n",
            "-- Installing: /root/torch/install/lib/luarocks/rocks/nn/scm-1/lua/nn/VolumetricFullConvolution.lua\n",
            "-- Installing: /root/torch/install/lib/luarocks/rocks/nn/scm-1/lua/nn/VolumetricMaxPooling.lua\n",
            "-- Installing: /root/torch/install/lib/luarocks/rocks/nn/scm-1/lua/nn/VolumetricMaxUnpooling.lua\n",
            "-- Installing: /root/torch/install/lib/luarocks/rocks/nn/scm-1/lua/nn/VolumetricReplicationPadding.lua\n",
            "-- Installing: /root/torch/install/lib/luarocks/rocks/nn/scm-1/lua/nn/WeightNorm.lua\n",
            "-- Installing: /root/torch/install/lib/luarocks/rocks/nn/scm-1/lua/nn/WeightedEuclidean.lua\n",
            "-- Installing: /root/torch/install/lib/luarocks/rocks/nn/scm-1/lua/nn/WeightedMSECriterion.lua\n",
            "-- Installing: /root/torch/install/lib/luarocks/rocks/nn/scm-1/lua/nn/WhiteNoise.lua\n",
            "-- Installing: /root/torch/install/lib/luarocks/rocks/nn/scm-1/lua/nn/ZeroGrad.lua\n",
            "-- Installing: /root/torch/install/lib/luarocks/rocks/nn/scm-1/lua/nn/ZipTable.lua\n",
            "-- Installing: /root/torch/install/lib/luarocks/rocks/nn/scm-1/lua/nn/ZipTableOneToMany.lua\n",
            "-- Installing: /root/torch/install/lib/luarocks/rocks/nn/scm-1/lua/nn/hessian.lua\n",
            "-- Installing: /root/torch/install/lib/luarocks/rocks/nn/scm-1/lua/nn/init.lua\n",
            "-- Installing: /root/torch/install/lib/luarocks/rocks/nn/scm-1/lua/nn/test.lua\n",
            "-- Installing: /root/torch/install/lib/luarocks/rocks/nn/scm-1/lua/nn/utils.lua\n",
            "-- Installing: /root/torch/install/lib/luarocks/rocks/nn/scm-1/lua/nn/doc\n",
            "-- Installing: /root/torch/install/lib/luarocks/rocks/nn/scm-1/lua/nn/doc/module.md\n",
            "-- Installing: /root/torch/install/lib/luarocks/rocks/nn/scm-1/lua/nn/doc/criterion.md\n",
            "-- Installing: /root/torch/install/lib/luarocks/rocks/nn/scm-1/lua/nn/doc/overview.md\n",
            "-- Installing: /root/torch/install/lib/luarocks/rocks/nn/scm-1/lua/nn/doc/testing.md\n",
            "-- Installing: /root/torch/install/lib/luarocks/rocks/nn/scm-1/lua/nn/doc/transfer.md\n",
            "-- Installing: /root/torch/install/lib/luarocks/rocks/nn/scm-1/lua/nn/doc/containers.md\n",
            "-- Installing: /root/torch/install/lib/luarocks/rocks/nn/scm-1/lua/nn/doc/index.md\n",
            "-- Installing: /root/torch/install/lib/luarocks/rocks/nn/scm-1/lua/nn/doc/table.md\n",
            "-- Installing: /root/torch/install/lib/luarocks/rocks/nn/scm-1/lua/nn/doc/training.md\n",
            "-- Installing: /root/torch/install/lib/luarocks/rocks/nn/scm-1/lua/nn/doc/simple.md\n",
            "-- Installing: /root/torch/install/lib/luarocks/rocks/nn/scm-1/lua/nn/doc/convolution.md\n",
            "-- Installing: /root/torch/install/lib/luarocks/rocks/nn/scm-1/lua/nn/doc/image\n",
            "-- Installing: /root/torch/install/lib/luarocks/rocks/nn/scm-1/lua/nn/doc/image/softplus.png\n",
            "-- Installing: /root/torch/install/lib/luarocks/rocks/nn/scm-1/lua/nn/doc/image/softmin.png\n",
            "-- Installing: /root/torch/install/lib/luarocks/rocks/nn/scm-1/lua/nn/doc/image/square.png\n",
            "-- Installing: /root/torch/install/lib/luarocks/rocks/nn/scm-1/lua/nn/doc/image/sigmmoid.png\n",
            "-- Installing: /root/torch/install/lib/luarocks/rocks/nn/scm-1/lua/nn/doc/image/prelu.png\n",
            "-- Installing: /root/torch/install/lib/luarocks/rocks/nn/scm-1/lua/nn/doc/image/sshrink.png\n",
            "-- Installing: /root/torch/install/lib/luarocks/rocks/nn/scm-1/lua/nn/doc/image/hshrink.png\n",
            "-- Installing: /root/torch/install/lib/luarocks/rocks/nn/scm-1/lua/nn/doc/image/sigmoid.png\n",
            "-- Installing: /root/torch/install/lib/luarocks/rocks/nn/scm-1/lua/nn/doc/image/logsigmoid.png\n",
            "-- Installing: /root/torch/install/lib/luarocks/rocks/nn/scm-1/lua/nn/doc/image/softmax.png\n",
            "-- Installing: /root/torch/install/lib/luarocks/rocks/nn/scm-1/lua/nn/doc/image/logsoftmax.png\n",
            "-- Installing: /root/torch/install/lib/luarocks/rocks/nn/scm-1/lua/nn/doc/image/htanh.png\n",
            "-- Installing: /root/torch/install/lib/luarocks/rocks/nn/scm-1/lua/nn/doc/image/elu.png\n",
            "-- Installing: /root/torch/install/lib/luarocks/rocks/nn/scm-1/lua/nn/doc/image/relu6.png\n",
            "-- Installing: /root/torch/install/lib/luarocks/rocks/nn/scm-1/lua/nn/doc/image/relu.png\n",
            "-- Installing: /root/torch/install/lib/luarocks/rocks/nn/scm-1/lua/nn/doc/image/softsign.png\n",
            "-- Installing: /root/torch/install/lib/luarocks/rocks/nn/scm-1/lua/nn/doc/image/lenap.jpg\n",
            "-- Installing: /root/torch/install/lib/luarocks/rocks/nn/scm-1/lua/nn/doc/image/sqrt.png\n",
            "-- Installing: /root/torch/install/lib/luarocks/rocks/nn/scm-1/lua/nn/doc/image/exp.png\n",
            "-- Installing: /root/torch/install/lib/luarocks/rocks/nn/scm-1/lua/nn/doc/image/abs.png\n",
            "-- Installing: /root/torch/install/lib/luarocks/rocks/nn/scm-1/lua/nn/doc/image/power.png\n",
            "-- Installing: /root/torch/install/lib/luarocks/rocks/nn/scm-1/lua/nn/doc/image/lena.jpg\n",
            "-- Installing: /root/torch/install/lib/luarocks/rocks/nn/scm-1/lua/nn/doc/image/rrelu.png\n",
            "-- Installing: /root/torch/install/lib/luarocks/rocks/nn/scm-1/lua/nn/doc/image/tanh.png\n",
            "-- Installing: /root/torch/install/lib/luarocks/rocks/nn/scm-1/lua/nn/README.md\n",
            "-- Installing: /root/torch/install/lib/luarocks/rocks/nn/scm-1/lib/libTHNN.so\n",
            "-- Set runtime path of \"/root/torch/install/lib/luarocks/rocks/nn/scm-1/lib/libTHNN.so\" to \"$ORIGIN/../lib:/root/torch/install/lib:/usr/local/lib\"\n",
            "-- Installing: /root/torch/install/include/THNN/THNN.h\n",
            "-- Installing: /root/torch/install/include/THNN/generic/THNN.h\n",
            "Updating manifest for /root/torch/install/lib/luarocks/rocks\n",
            "nn scm-1 is now built and installed in /root/torch/install/ (license: BSD)\n",
            "\n",
            "cmake -E make_directory build && cd build && cmake .. -DCMAKE_BUILD_TYPE=Release -DCMAKE_PREFIX_PATH=\"/root/torch/install/bin/..\" -DCMAKE_INSTALL_PREFIX=\"/root/torch/install/lib/luarocks/rocks/graph/scm-1\" && make\n",
            "   \n",
            "-- The C compiler identification is GNU 7.4.0\n",
            "-- The CXX compiler identification is GNU 7.4.0\n",
            "-- Check for working C compiler: /usr/bin/cc\n",
            "-- Check for working C compiler: /usr/bin/cc -- works\n",
            "-- Detecting C compiler ABI info\n",
            "-- Detecting C compiler ABI info - done\n",
            "-- Detecting C compile features\n",
            "-- Detecting C compile features - done\n",
            "-- Check for working CXX compiler: /usr/bin/c++\n",
            "-- Check for working CXX compiler: /usr/bin/c++ -- works\n",
            "-- Detecting CXX compiler ABI info\n",
            "-- Detecting CXX compiler ABI info - done\n",
            "-- Detecting CXX compile features\n",
            "-- Detecting CXX compile features - done\n",
            "-- Found Torch7 in /root/torch/install\n",
            "-- Configuring done\n",
            "-- Generating done\n",
            "-- Build files have been written to: /root/torch/extra/graph/build\n",
            "cd build && make install\n",
            "\u001b[36mInstall the project...\u001b[0m\n",
            "-- Install configuration: \"Release\"\n",
            "-- Installing: /root/torch/install/lib/luarocks/rocks/graph/scm-1/lua/graph/Edge.lua\n",
            "-- Installing: /root/torch/install/lib/luarocks/rocks/graph/scm-1/lua/graph/Node.lua\n",
            "-- Installing: /root/torch/install/lib/luarocks/rocks/graph/scm-1/lua/graph/graphviz.lua\n",
            "-- Installing: /root/torch/install/lib/luarocks/rocks/graph/scm-1/lua/graph/init.lua\n",
            "Updating manifest for /root/torch/install/lib/luarocks/rocks\n",
            "graph scm-1 is now built and installed in /root/torch/install/ (license: UNKNOWN)\n",
            "\n",
            "cmake -E make_directory build && cd build && cmake .. -DCMAKE_BUILD_TYPE=Release -DCMAKE_PREFIX_PATH=\"/root/torch/install/bin/..\" -DCMAKE_INSTALL_PREFIX=\"/root/torch/install/lib/luarocks/rocks/nngraph/scm-1\" && make\n",
            "   \n",
            "-- The C compiler identification is GNU 7.4.0\n",
            "-- The CXX compiler identification is GNU 7.4.0\n",
            "-- Check for working C compiler: /usr/bin/cc\n",
            "-- Check for working C compiler: /usr/bin/cc -- works\n",
            "-- Detecting C compiler ABI info\n",
            "-- Detecting C compiler ABI info - done\n",
            "-- Detecting C compile features\n",
            "-- Detecting C compile features - done\n",
            "-- Check for working CXX compiler: /usr/bin/c++\n",
            "-- Check for working CXX compiler: /usr/bin/c++ -- works\n",
            "-- Detecting CXX compiler ABI info\n",
            "-- Detecting CXX compiler ABI info - done\n",
            "-- Detecting CXX compile features\n",
            "-- Detecting CXX compile features - done\n",
            "-- Found Torch7 in /root/torch/install\n",
            "-- Configuring done\n",
            "-- Generating done\n",
            "-- Build files have been written to: /root/torch/extra/nngraph/build\n",
            "cd build && make install\n",
            "\u001b[36mInstall the project...\u001b[0m\n",
            "-- Install configuration: \"Release\"\n",
            "-- Installing: /root/torch/install/lib/luarocks/rocks/nngraph/scm-1/lua/nngraph/JustElement.lua\n",
            "-- Installing: /root/torch/install/lib/luarocks/rocks/nngraph/scm-1/lua/nngraph/JustTable.lua\n",
            "-- Installing: /root/torch/install/lib/luarocks/rocks/nngraph/scm-1/lua/nngraph/ModuleFromCriterion.lua\n",
            "-- Installing: /root/torch/install/lib/luarocks/rocks/nngraph/scm-1/lua/nngraph/gmodule.lua\n",
            "-- Installing: /root/torch/install/lib/luarocks/rocks/nngraph/scm-1/lua/nngraph/graphinspecting.lua\n",
            "-- Installing: /root/torch/install/lib/luarocks/rocks/nngraph/scm-1/lua/nngraph/init.lua\n",
            "-- Installing: /root/torch/install/lib/luarocks/rocks/nngraph/scm-1/lua/nngraph/nest.lua\n",
            "-- Installing: /root/torch/install/lib/luarocks/rocks/nngraph/scm-1/lua/nngraph/nesting.lua\n",
            "-- Installing: /root/torch/install/lib/luarocks/rocks/nngraph/scm-1/lua/nngraph/node.lua\n",
            "-- Installing: /root/torch/install/lib/luarocks/rocks/nngraph/scm-1/lua/nngraph/simple_print.lua\n",
            "-- Installing: /root/torch/install/lib/luarocks/rocks/nngraph/scm-1/lua/nngraph/utils.lua\n",
            "Updating manifest for /root/torch/install/lib/luarocks/rocks\n",
            "nngraph scm-1 is now built and installed in /root/torch/install/ (license: UNKNOWN)\n",
            "\n",
            "Warning: unmatched variable LUALIB\n",
            "cmake -E make_directory build && cd build && cmake .. -DLUALIB= -DLUA_INCDIR=\"/root/torch/install/include\" -DLUA_LIBDIR=\"/root/torch/install/lib\"  -DCMAKE_BUILD_TYPE=Release -DCMAKE_PREFIX_PATH=\"/root/torch/install/bin/..\" -DCMAKE_INSTALL_PREFIX=\"/root/torch/install/lib/luarocks/rocks/image/1.1.alpha-0\" && make\n",
            "   \n",
            "-- The C compiler identification is GNU 7.4.0\n",
            "-- The CXX compiler identification is GNU 7.4.0\n",
            "-- Check for working C compiler: /usr/bin/cc\n",
            "-- Check for working C compiler: /usr/bin/cc -- works\n",
            "-- Detecting C compiler ABI info\n",
            "-- Detecting C compiler ABI info - done\n",
            "-- Detecting C compile features\n",
            "-- Detecting C compile features - done\n",
            "-- Check for working CXX compiler: /usr/bin/c++\n",
            "-- Check for working CXX compiler: /usr/bin/c++ -- works\n",
            "-- Detecting CXX compiler ABI info\n",
            "-- Detecting CXX compiler ABI info - done\n",
            "-- Detecting CXX compile features\n",
            "-- Detecting CXX compile features - done\n",
            "-- Found Torch7 in /root/torch/install\n",
            "-- Found JPEG: /usr/lib/x86_64-linux-gnu/libjpeg.so (found version \"80\") \n",
            "-- Found ZLIB: /usr/lib/x86_64-linux-gnu/libz.so (found version \"1.2.11\") \n",
            "-- Found PNG: /usr/lib/x86_64-linux-gnu/libpng.so (found version \"1.6.34\") \n",
            "-- Found OpenMP_C: -fopenmp (found version \"4.5\") \n",
            "-- Found OpenMP_CXX: -fopenmp (found version \"4.5\") \n",
            "-- Found OpenMP: TRUE (found version \"4.5\")  \n",
            "-- Compiling with OpenMP support\n",
            "-- Looking for jpeg_mem_src\n",
            "-- Looking for jpeg_mem_src - found\n",
            "-- Looking for jpeg_mem_dest\n",
            "-- Looking for jpeg_mem_dest - found\n",
            "-- Configuring done\n",
            "-- Generating done\n",
            "CMake Warning:\n",
            "  Manually-specified variables were not used by the project:\n",
            "\n",
            "    LUA_INCDIR\n",
            "    LUA_LIBDIR\n",
            "\n",
            "\n",
            "-- Build files have been written to: /root/torch/pkg/image/build\n",
            "\u001b[35m\u001b[1mScanning dependencies of target image\u001b[0m\n",
            "[ 12%] \u001b[32mBuilding C object CMakeFiles/image.dir/image.c.o\u001b[0m\n",
            "[ 25%] \u001b[32m\u001b[1mLinking C shared module libimage.so\u001b[0m\n",
            "[ 25%] Built target image\n",
            "\u001b[35m\u001b[1mScanning dependencies of target jpeg\u001b[0m\n",
            "[ 37%] \u001b[32mBuilding C object CMakeFiles/jpeg.dir/jpeg.c.o\u001b[0m\n",
            "[ 50%] \u001b[32m\u001b[1mLinking C shared module libjpeg.so\u001b[0m\n",
            "[ 50%] Built target jpeg\n",
            "\u001b[35m\u001b[1mScanning dependencies of target lua_png\u001b[0m\n",
            "[ 62%] \u001b[32mBuilding C object CMakeFiles/lua_png.dir/png.c.o\u001b[0m\n",
            "[ 75%] \u001b[32m\u001b[1mLinking C shared module liblua_png.so\u001b[0m\n",
            "[ 75%] Built target lua_png\n",
            "\u001b[35m\u001b[1mScanning dependencies of target ppm\u001b[0m\n",
            "[ 87%] \u001b[32mBuilding C object CMakeFiles/ppm.dir/ppm.c.o\u001b[0m\n",
            "[100%] \u001b[32m\u001b[1mLinking C shared module libppm.so\u001b[0m\n",
            "[100%] Built target ppm\n",
            "cd build && make install\n",
            "[ 25%] Built target image\n",
            "[ 50%] Built target jpeg\n",
            "[ 75%] Built target lua_png\n",
            "[100%] Built target ppm\n",
            "\u001b[36mInstall the project...\u001b[0m\n",
            "-- Install configuration: \"Release\"\n",
            "-- Installing: /root/torch/install/lib/luarocks/rocks/image/1.1.alpha-0/lib/libppm.so\n",
            "-- Set runtime path of \"/root/torch/install/lib/luarocks/rocks/image/1.1.alpha-0/lib/libppm.so\" to \"$ORIGIN/../lib:/root/torch/install/lib:/usr/local/lib\"\n",
            "-- Installing: /root/torch/install/lib/luarocks/rocks/image/1.1.alpha-0/lib/libjpeg.so\n",
            "-- Set runtime path of \"/root/torch/install/lib/luarocks/rocks/image/1.1.alpha-0/lib/libjpeg.so\" to \"$ORIGIN/../lib:/root/torch/install/lib:/usr/local/lib\"\n",
            "-- Installing: /root/torch/install/lib/luarocks/rocks/image/1.1.alpha-0/lib/liblua_png.so\n",
            "-- Set runtime path of \"/root/torch/install/lib/luarocks/rocks/image/1.1.alpha-0/lib/liblua_png.so\" to \"$ORIGIN/../lib:/root/torch/install/lib:/usr/local/lib\"\n",
            "-- Installing: /root/torch/install/lib/luarocks/rocks/image/1.1.alpha-0/lib/libimage.so\n",
            "-- Set runtime path of \"/root/torch/install/lib/luarocks/rocks/image/1.1.alpha-0/lib/libimage.so\" to \"$ORIGIN/../lib:/root/torch/install/lib:/usr/local/lib\"\n",
            "-- Installing: /root/torch/install/lib/luarocks/rocks/image/1.1.alpha-0/lua/image/init.lua\n",
            "-- Installing: /root/torch/install/lib/luarocks/rocks/image/1.1.alpha-0/lua/image/win.ui\n",
            "-- Installing: /root/torch/install/lib/luarocks/rocks/image/1.1.alpha-0/lua/image/test.lua\n",
            "-- Installing: /root/torch/install/lib/luarocks/rocks/image/1.1.alpha-0/lua/image/assets\n",
            "-- Installing: /root/torch/install/lib/luarocks/rocks/image/1.1.alpha-0/lua/image/assets/fabio.png\n",
            "-- Installing: /root/torch/install/lib/luarocks/rocks/image/1.1.alpha-0/lua/image/assets/corrupt-ihdr.png\n",
            "-- Installing: /root/torch/install/lib/luarocks/rocks/image/1.1.alpha-0/lua/image/assets/P5.pgm\n",
            "-- Installing: /root/torch/install/lib/luarocks/rocks/image/1.1.alpha-0/lua/image/assets/rgb16-2x1.png\n",
            "-- Installing: /root/torch/install/lib/luarocks/rocks/image/1.1.alpha-0/lua/image/assets/grace_hopper_512.jpg\n",
            "-- Installing: /root/torch/install/lib/luarocks/rocks/image/1.1.alpha-0/lua/image/assets/P2.pgm\n",
            "-- Installing: /root/torch/install/lib/luarocks/rocks/image/1.1.alpha-0/lua/image/assets/gray16-1x2.png\n",
            "-- Installing: /root/torch/install/lib/luarocks/rocks/image/1.1.alpha-0/lua/image/assets/foobar.png\n",
            "-- Installing: /root/torch/install/lib/luarocks/rocks/image/1.1.alpha-0/lua/image/assets/P4.pbm\n",
            "-- Installing: /root/torch/install/lib/luarocks/rocks/image/1.1.alpha-0/lua/image/assets/P6.ppm\n",
            "-- Installing: /root/torch/install/lib/luarocks/rocks/image/1.1.alpha-0/lua/image/assets/gray3x1.png\n",
            "-- Installing: /root/torch/install/lib/luarocks/rocks/image/1.1.alpha-0/lua/image/assets/rgb2x1.png\n",
            "-- Installing: /root/torch/install/lib/luarocks/rocks/image/1.1.alpha-0/lua/image/assets/grace_hopper_512.png\n",
            "-- Installing: /root/torch/install/lib/luarocks/rocks/image/1.1.alpha-0/lua/image/assets/rectangle.png\n",
            "-- Installing: /root/torch/install/lib/luarocks/rocks/image/1.1.alpha-0/lua/image/assets/fabio.jpg\n",
            "-- Installing: /root/torch/install/lib/luarocks/rocks/image/1.1.alpha-0/lua/image/assets/bmp-without-ext\n",
            "-- Installing: /root/torch/install/lib/luarocks/rocks/image/1.1.alpha-0/lua/image/README.md\n",
            "Updating manifest for /root/torch/install/lib/luarocks/rocks\n",
            "image 1.1.alpha-0 is now built and installed in /root/torch/install/ (license: BSD)\n",
            "\n",
            "cmake -E make_directory build && cd build && cmake .. -DCMAKE_BUILD_TYPE=Release -DCMAKE_PREFIX_PATH=\"/root/torch/install/bin/..\" -DCMAKE_INSTALL_PREFIX=\"/root/torch/install/lib/luarocks/rocks/optim/1.0.5-0\" && make\n",
            "   \n",
            "-- The C compiler identification is GNU 7.4.0\n",
            "-- The CXX compiler identification is GNU 7.4.0\n",
            "-- Check for working C compiler: /usr/bin/cc\n",
            "-- Check for working C compiler: /usr/bin/cc -- works\n",
            "-- Detecting C compiler ABI info\n",
            "-- Detecting C compiler ABI info - done\n",
            "-- Detecting C compile features\n",
            "-- Detecting C compile features - done\n",
            "-- Check for working CXX compiler: /usr/bin/c++\n",
            "-- Check for working CXX compiler: /usr/bin/c++ -- works\n",
            "-- Detecting CXX compiler ABI info\n",
            "-- Detecting CXX compiler ABI info - done\n",
            "-- Detecting CXX compile features\n",
            "-- Detecting CXX compile features - done\n",
            "-- Found Torch7 in /root/torch/install\n",
            "-- Configuring done\n",
            "-- Generating done\n",
            "-- Build files have been written to: /root/torch/pkg/optim/build\n",
            "cd build && make install\n",
            "\u001b[36mInstall the project...\u001b[0m\n",
            "-- Install configuration: \"Release\"\n",
            "-- Installing: /root/torch/install/lib/luarocks/rocks/optim/1.0.5-0/lua/optim/ConfusionMatrix.lua\n",
            "-- Installing: /root/torch/install/lib/luarocks/rocks/optim/1.0.5-0/lua/optim/Logger.lua\n",
            "-- Installing: /root/torch/install/lib/luarocks/rocks/optim/1.0.5-0/lua/optim/adadelta.lua\n",
            "-- Installing: /root/torch/install/lib/luarocks/rocks/optim/1.0.5-0/lua/optim/adagrad.lua\n",
            "-- Installing: /root/torch/install/lib/luarocks/rocks/optim/1.0.5-0/lua/optim/adam.lua\n",
            "-- Installing: /root/torch/install/lib/luarocks/rocks/optim/1.0.5-0/lua/optim/adamax.lua\n",
            "-- Installing: /root/torch/install/lib/luarocks/rocks/optim/1.0.5-0/lua/optim/asgd.lua\n",
            "-- Installing: /root/torch/install/lib/luarocks/rocks/optim/1.0.5-0/lua/optim/cg.lua\n",
            "-- Installing: /root/torch/install/lib/luarocks/rocks/optim/1.0.5-0/lua/optim/checkgrad.lua\n",
            "-- Installing: /root/torch/install/lib/luarocks/rocks/optim/1.0.5-0/lua/optim/cmaes.lua\n",
            "-- Installing: /root/torch/install/lib/luarocks/rocks/optim/1.0.5-0/lua/optim/de.lua\n",
            "-- Installing: /root/torch/install/lib/luarocks/rocks/optim/1.0.5-0/lua/optim/fista.lua\n",
            "-- Installing: /root/torch/install/lib/luarocks/rocks/optim/1.0.5-0/lua/optim/init.lua\n",
            "-- Installing: /root/torch/install/lib/luarocks/rocks/optim/1.0.5-0/lua/optim/lbfgs.lua\n",
            "-- Installing: /root/torch/install/lib/luarocks/rocks/optim/1.0.5-0/lua/optim/lswolfe.lua\n",
            "-- Installing: /root/torch/install/lib/luarocks/rocks/optim/1.0.5-0/lua/optim/nag.lua\n",
            "-- Installing: /root/torch/install/lib/luarocks/rocks/optim/1.0.5-0/lua/optim/polyinterp.lua\n",
            "-- Installing: /root/torch/install/lib/luarocks/rocks/optim/1.0.5-0/lua/optim/rmsprop.lua\n",
            "-- Installing: /root/torch/install/lib/luarocks/rocks/optim/1.0.5-0/lua/optim/rprop.lua\n",
            "-- Installing: /root/torch/install/lib/luarocks/rocks/optim/1.0.5-0/lua/optim/sgd.lua\n",
            "-- Installing: /root/torch/install/lib/luarocks/rocks/optim/1.0.5-0/lua/optim/doc\n",
            "-- Installing: /root/torch/install/lib/luarocks/rocks/optim/1.0.5-0/lua/optim/doc/logger_plot.png\n",
            "-- Installing: /root/torch/install/lib/luarocks/rocks/optim/1.0.5-0/lua/optim/doc/logger.md\n",
            "-- Installing: /root/torch/install/lib/luarocks/rocks/optim/1.0.5-0/lua/optim/doc/intro.md\n",
            "-- Installing: /root/torch/install/lib/luarocks/rocks/optim/1.0.5-0/lua/optim/doc/algos.md\n",
            "-- Installing: /root/torch/install/lib/luarocks/rocks/optim/1.0.5-0/lua/optim/doc/image\n",
            "-- Installing: /root/torch/install/lib/luarocks/rocks/optim/1.0.5-0/lua/optim/doc/image/parameterflattening.png\n",
            "-- Installing: /root/torch/install/lib/luarocks/rocks/optim/1.0.5-0/lua/optim/doc/image/parameterflattening.svg.png\n",
            "-- Installing: /root/torch/install/lib/luarocks/rocks/optim/1.0.5-0/lua/optim/doc/image/parameterflattening.svg\n",
            "-- Installing: /root/torch/install/lib/luarocks/rocks/optim/1.0.5-0/lua/optim/README.md\n",
            "Updating manifest for /root/torch/install/lib/luarocks/rocks\n",
            "optim 1.0.5-0 is now built and installed in /root/torch/install/ (license: BSD)\n",
            "\n",
            "Found CUDA on your machine. Installing CUDA packages\n",
            "Warning: unmatched variable LUALIB\n",
            "\n",
            "jopts=$(getconf _NPROCESSORS_CONF)\n",
            "\n",
            "echo \"Building on $jopts cores\"\n",
            "cmake -E make_directory build && cd build && cmake .. -DLUALIB= -DLUA_INCDIR=/root/torch/install/include -DCMAKE_CXX_FLAGS=${CMAKE_CXX_FLAGS} -DCMAKE_BUILD_TYPE=Release -DCMAKE_PREFIX_PATH=\"/root/torch/install/bin/..\" -DCMAKE_INSTALL_PREFIX=\"/root/torch/install/lib/luarocks/rocks/cutorch/scm-1\" && make -j$jopts install\n",
            "\n",
            "Building on 2 cores\n",
            "-- The C compiler identification is GNU 7.4.0\n",
            "-- The CXX compiler identification is GNU 7.4.0\n",
            "-- Check for working C compiler: /usr/bin/cc\n",
            "-- Check for working C compiler: /usr/bin/cc -- works\n",
            "-- Detecting C compiler ABI info\n",
            "-- Detecting C compiler ABI info - done\n",
            "-- Detecting C compile features\n",
            "-- Detecting C compile features - done\n",
            "-- Check for working CXX compiler: /usr/bin/c++\n",
            "-- Check for working CXX compiler: /usr/bin/c++ -- works\n",
            "-- Detecting CXX compiler ABI info\n",
            "-- Detecting CXX compiler ABI info - done\n",
            "-- Detecting CXX compile features\n",
            "-- Detecting CXX compile features - done\n",
            "-- Found Torch7 in /root/torch/install\n",
            "-- Found CUDA: /usr/local/cuda (found suitable version \"10.0\", minimum required is \"6.5\") \n",
            "-- Removing -DNDEBUG from compile flags\n",
            "-- TH_LIBRARIES: TH\n",
            "-- MAGMA not found. Compiling without MAGMA support\n",
            "-- Automatic GPU detection failed. Building for common architectures.\n",
            "-- Autodetected CUDA architecture(s): 3.0;3.5;5.0;5.2;6.0;6.1;6.1+PTX\n",
            "-- got cuda version 10.0\n",
            "-- Found CUDA with FP16 support, compiling with torch.CudaHalfTensor\n",
            "-- CUDA_NVCC_FLAGS: -gencode;arch=compute_30,code=sm_30;-gencode;arch=compute_35,code=sm_35;-gencode;arch=compute_50,code=sm_50;-gencode;arch=compute_52,code=sm_52;-gencode;arch=compute_60,code=sm_60;-gencode;arch=compute_61,code=sm_61;-gencode;arch=compute_61,code=compute_61;-DCUDA_HAS_FP16=1\n",
            "-- THC_SO_VERSION: 0\n",
            "-- Performing Test HAS_LUAL_SETFUNCS\n",
            "-- Performing Test HAS_LUAL_SETFUNCS - Failed\n",
            "CMake Error: The following variables are used in this project, but they are set to NOTFOUND.\n",
            "Please set them or make sure they are set and tested correctly in the CMake files:\n",
            "CUDA_cublas_device_LIBRARY (ADVANCED)\n",
            "    linked by target \"THC\" in directory /root/torch/extra/cutorch/lib/THC\n",
            "\n",
            "-- Configuring incomplete, errors occurred!\n",
            "See also \"/root/torch/extra/cutorch/build/CMakeFiles/CMakeOutput.log\".\n",
            "See also \"/root/torch/extra/cutorch/build/CMakeFiles/CMakeError.log\".\n",
            "\n",
            "Error: Build error: Failed building.\n"
          ],
          "name": "stdout"
        }
      ]
    },
    {
      "cell_type": "code",
      "metadata": {
        "id": "DjJ5o-6MYpAl",
        "colab_type": "code",
        "outputId": "d6f0f90d-ca95-490f-aae6-058206d41ee6",
        "colab": {
          "base_uri": "https://localhost:8080/",
          "height": 85
        }
      },
      "source": [
        "!nvcc --version"
      ],
      "execution_count": 0,
      "outputs": [
        {
          "output_type": "stream",
          "text": [
            "nvcc: NVIDIA (R) Cuda compiler driver\n",
            "Copyright (c) 2005-2018 NVIDIA Corporation\n",
            "Built on Sat_Aug_25_21:08:01_CDT_2018\n",
            "Cuda compilation tools, release 10.0, V10.0.130\n"
          ],
          "name": "stdout"
        }
      ]
    },
    {
      "cell_type": "code",
      "metadata": {
        "id": "Njg33fEGZXDt",
        "colab_type": "code",
        "colab": {}
      },
      "source": [
        "rm -rf /root/torch/"
      ],
      "execution_count": 0,
      "outputs": []
    },
    {
      "cell_type": "code",
      "metadata": {
        "id": "ofUb0dYAZXtY",
        "colab_type": "code",
        "outputId": "f8eea584-2f77-4fa1-d523-e86a2ef904cc",
        "colab": {
          "base_uri": "https://localhost:8080/",
          "height": 3658
        }
      },
      "source": [
        "!git clone https://github.com/nagadomi/distro.git ~/torch --recursive"
      ],
      "execution_count": 0,
      "outputs": [
        {
          "output_type": "stream",
          "text": [
            "Cloning into '/root/torch'...\n",
            "remote: Enumerating objects: 38, done.\u001b[K\n",
            "remote: Counting objects: 100% (38/38), done.\u001b[K\n",
            "remote: Compressing objects: 100% (28/28), done.\u001b[K\n",
            "remote: Total 1650 (delta 17), reused 25 (delta 10), pack-reused 1612\u001b[K\n",
            "Receiving objects: 100% (1650/1650), 361.10 KiB | 13.37 MiB/s, done.\n",
            "Resolving deltas: 100% (948/948), done.\n",
            "Submodule 'exe/env' (https://github.com/torch/env.git) registered for path 'exe/env'\n",
            "Submodule 'exe/luajit-rocks' (https://github.com/torch/luajit-rocks.git) registered for path 'exe/luajit-rocks'\n",
            "Submodule 'exe/qtlua' (https://github.com/torch/qtlua.git) registered for path 'exe/qtlua'\n",
            "Submodule 'exe/trepl' (https://github.com/torch/trepl.git) registered for path 'exe/trepl'\n",
            "Submodule 'extra/argcheck' (https://github.com/torch/argcheck.git) registered for path 'extra/argcheck'\n",
            "Submodule 'extra/cudnn' (https://github.com/nagadomi/cudnn.torch.git) registered for path 'extra/cudnn'\n",
            "Submodule 'extra/cunn' (https://github.com/nagadomi/cunn.git) registered for path 'extra/cunn'\n",
            "Submodule 'extra/cutorch' (http://github.com/nagadomi/cutorch.git) registered for path 'extra/cutorch'\n",
            "Submodule 'extra/graph' (https://github.com/torch/graph) registered for path 'extra/graph'\n",
            "Submodule 'extra/lua-cjson' (https://github.com/mpx/lua-cjson) registered for path 'extra/lua-cjson'\n",
            "Submodule 'extra/luaffifb' (https://github.com/facebook/luaffifb) registered for path 'extra/luaffifb'\n",
            "Submodule 'extra/luafilesystem' (https://github.com/keplerproject/luafilesystem.git) registered for path 'extra/luafilesystem'\n",
            "Submodule 'extra/moses' (https://github.com/Yonaba/Moses.git) registered for path 'extra/moses'\n",
            "Submodule 'extra/nn' (https://github.com/torch/nn.git) registered for path 'extra/nn'\n",
            "Submodule 'extra/nngraph' (https://github.com/torch/nngraph) registered for path 'extra/nngraph'\n",
            "Submodule 'extra/nnx' (https://github.com/clementfarabet/lua---nnx.git) registered for path 'extra/nnx'\n",
            "Submodule 'extra/penlight' (https://github.com/stevedonovan/Penlight.git) registered for path 'extra/penlight'\n",
            "Submodule 'extra/threads' (https://github.com/torch/threads-ffi.git) registered for path 'extra/threads'\n",
            "Submodule 'pkg/cwrap' (https://github.com/torch/cwrap.git) registered for path 'pkg/cwrap'\n",
            "Submodule 'pkg/dok' (https://github.com/torch/dok.git) registered for path 'pkg/dok'\n",
            "Submodule 'pkg/gnuplot' (https://github.com/torch/gnuplot.git) registered for path 'pkg/gnuplot'\n",
            "Submodule 'pkg/image' (https://github.com/torch/image.git) registered for path 'pkg/image'\n",
            "Submodule 'pkg/optim' (https://github.com/torch/optim.git) registered for path 'pkg/optim'\n",
            "Submodule 'pkg/paths' (https://github.com/torch/paths.git) registered for path 'pkg/paths'\n",
            "Submodule 'pkg/qttorch' (https://github.com/torch/qttorch.git) registered for path 'pkg/qttorch'\n",
            "Submodule 'pkg/sundown' (https://github.com/torch/sundown-ffi.git) registered for path 'pkg/sundown'\n",
            "Submodule 'pkg/sys' (https://github.com/torch/sys.git) registered for path 'pkg/sys'\n",
            "Submodule 'pkg/torch' (https://github.com/torch/torch7.git) registered for path 'pkg/torch'\n",
            "Submodule 'pkg/xlua' (https://github.com/torch/xlua.git) registered for path 'pkg/xlua'\n",
            "Cloning into '/root/torch/exe/env'...\n",
            "remote: Enumerating objects: 26, done.        \n",
            "remote: Total 26 (delta 0), reused 0 (delta 0), pack-reused 26        \n",
            "Cloning into '/root/torch/exe/luajit-rocks'...\n",
            "remote: Enumerating objects: 2737, done.        \n",
            "remote: Total 2737 (delta 0), reused 0 (delta 0), pack-reused 2737        \n",
            "Receiving objects: 100% (2737/2737), 7.53 MiB | 21.85 MiB/s, done.\n",
            "Resolving deltas: 100% (1759/1759), done.\n",
            "Cloning into '/root/torch/exe/qtlua'...\n",
            "remote: Enumerating objects: 710, done.        \n",
            "remote: Total 710 (delta 0), reused 0 (delta 0), pack-reused 710        \n",
            "Receiving objects: 100% (710/710), 597.10 KiB | 10.29 MiB/s, done.\n",
            "Resolving deltas: 100% (354/354), done.\n",
            "Cloning into '/root/torch/exe/trepl'...\n",
            "remote: Enumerating objects: 514, done.        \n",
            "remote: Total 514 (delta 0), reused 0 (delta 0), pack-reused 514        \n",
            "Receiving objects: 100% (514/514), 115.87 KiB | 5.27 MiB/s, done.\n",
            "Resolving deltas: 100% (294/294), done.\n",
            "Cloning into '/root/torch/extra/argcheck'...\n",
            "remote: Enumerating objects: 538, done.        \n",
            "remote: Total 538 (delta 0), reused 0 (delta 0), pack-reused 538        \n",
            "Receiving objects: 100% (538/538), 646.22 KiB | 10.77 MiB/s, done.\n",
            "Resolving deltas: 100% (291/291), done.\n",
            "Cloning into '/root/torch/extra/cudnn'...\n",
            "remote: Enumerating objects: 2112, done.        \n",
            "remote: Total 2112 (delta 0), reused 0 (delta 0), pack-reused 2112        \n",
            "Receiving objects: 100% (2112/2112), 821.19 KiB | 12.44 MiB/s, done.\n",
            "Resolving deltas: 100% (1379/1379), done.\n",
            "Cloning into '/root/torch/extra/cunn'...\n",
            "remote: Enumerating objects: 7, done.        \n",
            "remote: Counting objects: 100% (7/7), done.        \n",
            "remote: Compressing objects: 100% (7/7), done.        \n",
            "remote: Total 4002 (delta 0), reused 2 (delta 0), pack-reused 3995        \n",
            "Receiving objects: 100% (4002/4002), 1.47 MiB | 15.72 MiB/s, done.\n",
            "Resolving deltas: 100% (2581/2581), done.\n",
            "Cloning into '/root/torch/extra/cutorch'...\n",
            "warning: redirecting to https://github.com/nagadomi/cutorch.git/\n",
            "remote: Enumerating objects: 23, done.        \n",
            "remote: Counting objects: 100% (23/23), done.        \n",
            "remote: Compressing objects: 100% (22/22), done.        \n",
            "remote: Total 5729 (delta 5), reused 11 (delta 1), pack-reused 5706        \n",
            "Receiving objects: 100% (5729/5729), 2.12 MiB | 18.11 MiB/s, done.\n",
            "Resolving deltas: 100% (3473/3473), done.\n",
            "Cloning into '/root/torch/extra/graph'...\n",
            "remote: Enumerating objects: 225, done.        \n",
            "remote: Total 225 (delta 0), reused 0 (delta 0), pack-reused 225        \n",
            "Receiving objects: 100% (225/225), 56.70 KiB | 5.67 MiB/s, done.\n",
            "Resolving deltas: 100% (112/112), done.\n",
            "Cloning into '/root/torch/extra/lua-cjson'...\n",
            "remote: Enumerating objects: 1040, done.        \n",
            "remote: Total 1040 (delta 0), reused 0 (delta 0), pack-reused 1040        \n",
            "Receiving objects: 100% (1040/1040), 269.29 KiB | 7.09 MiB/s, done.\n",
            "Resolving deltas: 100% (661/661), done.\n",
            "Cloning into '/root/torch/extra/luaffifb'...\n",
            "remote: Enumerating objects: 963, done.        \n",
            "remote: Total 963 (delta 0), reused 0 (delta 0), pack-reused 963\n",
            "Receiving objects: 100% (963/963), 452.83 KiB | 7.55 MiB/s, done.\n",
            "Resolving deltas: 100% (684/684), done.\n",
            "Cloning into '/root/torch/extra/luafilesystem'...\n",
            "remote: Enumerating objects: 1643, done.        \n",
            "remote: Total 1643 (delta 0), reused 0 (delta 0), pack-reused 1643        \n",
            "Receiving objects: 100% (1643/1643), 327.00 KiB | 8.38 MiB/s, done.\n",
            "Resolving deltas: 100% (746/746), done.\n",
            "Cloning into '/root/torch/extra/moses'...\n",
            "remote: Enumerating objects: 2013, done.        \n",
            "remote: Total 2013 (delta 0), reused 0 (delta 0), pack-reused 2013        \n",
            "Receiving objects: 100% (2013/2013), 1.41 MiB | 15.81 MiB/s, done.\n",
            "Resolving deltas: 100% (1179/1179), done.\n",
            "Cloning into '/root/torch/extra/nn'...\n",
            "remote: Enumerating objects: 7662, done.        \n",
            "remote: Total 7662 (delta 0), reused 0 (delta 0), pack-reused 7662        \n",
            "Receiving objects: 100% (7662/7662), 3.72 MiB | 21.52 MiB/s, done.\n",
            "Resolving deltas: 100% (4898/4898), done.\n",
            "Cloning into '/root/torch/extra/nngraph'...\n",
            "remote: Enumerating objects: 664, done.        \n",
            "remote: Total 664 (delta 0), reused 0 (delta 0), pack-reused 664        \n",
            "Receiving objects: 100% (664/664), 1.87 MiB | 21.22 MiB/s, done.\n",
            "Resolving deltas: 100% (356/356), done.\n",
            "Cloning into '/root/torch/extra/nnx'...\n",
            "remote: Enumerating objects: 2483, done.        \n",
            "remote: Total 2483 (delta 0), reused 0 (delta 0), pack-reused 2483        \n",
            "Receiving objects: 100% (2483/2483), 1.27 MiB | 13.54 MiB/s, done.\n",
            "Resolving deltas: 100% (1420/1420), done.\n",
            "Cloning into '/root/torch/extra/penlight'...\n",
            "remote: Enumerating objects: 4677, done.        \n",
            "remote: Total 4677 (delta 0), reused 0 (delta 0), pack-reused 4677        \n",
            "Receiving objects: 100% (4677/4677), 1.75 MiB | 16.47 MiB/s, done.\n",
            "Resolving deltas: 100% (2860/2860), done.\n",
            "Cloning into '/root/torch/extra/threads'...\n",
            "remote: Enumerating objects: 429, done.        \n",
            "remote: Total 429 (delta 0), reused 0 (delta 0), pack-reused 429        \n",
            "Receiving objects: 100% (429/429), 108.21 KiB | 4.70 MiB/s, done.\n",
            "Resolving deltas: 100% (228/228), done.\n",
            "Cloning into '/root/torch/pkg/cwrap'...\n",
            "remote: Enumerating objects: 109, done.        \n",
            "remote: Total 109 (delta 0), reused 0 (delta 0), pack-reused 109        \n",
            "Receiving objects: 100% (109/109), 38.05 KiB | 3.80 MiB/s, done.\n",
            "Resolving deltas: 100% (43/43), done.\n",
            "Cloning into '/root/torch/pkg/dok'...\n",
            "remote: Enumerating objects: 186, done.        \n",
            "remote: Total 186 (delta 0), reused 0 (delta 0), pack-reused 186        \n",
            "Receiving objects: 100% (186/186), 133.83 KiB | 5.58 MiB/s, done.\n",
            "Resolving deltas: 100% (59/59), done.\n",
            "Cloning into '/root/torch/pkg/gnuplot'...\n",
            "remote: Enumerating objects: 308, done.        \n",
            "remote: Total 308 (delta 0), reused 0 (delta 0), pack-reused 308        \n",
            "Receiving objects: 100% (308/308), 240.88 KiB | 6.69 MiB/s, done.\n",
            "Resolving deltas: 100% (167/167), done.\n",
            "Cloning into '/root/torch/pkg/image'...\n",
            "remote: Enumerating objects: 1392, done.        \n",
            "remote: Total 1392 (delta 0), reused 0 (delta 0), pack-reused 1392        \n",
            "Receiving objects: 100% (1392/1392), 2.75 MiB | 26.28 MiB/s, done.\n",
            "Resolving deltas: 100% (767/767), done.\n",
            "Cloning into '/root/torch/pkg/optim'...\n",
            "remote: Enumerating objects: 929, done.        \n",
            "remote: Total 929 (delta 0), reused 0 (delta 0), pack-reused 929        \n",
            "Receiving objects: 100% (929/929), 408.10 KiB | 9.72 MiB/s, done.\n",
            "Resolving deltas: 100% (512/512), done.\n",
            "Cloning into '/root/torch/pkg/paths'...\n",
            "remote: Enumerating objects: 153, done.        \n",
            "remote: Total 153 (delta 0), reused 0 (delta 0), pack-reused 153        \n",
            "Receiving objects: 100% (153/153), 53.42 KiB | 5.34 MiB/s, done.\n",
            "Resolving deltas: 100% (62/62), done.\n",
            "Cloning into '/root/torch/pkg/qttorch'...\n",
            "remote: Enumerating objects: 60, done.        \n",
            "remote: Total 60 (delta 0), reused 0 (delta 0), pack-reused 60        \n",
            "Cloning into '/root/torch/pkg/sundown'...\n",
            "remote: Enumerating objects: 238, done.        \n",
            "remote: Total 238 (delta 0), reused 0 (delta 0), pack-reused 238\n",
            "Receiving objects: 100% (238/238), 140.57 KiB | 5.02 MiB/s, done.\n",
            "Resolving deltas: 100% (80/80), done.\n",
            "Cloning into '/root/torch/pkg/sys'...\n",
            "remote: Enumerating objects: 220, done.        \n",
            "remote: Total 220 (delta 0), reused 0 (delta 0), pack-reused 220        \n",
            "Receiving objects: 100% (220/220), 36.83 KiB | 3.68 MiB/s, done.\n",
            "Resolving deltas: 100% (115/115), done.\n",
            "Cloning into '/root/torch/pkg/torch'...\n",
            "remote: Enumerating objects: 3, done.        \n",
            "remote: Counting objects: 100% (3/3), done.        \n",
            "remote: Compressing objects: 100% (3/3), done.        \n",
            "remote: Total 6725 (delta 0), reused 0 (delta 0), pack-reused 6722        \n",
            "Receiving objects: 100% (6725/6725), 2.56 MiB | 20.19 MiB/s, done.\n",
            "Resolving deltas: 100% (4214/4214), done.\n",
            "Cloning into '/root/torch/pkg/xlua'...\n",
            "remote: Enumerating objects: 282, done.        \n",
            "remote: Total 282 (delta 0), reused 0 (delta 0), pack-reused 282        \n",
            "Receiving objects: 100% (282/282), 59.22 KiB | 5.38 MiB/s, done.\n",
            "Resolving deltas: 100% (156/156), done.\n",
            "Submodule path 'exe/env': checked out 'd28424ac5b638686410304c60c31693849f3d1dd'\n",
            "Submodule path 'exe/luajit-rocks': checked out '411f4b9d9c4be176d4aab965ebfce50911583e14'\n",
            "Submodule path 'exe/qtlua': checked out '8b80419ca2458e172b0d245999114f2b9d4ac118'\n",
            "Submodule path 'exe/trepl': checked out 'e5e17e3a56997123bd6c66cb8575175d3a6945bb'\n",
            "Submodule path 'extra/argcheck': checked out 'b3b32c060c4269c25d11cf9f983c291d9448e1ee'\n",
            "Submodule path 'extra/cudnn': checked out 'fcc8c042f024621932ebffce67655402dd6c634c'\n",
            "Submodule path 'extra/cunn': checked out '9f057781ab34d76370d73cd85f2de31dd0fc7de2'\n",
            "Submodule path 'extra/cutorch': checked out '927e45666c2056f4bd583c8a7ba32cadf19c372a'\n",
            "Submodule path 'extra/graph': checked out '37dac07a19eb3809b8081514bc781206241863a0'\n",
            "Submodule path 'extra/lua-cjson': checked out 'e8972ac754788d3ef10a57a36016d6c3e85ba20d'\n",
            "Submodule path 'extra/luaffifb': checked out '610ce4dc6de318c8f0eb027f052be081349097be'\n",
            "Submodule path 'extra/luafilesystem': checked out '3c4e563d9c140319e28c419f2710b51a2f6d6d24'\n",
            "Submodule path 'extra/moses': checked out 'ded0a9b773bb78ded2c1dd5da721bbee4a3e32c6'\n",
            "Submodule path 'extra/nn': checked out '200ae7d55a3381a232256223c0694498f8f51df0'\n",
            "Submodule path 'extra/nngraph': checked out '3ed3b9ba9d1adf72c1fe15291a1e50b843cf04f9'\n",
            "Submodule path 'extra/nnx': checked out '1c28e231f885899a4ed68266e788306cab2ac07a'\n",
            "Submodule path 'extra/penlight': checked out '6d108e6a699fbafd5dace1019d03f4b4b18231fa'\n",
            "Submodule path 'extra/threads': checked out '7094a90be44ecdd5f9f0b90560473ad27f3bb07d'\n",
            "Submodule path 'pkg/cwrap': checked out 'dbd0a623dc4dfb4b8169d5aecc6dd9aec2f22792'\n",
            "Submodule path 'pkg/dok': checked out '1b36900e1bfa6ee7f48db52c577bdeb7d9e85909'\n",
            "Submodule path 'pkg/gnuplot': checked out 'a75e6782bdd5a7aa3ed5c2a0a88b63a916472c66'\n",
            "Submodule path 'pkg/image': checked out '5aa18819b6a7b44751f8a858bd232d1c07b67985'\n",
            "Submodule path 'pkg/optim': checked out '656c42af1f996e4a5d6aae3b9aeac831ca162241'\n",
            "Submodule path 'pkg/paths': checked out '4ebe222ba12589fb9d86c1d3895d7f509df77b6a'\n",
            "Submodule path 'pkg/qttorch': checked out 'ba5b5a143482857f80237181d5fde0a3ba20477b'\n",
            "Submodule path 'pkg/sundown': checked out '4324669b1adbde92cef2dbf4550428a13a03ca6f'\n",
            "Submodule path 'pkg/sys': checked out 'f073f057d3fd2148866eaa0444a62ababfdf935e'\n",
            "Submodule path 'pkg/torch': checked out '3e9e141ced1afd0cad451e69f90e6e53503647ca'\n",
            "Submodule path 'pkg/xlua': checked out '41308fe696bf8b0892f4ad4f9857d12a87a3f75e'\n"
          ],
          "name": "stdout"
        }
      ]
    },
    {
      "cell_type": "code",
      "metadata": {
        "id": "asDMhO8CZXqQ",
        "colab_type": "code",
        "outputId": "b3dcc3eb-8a41-4dc0-d979-cc8f15053004",
        "colab": {
          "base_uri": "https://localhost:8080/",
          "height": 34
        }
      },
      "source": [
        "pwd"
      ],
      "execution_count": 0,
      "outputs": [
        {
          "output_type": "execute_result",
          "data": {
            "text/plain": [
              "'/content'"
            ]
          },
          "metadata": {
            "tags": []
          },
          "execution_count": 11
        }
      ]
    },
    {
      "cell_type": "code",
      "metadata": {
        "id": "AyKpAMMqZ71k",
        "colab_type": "code",
        "outputId": "1366a8de-f8b0-4f34-9080-4e9a2571fe9c",
        "colab": {
          "base_uri": "https://localhost:8080/",
          "height": 34
        }
      },
      "source": [
        "cd ../root/torch/"
      ],
      "execution_count": 0,
      "outputs": [
        {
          "output_type": "stream",
          "text": [
            "/root/torch\n"
          ],
          "name": "stdout"
        }
      ]
    },
    {
      "cell_type": "code",
      "metadata": {
        "id": "oYTzAYjTZXme",
        "colab_type": "code",
        "outputId": "7ce7674b-cf6c-4d04-81b4-bae38376b2cc",
        "colab": {
          "base_uri": "https://localhost:8080/",
          "height": 12940
        }
      },
      "source": [
        "!bash install-deps"
      ],
      "execution_count": 0,
      "outputs": [
        {
          "output_type": "stream",
          "text": [
            "Ign:1 https://developer.download.nvidia.com/compute/cuda/repos/ubuntu1804/x86_64  InRelease\n",
            "Get:2 http://security.ubuntu.com/ubuntu bionic-security InRelease [88.7 kB]\n",
            "Hit:3 http://archive.ubuntu.com/ubuntu bionic InRelease\n",
            "Hit:4 http://ppa.launchpad.net/graphics-drivers/ppa/ubuntu bionic InRelease\n",
            "Ign:5 https://developer.download.nvidia.com/compute/machine-learning/repos/ubuntu1804/x86_64  InRelease\n",
            "Get:6 https://developer.download.nvidia.com/compute/cuda/repos/ubuntu1804/x86_64  Release [564 B]\n",
            "Hit:7 https://developer.download.nvidia.com/compute/machine-learning/repos/ubuntu1804/x86_64  Release\n",
            "Get:8 https://developer.download.nvidia.com/compute/cuda/repos/ubuntu1804/x86_64  Release.gpg [801 B]\n",
            "Get:9 http://archive.ubuntu.com/ubuntu bionic-updates InRelease [88.7 kB]\n",
            "Get:10 https://cloud.r-project.org/bin/linux/ubuntu bionic-cran35/ InRelease [3,609 B]\n",
            "Get:11 http://ppa.launchpad.net/marutter/c2d4u3.5/ubuntu bionic InRelease [15.4 kB]\n",
            "Hit:13 http://archive.ubuntu.com/ubuntu bionic-backports InRelease\n",
            "Get:14 https://developer.download.nvidia.com/compute/cuda/repos/ubuntu1804/x86_64  Packages [85.5 kB]\n",
            "Get:15 http://ppa.launchpad.net/marutter/c2d4u3.5/ubuntu bionic/main Sources [1,643 kB]\n",
            "Get:16 http://security.ubuntu.com/ubuntu bionic-security/universe amd64 Packages [310 kB]\n",
            "Get:17 http://archive.ubuntu.com/ubuntu bionic-updates/universe amd64 Packages [1,199 kB]\n",
            "Get:18 http://security.ubuntu.com/ubuntu bionic-security/main amd64 Packages [451 kB]\n",
            "Get:19 http://archive.ubuntu.com/ubuntu bionic-updates/main amd64 Packages [803 kB]\n",
            "Get:20 http://ppa.launchpad.net/marutter/c2d4u3.5/ubuntu bionic/main amd64 Packages [788 kB]\n",
            "Fetched 5,479 kB in 2s (2,369 kB/s)\n",
            "Reading package lists... Done\n",
            "Updated successfully.\n",
            "==> Found Ubuntu version 18.xx\n",
            "Reading package lists... Done\n",
            "Building dependency tree       \n",
            "Reading state information... Done\n",
            "software-properties-common is already the newest version (0.96.24.32.8).\n",
            "The following package was automatically installed and is no longer required:\n",
            "  libnvidia-common-410\n",
            "Use 'sudo apt autoremove' to remove it.\n",
            "0 upgraded, 0 newly installed, 0 to remove and 9 not upgraded.\n",
            "Reading package lists... Done\n",
            "Building dependency tree       \n",
            "Reading state information... Done\n",
            "software-properties-common is already the newest version (0.96.24.32.8).\n",
            "The following package was automatically installed and is no longer required:\n",
            "  libnvidia-common-410\n",
            "Use 'sudo apt autoremove' to remove it.\n",
            "The following additional packages will be installed:\n",
            "  fonts-droid-fallback fonts-noto-mono ghostscript gsfonts libao-common libao4\n",
            "  libcupsfilters1 libcupsimage2 libfftw3-bin libfftw3-long3 libfftw3-quad3\n",
            "  libfftw3-single3 libgraphicsmagick-q16-3 libgs9 libgs9-common libid3tag0\n",
            "  libijs-0.35 libjbig2dec0 liblcms2-dev libmad0 libmagic-mgc libmagic1\n",
            "  libopencore-amrnb0 libopencore-amrwb0 libsox-fmt-alsa libsox-fmt-ao\n",
            "  libsox-fmt-base libsox-fmt-mp3 libsox-fmt-oss libsox-fmt-pulse libsox3\n",
            "  libwebp-dev libwmf-dev libwmf0.2-7 poppler-data\n",
            "Suggested packages:\n",
            "  fonts-noto ghostscript-x libaudio2 libfftw3-doc graphicsmagick-dbg\n",
            "  graphicsmagick file libwmf-doc libwmf0.2-7-gtk poppler-utils\n",
            "  fonts-japanese-mincho | fonts-ipafont-mincho fonts-japanese-gothic\n",
            "  | fonts-ipafont-gothic fonts-arphic-ukai fonts-arphic-uming fonts-nanum\n",
            "The following NEW packages will be installed:\n",
            "  fonts-droid-fallback fonts-noto-mono ghostscript gsfonts libao-common libao4\n",
            "  libcupsfilters1 libcupsimage2 libfftw3-bin libfftw3-dev libfftw3-long3\n",
            "  libfftw3-quad3 libfftw3-single3 libgraphicsmagick-q16-3\n",
            "  libgraphicsmagick1-dev libgs9 libgs9-common libid3tag0 libijs-0.35\n",
            "  libjbig2dec0 liblcms2-dev libmad0 libmagic-mgc libmagic1 libopencore-amrnb0\n",
            "  libopencore-amrwb0 libsox-dev libsox-fmt-all libsox-fmt-alsa libsox-fmt-ao\n",
            "  libsox-fmt-base libsox-fmt-mp3 libsox-fmt-oss libsox-fmt-pulse libsox3\n",
            "  libwebp-dev libwmf-dev libwmf0.2-7 poppler-data sox\n",
            "0 upgraded, 40 newly installed, 0 to remove and 9 not upgraded.\n",
            "Need to get 31.3 MB of archives.\n",
            "After this operation, 103 MB of additional disk space will be used.\n",
            "Get:1 http://archive.ubuntu.com/ubuntu bionic/main amd64 fonts-droid-fallback all 1:6.0.1r16-1.1 [1,805 kB]\n",
            "Get:2 http://archive.ubuntu.com/ubuntu bionic/universe amd64 libopencore-amrnb0 amd64 0.1.3-2.1 [92.0 kB]\n",
            "Get:3 http://archive.ubuntu.com/ubuntu bionic/universe amd64 libopencore-amrwb0 amd64 0.1.3-2.1 [45.8 kB]\n",
            "Get:4 http://archive.ubuntu.com/ubuntu bionic/main amd64 poppler-data all 0.4.8-2 [1,479 kB]\n",
            "Get:5 http://archive.ubuntu.com/ubuntu bionic-updates/main amd64 libmagic-mgc amd64 1:5.32-2ubuntu0.2 [184 kB]\n",
            "Get:6 http://archive.ubuntu.com/ubuntu bionic-updates/main amd64 libmagic1 amd64 1:5.32-2ubuntu0.2 [68.5 kB]\n",
            "Get:7 http://archive.ubuntu.com/ubuntu bionic/main amd64 fonts-noto-mono all 20171026-2 [75.5 kB]\n",
            "Get:8 http://archive.ubuntu.com/ubuntu bionic-updates/main amd64 libcupsimage2 amd64 2.2.7-1ubuntu2.5 [18.6 kB]\n",
            "Get:9 http://archive.ubuntu.com/ubuntu bionic/main amd64 libijs-0.35 amd64 0.35-13 [15.5 kB]\n",
            "Get:10 http://archive.ubuntu.com/ubuntu bionic/main amd64 libjbig2dec0 amd64 0.13-6 [55.9 kB]\n",
            "Get:11 http://archive.ubuntu.com/ubuntu bionic-updates/main amd64 libgs9-common all 9.26~dfsg+0-0ubuntu0.18.04.9 [5,092 kB]\n",
            "Get:12 http://archive.ubuntu.com/ubuntu bionic-updates/main amd64 libgs9 amd64 9.26~dfsg+0-0ubuntu0.18.04.9 [2,264 kB]\n",
            "Get:13 http://archive.ubuntu.com/ubuntu bionic-updates/main amd64 ghostscript amd64 9.26~dfsg+0-0ubuntu0.18.04.9 [51.3 kB]\n",
            "Get:14 http://archive.ubuntu.com/ubuntu bionic/main amd64 gsfonts all 1:8.11+urwcyr1.0.7~pre44-4.4 [3,120 kB]\n",
            "Get:15 http://archive.ubuntu.com/ubuntu bionic/main amd64 libao-common all 1.2.2+20180113-1ubuntu1 [6,644 B]\n",
            "Get:16 http://archive.ubuntu.com/ubuntu bionic/main amd64 libao4 amd64 1.2.2+20180113-1ubuntu1 [35.1 kB]\n",
            "Get:17 http://archive.ubuntu.com/ubuntu bionic-updates/main amd64 libcupsfilters1 amd64 1.20.2-0ubuntu3.1 [108 kB]\n",
            "Get:18 http://archive.ubuntu.com/ubuntu bionic/main amd64 libfftw3-long3 amd64 3.3.7-1 [308 kB]\n",
            "Get:19 http://archive.ubuntu.com/ubuntu bionic/main amd64 libfftw3-quad3 amd64 3.3.7-1 [552 kB]\n",
            "Get:20 http://archive.ubuntu.com/ubuntu bionic/main amd64 libfftw3-single3 amd64 3.3.7-1 [764 kB]\n",
            "Get:21 http://archive.ubuntu.com/ubuntu bionic/main amd64 libfftw3-bin amd64 3.3.7-1 [32.7 kB]\n",
            "Get:22 http://archive.ubuntu.com/ubuntu bionic/main amd64 libfftw3-dev amd64 3.3.7-1 [2,108 kB]\n",
            "Get:23 http://archive.ubuntu.com/ubuntu bionic/main amd64 libwmf0.2-7 amd64 0.2.8.4-12 [150 kB]\n",
            "Get:24 http://archive.ubuntu.com/ubuntu bionic/universe amd64 libgraphicsmagick-q16-3 amd64 1.3.28-2 [1,112 kB]\n",
            "Get:25 http://archive.ubuntu.com/ubuntu bionic-updates/main amd64 liblcms2-dev amd64 2.9-1ubuntu0.1 [9,096 kB]\n",
            "Get:26 http://archive.ubuntu.com/ubuntu bionic/main amd64 libwmf-dev amd64 0.2.8.4-12 [172 kB]\n",
            "Get:27 http://archive.ubuntu.com/ubuntu bionic/main amd64 libwebp-dev amd64 0.6.1-2 [267 kB]\n",
            "Get:28 http://archive.ubuntu.com/ubuntu bionic/universe amd64 libgraphicsmagick1-dev amd64 1.3.28-2 [1,336 kB]\n",
            "Get:29 http://archive.ubuntu.com/ubuntu bionic/universe amd64 libid3tag0 amd64 0.15.1b-13 [31.2 kB]\n",
            "Get:30 http://archive.ubuntu.com/ubuntu bionic-updates/universe amd64 libmad0 amd64 0.15.1b-9ubuntu18.04.1 [64.6 kB]\n",
            "Get:31 http://archive.ubuntu.com/ubuntu bionic/universe amd64 libsox3 amd64 14.4.2-3 [225 kB]\n",
            "Get:32 http://archive.ubuntu.com/ubuntu bionic/universe amd64 libsox-fmt-alsa amd64 14.4.2-3 [10.6 kB]\n",
            "Get:33 http://archive.ubuntu.com/ubuntu bionic/universe amd64 libsox-fmt-ao amd64 14.4.2-3 [7,452 B]\n",
            "Get:34 http://archive.ubuntu.com/ubuntu bionic/universe amd64 libsox-fmt-base amd64 14.4.2-3 [32.0 kB]\n",
            "Get:35 http://archive.ubuntu.com/ubuntu bionic/universe amd64 libsox-fmt-mp3 amd64 14.4.2-3 [15.8 kB]\n",
            "Get:36 http://archive.ubuntu.com/ubuntu bionic/universe amd64 libsox-fmt-oss amd64 14.4.2-3 [9,004 B]\n",
            "Get:37 http://archive.ubuntu.com/ubuntu bionic/universe amd64 libsox-fmt-pulse amd64 14.4.2-3 [7,372 B]\n",
            "Get:38 http://archive.ubuntu.com/ubuntu bionic/universe amd64 libsox-fmt-all amd64 14.4.2-3 [5,116 B]\n",
            "Get:39 http://archive.ubuntu.com/ubuntu bionic/universe amd64 libsox-dev amd64 14.4.2-3 [325 kB]\n",
            "Get:40 http://archive.ubuntu.com/ubuntu bionic/universe amd64 sox amd64 14.4.2-3 [101 kB]\n",
            "Fetched 31.3 MB in 2s (16.2 MB/s)\n",
            "debconf: unable to initialize frontend: Dialog\n",
            "debconf: (No usable dialog-like program is installed, so the dialog based frontend cannot be used. at /usr/share/perl5/Debconf/FrontEnd/Dialog.pm line 76, <> line 40.)\n",
            "debconf: falling back to frontend: Readline\n",
            "debconf: unable to initialize frontend: Readline\n",
            "debconf: (This frontend requires a controlling tty.)\n",
            "debconf: falling back to frontend: Teletype\n",
            "dpkg-preconfigure: unable to re-open stdin: \n",
            "Selecting previously unselected package fonts-droid-fallback.\n",
            "(Reading database ... 130911 files and directories currently installed.)\n",
            "Preparing to unpack .../00-fonts-droid-fallback_1%3a6.0.1r16-1.1_all.deb ...\n",
            "Unpacking fonts-droid-fallback (1:6.0.1r16-1.1) ...\n",
            "Selecting previously unselected package libopencore-amrnb0:amd64.\n",
            "Preparing to unpack .../01-libopencore-amrnb0_0.1.3-2.1_amd64.deb ...\n",
            "Unpacking libopencore-amrnb0:amd64 (0.1.3-2.1) ...\n",
            "Selecting previously unselected package libopencore-amrwb0:amd64.\n",
            "Preparing to unpack .../02-libopencore-amrwb0_0.1.3-2.1_amd64.deb ...\n",
            "Unpacking libopencore-amrwb0:amd64 (0.1.3-2.1) ...\n",
            "Selecting previously unselected package poppler-data.\n",
            "Preparing to unpack .../03-poppler-data_0.4.8-2_all.deb ...\n",
            "Unpacking poppler-data (0.4.8-2) ...\n",
            "Selecting previously unselected package libmagic-mgc.\n",
            "Preparing to unpack .../04-libmagic-mgc_1%3a5.32-2ubuntu0.2_amd64.deb ...\n",
            "Unpacking libmagic-mgc (1:5.32-2ubuntu0.2) ...\n",
            "Selecting previously unselected package libmagic1:amd64.\n",
            "Preparing to unpack .../05-libmagic1_1%3a5.32-2ubuntu0.2_amd64.deb ...\n",
            "Unpacking libmagic1:amd64 (1:5.32-2ubuntu0.2) ...\n",
            "Selecting previously unselected package fonts-noto-mono.\n",
            "Preparing to unpack .../06-fonts-noto-mono_20171026-2_all.deb ...\n",
            "Unpacking fonts-noto-mono (20171026-2) ...\n",
            "Selecting previously unselected package libcupsimage2:amd64.\n",
            "Preparing to unpack .../07-libcupsimage2_2.2.7-1ubuntu2.5_amd64.deb ...\n",
            "Unpacking libcupsimage2:amd64 (2.2.7-1ubuntu2.5) ...\n",
            "Selecting previously unselected package libijs-0.35:amd64.\n",
            "Preparing to unpack .../08-libijs-0.35_0.35-13_amd64.deb ...\n",
            "Unpacking libijs-0.35:amd64 (0.35-13) ...\n",
            "Selecting previously unselected package libjbig2dec0:amd64.\n",
            "Preparing to unpack .../09-libjbig2dec0_0.13-6_amd64.deb ...\n",
            "Unpacking libjbig2dec0:amd64 (0.13-6) ...\n",
            "Selecting previously unselected package libgs9-common.\n",
            "Preparing to unpack .../10-libgs9-common_9.26~dfsg+0-0ubuntu0.18.04.9_all.deb ...\n",
            "Unpacking libgs9-common (9.26~dfsg+0-0ubuntu0.18.04.9) ...\n",
            "Selecting previously unselected package libgs9:amd64.\n",
            "Preparing to unpack .../11-libgs9_9.26~dfsg+0-0ubuntu0.18.04.9_amd64.deb ...\n",
            "Unpacking libgs9:amd64 (9.26~dfsg+0-0ubuntu0.18.04.9) ...\n",
            "Selecting previously unselected package ghostscript.\n",
            "Preparing to unpack .../12-ghostscript_9.26~dfsg+0-0ubuntu0.18.04.9_amd64.deb ...\n",
            "Unpacking ghostscript (9.26~dfsg+0-0ubuntu0.18.04.9) ...\n",
            "Selecting previously unselected package gsfonts.\n",
            "Preparing to unpack .../13-gsfonts_1%3a8.11+urwcyr1.0.7~pre44-4.4_all.deb ...\n",
            "Unpacking gsfonts (1:8.11+urwcyr1.0.7~pre44-4.4) ...\n",
            "Selecting previously unselected package libao-common.\n",
            "Preparing to unpack .../14-libao-common_1.2.2+20180113-1ubuntu1_all.deb ...\n",
            "Unpacking libao-common (1.2.2+20180113-1ubuntu1) ...\n",
            "Selecting previously unselected package libao4:amd64.\n",
            "Preparing to unpack .../15-libao4_1.2.2+20180113-1ubuntu1_amd64.deb ...\n",
            "Unpacking libao4:amd64 (1.2.2+20180113-1ubuntu1) ...\n",
            "Selecting previously unselected package libcupsfilters1:amd64.\n",
            "Preparing to unpack .../16-libcupsfilters1_1.20.2-0ubuntu3.1_amd64.deb ...\n",
            "Unpacking libcupsfilters1:amd64 (1.20.2-0ubuntu3.1) ...\n",
            "Selecting previously unselected package libfftw3-long3:amd64.\n",
            "Preparing to unpack .../17-libfftw3-long3_3.3.7-1_amd64.deb ...\n",
            "Unpacking libfftw3-long3:amd64 (3.3.7-1) ...\n",
            "Selecting previously unselected package libfftw3-quad3:amd64.\n",
            "Preparing to unpack .../18-libfftw3-quad3_3.3.7-1_amd64.deb ...\n",
            "Unpacking libfftw3-quad3:amd64 (3.3.7-1) ...\n",
            "Selecting previously unselected package libfftw3-single3:amd64.\n",
            "Preparing to unpack .../19-libfftw3-single3_3.3.7-1_amd64.deb ...\n",
            "Unpacking libfftw3-single3:amd64 (3.3.7-1) ...\n",
            "Selecting previously unselected package libfftw3-bin.\n",
            "Preparing to unpack .../20-libfftw3-bin_3.3.7-1_amd64.deb ...\n",
            "Unpacking libfftw3-bin (3.3.7-1) ...\n",
            "Selecting previously unselected package libfftw3-dev:amd64.\n",
            "Preparing to unpack .../21-libfftw3-dev_3.3.7-1_amd64.deb ...\n",
            "Unpacking libfftw3-dev:amd64 (3.3.7-1) ...\n",
            "Selecting previously unselected package libwmf0.2-7:amd64.\n",
            "Preparing to unpack .../22-libwmf0.2-7_0.2.8.4-12_amd64.deb ...\n",
            "Unpacking libwmf0.2-7:amd64 (0.2.8.4-12) ...\n",
            "Selecting previously unselected package libgraphicsmagick-q16-3.\n",
            "Preparing to unpack .../23-libgraphicsmagick-q16-3_1.3.28-2_amd64.deb ...\n",
            "Unpacking libgraphicsmagick-q16-3 (1.3.28-2) ...\n",
            "Selecting previously unselected package liblcms2-dev:amd64.\n",
            "Preparing to unpack .../24-liblcms2-dev_2.9-1ubuntu0.1_amd64.deb ...\n",
            "Unpacking liblcms2-dev:amd64 (2.9-1ubuntu0.1) ...\n",
            "Selecting previously unselected package libwmf-dev.\n",
            "Preparing to unpack .../25-libwmf-dev_0.2.8.4-12_amd64.deb ...\n",
            "Unpacking libwmf-dev (0.2.8.4-12) ...\n",
            "Selecting previously unselected package libwebp-dev:amd64.\n",
            "Preparing to unpack .../26-libwebp-dev_0.6.1-2_amd64.deb ...\n",
            "Unpacking libwebp-dev:amd64 (0.6.1-2) ...\n",
            "Selecting previously unselected package libgraphicsmagick1-dev.\n",
            "Preparing to unpack .../27-libgraphicsmagick1-dev_1.3.28-2_amd64.deb ...\n",
            "Unpacking libgraphicsmagick1-dev (1.3.28-2) ...\n",
            "Selecting previously unselected package libid3tag0:amd64.\n",
            "Preparing to unpack .../28-libid3tag0_0.15.1b-13_amd64.deb ...\n",
            "Unpacking libid3tag0:amd64 (0.15.1b-13) ...\n",
            "Selecting previously unselected package libmad0:amd64.\n",
            "Preparing to unpack .../29-libmad0_0.15.1b-9ubuntu18.04.1_amd64.deb ...\n",
            "Unpacking libmad0:amd64 (0.15.1b-9ubuntu18.04.1) ...\n",
            "Selecting previously unselected package libsox3:amd64.\n",
            "Preparing to unpack .../30-libsox3_14.4.2-3_amd64.deb ...\n",
            "Unpacking libsox3:amd64 (14.4.2-3) ...\n",
            "Selecting previously unselected package libsox-fmt-alsa:amd64.\n",
            "Preparing to unpack .../31-libsox-fmt-alsa_14.4.2-3_amd64.deb ...\n",
            "Unpacking libsox-fmt-alsa:amd64 (14.4.2-3) ...\n",
            "Selecting previously unselected package libsox-fmt-ao:amd64.\n",
            "Preparing to unpack .../32-libsox-fmt-ao_14.4.2-3_amd64.deb ...\n",
            "Unpacking libsox-fmt-ao:amd64 (14.4.2-3) ...\n",
            "Selecting previously unselected package libsox-fmt-base:amd64.\n",
            "Preparing to unpack .../33-libsox-fmt-base_14.4.2-3_amd64.deb ...\n",
            "Unpacking libsox-fmt-base:amd64 (14.4.2-3) ...\n",
            "Selecting previously unselected package libsox-fmt-mp3:amd64.\n",
            "Preparing to unpack .../34-libsox-fmt-mp3_14.4.2-3_amd64.deb ...\n",
            "Unpacking libsox-fmt-mp3:amd64 (14.4.2-3) ...\n",
            "Selecting previously unselected package libsox-fmt-oss:amd64.\n",
            "Preparing to unpack .../35-libsox-fmt-oss_14.4.2-3_amd64.deb ...\n",
            "Unpacking libsox-fmt-oss:amd64 (14.4.2-3) ...\n",
            "Selecting previously unselected package libsox-fmt-pulse:amd64.\n",
            "Preparing to unpack .../36-libsox-fmt-pulse_14.4.2-3_amd64.deb ...\n",
            "Unpacking libsox-fmt-pulse:amd64 (14.4.2-3) ...\n",
            "Selecting previously unselected package libsox-fmt-all:amd64.\n",
            "Preparing to unpack .../37-libsox-fmt-all_14.4.2-3_amd64.deb ...\n",
            "Unpacking libsox-fmt-all:amd64 (14.4.2-3) ...\n",
            "Selecting previously unselected package libsox-dev:amd64.\n",
            "Preparing to unpack .../38-libsox-dev_14.4.2-3_amd64.deb ...\n",
            "Unpacking libsox-dev:amd64 (14.4.2-3) ...\n",
            "Selecting previously unselected package sox.\n",
            "Preparing to unpack .../39-sox_14.4.2-3_amd64.deb ...\n",
            "Unpacking sox (14.4.2-3) ...\n",
            "Setting up libgs9-common (9.26~dfsg+0-0ubuntu0.18.04.9) ...\n",
            "Setting up fonts-droid-fallback (1:6.0.1r16-1.1) ...\n",
            "Setting up libid3tag0:amd64 (0.15.1b-13) ...\n",
            "Setting up liblcms2-dev:amd64 (2.9-1ubuntu0.1) ...\n",
            "Processing triggers for mime-support (3.60ubuntu1) ...\n",
            "Setting up gsfonts (1:8.11+urwcyr1.0.7~pre44-4.4) ...\n",
            "Setting up poppler-data (0.4.8-2) ...\n",
            "Setting up libao-common (1.2.2+20180113-1ubuntu1) ...\n",
            "Setting up libmagic-mgc (1:5.32-2ubuntu0.2) ...\n",
            "Setting up fonts-noto-mono (20171026-2) ...\n",
            "Setting up libwebp-dev:amd64 (0.6.1-2) ...\n",
            "Setting up libmagic1:amd64 (1:5.32-2ubuntu0.2) ...\n",
            "Setting up libcupsfilters1:amd64 (1.20.2-0ubuntu3.1) ...\n",
            "Setting up libfftw3-quad3:amd64 (3.3.7-1) ...\n",
            "Setting up libcupsimage2:amd64 (2.2.7-1ubuntu2.5) ...\n",
            "Setting up libjbig2dec0:amd64 (0.13-6) ...\n",
            "Processing triggers for libc-bin (2.27-3ubuntu1) ...\n",
            "Setting up libijs-0.35:amd64 (0.35-13) ...\n",
            "Setting up libfftw3-single3:amd64 (3.3.7-1) ...\n",
            "Setting up libopencore-amrnb0:amd64 (0.1.3-2.1) ...\n",
            "Processing triggers for man-db (2.8.3-2ubuntu0.1) ...\n",
            "Setting up libmad0:amd64 (0.15.1b-9ubuntu18.04.1) ...\n",
            "Setting up libfftw3-long3:amd64 (3.3.7-1) ...\n",
            "Setting up libopencore-amrwb0:amd64 (0.1.3-2.1) ...\n",
            "Setting up libgs9:amd64 (9.26~dfsg+0-0ubuntu0.18.04.9) ...\n",
            "Setting up libsox3:amd64 (14.4.2-3) ...\n",
            "Setting up libwmf0.2-7:amd64 (0.2.8.4-12) ...\n",
            "Setting up libsox-fmt-mp3:amd64 (14.4.2-3) ...\n",
            "Processing triggers for fontconfig (2.12.6-0ubuntu2) ...\n",
            "Setting up libsox-fmt-base:amd64 (14.4.2-3) ...\n",
            "Setting up libwmf-dev (0.2.8.4-12) ...\n",
            "Setting up libfftw3-bin (3.3.7-1) ...\n",
            "Setting up libsox-fmt-pulse:amd64 (14.4.2-3) ...\n",
            "Setting up libao4:amd64 (1.2.2+20180113-1ubuntu1) ...\n",
            "Setting up libsox-fmt-alsa:amd64 (14.4.2-3) ...\n",
            "Setting up ghostscript (9.26~dfsg+0-0ubuntu0.18.04.9) ...\n",
            "Setting up libgraphicsmagick-q16-3 (1.3.28-2) ...\n",
            "Setting up libsox-fmt-oss:amd64 (14.4.2-3) ...\n",
            "Setting up libfftw3-dev:amd64 (3.3.7-1) ...\n",
            "Setting up libsox-fmt-ao:amd64 (14.4.2-3) ...\n",
            "Setting up sox (14.4.2-3) ...\n",
            "Setting up libsox-fmt-all:amd64 (14.4.2-3) ...\n",
            "Setting up libgraphicsmagick1-dev (1.3.28-2) ...\n",
            "Setting up libsox-dev:amd64 (14.4.2-3) ...\n",
            "Processing triggers for libc-bin (2.27-3ubuntu1) ...\n",
            "Ign:1 https://developer.download.nvidia.com/compute/cuda/repos/ubuntu1804/x86_64  InRelease\n",
            "Hit:2 http://archive.ubuntu.com/ubuntu bionic InRelease\n",
            "Hit:3 http://security.ubuntu.com/ubuntu bionic-security InRelease\n",
            "Hit:4 http://ppa.launchpad.net/graphics-drivers/ppa/ubuntu bionic InRelease\n",
            "Hit:5 https://cloud.r-project.org/bin/linux/ubuntu bionic-cran35/ InRelease\n",
            "Ign:6 https://developer.download.nvidia.com/compute/machine-learning/repos/ubuntu1804/x86_64  InRelease\n",
            "Hit:7 https://developer.download.nvidia.com/compute/cuda/repos/ubuntu1804/x86_64  Release\n",
            "Hit:8 https://developer.download.nvidia.com/compute/machine-learning/repos/ubuntu1804/x86_64  Release\n",
            "Hit:9 http://archive.ubuntu.com/ubuntu bionic-updates InRelease\n",
            "Hit:10 http://archive.ubuntu.com/ubuntu bionic-backports InRelease\n",
            "Hit:11 http://ppa.launchpad.net/marutter/c2d4u3.5/ubuntu bionic InRelease\n",
            "Reading package lists... Done\n",
            "Updated successfully.\n",
            "Reading package lists... Done\n",
            "Building dependency tree       \n",
            "Reading state information... Done\n",
            "Note, selecting 'git' instead of 'git-core'\n",
            "Note, selecting 'libncurses5-dev' instead of 'ncurses-dev'\n",
            "build-essential is already the newest version (12.4ubuntu1).\n",
            "cmake is already the newest version (3.10.2-1ubuntu2).\n",
            "libjpeg-dev is already the newest version (8c-2ubuntu8).\n",
            "libjpeg-dev set to manually installed.\n",
            "libreadline-dev is already the newest version (7.0-3).\n",
            "libreadline-dev set to manually installed.\n",
            "unzip is already the newest version (6.0-21ubuntu1).\n",
            "curl is already the newest version (7.58.0-2ubuntu3.7).\n",
            "g++ is already the newest version (4:7.4.0-1ubuntu2.2).\n",
            "g++ set to manually installed.\n",
            "gcc is already the newest version (4:7.4.0-1ubuntu2.2).\n",
            "gcc set to manually installed.\n",
            "gfortran is already the newest version (4:7.4.0-1ubuntu2.2).\n",
            "git is already the newest version (1:2.17.1-1ubuntu0.4).\n",
            "libncurses5-dev is already the newest version (6.1-1ubuntu1.18.04).\n",
            "libpng-dev is already the newest version (1.6.34-1ubuntu0.18.04.2).\n",
            "libzmq3-dev is already the newest version (4.2.5-1ubuntu0.1).\n",
            "The following package was automatically installed and is no longer required:\n",
            "  libnvidia-common-410\n",
            "Use 'sudo apt autoremove' to remove it.\n",
            "The following additional packages will be installed:\n",
            "  aglfn gnuplot-data imagemagick-6-common imagemagick-6.q16 libaudio2\n",
            "  libdjvulibre-text libdjvulibre21 libgail-common libgail18 libgtk2.0-0\n",
            "  libgtk2.0-bin libgtk2.0-common liblqr-1-0 liblua5.3-0 libmagickcore-6.q16-3\n",
            "  libmagickcore-6.q16-3-extra libmagickwand-6.q16-3 libmng2 libnetpbm10\n",
            "  libnotify4 libqt4-dbus libqt4-declarative libqt4-designer libqt4-dev-bin\n",
            "  libqt4-help libqt4-network libqt4-opengl libqt4-opengl-dev libqt4-qt3support\n",
            "  libqt4-script libqt4-scripttools libqt4-sql libqt4-sql-mysql libqt4-svg\n",
            "  libqt4-test libqt4-xml libqt4-xmlpatterns libqtcore4 libqtdbus4 libqtgui4\n",
            "  libwxbase3.0-0v5 libwxgtk3.0-0v5 netpbm notification-daemon\n",
            "  python-backports-shutil-get-terminal-size python-chardet python-decorator\n",
            "  python-enum34 python-ipython python-ipython-genutils python-pathlib2\n",
            "  python-pexpect python-pickleshare python-pkg-resources python-prompt-toolkit\n",
            "  python-ptyprocess python-pygments python-scandir python-simplegeneric\n",
            "  python-six python-traitlets python-wcwidth qdbus qt-at-spi\n",
            "  qt4-linguist-tools qt4-qmake qtcore4-l10n\n",
            "Suggested packages:\n",
            "  gnuplot-doc imagemagick-doc autotrace cups-bsd | lpr | lprng enscript gimp\n",
            "  grads hp2xx html2ps libwmf-bin mplayer povray radiance sane-utils\n",
            "  texlive-base-bin transfig ufraw-batch nas gvfs inkscape libjxr-tools\n",
            "  libqt4-declarative-folderlistmodel libqt4-declarative-gestures\n",
            "  libqt4-declarative-particles libqt4-declarative-shaders qt4-qmlviewer\n",
            "  firebird-dev libmysqlclient-dev libpq-dev libsqlite0-dev libsqlite3-dev\n",
            "  qt4-dev-tools qt4-doc unixodbc-dev libicu55 qt4-qtconfig python-enum34-doc\n",
            "  python-pexpect-doc python-setuptools ttf-bitstream-vera\n",
            "The following NEW packages will be installed:\n",
            "  aglfn gnuplot gnuplot-data gnuplot-x11 imagemagick imagemagick-6-common\n",
            "  imagemagick-6.q16 ipython libaudio2 libdjvulibre-text libdjvulibre21\n",
            "  libgail-common libgail18 libgtk2.0-0 libgtk2.0-bin libgtk2.0-common\n",
            "  liblqr-1-0 liblua5.3-0 libmagickcore-6.q16-3 libmagickcore-6.q16-3-extra\n",
            "  libmagickwand-6.q16-3 libmng2 libnetpbm10 libnotify4 libqt4-dbus\n",
            "  libqt4-declarative libqt4-designer libqt4-dev libqt4-dev-bin libqt4-help\n",
            "  libqt4-network libqt4-opengl libqt4-opengl-dev libqt4-qt3support\n",
            "  libqt4-script libqt4-scripttools libqt4-sql libqt4-sql-mysql libqt4-svg\n",
            "  libqt4-test libqt4-xml libqt4-xmlpatterns libqtcore4 libqtdbus4 libqtgui4\n",
            "  libwxbase3.0-0v5 libwxgtk3.0-0v5 netpbm notification-daemon\n",
            "  python-backports-shutil-get-terminal-size python-chardet python-decorator\n",
            "  python-enum34 python-ipython python-ipython-genutils python-pathlib2\n",
            "  python-pexpect python-pickleshare python-pkg-resources python-prompt-toolkit\n",
            "  python-ptyprocess python-pygments python-scandir python-simplegeneric\n",
            "  python-six python-traitlets python-wcwidth qdbus qt-at-spi\n",
            "  qt4-linguist-tools qt4-qmake qtcore4-l10n\n",
            "0 upgraded, 72 newly installed, 0 to remove and 9 not upgraded.\n",
            "Need to get 35.1 MB of archives.\n",
            "After this operation, 142 MB of additional disk space will be used.\n",
            "Get:1 http://archive.ubuntu.com/ubuntu bionic/main amd64 liblqr-1-0 amd64 0.4.2-2.1 [27.7 kB]\n",
            "Get:2 http://archive.ubuntu.com/ubuntu bionic-updates/main amd64 imagemagick-6-common all 8:6.9.7.4+dfsg-16ubuntu6.4 [60.9 kB]\n",
            "Get:3 http://archive.ubuntu.com/ubuntu bionic-updates/main amd64 libmagickcore-6.q16-3 amd64 8:6.9.7.4+dfsg-16ubuntu6.4 [1,616 kB]\n",
            "Get:4 http://archive.ubuntu.com/ubuntu bionic-updates/main amd64 libmagickwand-6.q16-3 amd64 8:6.9.7.4+dfsg-16ubuntu6.4 [293 kB]\n",
            "Get:5 http://archive.ubuntu.com/ubuntu bionic/universe amd64 libmng2 amd64 2.0.2-0ubuntu3 [169 kB]\n",
            "Get:6 http://archive.ubuntu.com/ubuntu bionic/universe amd64 aglfn all 1.7-3 [29.4 kB]\n",
            "Get:7 http://archive.ubuntu.com/ubuntu bionic/universe amd64 gnuplot-data all 5.2.2+dfsg1-2ubuntu1 [56.7 kB]\n",
            "Get:8 http://archive.ubuntu.com/ubuntu bionic-updates/main amd64 liblua5.3-0 amd64 5.3.3-1ubuntu0.18.04.1 [115 kB]\n",
            "Get:9 http://archive.ubuntu.com/ubuntu bionic/universe amd64 libwxbase3.0-0v5 amd64 3.0.4+dfsg-3 [954 kB]\n",
            "Get:10 http://archive.ubuntu.com/ubuntu bionic/main amd64 libgtk2.0-common all 2.24.32-1ubuntu1 [125 kB]\n",
            "Get:11 http://archive.ubuntu.com/ubuntu bionic/main amd64 libgtk2.0-0 amd64 2.24.32-1ubuntu1 [1,769 kB]\n",
            "Get:12 http://archive.ubuntu.com/ubuntu bionic/main amd64 libnotify4 amd64 0.7.7-3 [17.3 kB]\n",
            "Get:13 http://archive.ubuntu.com/ubuntu bionic/universe amd64 libwxgtk3.0-0v5 amd64 3.0.4+dfsg-3 [4,182 kB]\n",
            "Get:14 http://archive.ubuntu.com/ubuntu bionic/universe amd64 gnuplot-x11 amd64 5.2.2+dfsg1-2ubuntu1 [926 kB]\n",
            "Get:15 http://archive.ubuntu.com/ubuntu bionic/universe amd64 gnuplot all 5.2.2+dfsg1-2ubuntu1 [3,816 B]\n",
            "Get:16 http://archive.ubuntu.com/ubuntu bionic-updates/main amd64 imagemagick-6.q16 amd64 8:6.9.7.4+dfsg-16ubuntu6.4 [423 kB]\n",
            "Get:17 http://archive.ubuntu.com/ubuntu bionic-updates/main amd64 imagemagick amd64 8:6.9.7.4+dfsg-16ubuntu6.4 [14.2 kB]\n",
            "Get:18 http://archive.ubuntu.com/ubuntu bionic/main amd64 python-decorator all 4.1.2-1 [9,300 B]\n",
            "Get:19 http://archive.ubuntu.com/ubuntu bionic/universe amd64 python-ptyprocess all 0.5.2-1 [12.6 kB]\n",
            "Get:20 http://archive.ubuntu.com/ubuntu bionic/universe amd64 python-pexpect all 4.2.1-1 [41.7 kB]\n",
            "Get:21 http://archive.ubuntu.com/ubuntu bionic/main amd64 python-six all 1.11.0-2 [11.3 kB]\n",
            "Get:22 http://archive.ubuntu.com/ubuntu bionic/universe amd64 python-scandir amd64 1.7-1 [17.7 kB]\n",
            "Get:23 http://archive.ubuntu.com/ubuntu bionic/universe amd64 python-pathlib2 all 2.3.0-1 [15.9 kB]\n",
            "Get:24 http://archive.ubuntu.com/ubuntu bionic/universe amd64 python-pickleshare all 0.7.4-2 [6,832 B]\n",
            "Get:25 http://archive.ubuntu.com/ubuntu bionic/main amd64 python-pkg-resources all 39.0.1-2 [128 kB]\n",
            "Get:26 http://archive.ubuntu.com/ubuntu bionic/universe amd64 python-wcwidth all 0.1.7+dfsg1-1 [14.7 kB]\n",
            "Get:27 http://archive.ubuntu.com/ubuntu bionic/universe amd64 python-prompt-toolkit all 1.0.15-1 [163 kB]\n",
            "Get:28 http://archive.ubuntu.com/ubuntu bionic/main amd64 python-pygments all 2.2.0+dfsg-1 [577 kB]\n",
            "Get:29 http://archive.ubuntu.com/ubuntu bionic/main amd64 python-simplegeneric all 0.8.1-1 [11.5 kB]\n",
            "Get:30 http://archive.ubuntu.com/ubuntu bionic/universe amd64 python-ipython-genutils all 0.2.0-1 [20.8 kB]\n",
            "Get:31 http://archive.ubuntu.com/ubuntu bionic/main amd64 python-enum34 all 1.1.6-2 [34.8 kB]\n",
            "Get:32 http://archive.ubuntu.com/ubuntu bionic/universe amd64 python-traitlets all 4.3.2-1 [59.0 kB]\n",
            "Get:33 http://archive.ubuntu.com/ubuntu bionic/universe amd64 python-backports-shutil-get-terminal-size all 1.0.0-5 [5,024 B]\n",
            "Get:34 http://archive.ubuntu.com/ubuntu bionic/universe amd64 python-ipython all 5.5.0-1 [381 kB]\n",
            "Get:35 http://archive.ubuntu.com/ubuntu bionic/universe amd64 ipython all 5.5.0-1 [5,284 B]\n",
            "Get:36 http://archive.ubuntu.com/ubuntu bionic/main amd64 libaudio2 amd64 1.9.4-6 [50.3 kB]\n",
            "Get:37 http://archive.ubuntu.com/ubuntu bionic/main amd64 libdjvulibre-text all 3.5.27.1-8 [49.1 kB]\n",
            "Get:38 http://archive.ubuntu.com/ubuntu bionic/main amd64 libdjvulibre21 amd64 3.5.27.1-8 [559 kB]\n",
            "Get:39 http://archive.ubuntu.com/ubuntu bionic/main amd64 libgail18 amd64 2.24.32-1ubuntu1 [14.2 kB]\n",
            "Get:40 http://archive.ubuntu.com/ubuntu bionic/main amd64 libgail-common amd64 2.24.32-1ubuntu1 [112 kB]\n",
            "Get:41 http://archive.ubuntu.com/ubuntu bionic/main amd64 libgtk2.0-bin amd64 2.24.32-1ubuntu1 [7,536 B]\n",
            "Get:42 http://archive.ubuntu.com/ubuntu bionic-updates/main amd64 libmagickcore-6.q16-3-extra amd64 8:6.9.7.4+dfsg-16ubuntu6.4 [62.3 kB]\n",
            "Get:43 http://archive.ubuntu.com/ubuntu bionic/main amd64 libnetpbm10 amd64 2:10.0-15.3build1 [58.0 kB]\n",
            "Get:44 http://archive.ubuntu.com/ubuntu bionic/universe amd64 qtcore4-l10n all 4:4.8.7+dfsg-7ubuntu1 [617 kB]\n",
            "Get:45 http://archive.ubuntu.com/ubuntu bionic/universe amd64 libqtcore4 amd64 4:4.8.7+dfsg-7ubuntu1 [1,552 kB]\n",
            "Get:46 http://archive.ubuntu.com/ubuntu bionic/universe amd64 libqt4-xml amd64 4:4.8.7+dfsg-7ubuntu1 [96.1 kB]\n",
            "Get:47 http://archive.ubuntu.com/ubuntu bionic/universe amd64 libqtdbus4 amd64 4:4.8.7+dfsg-7ubuntu1 [186 kB]\n",
            "Get:48 http://archive.ubuntu.com/ubuntu bionic/universe amd64 qdbus amd64 4:4.8.7+dfsg-7ubuntu1 [30.0 kB]\n",
            "Get:49 http://archive.ubuntu.com/ubuntu bionic/universe amd64 libqt4-dbus amd64 4:4.8.7+dfsg-7ubuntu1 [6,440 B]\n",
            "Get:50 http://archive.ubuntu.com/ubuntu bionic/universe amd64 libqt4-network amd64 4:4.8.7+dfsg-7ubuntu1 [562 kB]\n",
            "Get:51 http://archive.ubuntu.com/ubuntu bionic/universe amd64 libqt4-script amd64 4:4.8.7+dfsg-7ubuntu1 [815 kB]\n",
            "Get:52 http://archive.ubuntu.com/ubuntu bionic/universe amd64 libqt4-sql amd64 4:4.8.7+dfsg-7ubuntu1 [98.5 kB]\n",
            "Get:53 http://archive.ubuntu.com/ubuntu bionic/universe amd64 libqt4-xmlpatterns amd64 4:4.8.7+dfsg-7ubuntu1 [1,091 kB]\n",
            "Get:54 http://archive.ubuntu.com/ubuntu bionic/universe amd64 libqtgui4 amd64 4:4.8.7+dfsg-7ubuntu1 [4,115 kB]\n",
            "Get:55 http://archive.ubuntu.com/ubuntu bionic/universe amd64 libqt4-declarative amd64 4:4.8.7+dfsg-7ubuntu1 [1,089 kB]\n",
            "Get:56 http://archive.ubuntu.com/ubuntu bionic/universe amd64 libqt4-designer amd64 4:4.8.7+dfsg-7ubuntu1 [3,629 kB]\n",
            "Get:57 http://archive.ubuntu.com/ubuntu bionic/universe amd64 libqt4-qt3support amd64 4:4.8.7+dfsg-7ubuntu1 [1,049 kB]\n",
            "Get:58 http://archive.ubuntu.com/ubuntu bionic/universe amd64 libqt4-dev-bin amd64 4:4.8.7+dfsg-7ubuntu1 [1,706 kB]\n",
            "Get:59 http://archive.ubuntu.com/ubuntu bionic/universe amd64 libqt4-help amd64 4:4.8.7+dfsg-7ubuntu1 [207 kB]\n",
            "Get:60 http://archive.ubuntu.com/ubuntu bionic/universe amd64 libqt4-scripttools amd64 4:4.8.7+dfsg-7ubuntu1 [225 kB]\n",
            "Get:61 http://archive.ubuntu.com/ubuntu bionic/universe amd64 libqt4-svg amd64 4:4.8.7+dfsg-7ubuntu1 [138 kB]\n",
            "Get:62 http://archive.ubuntu.com/ubuntu bionic/universe amd64 libqt4-test amd64 4:4.8.7+dfsg-7ubuntu1 [61.2 kB]\n",
            "Get:63 http://archive.ubuntu.com/ubuntu bionic/universe amd64 qt4-linguist-tools amd64 4:4.8.7+dfsg-7ubuntu1 [879 kB]\n",
            "Get:64 http://archive.ubuntu.com/ubuntu bionic/universe amd64 qt4-qmake amd64 4:4.8.7+dfsg-7ubuntu1 [1,366 kB]\n",
            "Get:65 http://archive.ubuntu.com/ubuntu bionic/universe amd64 libqt4-dev amd64 4:4.8.7+dfsg-7ubuntu1 [853 kB]\n",
            "Get:66 http://archive.ubuntu.com/ubuntu bionic/universe amd64 libqt4-opengl amd64 4:4.8.7+dfsg-7ubuntu1 [301 kB]\n",
            "Get:67 http://archive.ubuntu.com/ubuntu bionic/universe amd64 libqt4-opengl-dev amd64 4:4.8.7+dfsg-7ubuntu1 [22.8 kB]\n",
            "Get:68 http://archive.ubuntu.com/ubuntu bionic/universe amd64 libqt4-sql-mysql amd64 4:4.8.7+dfsg-7ubuntu1 [30.5 kB]\n",
            "Get:69 http://archive.ubuntu.com/ubuntu bionic/main amd64 netpbm amd64 2:10.0-15.3build1 [1,017 kB]\n",
            "Get:70 http://archive.ubuntu.com/ubuntu bionic/main amd64 notification-daemon amd64 3.20.0-3 [36.9 kB]\n",
            "Get:71 http://archive.ubuntu.com/ubuntu bionic/main amd64 python-chardet all 3.0.4-1 [80.3 kB]\n",
            "Get:72 http://archive.ubuntu.com/ubuntu bionic/universe amd64 qt-at-spi amd64 0.4.0-8 [58.6 kB]\n",
            "Fetched 35.1 MB in 2s (15.2 MB/s)\n",
            "debconf: unable to initialize frontend: Dialog\n",
            "debconf: (No usable dialog-like program is installed, so the dialog based frontend cannot be used. at /usr/share/perl5/Debconf/FrontEnd/Dialog.pm line 76, <> line 72.)\n",
            "debconf: falling back to frontend: Readline\n",
            "debconf: unable to initialize frontend: Readline\n",
            "debconf: (This frontend requires a controlling tty.)\n",
            "debconf: falling back to frontend: Teletype\n",
            "dpkg-preconfigure: unable to re-open stdin: \n",
            "Selecting previously unselected package liblqr-1-0:amd64.\n",
            "(Reading database ... 132491 files and directories currently installed.)\n",
            "Preparing to unpack .../00-liblqr-1-0_0.4.2-2.1_amd64.deb ...\n",
            "Unpacking liblqr-1-0:amd64 (0.4.2-2.1) ...\n",
            "Selecting previously unselected package imagemagick-6-common.\n",
            "Preparing to unpack .../01-imagemagick-6-common_8%3a6.9.7.4+dfsg-16ubuntu6.4_all.deb ...\n",
            "Unpacking imagemagick-6-common (8:6.9.7.4+dfsg-16ubuntu6.4) ...\n",
            "Selecting previously unselected package libmagickcore-6.q16-3:amd64.\n",
            "Preparing to unpack .../02-libmagickcore-6.q16-3_8%3a6.9.7.4+dfsg-16ubuntu6.4_amd64.deb ...\n",
            "Unpacking libmagickcore-6.q16-3:amd64 (8:6.9.7.4+dfsg-16ubuntu6.4) ...\n",
            "Selecting previously unselected package libmagickwand-6.q16-3:amd64.\n",
            "Preparing to unpack .../03-libmagickwand-6.q16-3_8%3a6.9.7.4+dfsg-16ubuntu6.4_amd64.deb ...\n",
            "Unpacking libmagickwand-6.q16-3:amd64 (8:6.9.7.4+dfsg-16ubuntu6.4) ...\n",
            "Selecting previously unselected package libmng2:amd64.\n",
            "Preparing to unpack .../04-libmng2_2.0.2-0ubuntu3_amd64.deb ...\n",
            "Unpacking libmng2:amd64 (2.0.2-0ubuntu3) ...\n",
            "Selecting previously unselected package aglfn.\n",
            "Preparing to unpack .../05-aglfn_1.7-3_all.deb ...\n",
            "Unpacking aglfn (1.7-3) ...\n",
            "Selecting previously unselected package gnuplot-data.\n",
            "Preparing to unpack .../06-gnuplot-data_5.2.2+dfsg1-2ubuntu1_all.deb ...\n",
            "Unpacking gnuplot-data (5.2.2+dfsg1-2ubuntu1) ...\n",
            "Selecting previously unselected package liblua5.3-0:amd64.\n",
            "Preparing to unpack .../07-liblua5.3-0_5.3.3-1ubuntu0.18.04.1_amd64.deb ...\n",
            "Unpacking liblua5.3-0:amd64 (5.3.3-1ubuntu0.18.04.1) ...\n",
            "Selecting previously unselected package libwxbase3.0-0v5:amd64.\n",
            "Preparing to unpack .../08-libwxbase3.0-0v5_3.0.4+dfsg-3_amd64.deb ...\n",
            "Unpacking libwxbase3.0-0v5:amd64 (3.0.4+dfsg-3) ...\n",
            "Selecting previously unselected package libgtk2.0-common.\n",
            "Preparing to unpack .../09-libgtk2.0-common_2.24.32-1ubuntu1_all.deb ...\n",
            "Unpacking libgtk2.0-common (2.24.32-1ubuntu1) ...\n",
            "Selecting previously unselected package libgtk2.0-0:amd64.\n",
            "Preparing to unpack .../10-libgtk2.0-0_2.24.32-1ubuntu1_amd64.deb ...\n",
            "Unpacking libgtk2.0-0:amd64 (2.24.32-1ubuntu1) ...\n",
            "Selecting previously unselected package libnotify4:amd64.\n",
            "Preparing to unpack .../11-libnotify4_0.7.7-3_amd64.deb ...\n",
            "Unpacking libnotify4:amd64 (0.7.7-3) ...\n",
            "Selecting previously unselected package libwxgtk3.0-0v5:amd64.\n",
            "Preparing to unpack .../12-libwxgtk3.0-0v5_3.0.4+dfsg-3_amd64.deb ...\n",
            "Unpacking libwxgtk3.0-0v5:amd64 (3.0.4+dfsg-3) ...\n",
            "Selecting previously unselected package gnuplot-x11.\n",
            "Preparing to unpack .../13-gnuplot-x11_5.2.2+dfsg1-2ubuntu1_amd64.deb ...\n",
            "Unpacking gnuplot-x11 (5.2.2+dfsg1-2ubuntu1) ...\n",
            "Selecting previously unselected package gnuplot.\n",
            "Preparing to unpack .../14-gnuplot_5.2.2+dfsg1-2ubuntu1_all.deb ...\n",
            "Unpacking gnuplot (5.2.2+dfsg1-2ubuntu1) ...\n",
            "Selecting previously unselected package imagemagick-6.q16.\n",
            "Preparing to unpack .../15-imagemagick-6.q16_8%3a6.9.7.4+dfsg-16ubuntu6.4_amd64.deb ...\n",
            "Unpacking imagemagick-6.q16 (8:6.9.7.4+dfsg-16ubuntu6.4) ...\n",
            "Selecting previously unselected package imagemagick.\n",
            "Preparing to unpack .../16-imagemagick_8%3a6.9.7.4+dfsg-16ubuntu6.4_amd64.deb ...\n",
            "Unpacking imagemagick (8:6.9.7.4+dfsg-16ubuntu6.4) ...\n",
            "Selecting previously unselected package python-decorator.\n",
            "Preparing to unpack .../17-python-decorator_4.1.2-1_all.deb ...\n",
            "Unpacking python-decorator (4.1.2-1) ...\n",
            "Selecting previously unselected package python-ptyprocess.\n",
            "Preparing to unpack .../18-python-ptyprocess_0.5.2-1_all.deb ...\n",
            "Unpacking python-ptyprocess (0.5.2-1) ...\n",
            "Selecting previously unselected package python-pexpect.\n",
            "Preparing to unpack .../19-python-pexpect_4.2.1-1_all.deb ...\n",
            "Unpacking python-pexpect (4.2.1-1) ...\n",
            "Selecting previously unselected package python-six.\n",
            "Preparing to unpack .../20-python-six_1.11.0-2_all.deb ...\n",
            "Unpacking python-six (1.11.0-2) ...\n",
            "Selecting previously unselected package python-scandir.\n",
            "Preparing to unpack .../21-python-scandir_1.7-1_amd64.deb ...\n",
            "Unpacking python-scandir (1.7-1) ...\n",
            "Selecting previously unselected package python-pathlib2.\n",
            "Preparing to unpack .../22-python-pathlib2_2.3.0-1_all.deb ...\n",
            "Unpacking python-pathlib2 (2.3.0-1) ...\n",
            "Selecting previously unselected package python-pickleshare.\n",
            "Preparing to unpack .../23-python-pickleshare_0.7.4-2_all.deb ...\n",
            "Unpacking python-pickleshare (0.7.4-2) ...\n",
            "Selecting previously unselected package python-pkg-resources.\n",
            "Preparing to unpack .../24-python-pkg-resources_39.0.1-2_all.deb ...\n",
            "Unpacking python-pkg-resources (39.0.1-2) ...\n",
            "Selecting previously unselected package python-wcwidth.\n",
            "Preparing to unpack .../25-python-wcwidth_0.1.7+dfsg1-1_all.deb ...\n",
            "Unpacking python-wcwidth (0.1.7+dfsg1-1) ...\n",
            "Selecting previously unselected package python-prompt-toolkit.\n",
            "Preparing to unpack .../26-python-prompt-toolkit_1.0.15-1_all.deb ...\n",
            "Unpacking python-prompt-toolkit (1.0.15-1) ...\n",
            "Selecting previously unselected package python-pygments.\n",
            "Preparing to unpack .../27-python-pygments_2.2.0+dfsg-1_all.deb ...\n",
            "Unpacking python-pygments (2.2.0+dfsg-1) ...\n",
            "Selecting previously unselected package python-simplegeneric.\n",
            "Preparing to unpack .../28-python-simplegeneric_0.8.1-1_all.deb ...\n",
            "Unpacking python-simplegeneric (0.8.1-1) ...\n",
            "Selecting previously unselected package python-ipython-genutils.\n",
            "Preparing to unpack .../29-python-ipython-genutils_0.2.0-1_all.deb ...\n",
            "Unpacking python-ipython-genutils (0.2.0-1) ...\n",
            "Selecting previously unselected package python-enum34.\n",
            "Preparing to unpack .../30-python-enum34_1.1.6-2_all.deb ...\n",
            "Unpacking python-enum34 (1.1.6-2) ...\n",
            "Selecting previously unselected package python-traitlets.\n",
            "Preparing to unpack .../31-python-traitlets_4.3.2-1_all.deb ...\n",
            "Unpacking python-traitlets (4.3.2-1) ...\n",
            "Selecting previously unselected package python-backports-shutil-get-terminal-size.\n",
            "Preparing to unpack .../32-python-backports-shutil-get-terminal-size_1.0.0-5_all.deb ...\n",
            "Unpacking python-backports-shutil-get-terminal-size (1.0.0-5) ...\n",
            "Selecting previously unselected package python-ipython.\n",
            "Preparing to unpack .../33-python-ipython_5.5.0-1_all.deb ...\n",
            "Unpacking python-ipython (5.5.0-1) ...\n",
            "Selecting previously unselected package ipython.\n",
            "Preparing to unpack .../34-ipython_5.5.0-1_all.deb ...\n",
            "Unpacking ipython (5.5.0-1) ...\n",
            "Selecting previously unselected package libaudio2:amd64.\n",
            "Preparing to unpack .../35-libaudio2_1.9.4-6_amd64.deb ...\n",
            "Unpacking libaudio2:amd64 (1.9.4-6) ...\n",
            "Selecting previously unselected package libdjvulibre-text.\n",
            "Preparing to unpack .../36-libdjvulibre-text_3.5.27.1-8_all.deb ...\n",
            "Unpacking libdjvulibre-text (3.5.27.1-8) ...\n",
            "Selecting previously unselected package libdjvulibre21:amd64.\n",
            "Preparing to unpack .../37-libdjvulibre21_3.5.27.1-8_amd64.deb ...\n",
            "Unpacking libdjvulibre21:amd64 (3.5.27.1-8) ...\n",
            "Selecting previously unselected package libgail18:amd64.\n",
            "Preparing to unpack .../38-libgail18_2.24.32-1ubuntu1_amd64.deb ...\n",
            "Unpacking libgail18:amd64 (2.24.32-1ubuntu1) ...\n",
            "Selecting previously unselected package libgail-common:amd64.\n",
            "Preparing to unpack .../39-libgail-common_2.24.32-1ubuntu1_amd64.deb ...\n",
            "Unpacking libgail-common:amd64 (2.24.32-1ubuntu1) ...\n",
            "Selecting previously unselected package libgtk2.0-bin.\n",
            "Preparing to unpack .../40-libgtk2.0-bin_2.24.32-1ubuntu1_amd64.deb ...\n",
            "Unpacking libgtk2.0-bin (2.24.32-1ubuntu1) ...\n",
            "Selecting previously unselected package libmagickcore-6.q16-3-extra:amd64.\n",
            "Preparing to unpack .../41-libmagickcore-6.q16-3-extra_8%3a6.9.7.4+dfsg-16ubuntu6.4_amd64.deb ...\n",
            "Unpacking libmagickcore-6.q16-3-extra:amd64 (8:6.9.7.4+dfsg-16ubuntu6.4) ...\n",
            "Selecting previously unselected package libnetpbm10.\n",
            "Preparing to unpack .../42-libnetpbm10_2%3a10.0-15.3build1_amd64.deb ...\n",
            "Unpacking libnetpbm10 (2:10.0-15.3build1) ...\n",
            "Selecting previously unselected package qtcore4-l10n.\n",
            "Preparing to unpack .../43-qtcore4-l10n_4%3a4.8.7+dfsg-7ubuntu1_all.deb ...\n",
            "Unpacking qtcore4-l10n (4:4.8.7+dfsg-7ubuntu1) ...\n",
            "Selecting previously unselected package libqtcore4:amd64.\n",
            "Preparing to unpack .../44-libqtcore4_4%3a4.8.7+dfsg-7ubuntu1_amd64.deb ...\n",
            "Unpacking libqtcore4:amd64 (4:4.8.7+dfsg-7ubuntu1) ...\n",
            "Selecting previously unselected package libqt4-xml:amd64.\n",
            "Preparing to unpack .../45-libqt4-xml_4%3a4.8.7+dfsg-7ubuntu1_amd64.deb ...\n",
            "Unpacking libqt4-xml:amd64 (4:4.8.7+dfsg-7ubuntu1) ...\n",
            "Selecting previously unselected package libqtdbus4:amd64.\n",
            "Preparing to unpack .../46-libqtdbus4_4%3a4.8.7+dfsg-7ubuntu1_amd64.deb ...\n",
            "Unpacking libqtdbus4:amd64 (4:4.8.7+dfsg-7ubuntu1) ...\n",
            "Selecting previously unselected package qdbus.\n",
            "Preparing to unpack .../47-qdbus_4%3a4.8.7+dfsg-7ubuntu1_amd64.deb ...\n",
            "Unpacking qdbus (4:4.8.7+dfsg-7ubuntu1) ...\n",
            "Selecting previously unselected package libqt4-dbus:amd64.\n",
            "Preparing to unpack .../48-libqt4-dbus_4%3a4.8.7+dfsg-7ubuntu1_amd64.deb ...\n",
            "Unpacking libqt4-dbus:amd64 (4:4.8.7+dfsg-7ubuntu1) ...\n",
            "Selecting previously unselected package libqt4-network:amd64.\n",
            "Preparing to unpack .../49-libqt4-network_4%3a4.8.7+dfsg-7ubuntu1_amd64.deb ...\n",
            "Unpacking libqt4-network:amd64 (4:4.8.7+dfsg-7ubuntu1) ...\n",
            "Selecting previously unselected package libqt4-script:amd64.\n",
            "Preparing to unpack .../50-libqt4-script_4%3a4.8.7+dfsg-7ubuntu1_amd64.deb ...\n",
            "Unpacking libqt4-script:amd64 (4:4.8.7+dfsg-7ubuntu1) ...\n",
            "Selecting previously unselected package libqt4-sql:amd64.\n",
            "Preparing to unpack .../51-libqt4-sql_4%3a4.8.7+dfsg-7ubuntu1_amd64.deb ...\n",
            "Unpacking libqt4-sql:amd64 (4:4.8.7+dfsg-7ubuntu1) ...\n",
            "Selecting previously unselected package libqt4-xmlpatterns:amd64.\n",
            "Preparing to unpack .../52-libqt4-xmlpatterns_4%3a4.8.7+dfsg-7ubuntu1_amd64.deb ...\n",
            "Unpacking libqt4-xmlpatterns:amd64 (4:4.8.7+dfsg-7ubuntu1) ...\n",
            "Selecting previously unselected package libqtgui4:amd64.\n",
            "Preparing to unpack .../53-libqtgui4_4%3a4.8.7+dfsg-7ubuntu1_amd64.deb ...\n",
            "Unpacking libqtgui4:amd64 (4:4.8.7+dfsg-7ubuntu1) ...\n",
            "Selecting previously unselected package libqt4-declarative:amd64.\n",
            "Preparing to unpack .../54-libqt4-declarative_4%3a4.8.7+dfsg-7ubuntu1_amd64.deb ...\n",
            "Unpacking libqt4-declarative:amd64 (4:4.8.7+dfsg-7ubuntu1) ...\n",
            "Selecting previously unselected package libqt4-designer:amd64.\n",
            "Preparing to unpack .../55-libqt4-designer_4%3a4.8.7+dfsg-7ubuntu1_amd64.deb ...\n",
            "Unpacking libqt4-designer:amd64 (4:4.8.7+dfsg-7ubuntu1) ...\n",
            "Selecting previously unselected package libqt4-qt3support:amd64.\n",
            "Preparing to unpack .../56-libqt4-qt3support_4%3a4.8.7+dfsg-7ubuntu1_amd64.deb ...\n",
            "Unpacking libqt4-qt3support:amd64 (4:4.8.7+dfsg-7ubuntu1) ...\n",
            "Selecting previously unselected package libqt4-dev-bin.\n",
            "Preparing to unpack .../57-libqt4-dev-bin_4%3a4.8.7+dfsg-7ubuntu1_amd64.deb ...\n",
            "Unpacking libqt4-dev-bin (4:4.8.7+dfsg-7ubuntu1) ...\n",
            "Selecting previously unselected package libqt4-help:amd64.\n",
            "Preparing to unpack .../58-libqt4-help_4%3a4.8.7+dfsg-7ubuntu1_amd64.deb ...\n",
            "Unpacking libqt4-help:amd64 (4:4.8.7+dfsg-7ubuntu1) ...\n",
            "Selecting previously unselected package libqt4-scripttools:amd64.\n",
            "Preparing to unpack .../59-libqt4-scripttools_4%3a4.8.7+dfsg-7ubuntu1_amd64.deb ...\n",
            "Unpacking libqt4-scripttools:amd64 (4:4.8.7+dfsg-7ubuntu1) ...\n",
            "Selecting previously unselected package libqt4-svg:amd64.\n",
            "Preparing to unpack .../60-libqt4-svg_4%3a4.8.7+dfsg-7ubuntu1_amd64.deb ...\n",
            "Unpacking libqt4-svg:amd64 (4:4.8.7+dfsg-7ubuntu1) ...\n",
            "Selecting previously unselected package libqt4-test:amd64.\n",
            "Preparing to unpack .../61-libqt4-test_4%3a4.8.7+dfsg-7ubuntu1_amd64.deb ...\n",
            "Unpacking libqt4-test:amd64 (4:4.8.7+dfsg-7ubuntu1) ...\n",
            "Selecting previously unselected package qt4-linguist-tools.\n",
            "Preparing to unpack .../62-qt4-linguist-tools_4%3a4.8.7+dfsg-7ubuntu1_amd64.deb ...\n",
            "Unpacking qt4-linguist-tools (4:4.8.7+dfsg-7ubuntu1) ...\n",
            "Selecting previously unselected package qt4-qmake.\n",
            "Preparing to unpack .../63-qt4-qmake_4%3a4.8.7+dfsg-7ubuntu1_amd64.deb ...\n",
            "Unpacking qt4-qmake (4:4.8.7+dfsg-7ubuntu1) ...\n",
            "Selecting previously unselected package libqt4-dev.\n",
            "Preparing to unpack .../64-libqt4-dev_4%3a4.8.7+dfsg-7ubuntu1_amd64.deb ...\n",
            "Unpacking libqt4-dev (4:4.8.7+dfsg-7ubuntu1) ...\n",
            "Selecting previously unselected package libqt4-opengl:amd64.\n",
            "Preparing to unpack .../65-libqt4-opengl_4%3a4.8.7+dfsg-7ubuntu1_amd64.deb ...\n",
            "Unpacking libqt4-opengl:amd64 (4:4.8.7+dfsg-7ubuntu1) ...\n",
            "Selecting previously unselected package libqt4-opengl-dev.\n",
            "Preparing to unpack .../66-libqt4-opengl-dev_4%3a4.8.7+dfsg-7ubuntu1_amd64.deb ...\n",
            "Unpacking libqt4-opengl-dev (4:4.8.7+dfsg-7ubuntu1) ...\n",
            "Selecting previously unselected package libqt4-sql-mysql:amd64.\n",
            "Preparing to unpack .../67-libqt4-sql-mysql_4%3a4.8.7+dfsg-7ubuntu1_amd64.deb ...\n",
            "Unpacking libqt4-sql-mysql:amd64 (4:4.8.7+dfsg-7ubuntu1) ...\n",
            "Selecting previously unselected package netpbm.\n",
            "Preparing to unpack .../68-netpbm_2%3a10.0-15.3build1_amd64.deb ...\n",
            "Unpacking netpbm (2:10.0-15.3build1) ...\n",
            "Selecting previously unselected package notification-daemon.\n",
            "Preparing to unpack .../69-notification-daemon_3.20.0-3_amd64.deb ...\n",
            "Unpacking notification-daemon (3.20.0-3) ...\n",
            "Selecting previously unselected package python-chardet.\n",
            "Preparing to unpack .../70-python-chardet_3.0.4-1_all.deb ...\n",
            "Unpacking python-chardet (3.0.4-1) ...\n",
            "Selecting previously unselected package qt-at-spi:amd64.\n",
            "Preparing to unpack .../71-qt-at-spi_0.4.0-8_amd64.deb ...\n",
            "Unpacking qt-at-spi:amd64 (0.4.0-8) ...\n",
            "Setting up imagemagick-6-common (8:6.9.7.4+dfsg-16ubuntu6.4) ...\n",
            "Setting up libnotify4:amd64 (0.7.7-3) ...\n",
            "Setting up libgtk2.0-common (2.24.32-1ubuntu1) ...\n",
            "Setting up python-simplegeneric (0.8.1-1) ...\n",
            "Setting up python-scandir (1.7-1) ...\n",
            "Processing triggers for mime-support (3.60ubuntu1) ...\n",
            "Setting up libdjvulibre-text (3.5.27.1-8) ...\n",
            "Setting up qtcore4-l10n (4:4.8.7+dfsg-7ubuntu1) ...\n",
            "Setting up libnetpbm10 (2:10.0-15.3build1) ...\n",
            "Setting up qt4-qmake (4:4.8.7+dfsg-7ubuntu1) ...\n",
            "Setting up python-pkg-resources (39.0.1-2) ...\n",
            "Setting up libmng2:amd64 (2.0.2-0ubuntu3) ...\n",
            "Setting up python-backports-shutil-get-terminal-size (1.0.0-5) ...\n",
            "Setting up libwxbase3.0-0v5:amd64 (3.0.4+dfsg-3) ...\n",
            "Setting up python-ipython-genutils (0.2.0-1) ...\n",
            "Setting up liblqr-1-0:amd64 (0.4.2-2.1) ...\n",
            "Setting up python-six (1.11.0-2) ...\n",
            "Setting up python-wcwidth (0.1.7+dfsg1-1) ...\n",
            "Setting up python-pygments (2.2.0+dfsg-1) ...\n",
            "Setting up python-ptyprocess (0.5.2-1) ...\n",
            "Processing triggers for libc-bin (2.27-3ubuntu1) ...\n",
            "Setting up libqtcore4:amd64 (4:4.8.7+dfsg-7ubuntu1) ...\n",
            "Setting up python-enum34 (1.1.6-2) ...\n",
            "Setting up netpbm (2:10.0-15.3build1) ...\n",
            "Processing triggers for man-db (2.8.3-2ubuntu0.1) ...\n",
            "Setting up python-decorator (4.1.2-1) ...\n",
            "Setting up aglfn (1.7-3) ...\n",
            "Setting up python-pathlib2 (2.3.0-1) ...\n",
            "Setting up python-traitlets (4.3.2-1) ...\n",
            "Setting up liblua5.3-0:amd64 (5.3.3-1ubuntu0.18.04.1) ...\n",
            "Setting up libqt4-test:amd64 (4:4.8.7+dfsg-7ubuntu1) ...\n",
            "Processing triggers for hicolor-icon-theme (0.17-2) ...\n",
            "Setting up libqt4-xml:amd64 (4:4.8.7+dfsg-7ubuntu1) ...\n",
            "Setting up qt4-linguist-tools (4:4.8.7+dfsg-7ubuntu1) ...\n",
            "Setting up libaudio2:amd64 (1.9.4-6) ...\n",
            "Setting up notification-daemon (3.20.0-3) ...\n",
            "Setting up libgtk2.0-0:amd64 (2.24.32-1ubuntu1) ...\n",
            "Setting up python-prompt-toolkit (1.0.15-1) ...\n",
            "Setting up python-chardet (3.0.4-1) ...\n",
            "Setting up libmagickcore-6.q16-3:amd64 (8:6.9.7.4+dfsg-16ubuntu6.4) ...\n",
            "Setting up libgail18:amd64 (2.24.32-1ubuntu1) ...\n",
            "Setting up libdjvulibre21:amd64 (3.5.27.1-8) ...\n",
            "Setting up libwxgtk3.0-0v5:amd64 (3.0.4+dfsg-3) ...\n",
            "Setting up libgail-common:amd64 (2.24.32-1ubuntu1) ...\n",
            "Setting up libqt4-sql:amd64 (4:4.8.7+dfsg-7ubuntu1) ...\n",
            "Setting up python-pexpect (4.2.1-1) ...\n",
            "Setting up gnuplot-data (5.2.2+dfsg1-2ubuntu1) ...\n",
            "Setting up python-pickleshare (0.7.4-2) ...\n",
            "Setting up gnuplot-x11 (5.2.2+dfsg1-2ubuntu1) ...\n",
            "update-alternatives: using /usr/bin/gnuplot-x11 to provide /usr/bin/gnuplot (gnuplot) in auto mode\n",
            "Setting up libmagickwand-6.q16-3:amd64 (8:6.9.7.4+dfsg-16ubuntu6.4) ...\n",
            "Setting up libqtdbus4:amd64 (4:4.8.7+dfsg-7ubuntu1) ...\n",
            "Setting up libgtk2.0-bin (2.24.32-1ubuntu1) ...\n",
            "Setting up libqt4-script:amd64 (4:4.8.7+dfsg-7ubuntu1) ...\n",
            "Setting up libqt4-sql-mysql:amd64 (4:4.8.7+dfsg-7ubuntu1) ...\n",
            "Setting up python-ipython (5.5.0-1) ...\n",
            "Setting up ipython (5.5.0-1) ...\n",
            "Setting up imagemagick-6.q16 (8:6.9.7.4+dfsg-16ubuntu6.4) ...\n",
            "update-alternatives: using /usr/bin/compare-im6.q16 to provide /usr/bin/compare (compare) in auto mode\n",
            "update-alternatives: using /usr/bin/compare-im6.q16 to provide /usr/bin/compare-im6 (compare-im6) in auto mode\n",
            "update-alternatives: using /usr/bin/animate-im6.q16 to provide /usr/bin/animate (animate) in auto mode\n",
            "update-alternatives: using /usr/bin/animate-im6.q16 to provide /usr/bin/animate-im6 (animate-im6) in auto mode\n",
            "update-alternatives: using /usr/bin/convert-im6.q16 to provide /usr/bin/convert (convert) in auto mode\n",
            "update-alternatives: using /usr/bin/convert-im6.q16 to provide /usr/bin/convert-im6 (convert-im6) in auto mode\n",
            "update-alternatives: using /usr/bin/composite-im6.q16 to provide /usr/bin/composite (composite) in auto mode\n",
            "update-alternatives: using /usr/bin/composite-im6.q16 to provide /usr/bin/composite-im6 (composite-im6) in auto mode\n",
            "update-alternatives: using /usr/bin/conjure-im6.q16 to provide /usr/bin/conjure (conjure) in auto mode\n",
            "update-alternatives: using /usr/bin/conjure-im6.q16 to provide /usr/bin/conjure-im6 (conjure-im6) in auto mode\n",
            "update-alternatives: using /usr/bin/import-im6.q16 to provide /usr/bin/import (import) in auto mode\n",
            "update-alternatives: using /usr/bin/import-im6.q16 to provide /usr/bin/import-im6 (import-im6) in auto mode\n",
            "update-alternatives: using /usr/bin/identify-im6.q16 to provide /usr/bin/identify (identify) in auto mode\n",
            "update-alternatives: using /usr/bin/identify-im6.q16 to provide /usr/bin/identify-im6 (identify-im6) in auto mode\n",
            "update-alternatives: using /usr/bin/stream-im6.q16 to provide /usr/bin/stream (stream) in auto mode\n",
            "update-alternatives: using /usr/bin/stream-im6.q16 to provide /usr/bin/stream-im6 (stream-im6) in auto mode\n",
            "update-alternatives: using /usr/bin/display-im6.q16 to provide /usr/bin/display (display) in auto mode\n",
            "update-alternatives: using /usr/bin/display-im6.q16 to provide /usr/bin/display-im6 (display-im6) in auto mode\n",
            "update-alternatives: using /usr/bin/montage-im6.q16 to provide /usr/bin/montage (montage) in auto mode\n",
            "update-alternatives: using /usr/bin/montage-im6.q16 to provide /usr/bin/montage-im6 (montage-im6) in auto mode\n",
            "update-alternatives: using /usr/bin/mogrify-im6.q16 to provide /usr/bin/mogrify (mogrify) in auto mode\n",
            "update-alternatives: using /usr/bin/mogrify-im6.q16 to provide /usr/bin/mogrify-im6 (mogrify-im6) in auto mode\n",
            "Setting up qdbus (4:4.8.7+dfsg-7ubuntu1) ...\n",
            "Setting up gnuplot (5.2.2+dfsg1-2ubuntu1) ...\n",
            "Setting up libmagickcore-6.q16-3-extra:amd64 (8:6.9.7.4+dfsg-16ubuntu6.4) ...\n",
            "Setting up imagemagick (8:6.9.7.4+dfsg-16ubuntu6.4) ...\n",
            "Setting up libqt4-dbus:amd64 (4:4.8.7+dfsg-7ubuntu1) ...\n",
            "Setting up libqt4-network:amd64 (4:4.8.7+dfsg-7ubuntu1) ...\n",
            "Setting up libqt4-xmlpatterns:amd64 (4:4.8.7+dfsg-7ubuntu1) ...\n",
            "Setting up libqtgui4:amd64 (4:4.8.7+dfsg-7ubuntu1) ...\n",
            "Setting up qt-at-spi:amd64 (0.4.0-8) ...\n",
            "Setting up libqt4-designer:amd64 (4:4.8.7+dfsg-7ubuntu1) ...\n",
            "Setting up libqt4-help:amd64 (4:4.8.7+dfsg-7ubuntu1) ...\n",
            "Setting up libqt4-svg:amd64 (4:4.8.7+dfsg-7ubuntu1) ...\n",
            "Setting up libqt4-scripttools:amd64 (4:4.8.7+dfsg-7ubuntu1) ...\n",
            "Setting up libqt4-opengl:amd64 (4:4.8.7+dfsg-7ubuntu1) ...\n",
            "Setting up libqt4-declarative:amd64 (4:4.8.7+dfsg-7ubuntu1) ...\n",
            "Setting up libqt4-qt3support:amd64 (4:4.8.7+dfsg-7ubuntu1) ...\n",
            "Setting up libqt4-dev-bin (4:4.8.7+dfsg-7ubuntu1) ...\n",
            "Setting up libqt4-dev (4:4.8.7+dfsg-7ubuntu1) ...\n",
            "Setting up libqt4-opengl-dev (4:4.8.7+dfsg-7ubuntu1) ...\n",
            "Processing triggers for libc-bin (2.27-3ubuntu1) ...\n",
            "Skipping install of OpenBLAS - it is already installed.\n",
            "==> Torch7's dependencies have been installed\n"
          ],
          "name": "stdout"
        }
      ]
    },
    {
      "cell_type": "code",
      "metadata": {
        "id": "Ot7JzX7vae7i",
        "colab_type": "code",
        "outputId": "feb4652d-2aa4-45a7-fdc9-294137f2544b",
        "colab": {
          "base_uri": "https://localhost:8080/",
          "height": 18023
        }
      },
      "source": [
        "!./install.sh"
      ],
      "execution_count": 0,
      "outputs": [
        {
          "output_type": "stream",
          "text": [
            "Prefix set to /root/torch/install\n",
            "Installing Lua version: LUAJIT21\n",
            "CMake Warning (dev) at /usr/local/lib/python2.7/dist-packages/cmake/data/share/cmake-3.12/Modules/CheckIncludeFile.cmake:70 (message):\n",
            "  Policy CMP0075 is not set: Include file check macros honor\n",
            "  CMAKE_REQUIRED_LIBRARIES.  Run \"cmake --help-policy CMP0075\" for policy\n",
            "  details.  Use the cmake_policy command to set the policy and suppress this\n",
            "  warning.\n",
            "\n",
            "  CMAKE_REQUIRED_LIBRARIES is set to:\n",
            "\n",
            "    /usr/lib/x86_64-linux-gnu/libdl.so\n",
            "\n",
            "  For compatibility with CMake 3.11 and below this check is ignoring it.\n",
            "Call Stack (most recent call first):\n",
            "  /usr/local/lib/python2.7/dist-packages/cmake/data/share/cmake-3.12/Modules/FindThreads.cmake:121 (CHECK_INCLUDE_FILE)\n",
            "  exe/luajit-rocks/luajit-2.1/CMakeLists.txt:174 (FIND_PACKAGE)\n",
            "This warning is for project developers.  Use -Wno-dev to suppress it.\n",
            "\n",
            "Found CUDA on your machine. Installing CMake 3.6 modules to get up-to-date FindCUDA\n",
            "-- The C compiler identification is GNU 7.4.0\n",
            "-- The CXX compiler identification is GNU 7.4.0\n",
            "-- Check for working C compiler: /usr/bin/cc\n",
            "-- Check for working C compiler: /usr/bin/cc -- works\n",
            "-- Detecting C compiler ABI info\n",
            "-- Detecting C compiler ABI info - done\n",
            "-- Detecting C compile features\n",
            "-- Detecting C compile features - done\n",
            "-- Check for working CXX compiler: /usr/bin/c++\n",
            "-- Check for working CXX compiler: /usr/bin/c++ -- works\n",
            "-- Detecting CXX compiler ABI info\n",
            "-- Detecting CXX compiler ABI info - done\n",
            "-- Detecting CXX compile features\n",
            "-- Detecting CXX compile features - done\n",
            "-- Configuring done\n",
            "-- Generating done\n",
            "-- Build files have been written to: /root/torch/cmake/3.6/build\n",
            "\u001b[36mInstall the project...\u001b[0m\n",
            "-- Install configuration: \"\"\n",
            "-- Installing: /root/torch/install/share/cmake/torch\n",
            "-- Installing: /root/torch/install/share/cmake/torch/FindCUDA\n",
            "-- Installing: /root/torch/install/share/cmake/torch/FindCUDA/run_nvcc.cmake\n",
            "-- Installing: /root/torch/install/share/cmake/torch/FindCUDA/select_compute_arch.cmake\n",
            "-- Installing: /root/torch/install/share/cmake/torch/FindCUDA/make2cmake.cmake\n",
            "-- Installing: /root/torch/install/share/cmake/torch/FindCUDA/parse_cubin.cmake\n",
            "-- Installing: /root/torch/install/share/cmake/torch/FindCUDA.cmake\n",
            "FindCuda bits of CMake 3.6 installed\n",
            "Installing common Lua packages\n",
            "gcc -O2 -fPIC -I/root/torch/install/include -c src/lfs.c -o src/lfs.o\n",
            "gcc -shared -o lfs.so -L/root/torch/install/lib src/lfs.o\n",
            "Updating manifest for /root/torch/install/lib/luarocks/rocks\n",
            "No existing manifest. Attempting to rebuild...\n",
            "luafilesystem 1.6.3-1 is now built and installed in /root/torch/install/ (license: MIT/X11)\n",
            "\n",
            "Updating manifest for /root/torch/install/lib/luarocks/rocks\n",
            "penlight scm-1 is now built and installed in /root/torch/install/ (license: MIT/X11)\n",
            "\n",
            "gcc -O2 -fPIC -I/root/torch/install/include -c lua_cjson.c -o lua_cjson.o\n",
            "gcc -O2 -fPIC -I/root/torch/install/include -c strbuf.c -o strbuf.o\n",
            "gcc -O2 -fPIC -I/root/torch/install/include -c fpconv.c -o fpconv.o\n",
            "gcc -shared -o cjson.so -L/root/torch/install/lib lua_cjson.o strbuf.o fpconv.o\n",
            "Updating manifest for /root/torch/install/lib/luarocks/rocks\n",
            "lua-cjson 2.1devel-1 is now built and installed in /root/torch/install/ (license: MIT)\n",
            "\n",
            "Installing core Torch packages\n",
            "gcc -O2 -fPIC -I/root/torch/install/include -c test.c -o test.o\n",
            "gcc -shared -o ffi/libtest.so -L/root/torch/install/lib test.o\n",
            "gcc -O2 -fPIC -I/root/torch/install/include -c call.c -o call.o -Idynasm\n",
            "gcc -O2 -fPIC -I/root/torch/install/include -c ctype.c -o ctype.o -Idynasm\n",
            "gcc -O2 -fPIC -I/root/torch/install/include -c ffi.c -o ffi.o -Idynasm\n",
            "gcc -O2 -fPIC -I/root/torch/install/include -c parser.c -o parser.o -Idynasm\n",
            "gcc -shared -o ffi.so -L/root/torch/install/lib call.o ctype.o ffi.o parser.o\n",
            "Updating manifest for /root/torch/install/lib/luarocks/rocks\n",
            "luaffi scm-1 is now built and installed in /root/torch/install/ (license: BSD)\n",
            "\n",
            "gcc -O2 -fPIC -I/root/torch/install/include -c src/autolink.c -o src/autolink.o -Isrc/ -Ihtml/\n",
            "gcc -O2 -fPIC -I/root/torch/install/include -c src/buffer.c -o src/buffer.o -Isrc/ -Ihtml/\n",
            "gcc -O2 -fPIC -I/root/torch/install/include -c src/markdown.c -o src/markdown.o -Isrc/ -Ihtml/\n",
            "gcc -O2 -fPIC -I/root/torch/install/include -c src/stack.c -o src/stack.o -Isrc/ -Ihtml/\n",
            "gcc -O2 -fPIC -I/root/torch/install/include -c html/houdini_href_e.c -o html/houdini_href_e.o -Isrc/ -Ihtml/\n",
            "gcc -O2 -fPIC -I/root/torch/install/include -c html/houdini_html_e.c -o html/houdini_html_e.o -Isrc/ -Ihtml/\n",
            "gcc -O2 -fPIC -I/root/torch/install/include -c html/html.c -o html/html.o -Isrc/ -Ihtml/\n",
            "gcc -O2 -fPIC -I/root/torch/install/include -c html/html_smartypants.c -o html/html_smartypants.o -Isrc/ -Ihtml/\n",
            "gcc -shared -o libsundown.so -L/root/torch/install/lib src/autolink.o src/buffer.o src/markdown.o src/stack.o html/houdini_href_e.o html/houdini_html_e.o html/html.o html/html_smartypants.o\n",
            "Updating manifest for /root/torch/install/lib/luarocks/rocks\n",
            "sundown scm-1 is now built and installed in /root/torch/install/ (license: BSD)\n",
            "\n",
            "Updating manifest for /root/torch/install/lib/luarocks/rocks\n",
            "cwrap scm-1 is now built and installed in /root/torch/install/ (license: BSD)\n",
            "\n",
            "Warning: unmatched variable LUALIB\n",
            "cmake -E make_directory build && cd build && cmake .. -DCMAKE_BUILD_TYPE=Release -DLUALIB= -DLUA_INCDIR=\"/root/torch/install/include\" -DLUA_LIBDIR=\"/root/torch/install/lib\" -DLUADIR=\"/root/torch/install/lib/luarocks/rocks/paths/scm-1/lua\" -DLIBDIR=\"/root/torch/install/lib/luarocks/rocks/paths/scm-1/lib\" -DCMAKE_INSTALL_PREFIX=\"/root/torch/install/lib/luarocks/rocks/paths/scm-1\" && make\n",
            "\n",
            "-- The C compiler identification is GNU 7.4.0\n",
            "-- The CXX compiler identification is GNU 7.4.0\n",
            "-- Check for working C compiler: /usr/bin/cc\n",
            "-- Check for working C compiler: /usr/bin/cc -- works\n",
            "-- Detecting C compiler ABI info\n",
            "-- Detecting C compiler ABI info - done\n",
            "-- Detecting C compile features\n",
            "-- Detecting C compile features - done\n",
            "-- Check for working CXX compiler: /usr/bin/c++\n",
            "-- Check for working CXX compiler: /usr/bin/c++ -- works\n",
            "-- Detecting CXX compiler ABI info\n",
            "-- Detecting CXX compiler ABI info - done\n",
            "-- Detecting CXX compile features\n",
            "-- Detecting CXX compile features - done\n",
            "-- Looking for include file fcntl.h\n",
            "-- Looking for include file fcntl.h - found\n",
            "-- Looking for include file unistd.h\n",
            "-- Looking for include file unistd.h - found\n",
            "-- Looking for include file dirent.h\n",
            "-- Looking for include file dirent.h - found\n",
            "-- Looking for include file time.h\n",
            "-- Looking for include file time.h - found\n",
            "-- Looking for include file sys/time.h\n",
            "-- Looking for include file sys/time.h - found\n",
            "-- Looking for include file sys/ndir.h\n",
            "-- Looking for include file sys/ndir.h - not found\n",
            "-- Looking for include file sys/utsname.h\n",
            "-- Looking for include file sys/utsname.h - found\n",
            "-- Looking for include file sys/dir.h\n",
            "-- Looking for include file sys/dir.h - found\n",
            "-- Looking for include file ndir.h\n",
            "-- Looking for include file ndir.h - not found\n",
            "-- Looking for getcwd\n",
            "-- Looking for getcwd - found\n",
            "-- Looking for dlopen in dl\n",
            "-- Looking for dlopen in dl - found\n",
            "-- Configuring done\n",
            "-- Generating done\n",
            "-- Build files have been written to: /root/torch/pkg/paths/build\n",
            "\u001b[35m\u001b[1mScanning dependencies of target paths\u001b[0m\n",
            "[ 50%] \u001b[32mBuilding C object CMakeFiles/paths.dir/paths.c.o\u001b[0m\n",
            "[100%] \u001b[32m\u001b[1mLinking C shared module libpaths.so\u001b[0m\n",
            "CMakeFiles/paths.dir/paths.c.o: In function `lua_tmpname':\n",
            "paths.c:(.text+0x637): warning: the use of `tempnam' is dangerous, better use `mkstemp'\n",
            "[100%] Built target paths\n",
            "cd build && make install\n",
            "[100%] Built target paths\n",
            "\u001b[36mInstall the project...\u001b[0m\n",
            "-- Install configuration: \"Release\"\n",
            "-- Installing: /root/torch/install/lib/luarocks/rocks/paths/scm-1/lua/paths/init.lua\n",
            "-- Installing: /root/torch/install/lib/luarocks/rocks/paths/scm-1/lib/libpaths.so\n",
            "Updating manifest for /root/torch/install/lib/luarocks/rocks\n",
            "paths scm-1 is now built and installed in /root/torch/install/ (license: BSD)\n",
            "\n",
            "Warning: unmatched variable LUALIB\n",
            "cmake -E make_directory build && cd build && cmake .. -DCMAKE_BUILD_TYPE=Release -DLUA=/root/torch/install/bin/luajit -DLUALIB= -DLUA_BINDIR=\"/root/torch/install/bin\" -DLUA_INCDIR=\"/root/torch/install/include\" -DLUA_LIBDIR=\"/root/torch/install/lib\" -DLUADIR=\"/root/torch/install/lib/luarocks/rocks/torch/scm-1/lua\" -DLIBDIR=\"/root/torch/install/lib/luarocks/rocks/torch/scm-1/lib\" -DCMAKE_INSTALL_PREFIX=\"/root/torch/install/lib/luarocks/rocks/torch/scm-1\" && make -j$(getconf _NPROCESSORS_ONLN)\n",
            "\n",
            "-- The C compiler identification is GNU 7.4.0\n",
            "-- The CXX compiler identification is GNU 7.4.0\n",
            "-- Check for working C compiler: /usr/bin/cc\n",
            "-- Check for working C compiler: /usr/bin/cc -- works\n",
            "-- Detecting C compiler ABI info\n",
            "-- Detecting C compiler ABI info - done\n",
            "-- Detecting C compile features\n",
            "-- Detecting C compile features - done\n",
            "-- Check for working CXX compiler: /usr/bin/c++\n",
            "-- Check for working CXX compiler: /usr/bin/c++ -- works\n",
            "-- Detecting CXX compiler ABI info\n",
            "-- Detecting CXX compiler ABI info - done\n",
            "-- Detecting CXX compile features\n",
            "-- Detecting CXX compile features - done\n",
            "-- Found OpenMP_C: -fopenmp (found version \"4.5\") \n",
            "-- Found OpenMP_CXX: -fopenmp (found version \"4.5\") \n",
            "-- Found OpenMP: TRUE (found version \"4.5\")  \n",
            "-- Compiling with OpenMP support\n",
            "CMake Deprecation Warning at lib/TH/CMakeLists.txt:5 (CMAKE_POLICY):\n",
            "  The OLD behavior for policy CMP0026 will be removed from a future version\n",
            "  of CMake.\n",
            "\n",
            "  The cmake-policies(7) manual explains that the OLD behaviors of all\n",
            "  policies are deprecated and that a policy should be set to OLD only under\n",
            "  specific short-term circumstances.  Projects should be ported to the NEW\n",
            "  behavior and not rely on setting a policy to OLD.\n",
            "\n",
            "\n",
            "-- Found OpenMP_C: -fopenmp (found version \"4.5\") \n",
            "-- Found OpenMP_CXX: -fopenmp (found version \"4.5\") \n",
            "-- Compiling with OpenMP support\n",
            "-- Could not find hardware support for NEON on this machine.\n",
            "-- No OMAP3 processor on this machine.\n",
            "-- No OMAP4 processor on this machine.\n",
            "-- Looking for cpuid.h\n",
            "-- Looking for cpuid.h - found\n",
            "-- Performing Test HAVE_GCC_GET_CPUID\n",
            "-- Performing Test HAVE_GCC_GET_CPUID - Success\n",
            "-- Performing Test NO_GCC_EBX_FPIC_BUG\n",
            "-- Performing Test NO_GCC_EBX_FPIC_BUG - Success\n",
            "-- Performing Test C_HAS_SSE1_1\n",
            "-- Performing Test C_HAS_SSE1_1 - Success\n",
            "-- Performing Test C_HAS_SSE2_1\n",
            "-- Performing Test C_HAS_SSE2_1 - Success\n",
            "-- Performing Test C_HAS_SSE3_1\n",
            "-- Performing Test C_HAS_SSE3_1 - Failed\n",
            "-- Performing Test C_HAS_SSE3_2\n",
            "-- Performing Test C_HAS_SSE3_2 - Success\n",
            "-- Performing Test C_HAS_SSE4_1_1\n",
            "-- Performing Test C_HAS_SSE4_1_1 - Failed\n",
            "-- Performing Test C_HAS_SSE4_1_2\n",
            "-- Performing Test C_HAS_SSE4_1_2 - Success\n",
            "-- Performing Test C_HAS_SSE4_2_1\n",
            "-- Performing Test C_HAS_SSE4_2_1 - Failed\n",
            "-- Performing Test C_HAS_SSE4_2_2\n",
            "-- Performing Test C_HAS_SSE4_2_2 - Success\n",
            "-- Performing Test C_HAS_AVX_1\n",
            "-- Performing Test C_HAS_AVX_1 - Failed\n",
            "-- Performing Test C_HAS_AVX_2\n",
            "-- Performing Test C_HAS_AVX_2 - Success\n",
            "-- Performing Test C_HAS_AVX2_1\n",
            "-- Performing Test C_HAS_AVX2_1 - Failed\n",
            "-- Performing Test C_HAS_AVX2_2\n",
            "-- Performing Test C_HAS_AVX2_2 - Success\n",
            "-- Performing Test CXX_HAS_SSE1_1\n",
            "-- Performing Test CXX_HAS_SSE1_1 - Success\n",
            "-- Performing Test CXX_HAS_SSE2_1\n",
            "-- Performing Test CXX_HAS_SSE2_1 - Success\n",
            "-- Performing Test CXX_HAS_SSE3_1\n",
            "-- Performing Test CXX_HAS_SSE3_1 - Failed\n",
            "-- Performing Test CXX_HAS_SSE3_2\n",
            "-- Performing Test CXX_HAS_SSE3_2 - Success\n",
            "-- Performing Test CXX_HAS_SSE4_1_1\n",
            "-- Performing Test CXX_HAS_SSE4_1_1 - Failed\n",
            "-- Performing Test CXX_HAS_SSE4_1_2\n",
            "-- Performing Test CXX_HAS_SSE4_1_2 - Success\n",
            "-- Performing Test CXX_HAS_SSE4_2_1\n",
            "-- Performing Test CXX_HAS_SSE4_2_1 - Failed\n",
            "-- Performing Test CXX_HAS_SSE4_2_2\n",
            "-- Performing Test CXX_HAS_SSE4_2_2 - Success\n",
            "-- Performing Test CXX_HAS_AVX_1\n",
            "-- Performing Test CXX_HAS_AVX_1 - Failed\n",
            "-- Performing Test CXX_HAS_AVX_2\n",
            "-- Performing Test CXX_HAS_AVX_2 - Success\n",
            "-- Performing Test CXX_HAS_AVX2_1\n",
            "-- Performing Test CXX_HAS_AVX2_1 - Failed\n",
            "-- Performing Test CXX_HAS_AVX2_2\n",
            "-- Performing Test CXX_HAS_AVX2_2 - Success\n",
            "-- SSE2 Found\n",
            "-- SSE3 Found\n",
            "-- AVX Found\n",
            "-- AVX2 Found\n",
            "-- Performing Test HAS_C11_ATOMICS\n",
            "-- Performing Test HAS_C11_ATOMICS - Success\n",
            "-- TH_SO_VERSION: 0\n",
            "-- Atomics: using C11 intrinsics\n",
            "-- Looking for sys/types.h\n",
            "-- Looking for sys/types.h - found\n",
            "-- Looking for stdint.h\n",
            "-- Looking for stdint.h - found\n",
            "-- Looking for stddef.h\n",
            "-- Looking for stddef.h - found\n",
            "-- Check size of void*\n",
            "-- Check size of void* - done\n",
            "-- Checking for [mkl_gf_lp64 - mkl_gnu_thread - mkl_core - iomp5 - pthread - m]\n",
            "--   Library mkl_gf_lp64: /usr/local/lib/libmkl_gf_lp64.so\n",
            "--   Library mkl_gnu_thread: /usr/local/lib/libmkl_gnu_thread.so\n",
            "--   Library mkl_core: /usr/local/lib/libmkl_core.so\n",
            "--   Library iomp5: /usr/local/lib/libiomp5.so\n",
            "--   Library pthread: /usr/lib/x86_64-linux-gnu/libpthread.so\n",
            "--   Library m: /usr/lib/x86_64-linux-gnu/libm.so\n",
            "-- Looking for cblas_sgemm\n",
            "-- Looking for cblas_sgemm - found\n",
            "-- MKL library found\n",
            "-- Performing Test BLAS_F2C_DOUBLE_WORKS\n",
            "-- Performing Test BLAS_F2C_DOUBLE_WORKS - Failed\n",
            "-- Performing Test BLAS_F2C_FLOAT_WORKS\n",
            "-- Performing Test BLAS_F2C_FLOAT_WORKS - Success\n",
            "-- Performing Test BLAS_USE_CBLAS_DOT\n",
            "-- Performing Test BLAS_USE_CBLAS_DOT - Success\n",
            "-- Found a library with BLAS API (mkl).\n",
            "-- Found a library with LAPACK API. (mkl)\n",
            "-- Looking for clock_gettime in rt\n",
            "-- Looking for clock_gettime in rt - found\n",
            "-- Looking for mmap\n",
            "-- Looking for mmap - found\n",
            "-- Looking for shm_open\n",
            "-- Looking for shm_open - found\n",
            "-- Looking for shm_unlink\n",
            "-- Looking for shm_unlink - found\n",
            "-- Looking for malloc_usable_size\n",
            "-- Looking for malloc_usable_size - found\n",
            "-- Performing Test C_HAS_THREAD\n",
            "-- Performing Test C_HAS_THREAD - Success\n",
            "CMake Deprecation Warning at lib/luaT/CMakeLists.txt:3 (CMAKE_POLICY):\n",
            "  The OLD behavior for policy CMP0026 will be removed from a future version\n",
            "  of CMake.\n",
            "\n",
            "  The cmake-policies(7) manual explains that the OLD behaviors of all\n",
            "  policies are deprecated and that a policy should be set to OLD only under\n",
            "  specific short-term circumstances.  Projects should be ported to the NEW\n",
            "  behavior and not rely on setting a policy to OLD.\n",
            "\n",
            "\n",
            "-- Configuring done\n",
            "-- Generating done\n",
            "-- Build files have been written to: /root/torch/pkg/torch/build\n",
            "\u001b[35m\u001b[1mScanning dependencies of target luaT\u001b[0m\n",
            "\u001b[35m\u001b[1mScanning dependencies of target TH\u001b[0m\n",
            "[  2%] \u001b[32mBuilding C object lib/luaT/CMakeFiles/luaT.dir/luaT.c.o\u001b[0m\n",
            "[  5%] \u001b[32mBuilding C object lib/TH/CMakeFiles/TH.dir/THGeneral.c.o\u001b[0m\n",
            "[  7%] \u001b[32mBuilding C object lib/TH/CMakeFiles/TH.dir/THHalf.c.o\u001b[0m\n",
            "[ 10%] \u001b[32mBuilding C object lib/TH/CMakeFiles/TH.dir/THAllocator.c.o\u001b[0m\n",
            "[ 12%] \u001b[32mBuilding C object lib/TH/CMakeFiles/TH.dir/THSize.c.o\u001b[0m\n",
            "[ 15%] \u001b[32m\u001b[1mLinking C shared library libluaT.so\u001b[0m\n",
            "[ 17%] \u001b[32mBuilding C object lib/TH/CMakeFiles/TH.dir/THStorage.c.o\u001b[0m\n",
            "[ 17%] Built target luaT\n",
            "[ 20%] \u001b[32mBuilding C object lib/TH/CMakeFiles/TH.dir/THTensor.c.o\u001b[0m\n",
            "[ 23%] \u001b[32mBuilding C object lib/TH/CMakeFiles/TH.dir/THBlas.c.o\u001b[0m\n",
            "[ 25%] \u001b[32mBuilding C object lib/TH/CMakeFiles/TH.dir/THLapack.c.o\u001b[0m\n",
            "[ 28%] \u001b[32mBuilding C object lib/TH/CMakeFiles/TH.dir/THLogAdd.c.o\u001b[0m\n",
            "[ 30%] \u001b[32mBuilding C object lib/TH/CMakeFiles/TH.dir/THRandom.c.o\u001b[0m\n",
            "[ 33%] \u001b[32mBuilding C object lib/TH/CMakeFiles/TH.dir/THFile.c.o\u001b[0m\n",
            "[ 35%] \u001b[32mBuilding C object lib/TH/CMakeFiles/TH.dir/THDiskFile.c.o\u001b[0m\n",
            "[ 38%] \u001b[32mBuilding C object lib/TH/CMakeFiles/TH.dir/THMemoryFile.c.o\u001b[0m\n",
            "[ 41%] \u001b[32mBuilding C object lib/TH/CMakeFiles/TH.dir/THAtomic.c.o\u001b[0m\n",
            "[ 43%] \u001b[32mBuilding C object lib/TH/CMakeFiles/TH.dir/THVector.c.o\u001b[0m\n",
            "[ 46%] \u001b[32mBuilding C object lib/TH/CMakeFiles/TH.dir/generic/simd/convolve.c.o\u001b[0m\n",
            "[ 48%] \u001b[32mBuilding C object lib/TH/CMakeFiles/TH.dir/generic/simd/convolve5x5_sse.c.o\u001b[0m\n",
            "[ 51%] \u001b[32mBuilding C object lib/TH/CMakeFiles/TH.dir/vector/AVX.c.o\u001b[0m\n",
            "[ 53%] \u001b[32mBuilding C object lib/TH/CMakeFiles/TH.dir/generic/simd/convolve5x5_avx.c.o\u001b[0m\n",
            "[ 56%] \u001b[32mBuilding C object lib/TH/CMakeFiles/TH.dir/vector/AVX2.c.o\u001b[0m\n",
            "[ 58%] \u001b[32m\u001b[1mLinking C shared library libTH.so\u001b[0m\n",
            "[ 58%] Built target TH\n",
            "[ 64%] \u001b[34m\u001b[1mGenerating TensorMath.c\u001b[0m\n",
            "[ 64%] \u001b[34m\u001b[1mGenerating random.c\u001b[0m\n",
            "\u001b[35m\u001b[1mScanning dependencies of target torch\u001b[0m\n",
            "[ 66%] \u001b[32mBuilding C object CMakeFiles/torch.dir/DiskFile.c.o\u001b[0m\n",
            "[ 69%] \u001b[32mBuilding C object CMakeFiles/torch.dir/File.c.o\u001b[0m\n",
            "[ 71%] \u001b[32mBuilding C object CMakeFiles/torch.dir/MemoryFile.c.o\u001b[0m\n",
            "[ 74%] \u001b[32mBuilding C object CMakeFiles/torch.dir/PipeFile.c.o\u001b[0m\n",
            "[ 76%] \u001b[32mBuilding C object CMakeFiles/torch.dir/Storage.c.o\u001b[0m\n",
            "[ 79%] \u001b[32mBuilding C object CMakeFiles/torch.dir/Tensor.c.o\u001b[0m\n",
            "[ 82%] \u001b[32mBuilding C object CMakeFiles/torch.dir/Timer.c.o\u001b[0m\n",
            "[ 84%] \u001b[32mBuilding C object CMakeFiles/torch.dir/utils.c.o\u001b[0m\n",
            "[ 87%] \u001b[32mBuilding C object CMakeFiles/torch.dir/init.c.o\u001b[0m\n",
            "[ 89%] \u001b[32mBuilding C object CMakeFiles/torch.dir/TensorOperator.c.o\u001b[0m\n",
            "[ 92%] \u001b[32mBuilding C object CMakeFiles/torch.dir/TensorMath.c.o\u001b[0m\n",
            "[ 94%] \u001b[32mBuilding C object CMakeFiles/torch.dir/random.c.o\u001b[0m\n",
            "[ 97%] \u001b[32mBuilding C object CMakeFiles/torch.dir/Generator.c.o\u001b[0m\n",
            "[100%] \u001b[32m\u001b[1mLinking C shared module libtorch.so\u001b[0m\n",
            "[100%] Built target torch\n",
            "cd build && make install\n",
            "[  5%] Built target luaT\n",
            "[ 58%] Built target TH\n",
            "[100%] Built target torch\n",
            "\u001b[36mInstall the project...\u001b[0m\n",
            "-- Install configuration: \"Release\"\n",
            "-- Installing: /root/torch/install/share/cmake/torch/TorchExports.cmake\n",
            "-- Installing: /root/torch/install/share/cmake/torch/TorchExports-release.cmake\n",
            "-- Installing: /root/torch/install/share/cmake/torch/TorchConfig.cmake\n",
            "-- Installing: /root/torch/install/share/cmake/torch/TorchWrap.cmake\n",
            "-- Installing: /root/torch/install/share/cmake/torch/TorchPathsInit.cmake\n",
            "-- Installing: /root/torch/install/share/cmake/torch/TorchPackage.cmake\n",
            "-- Installing: /root/torch/install/lib/luarocks/rocks/torch/scm-1/lib/libtorch.so\n",
            "-- Set runtime path of \"/root/torch/install/lib/luarocks/rocks/torch/scm-1/lib/libtorch.so\" to \"$ORIGIN/../lib:/root/torch/install/lib:/usr/local/lib\"\n",
            "-- Installing: /root/torch/install/lib/luarocks/rocks/torch/scm-1/lua/torch/init.lua\n",
            "-- Installing: /root/torch/install/lib/luarocks/rocks/torch/scm-1/lua/torch/File.lua\n",
            "-- Installing: /root/torch/install/lib/luarocks/rocks/torch/scm-1/lua/torch/Tensor.lua\n",
            "-- Installing: /root/torch/install/lib/luarocks/rocks/torch/scm-1/lua/torch/CmdLine.lua\n",
            "-- Installing: /root/torch/install/lib/luarocks/rocks/torch/scm-1/lua/torch/FFInterface.lua\n",
            "-- Installing: /root/torch/install/lib/luarocks/rocks/torch/scm-1/lua/torch/Tester.lua\n",
            "-- Installing: /root/torch/install/lib/luarocks/rocks/torch/scm-1/lua/torch/TestSuite.lua\n",
            "-- Installing: /root/torch/install/lib/luarocks/rocks/torch/scm-1/lua/torch/paths.lua\n",
            "-- Installing: /root/torch/install/lib/luarocks/rocks/torch/scm-1/lua/torch/test.lua\n",
            "-- Installing: /root/torch/install/lib/luarocks/rocks/torch/scm-1/lua/torch/README.md\n",
            "-- Installing: /root/torch/install/lib/luarocks/rocks/torch/scm-1/lua/torch/doc\n",
            "-- Installing: /root/torch/install/lib/luarocks/rocks/torch/scm-1/lua/torch/doc/storage.md\n",
            "-- Installing: /root/torch/install/lib/luarocks/rocks/torch/scm-1/lua/torch/doc/tensor.md\n",
            "-- Installing: /root/torch/install/lib/luarocks/rocks/torch/scm-1/lua/torch/doc/file.md\n",
            "-- Installing: /root/torch/install/lib/luarocks/rocks/torch/scm-1/lua/torch/doc/pipefile.md\n",
            "-- Installing: /root/torch/install/lib/luarocks/rocks/torch/scm-1/lua/torch/doc/serialization.md\n",
            "-- Installing: /root/torch/install/lib/luarocks/rocks/torch/scm-1/lua/torch/doc/gather.png\n",
            "-- Installing: /root/torch/install/lib/luarocks/rocks/torch/scm-1/lua/torch/doc/cmdline.md\n",
            "-- Installing: /root/torch/install/lib/luarocks/rocks/torch/scm-1/lua/torch/doc/utility.md\n",
            "-- Installing: /root/torch/install/lib/luarocks/rocks/torch/scm-1/lua/torch/doc/index.md\n",
            "-- Installing: /root/torch/install/lib/luarocks/rocks/torch/scm-1/lua/torch/doc/memoryfile.md\n",
            "-- Installing: /root/torch/install/lib/luarocks/rocks/torch/scm-1/lua/torch/doc/tester.md\n",
            "-- Installing: /root/torch/install/lib/luarocks/rocks/torch/scm-1/lua/torch/doc/diskfile.md\n",
            "-- Installing: /root/torch/install/lib/luarocks/rocks/torch/scm-1/lua/torch/doc/timer.md\n",
            "-- Installing: /root/torch/install/lib/luarocks/rocks/torch/scm-1/lua/torch/doc/random.md\n",
            "-- Installing: /root/torch/install/lib/luarocks/rocks/torch/scm-1/lua/torch/doc/maths.md\n",
            "-- Installing: /root/torch/install/lib/libTH.so.0\n",
            "-- Set runtime path of \"/root/torch/install/lib/libTH.so.0\" to \"$ORIGIN/../lib:/usr/local/lib\"\n",
            "-- Installing: /root/torch/install/lib/libTH.so\n",
            "-- Installing: /root/torch/install/include/TH/TH.h\n",
            "-- Installing: /root/torch/install/include/TH/THAllocator.h\n",
            "-- Installing: /root/torch/install/include/TH/THMath.h\n",
            "-- Installing: /root/torch/install/include/TH/THBlas.h\n",
            "-- Installing: /root/torch/install/include/TH/THDiskFile.h\n",
            "-- Installing: /root/torch/install/include/TH/THFile.h\n",
            "-- Installing: /root/torch/install/include/TH/THFilePrivate.h\n",
            "-- Installing: /root/torch/install/include/TH/THGeneral.h\n",
            "-- Installing: /root/torch/install/include/TH/THGenerateAllTypes.h\n",
            "-- Installing: /root/torch/install/include/TH/THGenerateDoubleType.h\n",
            "-- Installing: /root/torch/install/include/TH/THGenerateFloatType.h\n",
            "-- Installing: /root/torch/install/include/TH/THGenerateHalfType.h\n",
            "-- Installing: /root/torch/install/include/TH/THGenerateLongType.h\n",
            "-- Installing: /root/torch/install/include/TH/THGenerateIntType.h\n",
            "-- Installing: /root/torch/install/include/TH/THGenerateShortType.h\n",
            "-- Installing: /root/torch/install/include/TH/THGenerateCharType.h\n",
            "-- Installing: /root/torch/install/include/TH/THGenerateByteType.h\n",
            "-- Installing: /root/torch/install/include/TH/THGenerateFloatTypes.h\n",
            "-- Installing: /root/torch/install/include/TH/THGenerateIntTypes.h\n",
            "-- Installing: /root/torch/install/include/TH/THLapack.h\n",
            "-- Installing: /root/torch/install/include/TH/THLogAdd.h\n",
            "-- Installing: /root/torch/install/include/TH/THMemoryFile.h\n",
            "-- Installing: /root/torch/install/include/TH/THRandom.h\n",
            "-- Installing: /root/torch/install/include/TH/THSize.h\n",
            "-- Installing: /root/torch/install/include/TH/THStorage.h\n",
            "-- Installing: /root/torch/install/include/TH/THTensor.h\n",
            "-- Installing: /root/torch/install/include/TH/THTensorApply.h\n",
            "-- Installing: /root/torch/install/include/TH/THTensorDimApply.h\n",
            "-- Installing: /root/torch/install/include/TH/THTensorMacros.h\n",
            "-- Installing: /root/torch/install/include/TH/THVector.h\n",
            "-- Installing: /root/torch/install/include/TH/THAtomic.h\n",
            "-- Installing: /root/torch/install/include/TH/THHalf.h\n",
            "-- Installing: /root/torch/install/include/TH/vector/AVX.h\n",
            "-- Installing: /root/torch/install/include/TH/vector/AVX2.h\n",
            "-- Installing: /root/torch/install/include/TH/generic/THBlas.c\n",
            "-- Installing: /root/torch/install/include/TH/generic/THBlas.h\n",
            "-- Installing: /root/torch/install/include/TH/generic/THLapack.c\n",
            "-- Installing: /root/torch/install/include/TH/generic/THLapack.h\n",
            "-- Installing: /root/torch/install/include/TH/generic/THStorage.c\n",
            "-- Installing: /root/torch/install/include/TH/generic/THStorage.h\n",
            "-- Installing: /root/torch/install/include/TH/generic/THStorageCopy.c\n",
            "-- Installing: /root/torch/install/include/TH/generic/THStorageCopy.h\n",
            "-- Installing: /root/torch/install/include/TH/generic/THTensor.c\n",
            "-- Installing: /root/torch/install/include/TH/generic/THTensor.h\n",
            "-- Installing: /root/torch/install/include/TH/generic/THTensorConv.c\n",
            "-- Installing: /root/torch/install/include/TH/generic/THTensorConv.h\n",
            "-- Installing: /root/torch/install/include/TH/generic/THTensorCopy.c\n",
            "-- Installing: /root/torch/install/include/TH/generic/THTensorCopy.h\n",
            "-- Installing: /root/torch/install/include/TH/generic/THTensorLapack.c\n",
            "-- Installing: /root/torch/install/include/TH/generic/THTensorLapack.h\n",
            "-- Installing: /root/torch/install/include/TH/generic/THTensorMath.c\n",
            "-- Installing: /root/torch/install/include/TH/generic/THTensorMath.h\n",
            "-- Installing: /root/torch/install/include/TH/generic/THTensorRandom.c\n",
            "-- Installing: /root/torch/install/include/TH/generic/THTensorRandom.h\n",
            "-- Installing: /root/torch/install/include/TH/generic/THVectorDispatch.c\n",
            "-- Installing: /root/torch/install/include/TH/generic/THVector.h\n",
            "-- Installing: /root/torch/install/share/cmake/torch/THConfig.cmake\n",
            "-- Installing: /root/torch/install/lib/libluaT.so.0\n",
            "-- Set runtime path of \"/root/torch/install/lib/libluaT.so.0\" to \"$ORIGIN/../lib\"\n",
            "-- Installing: /root/torch/install/lib/libluaT.so\n",
            "-- Installing: /root/torch/install/include/luaT.h\n",
            "-- Installing: /root/torch/install/share/cmake/torch/luaTConfig.cmake\n",
            "Updating manifest for /root/torch/install/lib/luarocks/rocks\n",
            "torch scm-1 is now built and installed in /root/torch/install/ (license: BSD)\n",
            "\n",
            "Updating manifest for /root/torch/install/lib/luarocks/rocks\n",
            "dok scm-1 is now built and installed in /root/torch/install/ (license: BSD)\n",
            "\n",
            "gcc -O2 -fPIC -I/root/torch/install/include -c utils.c -o utils.o\n",
            "gcc -shared -o treplutils.so -L/root/torch/install/lib utils.o\n",
            "gcc -O2 -fPIC -I/root/torch/install/include -c readline.c -o readline.o\n",
            "gcc -shared -o readline.so -L/root/torch/install/lib readline.o -lreadline\n",
            "Updating manifest for /root/torch/install/lib/luarocks/rocks\n",
            "trepl scm-1 is now built and installed in /root/torch/install/ (license: BSD)\n",
            "\n",
            "Warning: unmatched variable LUALIB\n",
            "cmake -E make_directory build && cd build && cmake .. -DLUALIB= -DCMAKE_BUILD_TYPE=Release  -DCMAKE_INSTALL_PREFIX=\"/root/torch/install/lib/luarocks/rocks/sys/1.1-0\" && make\n",
            "-- The C compiler identification is GNU 7.4.0\n",
            "-- The CXX compiler identification is GNU 7.4.0\n",
            "-- Check for working C compiler: /usr/bin/cc\n",
            "-- Check for working C compiler: /usr/bin/cc -- works\n",
            "-- Detecting C compiler ABI info\n",
            "-- Detecting C compiler ABI info - done\n",
            "-- Detecting C compile features\n",
            "-- Detecting C compile features - done\n",
            "-- Check for working CXX compiler: /usr/bin/c++\n",
            "-- Check for working CXX compiler: /usr/bin/c++ -- works\n",
            "-- Detecting CXX compiler ABI info\n",
            "-- Detecting CXX compiler ABI info - done\n",
            "-- Detecting CXX compile features\n",
            "-- Detecting CXX compile features - done\n",
            "-- Found Torch7 in /root/torch/install\n",
            "-- Configuring done\n",
            "-- Generating done\n",
            "-- Build files have been written to: /root/torch/pkg/sys/build\n",
            "\u001b[35m\u001b[1mScanning dependencies of target sys\u001b[0m\n",
            "[ 50%] \u001b[32mBuilding C object CMakeFiles/sys.dir/sys.c.o\u001b[0m\n",
            "[100%] \u001b[32m\u001b[1mLinking C shared module libsys.so\u001b[0m\n",
            "[100%] Built target sys\n",
            "cd build && make install\n",
            "[100%] Built target sys\n",
            "\u001b[36mInstall the project...\u001b[0m\n",
            "-- Install configuration: \"Release\"\n",
            "-- Installing: /root/torch/install/lib/luarocks/rocks/sys/1.1-0/lib/libsys.so\n",
            "-- Set runtime path of \"/root/torch/install/lib/luarocks/rocks/sys/1.1-0/lib/libsys.so\" to \"$ORIGIN/../lib:/root/torch/install/lib:/usr/local/lib\"\n",
            "-- Installing: /root/torch/install/lib/luarocks/rocks/sys/1.1-0/lua/sys/init.lua\n",
            "-- Installing: /root/torch/install/lib/luarocks/rocks/sys/1.1-0/lua/sys/colors.lua\n",
            "-- Installing: /root/torch/install/lib/luarocks/rocks/sys/1.1-0/lua/sys/fpath.lua\n",
            "Updating manifest for /root/torch/install/lib/luarocks/rocks\n",
            "sys 1.1-0 is now built and installed in /root/torch/install/ (license: BSD)\n",
            "\n",
            "Updating manifest for /root/torch/install/lib/luarocks/rocks\n",
            "xlua 1.0-0 is now built and installed in /root/torch/install/ (license: BSD)\n",
            "\n",
            "Updating manifest for /root/torch/install/lib/luarocks/rocks\n",
            "moses 1.6.1-1 is now built and installed in /root/torch/install/ (license: MIT <http://www.opensource.org/licenses/mit-license.php>)\n",
            "\n",
            "cmake -E make_directory build && cd build && cmake .. -DCMAKE_BUILD_TYPE=Release -DCMAKE_PREFIX_PATH=\"/root/torch/install/bin/..\" -DCMAKE_INSTALL_PREFIX=\"/root/torch/install/lib/luarocks/rocks/nn/scm-1\"  -DLUA_INCDIR=\"/root/torch/install/include\" -DLUA_LIBDIR=\"/root/torch/install/lib\" && make\n",
            "\n",
            "-- The C compiler identification is GNU 7.4.0\n",
            "-- The CXX compiler identification is GNU 7.4.0\n",
            "-- Check for working C compiler: /usr/bin/cc\n",
            "-- Check for working C compiler: /usr/bin/cc -- works\n",
            "-- Detecting C compiler ABI info\n",
            "-- Detecting C compiler ABI info - done\n",
            "-- Detecting C compile features\n",
            "-- Detecting C compile features - done\n",
            "-- Check for working CXX compiler: /usr/bin/c++\n",
            "-- Check for working CXX compiler: /usr/bin/c++ -- works\n",
            "-- Detecting CXX compiler ABI info\n",
            "-- Detecting CXX compiler ABI info - done\n",
            "-- Detecting CXX compile features\n",
            "-- Detecting CXX compile features - done\n",
            "-- Found Torch7 in /root/torch/install\n",
            "-- TH_LIBRARIES: TH\n",
            "-- Found OpenMP_C: -fopenmp (found version \"4.5\") \n",
            "-- Found OpenMP_CXX: -fopenmp (found version \"4.5\") \n",
            "-- Found OpenMP: TRUE (found version \"4.5\")  \n",
            "-- Compiling with OpenMP support\n",
            "-- Configuring done\n",
            "-- Generating done\n",
            "CMake Warning:\n",
            "  Manually-specified variables were not used by the project:\n",
            "\n",
            "    LUA_INCDIR\n",
            "    LUA_LIBDIR\n",
            "\n",
            "\n",
            "-- Build files have been written to: /root/torch/extra/nn/build\n",
            "\u001b[35m\u001b[1mScanning dependencies of target THNN\u001b[0m\n",
            "[ 50%] \u001b[32mBuilding C object lib/THNN/CMakeFiles/THNN.dir/init.c.o\u001b[0m\n",
            "[100%] \u001b[32m\u001b[1mLinking C shared module libTHNN.so\u001b[0m\n",
            "[100%] Built target THNN\n",
            "cd build && make install\n",
            "[100%] Built target THNN\n",
            "\u001b[36mInstall the project...\u001b[0m\n",
            "-- Install configuration: \"Release\"\n",
            "-- Installing: /root/torch/install/lib/luarocks/rocks/nn/scm-1/lua/nn/Abs.lua\n",
            "-- Installing: /root/torch/install/lib/luarocks/rocks/nn/scm-1/lua/nn/AbsCriterion.lua\n",
            "-- Installing: /root/torch/install/lib/luarocks/rocks/nn/scm-1/lua/nn/Add.lua\n",
            "-- Installing: /root/torch/install/lib/luarocks/rocks/nn/scm-1/lua/nn/AddConstant.lua\n",
            "-- Installing: /root/torch/install/lib/luarocks/rocks/nn/scm-1/lua/nn/BCECriterion.lua\n",
            "-- Installing: /root/torch/install/lib/luarocks/rocks/nn/scm-1/lua/nn/BatchNormalization.lua\n",
            "-- Installing: /root/torch/install/lib/luarocks/rocks/nn/scm-1/lua/nn/Bilinear.lua\n",
            "-- Installing: /root/torch/install/lib/luarocks/rocks/nn/scm-1/lua/nn/Bottle.lua\n",
            "-- Installing: /root/torch/install/lib/luarocks/rocks/nn/scm-1/lua/nn/CAdd.lua\n",
            "-- Installing: /root/torch/install/lib/luarocks/rocks/nn/scm-1/lua/nn/CAddTable.lua\n",
            "-- Installing: /root/torch/install/lib/luarocks/rocks/nn/scm-1/lua/nn/CAddTensorTable.lua\n",
            "-- Installing: /root/torch/install/lib/luarocks/rocks/nn/scm-1/lua/nn/CDivTable.lua\n",
            "-- Installing: /root/torch/install/lib/luarocks/rocks/nn/scm-1/lua/nn/CMaxTable.lua\n",
            "-- Installing: /root/torch/install/lib/luarocks/rocks/nn/scm-1/lua/nn/CMinTable.lua\n",
            "-- Installing: /root/torch/install/lib/luarocks/rocks/nn/scm-1/lua/nn/CMul.lua\n",
            "-- Installing: /root/torch/install/lib/luarocks/rocks/nn/scm-1/lua/nn/CMulTable.lua\n",
            "-- Installing: /root/torch/install/lib/luarocks/rocks/nn/scm-1/lua/nn/CReLU.lua\n",
            "-- Installing: /root/torch/install/lib/luarocks/rocks/nn/scm-1/lua/nn/CSubTable.lua\n",
            "-- Installing: /root/torch/install/lib/luarocks/rocks/nn/scm-1/lua/nn/Clamp.lua\n",
            "-- Installing: /root/torch/install/lib/luarocks/rocks/nn/scm-1/lua/nn/ClassNLLCriterion.lua\n",
            "-- Installing: /root/torch/install/lib/luarocks/rocks/nn/scm-1/lua/nn/ClassSimplexCriterion.lua\n",
            "-- Installing: /root/torch/install/lib/luarocks/rocks/nn/scm-1/lua/nn/Collapse.lua\n",
            "-- Installing: /root/torch/install/lib/luarocks/rocks/nn/scm-1/lua/nn/Concat.lua\n",
            "-- Installing: /root/torch/install/lib/luarocks/rocks/nn/scm-1/lua/nn/ConcatTable.lua\n",
            "-- Installing: /root/torch/install/lib/luarocks/rocks/nn/scm-1/lua/nn/Constant.lua\n",
            "-- Installing: /root/torch/install/lib/luarocks/rocks/nn/scm-1/lua/nn/Container.lua\n",
            "-- Installing: /root/torch/install/lib/luarocks/rocks/nn/scm-1/lua/nn/Contiguous.lua\n",
            "-- Installing: /root/torch/install/lib/luarocks/rocks/nn/scm-1/lua/nn/Convert.lua\n",
            "-- Installing: /root/torch/install/lib/luarocks/rocks/nn/scm-1/lua/nn/Copy.lua\n",
            "-- Installing: /root/torch/install/lib/luarocks/rocks/nn/scm-1/lua/nn/Cosine.lua\n",
            "-- Installing: /root/torch/install/lib/luarocks/rocks/nn/scm-1/lua/nn/CosineDistance.lua\n",
            "-- Installing: /root/torch/install/lib/luarocks/rocks/nn/scm-1/lua/nn/CosineEmbeddingCriterion.lua\n",
            "-- Installing: /root/torch/install/lib/luarocks/rocks/nn/scm-1/lua/nn/Criterion.lua\n",
            "-- Installing: /root/torch/install/lib/luarocks/rocks/nn/scm-1/lua/nn/CriterionTable.lua\n",
            "-- Installing: /root/torch/install/lib/luarocks/rocks/nn/scm-1/lua/nn/CrossEntropyCriterion.lua\n",
            "-- Installing: /root/torch/install/lib/luarocks/rocks/nn/scm-1/lua/nn/Decorator.lua\n",
            "-- Installing: /root/torch/install/lib/luarocks/rocks/nn/scm-1/lua/nn/DepthConcat.lua\n",
            "-- Installing: /root/torch/install/lib/luarocks/rocks/nn/scm-1/lua/nn/DistKLDivCriterion.lua\n",
            "-- Installing: /root/torch/install/lib/luarocks/rocks/nn/scm-1/lua/nn/DistanceRatioCriterion.lua\n",
            "-- Installing: /root/torch/install/lib/luarocks/rocks/nn/scm-1/lua/nn/DontCast.lua\n",
            "-- Installing: /root/torch/install/lib/luarocks/rocks/nn/scm-1/lua/nn/DotProduct.lua\n",
            "-- Installing: /root/torch/install/lib/luarocks/rocks/nn/scm-1/lua/nn/Dropout.lua\n",
            "-- Installing: /root/torch/install/lib/luarocks/rocks/nn/scm-1/lua/nn/ELU.lua\n",
            "-- Installing: /root/torch/install/lib/luarocks/rocks/nn/scm-1/lua/nn/ErrorMessages.lua\n",
            "-- Installing: /root/torch/install/lib/luarocks/rocks/nn/scm-1/lua/nn/Euclidean.lua\n",
            "-- Installing: /root/torch/install/lib/luarocks/rocks/nn/scm-1/lua/nn/Exp.lua\n",
            "-- Installing: /root/torch/install/lib/luarocks/rocks/nn/scm-1/lua/nn/FlattenTable.lua\n",
            "-- Installing: /root/torch/install/lib/luarocks/rocks/nn/scm-1/lua/nn/GPU.lua\n",
            "-- Installing: /root/torch/install/lib/luarocks/rocks/nn/scm-1/lua/nn/GatedLinearUnit.lua\n",
            "-- Installing: /root/torch/install/lib/luarocks/rocks/nn/scm-1/lua/nn/GradientReversal.lua\n",
            "-- Installing: /root/torch/install/lib/luarocks/rocks/nn/scm-1/lua/nn/HardShrink.lua\n",
            "-- Installing: /root/torch/install/lib/luarocks/rocks/nn/scm-1/lua/nn/HardTanh.lua\n",
            "-- Installing: /root/torch/install/lib/luarocks/rocks/nn/scm-1/lua/nn/HingeEmbeddingCriterion.lua\n",
            "-- Installing: /root/torch/install/lib/luarocks/rocks/nn/scm-1/lua/nn/Identity.lua\n",
            "-- Installing: /root/torch/install/lib/luarocks/rocks/nn/scm-1/lua/nn/Index.lua\n",
            "-- Installing: /root/torch/install/lib/luarocks/rocks/nn/scm-1/lua/nn/IndexLinear.lua\n",
            "-- Installing: /root/torch/install/lib/luarocks/rocks/nn/scm-1/lua/nn/Jacobian.lua\n",
            "-- Installing: /root/torch/install/lib/luarocks/rocks/nn/scm-1/lua/nn/JoinTable.lua\n",
            "-- Installing: /root/torch/install/lib/luarocks/rocks/nn/scm-1/lua/nn/Kmeans.lua\n",
            "-- Installing: /root/torch/install/lib/luarocks/rocks/nn/scm-1/lua/nn/L1Cost.lua\n",
            "-- Installing: /root/torch/install/lib/luarocks/rocks/nn/scm-1/lua/nn/L1HingeEmbeddingCriterion.lua\n",
            "-- Installing: /root/torch/install/lib/luarocks/rocks/nn/scm-1/lua/nn/L1Penalty.lua\n",
            "-- Installing: /root/torch/install/lib/luarocks/rocks/nn/scm-1/lua/nn/LayerNormalization.lua\n",
            "-- Installing: /root/torch/install/lib/luarocks/rocks/nn/scm-1/lua/nn/LeakyReLU.lua\n",
            "-- Installing: /root/torch/install/lib/luarocks/rocks/nn/scm-1/lua/nn/Linear.lua\n",
            "-- Installing: /root/torch/install/lib/luarocks/rocks/nn/scm-1/lua/nn/LinearWeightNorm.lua\n",
            "-- Installing: /root/torch/install/lib/luarocks/rocks/nn/scm-1/lua/nn/Log.lua\n",
            "-- Installing: /root/torch/install/lib/luarocks/rocks/nn/scm-1/lua/nn/LogSigmoid.lua\n",
            "-- Installing: /root/torch/install/lib/luarocks/rocks/nn/scm-1/lua/nn/LogSoftMax.lua\n",
            "-- Installing: /root/torch/install/lib/luarocks/rocks/nn/scm-1/lua/nn/LookupTable.lua\n",
            "-- Installing: /root/torch/install/lib/luarocks/rocks/nn/scm-1/lua/nn/MM.lua\n",
            "-- Installing: /root/torch/install/lib/luarocks/rocks/nn/scm-1/lua/nn/MSECriterion.lua\n",
            "-- Installing: /root/torch/install/lib/luarocks/rocks/nn/scm-1/lua/nn/MV.lua\n",
            "-- Installing: /root/torch/install/lib/luarocks/rocks/nn/scm-1/lua/nn/MapTable.lua\n",
            "-- Installing: /root/torch/install/lib/luarocks/rocks/nn/scm-1/lua/nn/MarginCriterion.lua\n",
            "-- Installing: /root/torch/install/lib/luarocks/rocks/nn/scm-1/lua/nn/MarginRankingCriterion.lua\n",
            "-- Installing: /root/torch/install/lib/luarocks/rocks/nn/scm-1/lua/nn/MaskedSelect.lua\n",
            "-- Installing: /root/torch/install/lib/luarocks/rocks/nn/scm-1/lua/nn/Max.lua\n",
            "-- Installing: /root/torch/install/lib/luarocks/rocks/nn/scm-1/lua/nn/Maxout.lua\n",
            "-- Installing: /root/torch/install/lib/luarocks/rocks/nn/scm-1/lua/nn/Mean.lua\n",
            "-- Installing: /root/torch/install/lib/luarocks/rocks/nn/scm-1/lua/nn/Min.lua\n",
            "-- Installing: /root/torch/install/lib/luarocks/rocks/nn/scm-1/lua/nn/MixtureTable.lua\n",
            "-- Installing: /root/torch/install/lib/luarocks/rocks/nn/scm-1/lua/nn/Module.lua\n",
            "-- Installing: /root/torch/install/lib/luarocks/rocks/nn/scm-1/lua/nn/ModuleCriterion.lua\n",
            "-- Installing: /root/torch/install/lib/luarocks/rocks/nn/scm-1/lua/nn/Mul.lua\n",
            "-- Installing: /root/torch/install/lib/luarocks/rocks/nn/scm-1/lua/nn/MulConstant.lua\n",
            "-- Installing: /root/torch/install/lib/luarocks/rocks/nn/scm-1/lua/nn/MultiCriterion.lua\n",
            "-- Installing: /root/torch/install/lib/luarocks/rocks/nn/scm-1/lua/nn/MultiLabelMarginCriterion.lua\n",
            "-- Installing: /root/torch/install/lib/luarocks/rocks/nn/scm-1/lua/nn/MultiLabelSoftMarginCriterion.lua\n",
            "-- Installing: /root/torch/install/lib/luarocks/rocks/nn/scm-1/lua/nn/MultiMarginCriterion.lua\n",
            "-- Installing: /root/torch/install/lib/luarocks/rocks/nn/scm-1/lua/nn/NaN.lua\n",
            "-- Installing: /root/torch/install/lib/luarocks/rocks/nn/scm-1/lua/nn/Narrow.lua\n",
            "-- Installing: /root/torch/install/lib/luarocks/rocks/nn/scm-1/lua/nn/NarrowTable.lua\n",
            "-- Installing: /root/torch/install/lib/luarocks/rocks/nn/scm-1/lua/nn/Normalize.lua\n",
            "-- Installing: /root/torch/install/lib/luarocks/rocks/nn/scm-1/lua/nn/OneHot.lua\n",
            "-- Installing: /root/torch/install/lib/luarocks/rocks/nn/scm-1/lua/nn/PReLU.lua\n",
            "-- Installing: /root/torch/install/lib/luarocks/rocks/nn/scm-1/lua/nn/Padding.lua\n",
            "-- Installing: /root/torch/install/lib/luarocks/rocks/nn/scm-1/lua/nn/PairwiseDistance.lua\n",
            "-- Installing: /root/torch/install/lib/luarocks/rocks/nn/scm-1/lua/nn/Parallel.lua\n",
            "-- Installing: /root/torch/install/lib/luarocks/rocks/nn/scm-1/lua/nn/ParallelCriterion.lua\n",
            "-- Installing: /root/torch/install/lib/luarocks/rocks/nn/scm-1/lua/nn/ParallelTable.lua\n",
            "-- Installing: /root/torch/install/lib/luarocks/rocks/nn/scm-1/lua/nn/PartialLinear.lua\n",
            "-- Installing: /root/torch/install/lib/luarocks/rocks/nn/scm-1/lua/nn/PixelShuffle.lua\n",
            "-- Installing: /root/torch/install/lib/luarocks/rocks/nn/scm-1/lua/nn/Power.lua\n",
            "-- Installing: /root/torch/install/lib/luarocks/rocks/nn/scm-1/lua/nn/PrintSize.lua\n",
            "-- Installing: /root/torch/install/lib/luarocks/rocks/nn/scm-1/lua/nn/Profile.lua\n",
            "-- Installing: /root/torch/install/lib/luarocks/rocks/nn/scm-1/lua/nn/RReLU.lua\n",
            "-- Installing: /root/torch/install/lib/luarocks/rocks/nn/scm-1/lua/nn/ReLU.lua\n",
            "-- Installing: /root/torch/install/lib/luarocks/rocks/nn/scm-1/lua/nn/ReLU6.lua\n",
            "-- Installing: /root/torch/install/lib/luarocks/rocks/nn/scm-1/lua/nn/Replicate.lua\n",
            "-- Installing: /root/torch/install/lib/luarocks/rocks/nn/scm-1/lua/nn/Reshape.lua\n",
            "-- Installing: /root/torch/install/lib/luarocks/rocks/nn/scm-1/lua/nn/Select.lua\n",
            "-- Installing: /root/torch/install/lib/luarocks/rocks/nn/scm-1/lua/nn/SelectTable.lua\n",
            "-- Installing: /root/torch/install/lib/luarocks/rocks/nn/scm-1/lua/nn/Sequential.lua\n",
            "-- Installing: /root/torch/install/lib/luarocks/rocks/nn/scm-1/lua/nn/Sigmoid.lua\n",
            "-- Installing: /root/torch/install/lib/luarocks/rocks/nn/scm-1/lua/nn/SmoothL1Criterion.lua\n",
            "-- Installing: /root/torch/install/lib/luarocks/rocks/nn/scm-1/lua/nn/SoftMarginCriterion.lua\n",
            "-- Installing: /root/torch/install/lib/luarocks/rocks/nn/scm-1/lua/nn/SoftMax.lua\n",
            "-- Installing: /root/torch/install/lib/luarocks/rocks/nn/scm-1/lua/nn/SoftMin.lua\n",
            "-- Installing: /root/torch/install/lib/luarocks/rocks/nn/scm-1/lua/nn/SoftPlus.lua\n",
            "-- Installing: /root/torch/install/lib/luarocks/rocks/nn/scm-1/lua/nn/SoftShrink.lua\n",
            "-- Installing: /root/torch/install/lib/luarocks/rocks/nn/scm-1/lua/nn/SoftSign.lua\n",
            "-- Installing: /root/torch/install/lib/luarocks/rocks/nn/scm-1/lua/nn/SparseJacobian.lua\n",
            "-- Installing: /root/torch/install/lib/luarocks/rocks/nn/scm-1/lua/nn/SparseLinear.lua\n",
            "-- Installing: /root/torch/install/lib/luarocks/rocks/nn/scm-1/lua/nn/SpatialAdaptiveAveragePooling.lua\n",
            "-- Installing: /root/torch/install/lib/luarocks/rocks/nn/scm-1/lua/nn/SpatialAdaptiveMaxPooling.lua\n",
            "-- Installing: /root/torch/install/lib/luarocks/rocks/nn/scm-1/lua/nn/SpatialAutoCropMSECriterion.lua\n",
            "-- Installing: /root/torch/install/lib/luarocks/rocks/nn/scm-1/lua/nn/SpatialAveragePooling.lua\n",
            "-- Installing: /root/torch/install/lib/luarocks/rocks/nn/scm-1/lua/nn/SpatialBatchNormalization.lua\n",
            "-- Installing: /root/torch/install/lib/luarocks/rocks/nn/scm-1/lua/nn/SpatialClassNLLCriterion.lua\n",
            "-- Installing: /root/torch/install/lib/luarocks/rocks/nn/scm-1/lua/nn/SpatialContrastiveNormalization.lua\n",
            "-- Installing: /root/torch/install/lib/luarocks/rocks/nn/scm-1/lua/nn/SpatialConvolution.lua\n",
            "-- Installing: /root/torch/install/lib/luarocks/rocks/nn/scm-1/lua/nn/SpatialConvolutionLocal.lua\n",
            "-- Installing: /root/torch/install/lib/luarocks/rocks/nn/scm-1/lua/nn/SpatialConvolutionMM.lua\n",
            "-- Installing: /root/torch/install/lib/luarocks/rocks/nn/scm-1/lua/nn/SpatialConvolutionMap.lua\n",
            "-- Installing: /root/torch/install/lib/luarocks/rocks/nn/scm-1/lua/nn/SpatialCrossMapLRN.lua\n",
            "-- Installing: /root/torch/install/lib/luarocks/rocks/nn/scm-1/lua/nn/SpatialDepthWiseConvolution.lua\n",
            "-- Installing: /root/torch/install/lib/luarocks/rocks/nn/scm-1/lua/nn/SpatialDilatedConvolution.lua\n",
            "-- Installing: /root/torch/install/lib/luarocks/rocks/nn/scm-1/lua/nn/SpatialDilatedMaxPooling.lua\n",
            "-- Installing: /root/torch/install/lib/luarocks/rocks/nn/scm-1/lua/nn/SpatialDivisiveNormalization.lua\n",
            "-- Installing: /root/torch/install/lib/luarocks/rocks/nn/scm-1/lua/nn/SpatialDropout.lua\n",
            "-- Installing: /root/torch/install/lib/luarocks/rocks/nn/scm-1/lua/nn/SpatialFractionalMaxPooling.lua\n",
            "-- Installing: /root/torch/install/lib/luarocks/rocks/nn/scm-1/lua/nn/SpatialFullConvolution.lua\n",
            "-- Installing: /root/torch/install/lib/luarocks/rocks/nn/scm-1/lua/nn/SpatialFullConvolutionMap.lua\n",
            "-- Installing: /root/torch/install/lib/luarocks/rocks/nn/scm-1/lua/nn/SpatialLPPooling.lua\n",
            "-- Installing: /root/torch/install/lib/luarocks/rocks/nn/scm-1/lua/nn/SpatialLogSoftMax.lua\n",
            "-- Installing: /root/torch/install/lib/luarocks/rocks/nn/scm-1/lua/nn/SpatialMaxPooling.lua\n",
            "-- Installing: /root/torch/install/lib/luarocks/rocks/nn/scm-1/lua/nn/SpatialMaxUnpooling.lua\n",
            "-- Installing: /root/torch/install/lib/luarocks/rocks/nn/scm-1/lua/nn/SpatialReflectionPadding.lua\n",
            "-- Installing: /root/torch/install/lib/luarocks/rocks/nn/scm-1/lua/nn/SpatialReplicationPadding.lua\n",
            "-- Installing: /root/torch/install/lib/luarocks/rocks/nn/scm-1/lua/nn/SpatialSoftMax.lua\n",
            "-- Installing: /root/torch/install/lib/luarocks/rocks/nn/scm-1/lua/nn/SpatialSubSampling.lua\n",
            "-- Installing: /root/torch/install/lib/luarocks/rocks/nn/scm-1/lua/nn/SpatialSubtractiveNormalization.lua\n",
            "-- Installing: /root/torch/install/lib/luarocks/rocks/nn/scm-1/lua/nn/SpatialUpSamplingBilinear.lua\n",
            "-- Installing: /root/torch/install/lib/luarocks/rocks/nn/scm-1/lua/nn/SpatialUpSamplingNearest.lua\n",
            "-- Installing: /root/torch/install/lib/luarocks/rocks/nn/scm-1/lua/nn/SpatialZeroPadding.lua\n",
            "-- Installing: /root/torch/install/lib/luarocks/rocks/nn/scm-1/lua/nn/SplitTable.lua\n",
            "-- Installing: /root/torch/install/lib/luarocks/rocks/nn/scm-1/lua/nn/Sqrt.lua\n",
            "-- Installing: /root/torch/install/lib/luarocks/rocks/nn/scm-1/lua/nn/Square.lua\n",
            "-- Installing: /root/torch/install/lib/luarocks/rocks/nn/scm-1/lua/nn/Squeeze.lua\n",
            "-- Installing: /root/torch/install/lib/luarocks/rocks/nn/scm-1/lua/nn/StochasticGradient.lua\n",
            "-- Installing: /root/torch/install/lib/luarocks/rocks/nn/scm-1/lua/nn/Sum.lua\n",
            "-- Installing: /root/torch/install/lib/luarocks/rocks/nn/scm-1/lua/nn/THNN.lua\n",
            "-- Installing: /root/torch/install/lib/luarocks/rocks/nn/scm-1/lua/nn/THNN_h.lua\n",
            "-- Installing: /root/torch/install/lib/luarocks/rocks/nn/scm-1/lua/nn/Tanh.lua\n",
            "-- Installing: /root/torch/install/lib/luarocks/rocks/nn/scm-1/lua/nn/TanhShrink.lua\n",
            "-- Installing: /root/torch/install/lib/luarocks/rocks/nn/scm-1/lua/nn/TemporalConvolution.lua\n",
            "-- Installing: /root/torch/install/lib/luarocks/rocks/nn/scm-1/lua/nn/TemporalDynamicKMaxPooling.lua\n",
            "-- Installing: /root/torch/install/lib/luarocks/rocks/nn/scm-1/lua/nn/TemporalMaxPooling.lua\n",
            "-- Installing: /root/torch/install/lib/luarocks/rocks/nn/scm-1/lua/nn/TemporalRowConvolution.lua\n",
            "-- Installing: /root/torch/install/lib/luarocks/rocks/nn/scm-1/lua/nn/TemporalSubSampling.lua\n",
            "-- Installing: /root/torch/install/lib/luarocks/rocks/nn/scm-1/lua/nn/Threshold.lua\n",
            "-- Installing: /root/torch/install/lib/luarocks/rocks/nn/scm-1/lua/nn/Transpose.lua\n",
            "-- Installing: /root/torch/install/lib/luarocks/rocks/nn/scm-1/lua/nn/Unsqueeze.lua\n",
            "-- Installing: /root/torch/install/lib/luarocks/rocks/nn/scm-1/lua/nn/View.lua\n",
            "-- Installing: /root/torch/install/lib/luarocks/rocks/nn/scm-1/lua/nn/VolumetricAveragePooling.lua\n",
            "-- Installing: /root/torch/install/lib/luarocks/rocks/nn/scm-1/lua/nn/VolumetricBatchNormalization.lua\n",
            "-- Installing: /root/torch/install/lib/luarocks/rocks/nn/scm-1/lua/nn/VolumetricConvolution.lua\n",
            "-- Installing: /root/torch/install/lib/luarocks/rocks/nn/scm-1/lua/nn/VolumetricDilatedConvolution.lua\n",
            "-- Installing: /root/torch/install/lib/luarocks/rocks/nn/scm-1/lua/nn/VolumetricDilatedMaxPooling.lua\n",
            "-- Installing: /root/torch/install/lib/luarocks/rocks/nn/scm-1/lua/nn/VolumetricDropout.lua\n",
            "-- Installing: /root/torch/install/lib/luarocks/rocks/nn/scm-1/lua/nn/VolumetricFractionalMaxPooling.lua\n",
            "-- Installing: /root/torch/install/lib/luarocks/rocks/nn/scm-1/lua/nn/VolumetricFullConvolution.lua\n",
            "-- Installing: /root/torch/install/lib/luarocks/rocks/nn/scm-1/lua/nn/VolumetricMaxPooling.lua\n",
            "-- Installing: /root/torch/install/lib/luarocks/rocks/nn/scm-1/lua/nn/VolumetricMaxUnpooling.lua\n",
            "-- Installing: /root/torch/install/lib/luarocks/rocks/nn/scm-1/lua/nn/VolumetricReplicationPadding.lua\n",
            "-- Installing: /root/torch/install/lib/luarocks/rocks/nn/scm-1/lua/nn/WeightNorm.lua\n",
            "-- Installing: /root/torch/install/lib/luarocks/rocks/nn/scm-1/lua/nn/WeightedEuclidean.lua\n",
            "-- Installing: /root/torch/install/lib/luarocks/rocks/nn/scm-1/lua/nn/WeightedMSECriterion.lua\n",
            "-- Installing: /root/torch/install/lib/luarocks/rocks/nn/scm-1/lua/nn/WhiteNoise.lua\n",
            "-- Installing: /root/torch/install/lib/luarocks/rocks/nn/scm-1/lua/nn/ZeroGrad.lua\n",
            "-- Installing: /root/torch/install/lib/luarocks/rocks/nn/scm-1/lua/nn/ZipTable.lua\n",
            "-- Installing: /root/torch/install/lib/luarocks/rocks/nn/scm-1/lua/nn/ZipTableOneToMany.lua\n",
            "-- Installing: /root/torch/install/lib/luarocks/rocks/nn/scm-1/lua/nn/hessian.lua\n",
            "-- Installing: /root/torch/install/lib/luarocks/rocks/nn/scm-1/lua/nn/init.lua\n",
            "-- Installing: /root/torch/install/lib/luarocks/rocks/nn/scm-1/lua/nn/test.lua\n",
            "-- Installing: /root/torch/install/lib/luarocks/rocks/nn/scm-1/lua/nn/utils.lua\n",
            "-- Installing: /root/torch/install/lib/luarocks/rocks/nn/scm-1/lua/nn/doc\n",
            "-- Installing: /root/torch/install/lib/luarocks/rocks/nn/scm-1/lua/nn/doc/module.md\n",
            "-- Installing: /root/torch/install/lib/luarocks/rocks/nn/scm-1/lua/nn/doc/criterion.md\n",
            "-- Installing: /root/torch/install/lib/luarocks/rocks/nn/scm-1/lua/nn/doc/overview.md\n",
            "-- Installing: /root/torch/install/lib/luarocks/rocks/nn/scm-1/lua/nn/doc/testing.md\n",
            "-- Installing: /root/torch/install/lib/luarocks/rocks/nn/scm-1/lua/nn/doc/transfer.md\n",
            "-- Installing: /root/torch/install/lib/luarocks/rocks/nn/scm-1/lua/nn/doc/containers.md\n",
            "-- Installing: /root/torch/install/lib/luarocks/rocks/nn/scm-1/lua/nn/doc/index.md\n",
            "-- Installing: /root/torch/install/lib/luarocks/rocks/nn/scm-1/lua/nn/doc/table.md\n",
            "-- Installing: /root/torch/install/lib/luarocks/rocks/nn/scm-1/lua/nn/doc/training.md\n",
            "-- Installing: /root/torch/install/lib/luarocks/rocks/nn/scm-1/lua/nn/doc/simple.md\n",
            "-- Installing: /root/torch/install/lib/luarocks/rocks/nn/scm-1/lua/nn/doc/convolution.md\n",
            "-- Installing: /root/torch/install/lib/luarocks/rocks/nn/scm-1/lua/nn/doc/image\n",
            "-- Installing: /root/torch/install/lib/luarocks/rocks/nn/scm-1/lua/nn/doc/image/softplus.png\n",
            "-- Installing: /root/torch/install/lib/luarocks/rocks/nn/scm-1/lua/nn/doc/image/softmin.png\n",
            "-- Installing: /root/torch/install/lib/luarocks/rocks/nn/scm-1/lua/nn/doc/image/square.png\n",
            "-- Installing: /root/torch/install/lib/luarocks/rocks/nn/scm-1/lua/nn/doc/image/sigmmoid.png\n",
            "-- Installing: /root/torch/install/lib/luarocks/rocks/nn/scm-1/lua/nn/doc/image/prelu.png\n",
            "-- Installing: /root/torch/install/lib/luarocks/rocks/nn/scm-1/lua/nn/doc/image/sshrink.png\n",
            "-- Installing: /root/torch/install/lib/luarocks/rocks/nn/scm-1/lua/nn/doc/image/hshrink.png\n",
            "-- Installing: /root/torch/install/lib/luarocks/rocks/nn/scm-1/lua/nn/doc/image/sigmoid.png\n",
            "-- Installing: /root/torch/install/lib/luarocks/rocks/nn/scm-1/lua/nn/doc/image/logsigmoid.png\n",
            "-- Installing: /root/torch/install/lib/luarocks/rocks/nn/scm-1/lua/nn/doc/image/softmax.png\n",
            "-- Installing: /root/torch/install/lib/luarocks/rocks/nn/scm-1/lua/nn/doc/image/logsoftmax.png\n",
            "-- Installing: /root/torch/install/lib/luarocks/rocks/nn/scm-1/lua/nn/doc/image/htanh.png\n",
            "-- Installing: /root/torch/install/lib/luarocks/rocks/nn/scm-1/lua/nn/doc/image/elu.png\n",
            "-- Installing: /root/torch/install/lib/luarocks/rocks/nn/scm-1/lua/nn/doc/image/relu6.png\n",
            "-- Installing: /root/torch/install/lib/luarocks/rocks/nn/scm-1/lua/nn/doc/image/relu.png\n",
            "-- Installing: /root/torch/install/lib/luarocks/rocks/nn/scm-1/lua/nn/doc/image/softsign.png\n",
            "-- Installing: /root/torch/install/lib/luarocks/rocks/nn/scm-1/lua/nn/doc/image/lenap.jpg\n",
            "-- Installing: /root/torch/install/lib/luarocks/rocks/nn/scm-1/lua/nn/doc/image/sqrt.png\n",
            "-- Installing: /root/torch/install/lib/luarocks/rocks/nn/scm-1/lua/nn/doc/image/exp.png\n",
            "-- Installing: /root/torch/install/lib/luarocks/rocks/nn/scm-1/lua/nn/doc/image/abs.png\n",
            "-- Installing: /root/torch/install/lib/luarocks/rocks/nn/scm-1/lua/nn/doc/image/power.png\n",
            "-- Installing: /root/torch/install/lib/luarocks/rocks/nn/scm-1/lua/nn/doc/image/lena.jpg\n",
            "-- Installing: /root/torch/install/lib/luarocks/rocks/nn/scm-1/lua/nn/doc/image/rrelu.png\n",
            "-- Installing: /root/torch/install/lib/luarocks/rocks/nn/scm-1/lua/nn/doc/image/tanh.png\n",
            "-- Installing: /root/torch/install/lib/luarocks/rocks/nn/scm-1/lua/nn/README.md\n",
            "-- Installing: /root/torch/install/lib/luarocks/rocks/nn/scm-1/lib/libTHNN.so\n",
            "-- Set runtime path of \"/root/torch/install/lib/luarocks/rocks/nn/scm-1/lib/libTHNN.so\" to \"$ORIGIN/../lib:/root/torch/install/lib:/usr/local/lib\"\n",
            "-- Installing: /root/torch/install/include/THNN/THNN.h\n",
            "-- Installing: /root/torch/install/include/THNN/generic/THNN.h\n",
            "Updating manifest for /root/torch/install/lib/luarocks/rocks\n",
            "nn scm-1 is now built and installed in /root/torch/install/ (license: BSD)\n",
            "\n",
            "cmake -E make_directory build && cd build && cmake .. -DCMAKE_BUILD_TYPE=Release -DCMAKE_PREFIX_PATH=\"/root/torch/install/bin/..\" -DCMAKE_INSTALL_PREFIX=\"/root/torch/install/lib/luarocks/rocks/graph/scm-1\" && make\n",
            "   \n",
            "-- The C compiler identification is GNU 7.4.0\n",
            "-- The CXX compiler identification is GNU 7.4.0\n",
            "-- Check for working C compiler: /usr/bin/cc\n",
            "-- Check for working C compiler: /usr/bin/cc -- works\n",
            "-- Detecting C compiler ABI info\n",
            "-- Detecting C compiler ABI info - done\n",
            "-- Detecting C compile features\n",
            "-- Detecting C compile features - done\n",
            "-- Check for working CXX compiler: /usr/bin/c++\n",
            "-- Check for working CXX compiler: /usr/bin/c++ -- works\n",
            "-- Detecting CXX compiler ABI info\n",
            "-- Detecting CXX compiler ABI info - done\n",
            "-- Detecting CXX compile features\n",
            "-- Detecting CXX compile features - done\n",
            "-- Found Torch7 in /root/torch/install\n",
            "-- Configuring done\n",
            "-- Generating done\n",
            "-- Build files have been written to: /root/torch/extra/graph/build\n",
            "cd build && make install\n",
            "\u001b[36mInstall the project...\u001b[0m\n",
            "-- Install configuration: \"Release\"\n",
            "-- Installing: /root/torch/install/lib/luarocks/rocks/graph/scm-1/lua/graph/Edge.lua\n",
            "-- Installing: /root/torch/install/lib/luarocks/rocks/graph/scm-1/lua/graph/Node.lua\n",
            "-- Installing: /root/torch/install/lib/luarocks/rocks/graph/scm-1/lua/graph/graphviz.lua\n",
            "-- Installing: /root/torch/install/lib/luarocks/rocks/graph/scm-1/lua/graph/init.lua\n",
            "Updating manifest for /root/torch/install/lib/luarocks/rocks\n",
            "graph scm-1 is now built and installed in /root/torch/install/ (license: UNKNOWN)\n",
            "\n",
            "cmake -E make_directory build && cd build && cmake .. -DCMAKE_BUILD_TYPE=Release -DCMAKE_PREFIX_PATH=\"/root/torch/install/bin/..\" -DCMAKE_INSTALL_PREFIX=\"/root/torch/install/lib/luarocks/rocks/nngraph/scm-1\" && make\n",
            "   \n",
            "-- The C compiler identification is GNU 7.4.0\n",
            "-- The CXX compiler identification is GNU 7.4.0\n",
            "-- Check for working C compiler: /usr/bin/cc\n",
            "-- Check for working C compiler: /usr/bin/cc -- works\n",
            "-- Detecting C compiler ABI info\n",
            "-- Detecting C compiler ABI info - done\n",
            "-- Detecting C compile features\n",
            "-- Detecting C compile features - done\n",
            "-- Check for working CXX compiler: /usr/bin/c++\n",
            "-- Check for working CXX compiler: /usr/bin/c++ -- works\n",
            "-- Detecting CXX compiler ABI info\n",
            "-- Detecting CXX compiler ABI info - done\n",
            "-- Detecting CXX compile features\n",
            "-- Detecting CXX compile features - done\n",
            "-- Found Torch7 in /root/torch/install\n",
            "-- Configuring done\n",
            "-- Generating done\n",
            "-- Build files have been written to: /root/torch/extra/nngraph/build\n",
            "cd build && make install\n",
            "\u001b[36mInstall the project...\u001b[0m\n",
            "-- Install configuration: \"Release\"\n",
            "-- Installing: /root/torch/install/lib/luarocks/rocks/nngraph/scm-1/lua/nngraph/JustElement.lua\n",
            "-- Installing: /root/torch/install/lib/luarocks/rocks/nngraph/scm-1/lua/nngraph/JustTable.lua\n",
            "-- Installing: /root/torch/install/lib/luarocks/rocks/nngraph/scm-1/lua/nngraph/ModuleFromCriterion.lua\n",
            "-- Installing: /root/torch/install/lib/luarocks/rocks/nngraph/scm-1/lua/nngraph/gmodule.lua\n",
            "-- Installing: /root/torch/install/lib/luarocks/rocks/nngraph/scm-1/lua/nngraph/graphinspecting.lua\n",
            "-- Installing: /root/torch/install/lib/luarocks/rocks/nngraph/scm-1/lua/nngraph/init.lua\n",
            "-- Installing: /root/torch/install/lib/luarocks/rocks/nngraph/scm-1/lua/nngraph/nest.lua\n",
            "-- Installing: /root/torch/install/lib/luarocks/rocks/nngraph/scm-1/lua/nngraph/nesting.lua\n",
            "-- Installing: /root/torch/install/lib/luarocks/rocks/nngraph/scm-1/lua/nngraph/node.lua\n",
            "-- Installing: /root/torch/install/lib/luarocks/rocks/nngraph/scm-1/lua/nngraph/simple_print.lua\n",
            "-- Installing: /root/torch/install/lib/luarocks/rocks/nngraph/scm-1/lua/nngraph/utils.lua\n",
            "Updating manifest for /root/torch/install/lib/luarocks/rocks\n",
            "nngraph scm-1 is now built and installed in /root/torch/install/ (license: UNKNOWN)\n",
            "\n",
            "Warning: unmatched variable LUALIB\n",
            "cmake -E make_directory build && cd build && cmake .. -DLUALIB= -DLUA_INCDIR=\"/root/torch/install/include\" -DLUA_LIBDIR=\"/root/torch/install/lib\"  -DCMAKE_BUILD_TYPE=Release -DCMAKE_PREFIX_PATH=\"/root/torch/install/bin/..\" -DCMAKE_INSTALL_PREFIX=\"/root/torch/install/lib/luarocks/rocks/image/1.1.alpha-0\" && make\n",
            "   \n",
            "-- The C compiler identification is GNU 7.4.0\n",
            "-- The CXX compiler identification is GNU 7.4.0\n",
            "-- Check for working C compiler: /usr/bin/cc\n",
            "-- Check for working C compiler: /usr/bin/cc -- works\n",
            "-- Detecting C compiler ABI info\n",
            "-- Detecting C compiler ABI info - done\n",
            "-- Detecting C compile features\n",
            "-- Detecting C compile features - done\n",
            "-- Check for working CXX compiler: /usr/bin/c++\n",
            "-- Check for working CXX compiler: /usr/bin/c++ -- works\n",
            "-- Detecting CXX compiler ABI info\n",
            "-- Detecting CXX compiler ABI info - done\n",
            "-- Detecting CXX compile features\n",
            "-- Detecting CXX compile features - done\n",
            "-- Found Torch7 in /root/torch/install\n",
            "-- Found JPEG: /usr/lib/x86_64-linux-gnu/libjpeg.so (found version \"80\") \n",
            "-- Found ZLIB: /usr/lib/x86_64-linux-gnu/libz.so (found version \"1.2.11\") \n",
            "-- Found PNG: /usr/lib/x86_64-linux-gnu/libpng.so (found version \"1.6.34\") \n",
            "-- Found OpenMP_C: -fopenmp (found version \"4.5\") \n",
            "-- Found OpenMP_CXX: -fopenmp (found version \"4.5\") \n",
            "-- Found OpenMP: TRUE (found version \"4.5\")  \n",
            "-- Compiling with OpenMP support\n",
            "-- Looking for jpeg_mem_src\n",
            "-- Looking for jpeg_mem_src - found\n",
            "-- Looking for jpeg_mem_dest\n",
            "-- Looking for jpeg_mem_dest - found\n",
            "-- Configuring done\n",
            "-- Generating done\n",
            "CMake Warning:\n",
            "  Manually-specified variables were not used by the project:\n",
            "\n",
            "    LUA_INCDIR\n",
            "    LUA_LIBDIR\n",
            "\n",
            "\n",
            "-- Build files have been written to: /root/torch/pkg/image/build\n",
            "\u001b[35m\u001b[1mScanning dependencies of target image\u001b[0m\n",
            "[ 12%] \u001b[32mBuilding C object CMakeFiles/image.dir/image.c.o\u001b[0m\n",
            "[ 25%] \u001b[32m\u001b[1mLinking C shared module libimage.so\u001b[0m\n",
            "[ 25%] Built target image\n",
            "\u001b[35m\u001b[1mScanning dependencies of target jpeg\u001b[0m\n",
            "[ 37%] \u001b[32mBuilding C object CMakeFiles/jpeg.dir/jpeg.c.o\u001b[0m\n",
            "[ 50%] \u001b[32m\u001b[1mLinking C shared module libjpeg.so\u001b[0m\n",
            "[ 50%] Built target jpeg\n",
            "\u001b[35m\u001b[1mScanning dependencies of target lua_png\u001b[0m\n",
            "[ 62%] \u001b[32mBuilding C object CMakeFiles/lua_png.dir/png.c.o\u001b[0m\n",
            "[ 75%] \u001b[32m\u001b[1mLinking C shared module liblua_png.so\u001b[0m\n",
            "[ 75%] Built target lua_png\n",
            "\u001b[35m\u001b[1mScanning dependencies of target ppm\u001b[0m\n",
            "[ 87%] \u001b[32mBuilding C object CMakeFiles/ppm.dir/ppm.c.o\u001b[0m\n",
            "[100%] \u001b[32m\u001b[1mLinking C shared module libppm.so\u001b[0m\n",
            "[100%] Built target ppm\n",
            "cd build && make install\n",
            "[ 25%] Built target image\n",
            "[ 50%] Built target jpeg\n",
            "[ 75%] Built target lua_png\n",
            "[100%] Built target ppm\n",
            "\u001b[36mInstall the project...\u001b[0m\n",
            "-- Install configuration: \"Release\"\n",
            "-- Installing: /root/torch/install/lib/luarocks/rocks/image/1.1.alpha-0/lib/libppm.so\n",
            "-- Set runtime path of \"/root/torch/install/lib/luarocks/rocks/image/1.1.alpha-0/lib/libppm.so\" to \"$ORIGIN/../lib:/root/torch/install/lib:/usr/local/lib\"\n",
            "-- Installing: /root/torch/install/lib/luarocks/rocks/image/1.1.alpha-0/lib/libjpeg.so\n",
            "-- Set runtime path of \"/root/torch/install/lib/luarocks/rocks/image/1.1.alpha-0/lib/libjpeg.so\" to \"$ORIGIN/../lib:/root/torch/install/lib:/usr/local/lib\"\n",
            "-- Installing: /root/torch/install/lib/luarocks/rocks/image/1.1.alpha-0/lib/liblua_png.so\n",
            "-- Set runtime path of \"/root/torch/install/lib/luarocks/rocks/image/1.1.alpha-0/lib/liblua_png.so\" to \"$ORIGIN/../lib:/root/torch/install/lib:/usr/local/lib\"\n",
            "-- Installing: /root/torch/install/lib/luarocks/rocks/image/1.1.alpha-0/lib/libimage.so\n",
            "-- Set runtime path of \"/root/torch/install/lib/luarocks/rocks/image/1.1.alpha-0/lib/libimage.so\" to \"$ORIGIN/../lib:/root/torch/install/lib:/usr/local/lib\"\n",
            "-- Installing: /root/torch/install/lib/luarocks/rocks/image/1.1.alpha-0/lua/image/init.lua\n",
            "-- Installing: /root/torch/install/lib/luarocks/rocks/image/1.1.alpha-0/lua/image/win.ui\n",
            "-- Installing: /root/torch/install/lib/luarocks/rocks/image/1.1.alpha-0/lua/image/test.lua\n",
            "-- Installing: /root/torch/install/lib/luarocks/rocks/image/1.1.alpha-0/lua/image/assets\n",
            "-- Installing: /root/torch/install/lib/luarocks/rocks/image/1.1.alpha-0/lua/image/assets/fabio.png\n",
            "-- Installing: /root/torch/install/lib/luarocks/rocks/image/1.1.alpha-0/lua/image/assets/corrupt-ihdr.png\n",
            "-- Installing: /root/torch/install/lib/luarocks/rocks/image/1.1.alpha-0/lua/image/assets/P5.pgm\n",
            "-- Installing: /root/torch/install/lib/luarocks/rocks/image/1.1.alpha-0/lua/image/assets/rgb16-2x1.png\n",
            "-- Installing: /root/torch/install/lib/luarocks/rocks/image/1.1.alpha-0/lua/image/assets/grace_hopper_512.jpg\n",
            "-- Installing: /root/torch/install/lib/luarocks/rocks/image/1.1.alpha-0/lua/image/assets/P2.pgm\n",
            "-- Installing: /root/torch/install/lib/luarocks/rocks/image/1.1.alpha-0/lua/image/assets/gray16-1x2.png\n",
            "-- Installing: /root/torch/install/lib/luarocks/rocks/image/1.1.alpha-0/lua/image/assets/foobar.png\n",
            "-- Installing: /root/torch/install/lib/luarocks/rocks/image/1.1.alpha-0/lua/image/assets/P4.pbm\n",
            "-- Installing: /root/torch/install/lib/luarocks/rocks/image/1.1.alpha-0/lua/image/assets/P6.ppm\n",
            "-- Installing: /root/torch/install/lib/luarocks/rocks/image/1.1.alpha-0/lua/image/assets/gray3x1.png\n",
            "-- Installing: /root/torch/install/lib/luarocks/rocks/image/1.1.alpha-0/lua/image/assets/rgb2x1.png\n",
            "-- Installing: /root/torch/install/lib/luarocks/rocks/image/1.1.alpha-0/lua/image/assets/grace_hopper_512.png\n",
            "-- Installing: /root/torch/install/lib/luarocks/rocks/image/1.1.alpha-0/lua/image/assets/rectangle.png\n",
            "-- Installing: /root/torch/install/lib/luarocks/rocks/image/1.1.alpha-0/lua/image/assets/fabio.jpg\n",
            "-- Installing: /root/torch/install/lib/luarocks/rocks/image/1.1.alpha-0/lua/image/assets/bmp-without-ext\n",
            "-- Installing: /root/torch/install/lib/luarocks/rocks/image/1.1.alpha-0/lua/image/README.md\n",
            "Updating manifest for /root/torch/install/lib/luarocks/rocks\n",
            "image 1.1.alpha-0 is now built and installed in /root/torch/install/ (license: BSD)\n",
            "\n",
            "cmake -E make_directory build && cd build && cmake .. -DCMAKE_BUILD_TYPE=Release -DCMAKE_PREFIX_PATH=\"/root/torch/install/bin/..\" -DCMAKE_INSTALL_PREFIX=\"/root/torch/install/lib/luarocks/rocks/optim/1.0.5-0\" && make\n",
            "   \n",
            "-- The C compiler identification is GNU 7.4.0\n",
            "-- The CXX compiler identification is GNU 7.4.0\n",
            "-- Check for working C compiler: /usr/bin/cc\n",
            "-- Check for working C compiler: /usr/bin/cc -- works\n",
            "-- Detecting C compiler ABI info\n",
            "-- Detecting C compiler ABI info - done\n",
            "-- Detecting C compile features\n",
            "-- Detecting C compile features - done\n",
            "-- Check for working CXX compiler: /usr/bin/c++\n",
            "-- Check for working CXX compiler: /usr/bin/c++ -- works\n",
            "-- Detecting CXX compiler ABI info\n",
            "-- Detecting CXX compiler ABI info - done\n",
            "-- Detecting CXX compile features\n",
            "-- Detecting CXX compile features - done\n",
            "-- Found Torch7 in /root/torch/install\n",
            "-- Configuring done\n",
            "-- Generating done\n",
            "-- Build files have been written to: /root/torch/pkg/optim/build\n",
            "cd build && make install\n",
            "\u001b[36mInstall the project...\u001b[0m\n",
            "-- Install configuration: \"Release\"\n",
            "-- Installing: /root/torch/install/lib/luarocks/rocks/optim/1.0.5-0/lua/optim/ConfusionMatrix.lua\n",
            "-- Installing: /root/torch/install/lib/luarocks/rocks/optim/1.0.5-0/lua/optim/Logger.lua\n",
            "-- Installing: /root/torch/install/lib/luarocks/rocks/optim/1.0.5-0/lua/optim/adadelta.lua\n",
            "-- Installing: /root/torch/install/lib/luarocks/rocks/optim/1.0.5-0/lua/optim/adagrad.lua\n",
            "-- Installing: /root/torch/install/lib/luarocks/rocks/optim/1.0.5-0/lua/optim/adam.lua\n",
            "-- Installing: /root/torch/install/lib/luarocks/rocks/optim/1.0.5-0/lua/optim/adamax.lua\n",
            "-- Installing: /root/torch/install/lib/luarocks/rocks/optim/1.0.5-0/lua/optim/asgd.lua\n",
            "-- Installing: /root/torch/install/lib/luarocks/rocks/optim/1.0.5-0/lua/optim/cg.lua\n",
            "-- Installing: /root/torch/install/lib/luarocks/rocks/optim/1.0.5-0/lua/optim/checkgrad.lua\n",
            "-- Installing: /root/torch/install/lib/luarocks/rocks/optim/1.0.5-0/lua/optim/cmaes.lua\n",
            "-- Installing: /root/torch/install/lib/luarocks/rocks/optim/1.0.5-0/lua/optim/de.lua\n",
            "-- Installing: /root/torch/install/lib/luarocks/rocks/optim/1.0.5-0/lua/optim/fista.lua\n",
            "-- Installing: /root/torch/install/lib/luarocks/rocks/optim/1.0.5-0/lua/optim/init.lua\n",
            "-- Installing: /root/torch/install/lib/luarocks/rocks/optim/1.0.5-0/lua/optim/lbfgs.lua\n",
            "-- Installing: /root/torch/install/lib/luarocks/rocks/optim/1.0.5-0/lua/optim/lswolfe.lua\n",
            "-- Installing: /root/torch/install/lib/luarocks/rocks/optim/1.0.5-0/lua/optim/nag.lua\n",
            "-- Installing: /root/torch/install/lib/luarocks/rocks/optim/1.0.5-0/lua/optim/polyinterp.lua\n",
            "-- Installing: /root/torch/install/lib/luarocks/rocks/optim/1.0.5-0/lua/optim/rmsprop.lua\n",
            "-- Installing: /root/torch/install/lib/luarocks/rocks/optim/1.0.5-0/lua/optim/rprop.lua\n",
            "-- Installing: /root/torch/install/lib/luarocks/rocks/optim/1.0.5-0/lua/optim/sgd.lua\n",
            "-- Installing: /root/torch/install/lib/luarocks/rocks/optim/1.0.5-0/lua/optim/doc\n",
            "-- Installing: /root/torch/install/lib/luarocks/rocks/optim/1.0.5-0/lua/optim/doc/logger_plot.png\n",
            "-- Installing: /root/torch/install/lib/luarocks/rocks/optim/1.0.5-0/lua/optim/doc/logger.md\n",
            "-- Installing: /root/torch/install/lib/luarocks/rocks/optim/1.0.5-0/lua/optim/doc/intro.md\n",
            "-- Installing: /root/torch/install/lib/luarocks/rocks/optim/1.0.5-0/lua/optim/doc/algos.md\n",
            "-- Installing: /root/torch/install/lib/luarocks/rocks/optim/1.0.5-0/lua/optim/doc/image\n",
            "-- Installing: /root/torch/install/lib/luarocks/rocks/optim/1.0.5-0/lua/optim/doc/image/parameterflattening.png\n",
            "-- Installing: /root/torch/install/lib/luarocks/rocks/optim/1.0.5-0/lua/optim/doc/image/parameterflattening.svg.png\n",
            "-- Installing: /root/torch/install/lib/luarocks/rocks/optim/1.0.5-0/lua/optim/doc/image/parameterflattening.svg\n",
            "-- Installing: /root/torch/install/lib/luarocks/rocks/optim/1.0.5-0/lua/optim/README.md\n",
            "Updating manifest for /root/torch/install/lib/luarocks/rocks\n",
            "optim 1.0.5-0 is now built and installed in /root/torch/install/ (license: BSD)\n",
            "\n",
            "Found CUDA on your machine. Installing CUDA packages\n",
            "Warning: unmatched variable LUALIB\n",
            "\n",
            "jopts=$(getconf _NPROCESSORS_CONF)\n",
            "\n",
            "echo \"Building on $jopts cores\"\n",
            "cmake -E make_directory build && cd build && cmake .. -DLUALIB= -DLUA_INCDIR=/root/torch/install/include -DCMAKE_CXX_FLAGS=${CMAKE_CXX_FLAGS} -DCMAKE_BUILD_TYPE=Release -DCMAKE_PREFIX_PATH=\"/root/torch/install/bin/..\" -DCMAKE_INSTALL_PREFIX=\"/root/torch/install/lib/luarocks/rocks/cutorch/scm-1\" && make -j$jopts install\n",
            "\n",
            "Building on 2 cores\n",
            "-- The C compiler identification is GNU 7.4.0\n",
            "-- The CXX compiler identification is GNU 7.4.0\n",
            "-- Check for working C compiler: /usr/bin/cc\n",
            "-- Check for working C compiler: /usr/bin/cc -- works\n",
            "-- Detecting C compiler ABI info\n",
            "-- Detecting C compiler ABI info - done\n",
            "-- Detecting C compile features\n",
            "-- Detecting C compile features - done\n",
            "-- Check for working CXX compiler: /usr/bin/c++\n",
            "-- Check for working CXX compiler: /usr/bin/c++ -- works\n",
            "-- Detecting CXX compiler ABI info\n",
            "-- Detecting CXX compiler ABI info - done\n",
            "-- Detecting CXX compile features\n",
            "-- Detecting CXX compile features - done\n",
            "-- Found Torch7 in /root/torch/install\n",
            "-- Found CUDA: /usr/local/cuda (found suitable version \"10.0\", minimum required is \"6.5\") \n",
            "-- Removing -DNDEBUG from compile flags\n",
            "-- TH_LIBRARIES: TH\n",
            "-- MAGMA not found. Compiling without MAGMA support\n",
            "-- Automatic GPU detection failed. Building for common architectures.\n",
            "-- Autodetected CUDA architecture(s): 3.0;3.5;5.0;5.2;6.0;6.1;7.0;7.0+PTX;7.5;7.5+PTX\n",
            "-- got cuda version 10.0\n",
            "-- Found CUDA with FP16 support, compiling with torch.CudaHalfTensor\n",
            "-- CUDA_NVCC_FLAGS: -D__CUDA_NO_HALF_OPERATORS__;-gencode;arch=compute_30,code=sm_30;-gencode;arch=compute_35,code=sm_35;-gencode;arch=compute_50,code=sm_50;-gencode;arch=compute_52,code=sm_52;-gencode;arch=compute_60,code=sm_60;-gencode;arch=compute_61,code=sm_61;-gencode;arch=compute_70,code=sm_70;-gencode;arch=compute_75,code=sm_75;-gencode;arch=compute_70,code=compute_70;-gencode;arch=compute_75,code=compute_75;-DCUDA_HAS_FP16=1\n",
            "-- THC_SO_VERSION: 0\n",
            "-- Performing Test HAS_LUAL_SETFUNCS\n",
            "-- Performing Test HAS_LUAL_SETFUNCS - Failed\n",
            "-- Configuring done\n",
            "-- Generating done\n",
            "-- Build files have been written to: /root/torch/extra/cutorch/build\n",
            "[  1%] \u001b[34m\u001b[1mBuilding NVCC (Device) object lib/THC/CMakeFiles/THC.dir/THC_generated_THCHalf.cu.o\u001b[0m\n",
            "[  2%] \u001b[34m\u001b[1mBuilding NVCC (Device) object lib/THC/CMakeFiles/THC.dir/THC_generated_THCReduceApplyUtils.cu.o\u001b[0m\n",
            "[  3%] \u001b[34m\u001b[1mBuilding NVCC (Device) object lib/THC/CMakeFiles/THC.dir/THC_generated_THCBlas.cu.o\u001b[0m\n",
            "[  4%] \u001b[34m\u001b[1mBuilding NVCC (Device) object lib/THC/CMakeFiles/THC.dir/THC_generated_THCSleep.cu.o\u001b[0m\n",
            "[  6%] \u001b[34m\u001b[1mBuilding NVCC (Device) object lib/THC/CMakeFiles/THC.dir/THC_generated_THCStorageCopy.cu.o\u001b[0m\n",
            "[  7%] \u001b[34m\u001b[1mBuilding NVCC (Device) object lib/THC/CMakeFiles/THC.dir/THC_generated_THCTensor.cu.o\u001b[0m\n",
            "[  8%] \u001b[34m\u001b[1mBuilding NVCC (Device) object lib/THC/CMakeFiles/THC.dir/THC_generated_THCTensorCopy.cu.o\u001b[0m\n",
            "[ 10%] \u001b[34m\u001b[1mBuilding NVCC (Device) object lib/THC/CMakeFiles/THC.dir/THC_generated_THCTensorMath.cu.o\u001b[0m\n",
            "[ 11%] \u001b[34m\u001b[1mBuilding NVCC (Device) object lib/THC/CMakeFiles/THC.dir/THC_generated_THCTensorMath2.cu.o\u001b[0m\n",
            "lib/THC/CMakeFiles/THC.dir/build.make:119: recipe for target 'lib/THC/CMakeFiles/THC.dir/THC_generated_THCTensorMath2.cu.o' failed\n",
            "make[2]: *** [lib/THC/CMakeFiles/THC.dir/THC_generated_THCTensorMath2.cu.o] Interrupt\n",
            "lib/THC/CMakeFiles/THC.dir/build.make:105: recipe for target 'lib/THC/CMakeFiles/THC.dir/THC_generated_THCTensorCopy.cu.o' failed\n",
            "make[2]: *** [lib/THC/CMakeFiles/THC.dir/THC_generated_THCTensorCopy.cu.o] Interrupt\n",
            "CMakeFiles/Makefile2:177: recipe for target 'lib/THC/CMakeFiles/THC.dir/all' failed\n",
            "make[1]: *** [lib/THC/CMakeFiles/THC.dir/all] Interrupt\n",
            "Makefile:129: recipe for target 'all' failed\n",
            "make: *** [all] Interrupt\n",
            "\n",
            "Error: Build error: Failed building.\n"
          ],
          "name": "stdout"
        }
      ]
    },
    {
      "cell_type": "code",
      "metadata": {
        "id": "Kkc4HHJDaDFR",
        "colab_type": "code",
        "outputId": "b3e02345-749e-4efb-f6bb-7aa34b684326",
        "colab": {
          "base_uri": "https://localhost:8080/",
          "height": 357
        }
      },
      "source": [
        "!wget https://luarocks.org/releases/luarocks-3.0.4.tar.gz\n",
        "!tar zxpf luarocks-3.0.4.tar.gz\n",
        "!cd luarocks-3.0.4\n",
        "!./configure; sudo make bootstrap\n",
        "!sudo luarocks install luasocket\n",
        "!lua"
      ],
      "execution_count": 0,
      "outputs": [
        {
          "output_type": "stream",
          "text": [
            "--2019-05-26 05:08:43--  https://luarocks.org/releases/luarocks-3.0.4.tar.gz\n",
            "Resolving luarocks.org (luarocks.org)... 45.33.61.132\n",
            "Connecting to luarocks.org (luarocks.org)|45.33.61.132|:443... connected.\n",
            "HTTP request sent, awaiting response... 302 Moved Temporarily\n",
            "Location: https://luarocks.github.io/luarocks/releases/luarocks-3.0.4.tar.gz [following]\n",
            "--2019-05-26 05:08:43--  https://luarocks.github.io/luarocks/releases/luarocks-3.0.4.tar.gz\n",
            "Resolving luarocks.github.io (luarocks.github.io)... 185.199.109.153, 185.199.110.153, 185.199.108.153, ...\n",
            "Connecting to luarocks.github.io (luarocks.github.io)|185.199.109.153|:443... connected.\n",
            "HTTP request sent, awaiting response... 200 OK\n",
            "Length: 205350 (201K) [application/gzip]\n",
            "Saving to: ‘luarocks-3.0.4.tar.gz’\n",
            "\n",
            "luarocks-3.0.4.tar. 100%[===================>] 200.54K  --.-KB/s    in 0.04s   \n",
            "\n",
            "2019-05-26 05:08:44 (5.29 MB/s) - ‘luarocks-3.0.4.tar.gz’ saved [205350/205350]\n",
            "\n",
            "/bin/bash: ./configure: No such file or directory\n",
            "make: *** No rule to make target 'bootstrap'.  Stop.\n",
            "sudo: luarocks: command not found\n",
            "/bin/bash: lua: command not found\n"
          ],
          "name": "stdout"
        }
      ]
    },
    {
      "cell_type": "code",
      "metadata": {
        "id": "Id4w29Jlir-J",
        "colab_type": "code",
        "colab": {}
      },
      "source": [
        "!cd luarocks-3.0.4/\n"
      ],
      "execution_count": 0,
      "outputs": []
    },
    {
      "cell_type": "code",
      "metadata": {
        "id": "R6C7rF3oi6VD",
        "colab_type": "code",
        "outputId": "e6ba24d0-d6d2-4cab-87be-9185db2efe41",
        "colab": {
          "base_uri": "https://localhost:8080/",
          "height": 34
        }
      },
      "source": [
        "cd luarocks-3.0.4/"
      ],
      "execution_count": 0,
      "outputs": [
        {
          "output_type": "stream",
          "text": [
            "/root/torch/luarocks-3.0.4\n"
          ],
          "name": "stdout"
        }
      ]
    },
    {
      "cell_type": "code",
      "metadata": {
        "id": "VC6jI636i-L5",
        "colab_type": "code",
        "outputId": "d24ffb74-c3d3-4611-b291-7ff110e94973",
        "colab": {
          "base_uri": "https://localhost:8080/",
          "height": 68
        }
      },
      "source": [
        "ls"
      ],
      "execution_count": 0,
      "outputs": [
        {
          "output_type": "stream",
          "text": [
            "\u001b[0m\u001b[01;34mbinary\u001b[0m/             config.ld   GNUmakefile                README.md\n",
            "CHANGELOG.md        \u001b[01;32mconfigure\u001b[0m*  luarocks-3.0.4-1.rockspec  \u001b[01;34mspec\u001b[0m/\n",
            "CODE_OF_CONDUCT.md  COPYING     Makefile                   \u001b[01;34msrc\u001b[0m/\n"
          ],
          "name": "stdout"
        }
      ]
    },
    {
      "cell_type": "code",
      "metadata": {
        "id": "gmdDdJ7Ii2ON",
        "colab_type": "code",
        "outputId": "7a879114-7e1a-4560-f01f-d67127d805f3",
        "colab": {
          "base_uri": "https://localhost:8080/",
          "height": 170
        }
      },
      "source": [
        "!sudo apt install build-essential libreadline-dev"
      ],
      "execution_count": 0,
      "outputs": [
        {
          "output_type": "stream",
          "text": [
            "Reading package lists... Done\n",
            "Building dependency tree       \n",
            "Reading state information... Done\n",
            "build-essential is already the newest version (12.4ubuntu1).\n",
            "libreadline-dev is already the newest version (7.0-3).\n",
            "The following package was automatically installed and is no longer required:\n",
            "  libnvidia-common-410\n",
            "Use 'sudo apt autoremove' to remove it.\n",
            "0 upgraded, 0 newly installed, 0 to remove and 9 not upgraded.\n"
          ],
          "name": "stdout"
        }
      ]
    },
    {
      "cell_type": "code",
      "metadata": {
        "id": "AGH0vlAFj4wg",
        "colab_type": "code",
        "outputId": "249c79ec-b9d0-46f6-fd55-7e7b5544370f",
        "colab": {
          "base_uri": "https://localhost:8080/",
          "height": 68
        }
      },
      "source": [
        "!curl -R -O http://www.lua.org/ftp/lua-5.3.4.tar.gz"
      ],
      "execution_count": 0,
      "outputs": [
        {
          "output_type": "stream",
          "text": [
            "  % Total    % Received % Xferd  Average Speed   Time    Time     Time  Current\n",
            "                                 Dload  Upload   Total   Spent    Left  Speed\n",
            "100  296k  100  296k    0     0   337k      0 --:--:-- --:--:-- --:--:--  336k\n"
          ],
          "name": "stdout"
        }
      ]
    },
    {
      "cell_type": "code",
      "metadata": {
        "id": "tRl0MAcaj4t8",
        "colab_type": "code",
        "outputId": "620cd586-e586-4608-d9e4-76df79ecd962",
        "colab": {
          "base_uri": "https://localhost:8080/",
          "height": 34
        }
      },
      "source": [
        "pwd"
      ],
      "execution_count": 0,
      "outputs": [
        {
          "output_type": "execute_result",
          "data": {
            "text/plain": [
              "'/root/torch/luarocks-3.0.4'"
            ]
          },
          "metadata": {
            "tags": []
          },
          "execution_count": 40
        }
      ]
    },
    {
      "cell_type": "code",
      "metadata": {
        "id": "IPFBwEHNj4rE",
        "colab_type": "code",
        "colab": {}
      },
      "source": [
        "!cd ../\n",
        "\n"
      ],
      "execution_count": 0,
      "outputs": []
    },
    {
      "cell_type": "code",
      "metadata": {
        "id": "2PwezgWIj4oX",
        "colab_type": "code",
        "outputId": "adf2ee3d-258a-4887-dd98-a251bee34f15",
        "colab": {
          "base_uri": "https://localhost:8080/",
          "height": 34
        }
      },
      "source": [
        "pwd"
      ],
      "execution_count": 0,
      "outputs": [
        {
          "output_type": "execute_result",
          "data": {
            "text/plain": [
              "'/root/torch/luarocks-3.0.4'"
            ]
          },
          "metadata": {
            "tags": []
          },
          "execution_count": 43
        }
      ]
    },
    {
      "cell_type": "code",
      "metadata": {
        "id": "JIjwwH-xj4l8",
        "colab_type": "code",
        "colab": {}
      },
      "source": [
        "rm -rf lua-5.3.4.tar.gz"
      ],
      "execution_count": 0,
      "outputs": []
    },
    {
      "cell_type": "code",
      "metadata": {
        "id": "lcIc-XOrj4jU",
        "colab_type": "code",
        "outputId": "138aa79f-aae0-4760-9436-91f41587b108",
        "colab": {
          "base_uri": "https://localhost:8080/",
          "height": 34
        }
      },
      "source": [
        "cd /root/torch"
      ],
      "execution_count": 0,
      "outputs": [
        {
          "output_type": "stream",
          "text": [
            "/root/torch\n"
          ],
          "name": "stdout"
        }
      ]
    },
    {
      "cell_type": "code",
      "metadata": {
        "id": "fjzDPbxyaHr7",
        "colab_type": "code",
        "colab": {}
      },
      "source": [
        "rm -rf luarocks-3.0.4/"
      ],
      "execution_count": 0,
      "outputs": []
    },
    {
      "cell_type": "code",
      "metadata": {
        "id": "_rASRlU20T_p",
        "colab_type": "code",
        "outputId": "fcd49aaa-9084-48a3-f3b3-80a10b83921e",
        "colab": {
          "base_uri": "https://localhost:8080/",
          "height": 34
        }
      },
      "source": [
        ""
      ],
      "execution_count": 0,
      "outputs": [
        {
          "output_type": "stream",
          "text": [
            "/bin/bash: luarocks: command not found\n"
          ],
          "name": "stdout"
        }
      ]
    },
    {
      "cell_type": "code",
      "metadata": {
        "id": "8zpHz5l10dHJ",
        "colab_type": "code",
        "outputId": "c13af103-a2dd-4c4e-f99c-f8709deac9fe",
        "colab": {
          "base_uri": "https://localhost:8080/",
          "height": 34
        }
      },
      "source": [
        "!./update.sh"
      ],
      "execution_count": 0,
      "outputs": [
        {
          "output_type": "stream",
          "text": [
            "/bin/bash: ./update.sh: No such file or directory\n"
          ],
          "name": "stdout"
        }
      ]
    },
    {
      "cell_type": "code",
      "metadata": {
        "id": "bHR32V2Y1Lwz",
        "colab_type": "code",
        "outputId": "aab569d2-0d3d-4b06-970a-ca237ff58108",
        "colab": {
          "base_uri": "https://localhost:8080/",
          "height": 34
        }
      },
      "source": [
        "!pwd"
      ],
      "execution_count": 0,
      "outputs": [
        {
          "output_type": "stream",
          "text": [
            "/content\n"
          ],
          "name": "stdout"
        }
      ]
    },
    {
      "cell_type": "code",
      "metadata": {
        "id": "vwEroT1jWeZS",
        "colab_type": "code",
        "outputId": "28cf36ae-7ecf-4ba0-9431-c7cd066c370c",
        "colab": {
          "base_uri": "https://localhost:8080/",
          "height": 34
        }
      },
      "source": [
        "cd /root/"
      ],
      "execution_count": 0,
      "outputs": [
        {
          "output_type": "stream",
          "text": [
            "/root\n"
          ],
          "name": "stdout"
        }
      ]
    },
    {
      "cell_type": "code",
      "metadata": {
        "id": "W7nTuGpvWidu",
        "colab_type": "code",
        "colab": {}
      },
      "source": [
        "ls"
      ],
      "execution_count": 0,
      "outputs": []
    },
    {
      "cell_type": "code",
      "metadata": {
        "id": "gIiqxDtgfN1r",
        "colab_type": "code",
        "outputId": "cc94defa-6b9c-44e4-902e-6e55cdb18aee",
        "colab": {
          "base_uri": "https://localhost:8080/",
          "height": 34
        }
      },
      "source": [
        "!cd /root/torch"
      ],
      "execution_count": 0,
      "outputs": [
        {
          "output_type": "stream",
          "text": [
            "/bin/bash: line 0: cd: /root/torch: No such file or directory\n"
          ],
          "name": "stdout"
        }
      ]
    },
    {
      "cell_type": "code",
      "metadata": {
        "id": "uobGAjCRdvmg",
        "colab_type": "code",
        "outputId": "cb0cca35-4e1a-4ffe-ef03-4ee7b254967c",
        "colab": {
          "base_uri": "https://localhost:8080/",
          "height": 34
        }
      },
      "source": [
        "!th prepro_img_vgg.lua -input_json ../data/vqa_data_prepro.json -image_root /home/jiasenlu/data/ -cnn_proto ../image_model/VGG_ILSVRC_19_layers_deploy.prototxt -cnn_model ../image_model/VGG_ILSVRC_19_layers.caffemodel"
      ],
      "execution_count": 0,
      "outputs": [
        {
          "output_type": "stream",
          "text": [
            "/bin/bash: th: command not found\n"
          ],
          "name": "stdout"
        }
      ]
    },
    {
      "cell_type": "code",
      "metadata": {
        "id": "l7H69z1iWovf",
        "colab_type": "code",
        "outputId": "d86b1f2c-52bd-41ac-9888-636d801f14bd",
        "colab": {
          "base_uri": "https://localhost:8080/",
          "height": 34
        }
      },
      "source": [
        "!brew install luarocks\n"
      ],
      "execution_count": 0,
      "outputs": [
        {
          "output_type": "stream",
          "text": [
            "/bin/bash: brew: command not found\n"
          ],
          "name": "stdout"
        }
      ]
    },
    {
      "cell_type": "code",
      "metadata": {
        "id": "tm3bUdv7XCnv",
        "colab_type": "code",
        "outputId": "e5df59a6-4740-47d3-c2db-ab94aec1d0e4",
        "colab": {
          "base_uri": "https://localhost:8080/",
          "height": 187
        }
      },
      "source": [
        "!sudo apt install build-essential libreadline-dev"
      ],
      "execution_count": 0,
      "outputs": [
        {
          "output_type": "stream",
          "text": [
            "Reading package lists... Done\n",
            "Building dependency tree       \n",
            "Reading state information... Done\n",
            "build-essential is already the newest version (12.4ubuntu1).\n",
            "libreadline-dev is already the newest version (7.0-3).\n",
            "libreadline-dev set to manually installed.\n",
            "The following package was automatically installed and is no longer required:\n",
            "  libnvidia-common-410\n",
            "Use 'sudo apt autoremove' to remove it.\n",
            "0 upgraded, 0 newly installed, 0 to remove and 6 not upgraded.\n"
          ],
          "name": "stdout"
        }
      ]
    },
    {
      "cell_type": "code",
      "metadata": {
        "id": "RGpVIUySXCj3",
        "colab_type": "code",
        "outputId": "f7ea0ada-5dc5-4522-f13e-a86e9d73bd54",
        "colab": {
          "base_uri": "https://localhost:8080/",
          "height": 68
        }
      },
      "source": [
        "!curl -R -O http://www.lua.org/ftp/lua-5.3.4.tar.gz"
      ],
      "execution_count": 0,
      "outputs": [
        {
          "output_type": "stream",
          "text": [
            "  % Total    % Received % Xferd  Average Speed   Time    Time     Time  Current\n",
            "                                 Dload  Upload   Total   Spent    Left  Speed\n",
            "100  296k  100  296k    0     0   212k      0  0:00:01  0:00:01 --:--:--  212k\n"
          ],
          "name": "stdout"
        }
      ]
    },
    {
      "cell_type": "code",
      "metadata": {
        "id": "qQdgP8HWXCgp",
        "colab_type": "code",
        "colab": {}
      },
      "source": [
        "!tar -zxf lua-5.3.4.tar.gz"
      ],
      "execution_count": 0,
      "outputs": []
    },
    {
      "cell_type": "code",
      "metadata": {
        "id": "3Ma8fqj6XCdv",
        "colab_type": "code",
        "colab": {}
      },
      "source": [
        "!cd lua-5.3.4"
      ],
      "execution_count": 0,
      "outputs": []
    },
    {
      "cell_type": "code",
      "metadata": {
        "id": "leuJn_AHXCal",
        "colab_type": "code",
        "outputId": "5c8c5960-9596-4039-bb48-51907209acdf",
        "colab": {
          "base_uri": "https://localhost:8080/",
          "height": 853
        }
      },
      "source": [
        "!make linux test"
      ],
      "execution_count": 0,
      "outputs": [
        {
          "output_type": "stream",
          "text": [
            "cd src && make linux\n",
            "make[1]: Entering directory '/root/lua-5.3.4/src'\n",
            "make all SYSCFLAGS=\"-DLUA_USE_LINUX\" SYSLIBS=\"-Wl,-E -ldl -lreadline\"\n",
            "make[2]: Entering directory '/root/lua-5.3.4/src'\n",
            "gcc -std=gnu99 -O2 -Wall -Wextra -DLUA_COMPAT_5_2 -DLUA_USE_LINUX    -c -o lapi.o lapi.c\n",
            "gcc -std=gnu99 -O2 -Wall -Wextra -DLUA_COMPAT_5_2 -DLUA_USE_LINUX    -c -o lcode.o lcode.c\n",
            "gcc -std=gnu99 -O2 -Wall -Wextra -DLUA_COMPAT_5_2 -DLUA_USE_LINUX    -c -o lctype.o lctype.c\n",
            "gcc -std=gnu99 -O2 -Wall -Wextra -DLUA_COMPAT_5_2 -DLUA_USE_LINUX    -c -o ldebug.o ldebug.c\n",
            "gcc -std=gnu99 -O2 -Wall -Wextra -DLUA_COMPAT_5_2 -DLUA_USE_LINUX    -c -o ldo.o ldo.c\n",
            "gcc -std=gnu99 -O2 -Wall -Wextra -DLUA_COMPAT_5_2 -DLUA_USE_LINUX    -c -o ldump.o ldump.c\n",
            "gcc -std=gnu99 -O2 -Wall -Wextra -DLUA_COMPAT_5_2 -DLUA_USE_LINUX    -c -o lfunc.o lfunc.c\n",
            "gcc -std=gnu99 -O2 -Wall -Wextra -DLUA_COMPAT_5_2 -DLUA_USE_LINUX    -c -o lgc.o lgc.c\n",
            "gcc -std=gnu99 -O2 -Wall -Wextra -DLUA_COMPAT_5_2 -DLUA_USE_LINUX    -c -o llex.o llex.c\n",
            "gcc -std=gnu99 -O2 -Wall -Wextra -DLUA_COMPAT_5_2 -DLUA_USE_LINUX    -c -o lmem.o lmem.c\n",
            "gcc -std=gnu99 -O2 -Wall -Wextra -DLUA_COMPAT_5_2 -DLUA_USE_LINUX    -c -o lobject.o lobject.c\n",
            "gcc -std=gnu99 -O2 -Wall -Wextra -DLUA_COMPAT_5_2 -DLUA_USE_LINUX    -c -o lopcodes.o lopcodes.c\n",
            "gcc -std=gnu99 -O2 -Wall -Wextra -DLUA_COMPAT_5_2 -DLUA_USE_LINUX    -c -o lparser.o lparser.c\n",
            "gcc -std=gnu99 -O2 -Wall -Wextra -DLUA_COMPAT_5_2 -DLUA_USE_LINUX    -c -o lstate.o lstate.c\n",
            "gcc -std=gnu99 -O2 -Wall -Wextra -DLUA_COMPAT_5_2 -DLUA_USE_LINUX    -c -o lstring.o lstring.c\n",
            "gcc -std=gnu99 -O2 -Wall -Wextra -DLUA_COMPAT_5_2 -DLUA_USE_LINUX    -c -o ltable.o ltable.c\n",
            "gcc -std=gnu99 -O2 -Wall -Wextra -DLUA_COMPAT_5_2 -DLUA_USE_LINUX    -c -o ltm.o ltm.c\n",
            "gcc -std=gnu99 -O2 -Wall -Wextra -DLUA_COMPAT_5_2 -DLUA_USE_LINUX    -c -o lundump.o lundump.c\n",
            "gcc -std=gnu99 -O2 -Wall -Wextra -DLUA_COMPAT_5_2 -DLUA_USE_LINUX    -c -o lvm.o lvm.c\n",
            "gcc -std=gnu99 -O2 -Wall -Wextra -DLUA_COMPAT_5_2 -DLUA_USE_LINUX    -c -o lzio.o lzio.c\n",
            "gcc -std=gnu99 -O2 -Wall -Wextra -DLUA_COMPAT_5_2 -DLUA_USE_LINUX    -c -o lauxlib.o lauxlib.c\n",
            "gcc -std=gnu99 -O2 -Wall -Wextra -DLUA_COMPAT_5_2 -DLUA_USE_LINUX    -c -o lbaselib.o lbaselib.c\n",
            "gcc -std=gnu99 -O2 -Wall -Wextra -DLUA_COMPAT_5_2 -DLUA_USE_LINUX    -c -o lbitlib.o lbitlib.c\n",
            "gcc -std=gnu99 -O2 -Wall -Wextra -DLUA_COMPAT_5_2 -DLUA_USE_LINUX    -c -o lcorolib.o lcorolib.c\n",
            "gcc -std=gnu99 -O2 -Wall -Wextra -DLUA_COMPAT_5_2 -DLUA_USE_LINUX    -c -o ldblib.o ldblib.c\n",
            "gcc -std=gnu99 -O2 -Wall -Wextra -DLUA_COMPAT_5_2 -DLUA_USE_LINUX    -c -o liolib.o liolib.c\n",
            "gcc -std=gnu99 -O2 -Wall -Wextra -DLUA_COMPAT_5_2 -DLUA_USE_LINUX    -c -o lmathlib.o lmathlib.c\n",
            "gcc -std=gnu99 -O2 -Wall -Wextra -DLUA_COMPAT_5_2 -DLUA_USE_LINUX    -c -o loslib.o loslib.c\n",
            "gcc -std=gnu99 -O2 -Wall -Wextra -DLUA_COMPAT_5_2 -DLUA_USE_LINUX    -c -o lstrlib.o lstrlib.c\n",
            "gcc -std=gnu99 -O2 -Wall -Wextra -DLUA_COMPAT_5_2 -DLUA_USE_LINUX    -c -o ltablib.o ltablib.c\n",
            "gcc -std=gnu99 -O2 -Wall -Wextra -DLUA_COMPAT_5_2 -DLUA_USE_LINUX    -c -o lutf8lib.o lutf8lib.c\n",
            "gcc -std=gnu99 -O2 -Wall -Wextra -DLUA_COMPAT_5_2 -DLUA_USE_LINUX    -c -o loadlib.o loadlib.c\n",
            "gcc -std=gnu99 -O2 -Wall -Wextra -DLUA_COMPAT_5_2 -DLUA_USE_LINUX    -c -o linit.o linit.c\n",
            "ar rcu liblua.a lapi.o lcode.o lctype.o ldebug.o ldo.o ldump.o lfunc.o lgc.o llex.o lmem.o lobject.o lopcodes.o lparser.o lstate.o lstring.o ltable.o ltm.o lundump.o lvm.o lzio.o lauxlib.o lbaselib.o lbitlib.o lcorolib.o ldblib.o liolib.o lmathlib.o loslib.o lstrlib.o ltablib.o lutf8lib.o loadlib.o linit.o \n",
            "ar: `u' modifier ignored since `D' is the default (see `U')\n",
            "ranlib liblua.a\n",
            "gcc -std=gnu99 -O2 -Wall -Wextra -DLUA_COMPAT_5_2 -DLUA_USE_LINUX    -c -o lua.o lua.c\n",
            "gcc -std=gnu99 -o lua   lua.o liblua.a -lm -Wl,-E -ldl -lreadline \n",
            "gcc -std=gnu99 -O2 -Wall -Wextra -DLUA_COMPAT_5_2 -DLUA_USE_LINUX    -c -o luac.o luac.c\n",
            "gcc -std=gnu99 -o luac   luac.o liblua.a -lm -Wl,-E -ldl -lreadline \n",
            "make[2]: Leaving directory '/root/lua-5.3.4/src'\n",
            "make[1]: Leaving directory '/root/lua-5.3.4/src'\n",
            "src/lua -v\n",
            "Lua 5.3.4  Copyright (C) 1994-2017 Lua.org, PUC-Rio\n"
          ],
          "name": "stdout"
        }
      ]
    },
    {
      "cell_type": "code",
      "metadata": {
        "id": "sspIPflfXofi",
        "colab_type": "code",
        "outputId": "418d68da-8eea-4086-fc8d-4dbb71a67ff9",
        "colab": {
          "base_uri": "https://localhost:8080/",
          "height": 122
        }
      },
      "source": [
        "!sudo make install"
      ],
      "execution_count": 0,
      "outputs": [
        {
          "output_type": "stream",
          "text": [
            "cd src && mkdir -p /usr/local/bin /usr/local/include /usr/local/lib /usr/local/man/man1 /usr/local/share/lua/5.3 /usr/local/lib/lua/5.3\n",
            "cd src && install -p -m 0755 lua luac /usr/local/bin\n",
            "cd src && install -p -m 0644 lua.h luaconf.h lualib.h lauxlib.h lua.hpp /usr/local/include\n",
            "cd src && install -p -m 0644 liblua.a /usr/local/lib\n",
            "cd doc && install -p -m 0644 lua.1 luac.1 /usr/local/man/man1\n"
          ],
          "name": "stdout"
        }
      ]
    },
    {
      "cell_type": "code",
      "metadata": {
        "id": "b-vlNayEX8kv",
        "colab_type": "code",
        "outputId": "bc6c1822-9508-4876-fca3-26022c8aef7d",
        "colab": {
          "base_uri": "https://localhost:8080/",
          "height": 289
        }
      },
      "source": [
        "!wget https://luarocks.org/releases/luarocks-3.0.4.tar.gz"
      ],
      "execution_count": 0,
      "outputs": [
        {
          "output_type": "stream",
          "text": [
            "--2019-05-27 22:18:44--  https://luarocks.org/releases/luarocks-3.0.4.tar.gz\n",
            "Resolving luarocks.org (luarocks.org)... 45.33.61.132\n",
            "Connecting to luarocks.org (luarocks.org)|45.33.61.132|:443... connected.\n",
            "HTTP request sent, awaiting response... 302 Moved Temporarily\n",
            "Location: https://luarocks.github.io/luarocks/releases/luarocks-3.0.4.tar.gz [following]\n",
            "--2019-05-27 22:18:44--  https://luarocks.github.io/luarocks/releases/luarocks-3.0.4.tar.gz\n",
            "Resolving luarocks.github.io (luarocks.github.io)... 185.199.111.153, 185.199.110.153, 185.199.108.153, ...\n",
            "Connecting to luarocks.github.io (luarocks.github.io)|185.199.111.153|:443... connected.\n",
            "HTTP request sent, awaiting response... 200 OK\n",
            "Length: 205350 (201K) [application/gzip]\n",
            "Saving to: ‘luarocks-3.0.4.tar.gz’\n",
            "\n",
            "\rluarocks-3.0.4.tar.   0%[                    ]       0  --.-KB/s               \rluarocks-3.0.4.tar. 100%[===================>] 200.54K  --.-KB/s    in 0.02s   \n",
            "\n",
            "2019-05-27 22:18:44 (9.25 MB/s) - ‘luarocks-3.0.4.tar.gz’ saved [205350/205350]\n",
            "\n"
          ],
          "name": "stdout"
        }
      ]
    },
    {
      "cell_type": "code",
      "metadata": {
        "id": "eSDie-3uYCdh",
        "colab_type": "code",
        "colab": {}
      },
      "source": [
        "!tar zxpf luarocks-3.0.4.tar.gz"
      ],
      "execution_count": 0,
      "outputs": []
    },
    {
      "cell_type": "code",
      "metadata": {
        "id": "Q99gYJMtYGhx",
        "colab_type": "code",
        "colab": {}
      },
      "source": [
        "!cd luarocks-3.0.4"
      ],
      "execution_count": 0,
      "outputs": []
    },
    {
      "cell_type": "code",
      "metadata": {
        "id": "0naa-LoSclK4",
        "colab_type": "code",
        "outputId": "3996d124-3186-4f13-9361-b15d346e9527",
        "colab": {
          "base_uri": "https://localhost:8080/",
          "height": 34
        }
      },
      "source": [
        "!pwd"
      ],
      "execution_count": 0,
      "outputs": [
        {
          "output_type": "stream",
          "text": [
            "/root/lua-5.3.4\n"
          ],
          "name": "stdout"
        }
      ]
    },
    {
      "cell_type": "code",
      "metadata": {
        "id": "ypCoCZv1YPSw",
        "colab_type": "code",
        "outputId": "43992caa-77f1-466c-ab96-174d4b39e2b4",
        "colab": {
          "base_uri": "https://localhost:8080/",
          "height": 34
        }
      },
      "source": [
        "cd luarocks-3.0.4/\n"
      ],
      "execution_count": 0,
      "outputs": [
        {
          "output_type": "stream",
          "text": [
            "/root/lua-5.3.4/luarocks-3.0.4\n"
          ],
          "name": "stdout"
        }
      ]
    },
    {
      "cell_type": "code",
      "metadata": {
        "id": "Aiq71o-ZYSm1",
        "colab_type": "code",
        "outputId": "c87755dd-1b12-4d4d-fe18-3731063f9ac7",
        "colab": {
          "base_uri": "https://localhost:8080/",
          "height": 357
        }
      },
      "source": [
        "!./configure --prefix=/usr/local"
      ],
      "execution_count": 0,
      "outputs": [
        {
          "output_type": "stream",
          "text": [
            "\n",
            "\u001b[1;36mConfiguring LuaRocks version 3.0.4...\u001b[0m\n",
            "\n",
            "Lua version detected: \u001b[1;32m5.3\u001b[0m\n",
            "Lua interpreter found: \u001b[1;32m/usr/local/bin/lua\u001b[0m\n",
            "lua.h found: \u001b[1;32m/usr/local/include/lua.h\u001b[0m\n",
            "unzip found in PATH: \u001b[1;32m/usr/bin\u001b[0m\n",
            "\n",
            "\u001b[1;36mDone configuring.\u001b[0m\n",
            "\n",
            "LuaRocks will be installed at......: \u001b[1;32m/usr/local\u001b[0m\n",
            "LuaRocks will install rocks at.....: \u001b[1;32m/usr/local\u001b[0m\n",
            "LuaRocks configuration directory...: \u001b[1;32m/usr/local/etc/luarocks\u001b[0m\n",
            "Using Lua from.....................: \u001b[1;32m/usr/local\u001b[0m\n",
            "\n",
            "* Type \u001b[1mmake\u001b[0m and \u001b[1mmake install\u001b[0m:\n",
            "  to install to /usr/local as usual.\n",
            "* Type \u001b[1mmake bootstrap\u001b[0m:\n",
            "  to install LuaRocks into /usr/local as a rock.\n",
            "\n"
          ],
          "name": "stdout"
        }
      ]
    },
    {
      "cell_type": "code",
      "metadata": {
        "id": "kelKIY1BYiAU",
        "colab_type": "code",
        "outputId": "6ffcd8fd-852d-4e7e-acee-5cbff40a8c9c",
        "colab": {
          "base_uri": "https://localhost:8080/",
          "height": 666
        }
      },
      "source": [
        "!make build"
      ],
      "execution_count": 0,
      "outputs": [
        {
          "output_type": "stream",
          "text": [
            "mkdir -p \"build\"\n",
            "rm -f src/luarocks/core/hardcoded.lua\n",
            "echo \"#!/bin/sh\" > luarocks\n",
            "echo \"unset LUA_PATH LUA_PATH_5_2 LUA_PATH_5_3 LUA_PATH_5_4\" >> luarocks\n",
            "echo 'LUAROCKS_SYSCONFDIR=\"/usr/local/etc/luarocks\" LUA_PATH=\"/root/lua-5.3.4/luarocks-3.0.4/src/?.lua;;\" exec \"/usr/local/bin/lua\" \"/root/lua-5.3.4/luarocks-3.0.4/src/bin/luarocks\" --project-tree=\"/root/lua-5.3.4/luarocks-3.0.4/lua_modules\" \"$@\"' >> luarocks\n",
            "chmod +rx ./luarocks\n",
            "./luarocks init\n",
            "Warning: The directory '/root/.cache/luarocks' or its parent directory is not owned by the current user and the cache has been disabled. Please check the permissions and owner of that directory. If executing /root/lua-5.3.4/luarocks-3.0.4/src/bin/luarocks with sudo, you may want sudo's -H flag.\n",
            "Initializing project luarocks-3.0.4 ...\n",
            "Checking your Lua installation ...\n",
            "Adding entries to .gitignore ...\n",
            "Preparing ./.luarocks/ ...\n",
            "Preparing ./lua_modules/ ...\n",
            "./luarocks already exists. Not overwriting it!\n",
            "Preparing ./lua for version 5.3...\n",
            "cp ./build/config-5.3.lua .luarocks/config-5.3.lua\n",
            "rm -f src/luarocks/core/hardcoded.lua\n",
            "echo \"#!/bin/sh\" > luarocks-admin\n",
            "echo \"unset LUA_PATH LUA_PATH_5_2 LUA_PATH_5_3 LUA_PATH_5_4\" >> luarocks-admin\n",
            "echo 'LUAROCKS_SYSCONFDIR=\"/usr/local/etc/luarocks\" LUA_PATH=\"/root/lua-5.3.4/luarocks-3.0.4/src/?.lua;;\" exec \"/usr/local/bin/lua\" \"/root/lua-5.3.4/luarocks-3.0.4/src/bin/luarocks-admin\" --project-tree=\"/root/lua-5.3.4/luarocks-3.0.4/lua_modules\" \"$@\"' >> luarocks-admin\n",
            "chmod +rx ./luarocks-admin\n",
            "mkdir -p \"build\"\n",
            "(printf '#!/usr/local/bin/lua\\n'\\\n",
            "'package.loaded[\"luarocks.core.hardcoded\"] = { '\\\n",
            "\"$([ -n \"\" ] && printf 'FORCE_CONFIG = true, ')\"\\\n",
            "'SYSCONFDIR = [[/usr/local/etc/luarocks]] }\\n'\\\n",
            "'package.path=[[/usr/local/share/lua/5.3/?.lua;]] .. package.path\\n'; \\\n",
            "tail -n +2 src/bin/luarocks \\\n",
            ")> \"build/luarocks\"\n",
            "mkdir -p \"build\"\n",
            "(printf '#!/usr/local/bin/lua\\n'\\\n",
            "'package.loaded[\"luarocks.core.hardcoded\"] = { '\\\n",
            "\"$([ -n \"\" ] && printf 'FORCE_CONFIG = true, ')\"\\\n",
            "'SYSCONFDIR = [[/usr/local/etc/luarocks]] }\\n'\\\n",
            "'package.path=[[/usr/local/share/lua/5.3/?.lua;]] .. package.path\\n'; \\\n",
            "tail -n +2 src/bin/luarocks-admin \\\n",
            ")> \"build/luarocks-admin\"\n"
          ],
          "name": "stdout"
        }
      ]
    },
    {
      "cell_type": "code",
      "metadata": {
        "id": "1QlJxuOxYmc9",
        "colab_type": "code",
        "outputId": "357aed69-2ac2-4a86-f582-0bb6d6672d9b",
        "colab": {
          "base_uri": "https://localhost:8080/",
          "height": 119
        }
      },
      "source": [
        "!sudo make install"
      ],
      "execution_count": 0,
      "outputs": [
        {
          "output_type": "stream",
          "text": [
            "mkdir -p \"/usr/local/bin\"\n",
            "install \"build/luarocks\" \"/usr/local/bin/luarocks\"\n",
            "mkdir -p \"/usr/local/bin\"\n",
            "install \"build/luarocks-admin\" \"/usr/local/bin/luarocks-admin\"\n",
            "mkdir -p \"/usr/local/etc/luarocks\"\n",
            "install -m 644 \"build/config-5.3.lua\" \"/usr/local/etc/luarocks/config-5.3.lua\"\n"
          ],
          "name": "stdout"
        }
      ]
    },
    {
      "cell_type": "code",
      "metadata": {
        "id": "b3AolK64XvES",
        "colab_type": "code",
        "outputId": "e4b10fe2-ad7d-4480-8377-c0e5d298b88c",
        "colab": {
          "base_uri": "https://localhost:8080/",
          "height": 88
        }
      },
      "source": [
        "!luarocks install torch"
      ],
      "execution_count": 0,
      "outputs": [
        {
          "output_type": "stream",
          "text": [
            "Warning: The directory '/root/.cache/luarocks' or its parent directory is not owned by the current user and the cache has been disabled. Please check the permissions and owner of that directory. If executing /usr/local/bin/luarocks with sudo, you may want sudo's -H flag.\n",
            "\n",
            "Error: No results matching query were found.\n"
          ],
          "name": "stdout"
        }
      ]
    },
    {
      "cell_type": "code",
      "metadata": {
        "id": "Fbx6gBBHZhfC",
        "colab_type": "code",
        "outputId": "25b25320-c588-4f9f-d47f-210c5da21e3a",
        "colab": {
          "base_uri": "https://localhost:8080/",
          "height": 85
        }
      },
      "source": [
        "!USER=root luarocks make"
      ],
      "execution_count": 0,
      "outputs": [
        {
          "output_type": "stream",
          "text": [
            "\n",
            "No existing manifest. Attempting to rebuild...\n",
            "luarocks 3.0.4-1 is now installed in /root/lua-5.3.4/luarocks-3.0.4/lua_modules (license: MIT)\n",
            "\n"
          ],
          "name": "stdout"
        }
      ]
    },
    {
      "cell_type": "code",
      "metadata": {
        "id": "ptavKrN1Zuea",
        "colab_type": "code",
        "outputId": "907c1696-2a15-488f-8c3f-6f666f75364c",
        "colab": {
          "base_uri": "https://localhost:8080/",
          "height": 34
        }
      },
      "source": [
        "!pwd"
      ],
      "execution_count": 0,
      "outputs": [
        {
          "output_type": "stream",
          "text": [
            "/root/lua-5.3.4/luarocks-3.0.4\n"
          ],
          "name": "stdout"
        }
      ]
    },
    {
      "cell_type": "code",
      "metadata": {
        "id": "_9P0j7fhZ0Ej",
        "colab_type": "code",
        "outputId": "d5779fbb-b9f7-478d-ac8c-7cbbc153c02f",
        "colab": {
          "base_uri": "https://localhost:8080/",
          "height": 34
        }
      },
      "source": [
        "cd ../"
      ],
      "execution_count": 0,
      "outputs": [
        {
          "output_type": "stream",
          "text": [
            "/root/lua-5.3.4\n"
          ],
          "name": "stdout"
        }
      ]
    },
    {
      "cell_type": "code",
      "metadata": {
        "id": "7wq2R1zJZ1qb",
        "colab_type": "code",
        "colab": {}
      },
      "source": [
        "rm -rf luarocks-3.0.4/"
      ],
      "execution_count": 0,
      "outputs": []
    },
    {
      "cell_type": "code",
      "metadata": {
        "id": "570Xne4cZ9wJ",
        "colab_type": "code",
        "outputId": "e3b53c38-bc0e-4719-9679-7a6636e4d64b",
        "colab": {
          "base_uri": "https://localhost:8080/",
          "height": 4267
        }
      },
      "source": [
        "!tar -zxvf luarocks-3.0.4.tar.gz"
      ],
      "execution_count": 0,
      "outputs": [
        {
          "output_type": "stream",
          "text": [
            "luarocks-3.0.4/\n",
            "luarocks-3.0.4/config.ld\n",
            "luarocks-3.0.4/CHANGELOG.md\n",
            "luarocks-3.0.4/.editorconfig\n",
            "luarocks-3.0.4/CODE_OF_CONDUCT.md\n",
            "luarocks-3.0.4/configure\n",
            "luarocks-3.0.4/.codecov.yml\n",
            "luarocks-3.0.4/luarocks-3.0.4-1.rockspec\n",
            "luarocks-3.0.4/GNUmakefile\n",
            "luarocks-3.0.4/README.md\n",
            "luarocks-3.0.4/.busted\n",
            "luarocks-3.0.4/src/\n",
            "luarocks-3.0.4/src/luarocks/\n",
            "luarocks-3.0.4/src/luarocks/test/\n",
            "luarocks-3.0.4/src/luarocks/test/busted.lua\n",
            "luarocks-3.0.4/src/luarocks/test/command.lua\n",
            "luarocks-3.0.4/src/luarocks/fs.lua\n",
            "luarocks-3.0.4/src/luarocks/fetch.lua\n",
            "luarocks-3.0.4/src/luarocks/search.lua\n",
            "luarocks-3.0.4/src/luarocks/repos.lua\n",
            "luarocks-3.0.4/src/luarocks/test.lua\n",
            "luarocks-3.0.4/src/luarocks/dir.lua\n",
            "luarocks-3.0.4/src/luarocks/deps.lua\n",
            "luarocks-3.0.4/src/luarocks/build.lua\n",
            "luarocks-3.0.4/src/luarocks/fetch/\n",
            "luarocks-3.0.4/src/luarocks/fetch/git_http.lua\n",
            "luarocks-3.0.4/src/luarocks/fetch/hg_https.lua\n",
            "luarocks-3.0.4/src/luarocks/fetch/svn.lua\n",
            "luarocks-3.0.4/src/luarocks/fetch/hg.lua\n",
            "luarocks-3.0.4/src/luarocks/fetch/git.lua\n",
            "luarocks-3.0.4/src/luarocks/fetch/hg_http.lua\n",
            "luarocks-3.0.4/src/luarocks/fetch/cvs.lua\n",
            "luarocks-3.0.4/src/luarocks/fetch/git_file.lua\n",
            "luarocks-3.0.4/src/luarocks/fetch/git_https.lua\n",
            "luarocks-3.0.4/src/luarocks/fetch/git_ssh.lua\n",
            "luarocks-3.0.4/src/luarocks/fetch/hg_ssh.lua\n",
            "luarocks-3.0.4/src/luarocks/fetch/sscm.lua\n",
            "luarocks-3.0.4/src/luarocks/cmd.lua\n",
            "luarocks-3.0.4/src/luarocks/admin/\n",
            "luarocks-3.0.4/src/luarocks/admin/cmd/\n",
            "luarocks-3.0.4/src/luarocks/admin/cmd/refresh_cache.lua\n",
            "luarocks-3.0.4/src/luarocks/admin/cmd/make_manifest.lua\n",
            "luarocks-3.0.4/src/luarocks/admin/cmd/remove.lua\n",
            "luarocks-3.0.4/src/luarocks/admin/cmd/add.lua\n",
            "luarocks-3.0.4/src/luarocks/admin/index.lua\n",
            "luarocks-3.0.4/src/luarocks/admin/cache.lua\n",
            "luarocks-3.0.4/src/luarocks/cmd/\n",
            "luarocks-3.0.4/src/luarocks/cmd/search.lua\n",
            "luarocks-3.0.4/src/luarocks/cmd/config.lua\n",
            "luarocks-3.0.4/src/luarocks/cmd/write_rockspec.lua\n",
            "luarocks-3.0.4/src/luarocks/cmd/unpack.lua\n",
            "luarocks-3.0.4/src/luarocks/cmd/test.lua\n",
            "luarocks-3.0.4/src/luarocks/cmd/show.lua\n",
            "luarocks-3.0.4/src/luarocks/cmd/build.lua\n",
            "luarocks-3.0.4/src/luarocks/cmd/help.lua\n",
            "luarocks-3.0.4/src/luarocks/cmd/remove.lua\n",
            "luarocks-3.0.4/src/luarocks/cmd/install.lua\n",
            "luarocks-3.0.4/src/luarocks/cmd/purge.lua\n",
            "luarocks-3.0.4/src/luarocks/cmd/init.lua\n",
            "luarocks-3.0.4/src/luarocks/cmd/upload.lua\n",
            "luarocks-3.0.4/src/luarocks/cmd/make.lua\n",
            "luarocks-3.0.4/src/luarocks/cmd/download.lua\n",
            "luarocks-3.0.4/src/luarocks/cmd/lint.lua\n",
            "luarocks-3.0.4/src/luarocks/cmd/list.lua\n",
            "luarocks-3.0.4/src/luarocks/cmd/pack.lua\n",
            "luarocks-3.0.4/src/luarocks/cmd/doc.lua\n",
            "luarocks-3.0.4/src/luarocks/cmd/which.lua\n",
            "luarocks-3.0.4/src/luarocks/cmd/path.lua\n",
            "luarocks-3.0.4/src/luarocks/cmd/new_version.lua\n",
            "luarocks-3.0.4/src/luarocks/remove.lua\n",
            "luarocks-3.0.4/src/luarocks/fs/\n",
            "luarocks-3.0.4/src/luarocks/fs/win32.lua\n",
            "luarocks-3.0.4/src/luarocks/fs/unix.lua\n",
            "luarocks-3.0.4/src/luarocks/fs/win32/\n",
            "luarocks-3.0.4/src/luarocks/fs/win32/tools.lua\n",
            "luarocks-3.0.4/src/luarocks/fs/unix/\n",
            "luarocks-3.0.4/src/luarocks/fs/unix/tools.lua\n",
            "luarocks-3.0.4/src/luarocks/fs/lua.lua\n",
            "luarocks-3.0.4/src/luarocks/fs/tools.lua\n",
            "luarocks-3.0.4/src/luarocks/manif/\n",
            "luarocks-3.0.4/src/luarocks/manif/writer.lua\n",
            "luarocks-3.0.4/src/luarocks/manif.lua\n",
            "luarocks-3.0.4/src/luarocks/upload/\n",
            "luarocks-3.0.4/src/luarocks/upload/api.lua\n",
            "luarocks-3.0.4/src/luarocks/upload/multipart.lua\n",
            "luarocks-3.0.4/src/luarocks/util.lua\n",
            "luarocks-3.0.4/src/luarocks/download.lua\n",
            "luarocks-3.0.4/src/luarocks/results.lua\n",
            "luarocks-3.0.4/src/luarocks/type_check.lua\n",
            "luarocks-3.0.4/src/luarocks/tools/\n",
            "luarocks-3.0.4/src/luarocks/tools/zip.lua\n",
            "luarocks-3.0.4/src/luarocks/tools/tar.lua\n",
            "luarocks-3.0.4/src/luarocks/tools/patch.lua\n",
            "luarocks-3.0.4/src/luarocks/pack.lua\n",
            "luarocks-3.0.4/src/luarocks/persist.lua\n",
            "luarocks-3.0.4/src/luarocks/build/\n",
            "luarocks-3.0.4/src/luarocks/build/builtin.lua\n",
            "luarocks-3.0.4/src/luarocks/build/make.lua\n",
            "luarocks-3.0.4/src/luarocks/build/command.lua\n",
            "luarocks-3.0.4/src/luarocks/build/cmake.lua\n",
            "luarocks-3.0.4/src/luarocks/queries.lua\n",
            "luarocks-3.0.4/src/luarocks/core/\n",
            "luarocks-3.0.4/src/luarocks/core/dir.lua\n",
            "luarocks-3.0.4/src/luarocks/core/vers.lua\n",
            "luarocks-3.0.4/src/luarocks/core/manif.lua\n",
            "luarocks-3.0.4/src/luarocks/core/util.lua\n",
            "luarocks-3.0.4/src/luarocks/core/persist.lua\n",
            "luarocks-3.0.4/src/luarocks/core/sysdetect.lua\n",
            "luarocks-3.0.4/src/luarocks/core/cfg.lua\n",
            "luarocks-3.0.4/src/luarocks/core/path.lua\n",
            "luarocks-3.0.4/src/luarocks/require.lua\n",
            "luarocks-3.0.4/src/luarocks/type/\n",
            "luarocks-3.0.4/src/luarocks/type/manifest.lua\n",
            "luarocks-3.0.4/src/luarocks/type/rockspec.lua\n",
            "luarocks-3.0.4/src/luarocks/fun.lua\n",
            "luarocks-3.0.4/src/luarocks/rockspecs.lua\n",
            "luarocks-3.0.4/src/luarocks/loader.lua\n",
            "luarocks-3.0.4/src/luarocks/path.lua\n",
            "luarocks-3.0.4/src/bin/\n",
            "luarocks-3.0.4/src/bin/luarocks-admin\n",
            "luarocks-3.0.4/src/bin/luarocks\n",
            "luarocks-3.0.4/binary/\n",
            "luarocks-3.0.4/binary/lua-zlib-1.2-0.rockspec\n",
            "luarocks-3.0.4/binary/all_in_one\n",
            "luarocks-3.0.4/binary/static-gcc\n",
            "luarocks-3.0.4/binary/luaposix-34.0.4-1.rockspec\n",
            "luarocks-3.0.4/binary/luasec-0.7alpha-2.rockspec\n",
            "luarocks-3.0.4/binary/lua-bz2-0.1.0-1.rockspec\n",
            "luarocks-3.0.4/binary/Makefile.windows\n",
            "luarocks-3.0.4/Makefile\n",
            "luarocks-3.0.4/spec/\n",
            "luarocks-3.0.4/spec/sysdetect_spec.lua\n",
            "luarocks-3.0.4/spec/upload_spec.lua\n",
            "luarocks-3.0.4/spec/pack_spec.lua\n",
            "luarocks-3.0.4/spec/unpack_spec.lua\n",
            "luarocks-3.0.4/spec/fun_spec.lua\n",
            "luarocks-3.0.4/spec/make_manifest_spec.lua\n",
            "luarocks-3.0.4/spec/purge_spec.lua\n",
            "luarocks-3.0.4/spec/search_spec.lua\n",
            "luarocks-3.0.4/spec/make_spec.lua\n",
            "luarocks-3.0.4/spec/help_spec.lua\n",
            "luarocks-3.0.4/spec/show_spec.lua\n",
            "luarocks-3.0.4/spec/lint_spec.lua\n",
            "luarocks-3.0.4/spec/dir_spec.lua\n",
            "luarocks-3.0.4/spec/fetch_spec.lua\n",
            "luarocks-3.0.4/spec/download_spec.lua\n",
            "luarocks-3.0.4/spec/deps_spec.lua\n",
            "luarocks-3.0.4/spec/refresh_cache_spec.lua\n",
            "luarocks-3.0.4/spec/init_spec.lua\n",
            "luarocks-3.0.4/spec/fixtures/\n",
            "luarocks-3.0.4/spec/fixtures/with_external_dep.c\n",
            "luarocks-3.0.4/spec/fixtures/with_external_dep-0.1-1.rockspec\n",
            "luarocks-3.0.4/spec/fixtures/an_upstream_tarball-0.1.tar.gz\n",
            "luarocks-3.0.4/spec/fixtures/a_repo/\n",
            "luarocks-3.0.4/spec/fixtures/a_repo/busted_project-0.1-1.src.rock\n",
            "luarocks-3.0.4/spec/fixtures/a_repo/busted_project-0.1-1.rockspec\n",
            "luarocks-3.0.4/spec/fixtures/a_repo/has_another_namespaced_dep-1.0-1.rockspec\n",
            "luarocks-3.0.4/spec/fixtures/a_repo/a_build_dep-1.0-1.src.rock\n",
            "luarocks-3.0.4/spec/fixtures/a_repo/has_build_dep-1.0-1.rockspec\n",
            "luarocks-3.0.4/spec/fixtures/a_repo/manifest-5.2\n",
            "luarocks-3.0.4/spec/fixtures/a_repo/manifest-5.3\n",
            "luarocks-3.0.4/spec/fixtures/a_repo/manifest-5.2.zip\n",
            "luarocks-3.0.4/spec/fixtures/a_repo/has_namespaced_dep-1.0-1.rockspec\n",
            "luarocks-3.0.4/spec/fixtures/a_repo/a_build_dep-1.0-1.rockspec\n",
            "luarocks-3.0.4/spec/fixtures/a_repo/has_another_namespaced_dep-1.0-1.src.rock\n",
            "luarocks-3.0.4/spec/fixtures/a_repo/has_build_dep-1.0-1.src.rock\n",
            "luarocks-3.0.4/spec/fixtures/a_repo/manifest-5.1\n",
            "luarocks-3.0.4/spec/fixtures/a_repo/a_rock-1.0-1.src.rock\n",
            "luarocks-3.0.4/spec/fixtures/a_repo/manifests/\n",
            "luarocks-3.0.4/spec/fixtures/a_repo/manifests/a_user/\n",
            "luarocks-3.0.4/spec/fixtures/a_repo/manifests/a_user/manifest-5.2\n",
            "luarocks-3.0.4/spec/fixtures/a_repo/manifests/a_user/manifest-5.3\n",
            "luarocks-3.0.4/spec/fixtures/a_repo/manifests/a_user/manifest-5.1\n",
            "luarocks-3.0.4/spec/fixtures/a_repo/manifests/a_user/a_rock-2.0-1.rockspec\n",
            "luarocks-3.0.4/spec/fixtures/a_repo/manifests/a_user/manifest\n",
            "luarocks-3.0.4/spec/fixtures/a_repo/manifests/a_user/a_rock-2.0-1.src.rock\n",
            "luarocks-3.0.4/spec/fixtures/a_repo/manifests/another_user/\n",
            "luarocks-3.0.4/spec/fixtures/a_repo/manifests/another_user/a_rock-3.0-1.src.rock\n",
            "luarocks-3.0.4/spec/fixtures/a_repo/manifests/another_user/manifest-5.2\n",
            "luarocks-3.0.4/spec/fixtures/a_repo/manifests/another_user/manifest-5.3\n",
            "luarocks-3.0.4/spec/fixtures/a_repo/manifests/another_user/manifest-5.1\n",
            "luarocks-3.0.4/spec/fixtures/a_repo/manifests/another_user/a_rock-3.0-1.rockspec\n",
            "luarocks-3.0.4/spec/fixtures/a_repo/manifests/another_user/manifest\n",
            "luarocks-3.0.4/spec/fixtures/a_repo/a_rock-1.0-1.rockspec\n",
            "luarocks-3.0.4/spec/fixtures/a_repo/has_namespaced_dep-1.0-1.src.rock\n",
            "luarocks-3.0.4/spec/fixtures/a_repo/manifest\n",
            "luarocks-3.0.4/spec/fixtures/a_repo/has_build_dep-1.0-1.all.rock\n",
            "luarocks-3.0.4/spec/fixtures/a_repo/manifest-5.3.zip\n",
            "luarocks-3.0.4/spec/fixtures/a_repo/manifest-5.1.zip\n",
            "luarocks-3.0.4/spec/fixtures/abc.bz2\n",
            "luarocks-3.0.4/spec/fixtures/busted_project-0.1-1.rockspec\n",
            "luarocks-3.0.4/spec/fixtures/busted_project-0.1.tar.gz\n",
            "luarocks-3.0.4/spec/fixtures/renamed_upstream_tarball-0.1.tar.gz\n",
            "luarocks-3.0.4/spec/fixtures/luajit-success-1.0-1.rockspec\n",
            "luarocks-3.0.4/spec/fixtures/busted_project/\n",
            "luarocks-3.0.4/spec/fixtures/busted_project/sum.lua\n",
            "luarocks-3.0.4/spec/fixtures/busted_project/spec/\n",
            "luarocks-3.0.4/spec/fixtures/busted_project/spec/sum_spec.lua\n",
            "luarocks-3.0.4/spec/fixtures/luajit-fail-1.0-1.rockspec\n",
            "luarocks-3.0.4/spec/fixtures/patch_create_delete/\n",
            "luarocks-3.0.4/spec/fixtures/patch_create_delete/a_file.txt\n",
            "luarocks-3.0.4/spec/fixtures/git_repo/\n",
            "luarocks-3.0.4/spec/fixtures/git_repo/.gitignore\n",
            "luarocks-3.0.4/spec/fixtures/git_repo/LICENSE\n",
            "luarocks-3.0.4/spec/fixtures/git_repo/README.md\n",
            "luarocks-3.0.4/spec/fixtures/a_rock-1.0-1.src.rock\n",
            "luarocks-3.0.4/spec/fixtures/invalid_patch-0.1-1.rockspec\n",
            "luarocks-3.0.4/spec/fixtures/invalid_validate-args-1.5.4-1.rockspec\n",
            "luarocks-3.0.4/spec/fixtures/a_rock-1.0-1.rockspec\n",
            "luarocks-3.0.4/spec/fixtures/mixed_deploy_type/\n",
            "luarocks-3.0.4/spec/fixtures/mixed_deploy_type/mdt_file\n",
            "luarocks-3.0.4/spec/fixtures/mixed_deploy_type/mdt.c\n",
            "luarocks-3.0.4/spec/fixtures/mixed_deploy_type/mdt.lua\n",
            "luarocks-3.0.4/spec/fixtures/mixed_deploy_type/mixed_deploy_type-0.1.0-1.rockspec\n",
            "luarocks-3.0.4/spec/fixtures/mixed_deploy_type/mixed_deploy_type-0.2.0-1.rockspec\n",
            "luarocks-3.0.4/spec/fixtures/double_deploy_type/\n",
            "luarocks-3.0.4/spec/fixtures/double_deploy_type/ddt1.lua\n",
            "luarocks-3.0.4/spec/fixtures/double_deploy_type/ddt_file\n",
            "luarocks-3.0.4/spec/fixtures/double_deploy_type/ddt2.lua\n",
            "luarocks-3.0.4/spec/fixtures/double_deploy_type/double_deploy_type-0.2.0-1.rockspec\n",
            "luarocks-3.0.4/spec/fixtures/double_deploy_type/ddt.c\n",
            "luarocks-3.0.4/spec/fixtures/double_deploy_type/double_deploy_type-0.1.0-1.rockspec\n",
            "luarocks-3.0.4/spec/fixtures/a_rock.lua\n",
            "luarocks-3.0.4/spec/fixtures/with_external_dep/\n",
            "luarocks-3.0.4/spec/fixtures/with_external_dep/foo/\n",
            "luarocks-3.0.4/spec/fixtures/with_external_dep/foo/foo.h\n",
            "luarocks-3.0.4/spec/fixtures/patch_create_delete-0.1-1.rockspec\n",
            "luarocks-3.0.4/spec/doc_spec.lua\n",
            "luarocks-3.0.4/spec/build_spec.lua\n",
            "luarocks-3.0.4/spec/install_spec.lua\n",
            "luarocks-3.0.4/spec/dummy_spec.lua\n",
            "luarocks-3.0.4/spec/util_spec.lua\n",
            "luarocks-3.0.4/spec/tools_spec.lua\n",
            "luarocks-3.0.4/spec/persist_spec.lua\n",
            "luarocks-3.0.4/spec/README.md\n",
            "luarocks-3.0.4/spec/add_spec.lua\n",
            "luarocks-3.0.4/spec/test_spec.lua\n",
            "luarocks-3.0.4/spec/loader_spec.lua\n",
            "luarocks-3.0.4/spec/fs_spec.lua\n",
            "luarocks-3.0.4/spec/new_version_spec.lua\n",
            "luarocks-3.0.4/spec/config_spec.lua\n",
            "luarocks-3.0.4/spec/remove_spec.lua\n",
            "luarocks-3.0.4/spec/write_rockspec_spec.lua\n",
            "luarocks-3.0.4/spec/util/\n",
            "luarocks-3.0.4/spec/util/git_repo.lua\n",
            "luarocks-3.0.4/spec/util/mock-server.lua\n",
            "luarocks-3.0.4/spec/util/test_env.lua\n",
            "luarocks-3.0.4/spec/path_spec.lua\n",
            "luarocks-3.0.4/spec/list_spec.lua\n",
            "luarocks-3.0.4/COPYING\n"
          ],
          "name": "stdout"
        }
      ]
    },
    {
      "cell_type": "code",
      "metadata": {
        "id": "Wc49cKnKXwbS",
        "colab_type": "code",
        "outputId": "143e29dc-bd65-4187-b1ea-93efd8406bd7",
        "colab": {
          "base_uri": "https://localhost:8080/",
          "height": 34
        }
      },
      "source": [
        "cd /root/lua-5.3.4/\n"
      ],
      "execution_count": 0,
      "outputs": [
        {
          "output_type": "stream",
          "text": [
            "/root/lua-5.3.4\n"
          ],
          "name": "stdout"
        }
      ]
    },
    {
      "cell_type": "code",
      "metadata": {
        "id": "dRxyo3v5aEkH",
        "colab_type": "code",
        "colab": {}
      },
      "source": [
        "!cd luarocks-3.0.4/"
      ],
      "execution_count": 0,
      "outputs": []
    },
    {
      "cell_type": "code",
      "metadata": {
        "id": "zLw68moJaVMc",
        "colab_type": "code",
        "outputId": "f710f843-2ac8-430e-8c3a-7c6013f94baf",
        "colab": {
          "base_uri": "https://localhost:8080/",
          "height": 34
        }
      },
      "source": [
        "pwd"
      ],
      "execution_count": 0,
      "outputs": [
        {
          "output_type": "execute_result",
          "data": {
            "text/plain": [
              "'/root/lua-5.3.4'"
            ]
          },
          "metadata": {
            "tags": []
          },
          "execution_count": 43
        }
      ]
    },
    {
      "cell_type": "code",
      "metadata": {
        "id": "_AxExLwGbVWL",
        "colab_type": "code",
        "outputId": "4a9e9017-241d-4492-b664-0c8f2e5a4bcc",
        "colab": {
          "base_uri": "https://localhost:8080/",
          "height": 561
        }
      },
      "source": [
        "!sudo luarocks install moonscript"
      ],
      "execution_count": 0,
      "outputs": [
        {
          "output_type": "stream",
          "text": [
            "Installing https://luarocks.org/moonscript-0.5.0-1.src.rock\n",
            "Missing dependencies for moonscript 0.5.0-1:\n",
            "   lpeg >= 0.10, ~= 0.11 (not installed)\n",
            "   alt-getopt >= 0.7 (not installed)\n",
            "   luafilesystem >= 1.5 (not installed)\n",
            "\n",
            "moonscript 0.5.0-1 depends on lpeg >= 0.10, ~= 0.11 (not installed)\n",
            "Installing https://luarocks.org/lpeg-1.0.2-1.src.rock\n",
            "\n",
            "gcc -O2 -fPIC -I/usr/local/include -c lpcap.c -o lpcap.o\n",
            "gcc -O2 -fPIC -I/usr/local/include -c lpcode.c -o lpcode.o\n",
            "gcc -O2 -fPIC -I/usr/local/include -c lpprint.c -o lpprint.o\n",
            "gcc -O2 -fPIC -I/usr/local/include -c lptree.c -o lptree.o\n",
            "gcc -O2 -fPIC -I/usr/local/include -c lpvm.c -o lpvm.o\n",
            "gcc -shared -o lpeg.so lpcap.o lpcode.o lpprint.o lptree.o lpvm.o\n",
            "No existing manifest. Attempting to rebuild...\n",
            "lpeg 1.0.2-1 is now installed in /root/lua-5.3.4/luarocks-3.0.4/lua_modules (license: MIT/X11)\n",
            "\n",
            "moonscript 0.5.0-1 depends on alt-getopt >= 0.7 (not installed)\n",
            "Installing https://luarocks.org/alt-getopt-0.8.0-1.src.rock\n",
            "\n",
            "alt-getopt 0.8.0-1 is now installed in /root/lua-5.3.4/luarocks-3.0.4/lua_modules (license: MIT/X11)\n",
            "\n",
            "moonscript 0.5.0-1 depends on luafilesystem >= 1.5 (not installed)\n",
            "Installing https://luarocks.org/luafilesystem-1.7.0-2.src.rock\n",
            "\n",
            "gcc -O2 -fPIC -I/usr/local/include -c src/lfs.c -o src/lfs.o\n",
            "gcc -shared -o lfs.so src/lfs.o\n",
            "luafilesystem 1.7.0-2 is now installed in /root/lua-5.3.4/luarocks-3.0.4/lua_modules (license: MIT/X11)\n",
            "\n",
            "moonscript 0.5.0-1 is now installed in /root/lua-5.3.4/luarocks-3.0.4/lua_modules (license: MIT)\n",
            "\n"
          ],
          "name": "stdout"
        }
      ]
    },
    {
      "cell_type": "code",
      "metadata": {
        "id": "RD2qQevzbrHy",
        "colab_type": "code",
        "outputId": "eca9bab8-002e-4d3f-d475-cff00740477a",
        "colab": {
          "base_uri": "https://localhost:8080/",
          "height": 34
        }
      },
      "source": [
        "!pwd"
      ],
      "execution_count": 0,
      "outputs": [
        {
          "output_type": "stream",
          "text": [
            "/root/lua-5.3.4/luarocks-3.0.4\n"
          ],
          "name": "stdout"
        }
      ]
    },
    {
      "cell_type": "code",
      "metadata": {
        "id": "JMJlznQUdIpM",
        "colab_type": "code",
        "outputId": "576ff49c-5b0e-4da1-b183-3490058dca9c",
        "colab": {
          "base_uri": "https://localhost:8080/",
          "height": 34
        }
      },
      "source": [
        "cd ../"
      ],
      "execution_count": 0,
      "outputs": [
        {
          "output_type": "stream",
          "text": [
            "/root/lua-5.3.4\n"
          ],
          "name": "stdout"
        }
      ]
    },
    {
      "cell_type": "code",
      "metadata": {
        "id": "i4GWo9LNdKGr",
        "colab_type": "code",
        "colab": {}
      },
      "source": [
        "rm -rf luarocks-3.0.4/"
      ],
      "execution_count": 0,
      "outputs": []
    },
    {
      "cell_type": "code",
      "metadata": {
        "id": "y7aTECgFdMy3",
        "colab_type": "code",
        "outputId": "ca9fe585-60c3-4471-b394-b62cc42217d6",
        "colab": {
          "base_uri": "https://localhost:8080/",
          "height": 1618
        }
      },
      "source": [
        "!sudo apt-get install luarocks"
      ],
      "execution_count": 0,
      "outputs": [
        {
          "output_type": "stream",
          "text": [
            "Reading package lists... Done\n",
            "Building dependency tree       \n",
            "Reading state information... Done\n",
            "The following package was automatically installed and is no longer required:\n",
            "  libnvidia-common-410\n",
            "Use 'sudo apt autoremove' to remove it.\n",
            "The following additional packages will be installed:\n",
            "  autotools-dev file liblua5.1-0-dev libmagic-mgc libmagic1 libtool\n",
            "  libtool-bin lua-any lua-sec lua-socket lua5.1\n",
            "Suggested packages:\n",
            "  libtool-doc autoconf automaken gcj-jdk\n",
            "The following NEW packages will be installed:\n",
            "  autotools-dev file liblua5.1-0-dev libmagic-mgc libmagic1 libtool\n",
            "  libtool-bin lua-any lua-sec lua-socket lua5.1 luarocks\n",
            "0 upgraded, 12 newly installed, 0 to remove and 6 not upgraded.\n",
            "Need to get 1,002 kB of archives.\n",
            "After this operation, 9,769 kB of additional disk space will be used.\n",
            "Get:1 http://archive.ubuntu.com/ubuntu bionic-updates/main amd64 libmagic-mgc amd64 1:5.32-2ubuntu0.2 [184 kB]\n",
            "Get:2 http://archive.ubuntu.com/ubuntu bionic-updates/main amd64 libmagic1 amd64 1:5.32-2ubuntu0.2 [68.5 kB]\n",
            "Get:3 http://archive.ubuntu.com/ubuntu bionic-updates/main amd64 file amd64 1:5.32-2ubuntu0.2 [22.1 kB]\n",
            "Get:4 http://archive.ubuntu.com/ubuntu bionic/main amd64 autotools-dev all 20180224.1 [39.6 kB]\n",
            "Get:5 http://archive.ubuntu.com/ubuntu bionic/universe amd64 liblua5.1-0-dev amd64 5.1.5-8.1build2 [119 kB]\n",
            "Get:6 http://archive.ubuntu.com/ubuntu bionic/main amd64 libtool all 2.4.6-2 [194 kB]\n",
            "Get:7 http://archive.ubuntu.com/ubuntu bionic/main amd64 libtool-bin amd64 2.4.6-2 [79.5 kB]\n",
            "Get:8 http://archive.ubuntu.com/ubuntu bionic/universe amd64 lua5.1 amd64 5.1.5-8.1build2 [93.2 kB]\n",
            "Get:9 http://archive.ubuntu.com/ubuntu bionic/universe amd64 lua-any all 24 [4,718 B]\n",
            "Get:10 http://archive.ubuntu.com/ubuntu bionic/universe amd64 lua-socket amd64 3.0~rc1+git+ac3201d-4 [70.5 kB]\n",
            "Get:11 http://archive.ubuntu.com/ubuntu bionic/universe amd64 lua-sec amd64 0.6-4 [29.5 kB]\n",
            "Get:12 http://archive.ubuntu.com/ubuntu bionic/universe amd64 luarocks all 2.4.2+dfsg-1 [97.6 kB]\n",
            "Fetched 1,002 kB in 1s (714 kB/s)\n",
            "debconf: unable to initialize frontend: Dialog\n",
            "debconf: (No usable dialog-like program is installed, so the dialog based frontend cannot be used. at /usr/share/perl5/Debconf/FrontEnd/Dialog.pm line 76, <> line 12.)\n",
            "debconf: falling back to frontend: Readline\n",
            "debconf: unable to initialize frontend: Readline\n",
            "debconf: (This frontend requires a controlling tty.)\n",
            "debconf: falling back to frontend: Teletype\n",
            "dpkg-preconfigure: unable to re-open stdin: \n",
            "Selecting previously unselected package libmagic-mgc.\n",
            "(Reading database ... 130911 files and directories currently installed.)\n",
            "Preparing to unpack .../00-libmagic-mgc_1%3a5.32-2ubuntu0.2_amd64.deb ...\n",
            "Unpacking libmagic-mgc (1:5.32-2ubuntu0.2) ...\n",
            "Selecting previously unselected package libmagic1:amd64.\n",
            "Preparing to unpack .../01-libmagic1_1%3a5.32-2ubuntu0.2_amd64.deb ...\n",
            "Unpacking libmagic1:amd64 (1:5.32-2ubuntu0.2) ...\n",
            "Selecting previously unselected package file.\n",
            "Preparing to unpack .../02-file_1%3a5.32-2ubuntu0.2_amd64.deb ...\n",
            "Unpacking file (1:5.32-2ubuntu0.2) ...\n",
            "Selecting previously unselected package autotools-dev.\n",
            "Preparing to unpack .../03-autotools-dev_20180224.1_all.deb ...\n",
            "Unpacking autotools-dev (20180224.1) ...\n",
            "Selecting previously unselected package liblua5.1-0-dev:amd64.\n",
            "Preparing to unpack .../04-liblua5.1-0-dev_5.1.5-8.1build2_amd64.deb ...\n",
            "Unpacking liblua5.1-0-dev:amd64 (5.1.5-8.1build2) ...\n",
            "Selecting previously unselected package libtool.\n",
            "Preparing to unpack .../05-libtool_2.4.6-2_all.deb ...\n",
            "Unpacking libtool (2.4.6-2) ...\n",
            "Selecting previously unselected package libtool-bin.\n",
            "Preparing to unpack .../06-libtool-bin_2.4.6-2_amd64.deb ...\n",
            "Unpacking libtool-bin (2.4.6-2) ...\n",
            "Selecting previously unselected package lua5.1.\n",
            "Preparing to unpack .../07-lua5.1_5.1.5-8.1build2_amd64.deb ...\n",
            "Unpacking lua5.1 (5.1.5-8.1build2) ...\n",
            "Selecting previously unselected package lua-any.\n",
            "Preparing to unpack .../08-lua-any_24_all.deb ...\n",
            "Unpacking lua-any (24) ...\n",
            "Selecting previously unselected package lua-socket:amd64.\n",
            "Preparing to unpack .../09-lua-socket_3.0~rc1+git+ac3201d-4_amd64.deb ...\n",
            "Unpacking lua-socket:amd64 (3.0~rc1+git+ac3201d-4) ...\n",
            "Selecting previously unselected package lua-sec:amd64.\n",
            "Preparing to unpack .../10-lua-sec_0.6-4_amd64.deb ...\n",
            "Unpacking lua-sec:amd64 (0.6-4) ...\n",
            "Selecting previously unselected package luarocks.\n",
            "Preparing to unpack .../11-luarocks_2.4.2+dfsg-1_all.deb ...\n",
            "Unpacking luarocks (2.4.2+dfsg-1) ...\n",
            "Setting up lua-socket:amd64 (3.0~rc1+git+ac3201d-4) ...\n",
            "Setting up lua-sec:amd64 (0.6-4) ...\n",
            "Setting up liblua5.1-0-dev:amd64 (5.1.5-8.1build2) ...\n",
            "Setting up libmagic-mgc (1:5.32-2ubuntu0.2) ...\n",
            "Setting up libmagic1:amd64 (1:5.32-2ubuntu0.2) ...\n",
            "Setting up lua5.1 (5.1.5-8.1build2) ...\n",
            "update-alternatives: using /usr/bin/lua5.1 to provide /usr/bin/lua (lua-interpreter) in auto mode\n",
            "update-alternatives: using /usr/bin/luac5.1 to provide /usr/bin/luac (lua-compiler) in auto mode\n",
            "Processing triggers for libc-bin (2.27-3ubuntu1) ...\n",
            "Setting up autotools-dev (20180224.1) ...\n",
            "Processing triggers for man-db (2.8.3-2ubuntu0.1) ...\n",
            "Setting up lua-any (24) ...\n",
            "Setting up luarocks (2.4.2+dfsg-1) ...\n",
            "Making manifest for /usr/local/lib/luarocks/rocks-5.3\n",
            "Warning: This looks like a local rocks tree, but you did not pass --local-tree.\n",
            "Generating index.html for /usr/local/lib/luarocks/rocks-5.3\n",
            "Setting up file (1:5.32-2ubuntu0.2) ...\n",
            "Setting up libtool (2.4.6-2) ...\n",
            "Setting up libtool-bin (2.4.6-2) ...\n"
          ],
          "name": "stdout"
        }
      ]
    },
    {
      "cell_type": "code",
      "metadata": {
        "id": "9XGwH1rCe1Hb",
        "colab_type": "code",
        "outputId": "215fcd3c-13e6-4394-d834-44f35b5f7e23",
        "colab": {
          "base_uri": "https://localhost:8080/",
          "height": 34
        }
      },
      "source": [
        "pwd"
      ],
      "execution_count": 0,
      "outputs": [
        {
          "output_type": "execute_result",
          "data": {
            "text/plain": [
              "'/root/lua-5.3.4'"
            ]
          },
          "metadata": {
            "tags": []
          },
          "execution_count": 60
        }
      ]
    },
    {
      "cell_type": "code",
      "metadata": {
        "id": "hUfiYW3je9qi",
        "colab_type": "code",
        "outputId": "4775c630-5591-416e-99d6-7c4e7e36b772",
        "colab": {
          "base_uri": "https://localhost:8080/",
          "height": 34
        }
      },
      "source": [
        "cd ../"
      ],
      "execution_count": 0,
      "outputs": [
        {
          "output_type": "stream",
          "text": [
            "/root\n"
          ],
          "name": "stdout"
        }
      ]
    },
    {
      "cell_type": "code",
      "metadata": {
        "id": "wwNJWLkYe-uh",
        "colab_type": "code",
        "outputId": "bf2cfc5d-7b66-40c7-bad2-3725a75e183e",
        "colab": {
          "base_uri": "https://localhost:8080/",
          "height": 34
        }
      },
      "source": [
        "pwd"
      ],
      "execution_count": 0,
      "outputs": [
        {
          "output_type": "execute_result",
          "data": {
            "text/plain": [
              "'/root'"
            ]
          },
          "metadata": {
            "tags": []
          },
          "execution_count": 62
        }
      ]
    },
    {
      "cell_type": "code",
      "metadata": {
        "id": "zuIn1JHgfA-m",
        "colab_type": "code",
        "outputId": "8928a794-b9cc-478c-9bb3-ae3015b4f19d",
        "colab": {
          "base_uri": "https://localhost:8080/",
          "height": 34
        }
      },
      "source": [
        "ls"
      ],
      "execution_count": 0,
      "outputs": [
        {
          "output_type": "stream",
          "text": [
            "\u001b[0m\u001b[01;34mlua-5.3.4\u001b[0m/  lua-5.3.4.tar.gz\n"
          ],
          "name": "stdout"
        }
      ]
    },
    {
      "cell_type": "code",
      "metadata": {
        "id": "wGfJ6D-xfDLH",
        "colab_type": "code",
        "outputId": "fe1d1a09-e5d0-4eca-a595-410f17aea45d",
        "colab": {
          "base_uri": "https://localhost:8080/",
          "height": 3658
        }
      },
      "source": [
        "!git clone https://github.com/nagadomi/distro.git ~/torch --recursive"
      ],
      "execution_count": 0,
      "outputs": [
        {
          "output_type": "stream",
          "text": [
            "Cloning into '/root/torch'...\n",
            "remote: Enumerating objects: 38, done.\u001b[K\n",
            "remote: Counting objects: 100% (38/38), done.\u001b[K\n",
            "remote: Compressing objects: 100% (28/28), done.\u001b[K\n",
            "remote: Total 1650 (delta 17), reused 25 (delta 10), pack-reused 1612\u001b[K\n",
            "Receiving objects: 100% (1650/1650), 361.10 KiB | 1.90 MiB/s, done.\n",
            "Resolving deltas: 100% (948/948), done.\n",
            "Submodule 'exe/env' (https://github.com/torch/env.git) registered for path 'exe/env'\n",
            "Submodule 'exe/luajit-rocks' (https://github.com/torch/luajit-rocks.git) registered for path 'exe/luajit-rocks'\n",
            "Submodule 'exe/qtlua' (https://github.com/torch/qtlua.git) registered for path 'exe/qtlua'\n",
            "Submodule 'exe/trepl' (https://github.com/torch/trepl.git) registered for path 'exe/trepl'\n",
            "Submodule 'extra/argcheck' (https://github.com/torch/argcheck.git) registered for path 'extra/argcheck'\n",
            "Submodule 'extra/cudnn' (https://github.com/nagadomi/cudnn.torch.git) registered for path 'extra/cudnn'\n",
            "Submodule 'extra/cunn' (https://github.com/nagadomi/cunn.git) registered for path 'extra/cunn'\n",
            "Submodule 'extra/cutorch' (http://github.com/nagadomi/cutorch.git) registered for path 'extra/cutorch'\n",
            "Submodule 'extra/graph' (https://github.com/torch/graph) registered for path 'extra/graph'\n",
            "Submodule 'extra/lua-cjson' (https://github.com/mpx/lua-cjson) registered for path 'extra/lua-cjson'\n",
            "Submodule 'extra/luaffifb' (https://github.com/facebook/luaffifb) registered for path 'extra/luaffifb'\n",
            "Submodule 'extra/luafilesystem' (https://github.com/keplerproject/luafilesystem.git) registered for path 'extra/luafilesystem'\n",
            "Submodule 'extra/moses' (https://github.com/Yonaba/Moses.git) registered for path 'extra/moses'\n",
            "Submodule 'extra/nn' (https://github.com/torch/nn.git) registered for path 'extra/nn'\n",
            "Submodule 'extra/nngraph' (https://github.com/torch/nngraph) registered for path 'extra/nngraph'\n",
            "Submodule 'extra/nnx' (https://github.com/clementfarabet/lua---nnx.git) registered for path 'extra/nnx'\n",
            "Submodule 'extra/penlight' (https://github.com/stevedonovan/Penlight.git) registered for path 'extra/penlight'\n",
            "Submodule 'extra/threads' (https://github.com/torch/threads-ffi.git) registered for path 'extra/threads'\n",
            "Submodule 'pkg/cwrap' (https://github.com/torch/cwrap.git) registered for path 'pkg/cwrap'\n",
            "Submodule 'pkg/dok' (https://github.com/torch/dok.git) registered for path 'pkg/dok'\n",
            "Submodule 'pkg/gnuplot' (https://github.com/torch/gnuplot.git) registered for path 'pkg/gnuplot'\n",
            "Submodule 'pkg/image' (https://github.com/torch/image.git) registered for path 'pkg/image'\n",
            "Submodule 'pkg/optim' (https://github.com/torch/optim.git) registered for path 'pkg/optim'\n",
            "Submodule 'pkg/paths' (https://github.com/torch/paths.git) registered for path 'pkg/paths'\n",
            "Submodule 'pkg/qttorch' (https://github.com/torch/qttorch.git) registered for path 'pkg/qttorch'\n",
            "Submodule 'pkg/sundown' (https://github.com/torch/sundown-ffi.git) registered for path 'pkg/sundown'\n",
            "Submodule 'pkg/sys' (https://github.com/torch/sys.git) registered for path 'pkg/sys'\n",
            "Submodule 'pkg/torch' (https://github.com/torch/torch7.git) registered for path 'pkg/torch'\n",
            "Submodule 'pkg/xlua' (https://github.com/torch/xlua.git) registered for path 'pkg/xlua'\n",
            "Cloning into '/root/torch/exe/env'...\n",
            "remote: Enumerating objects: 26, done.        \n",
            "remote: Total 26 (delta 0), reused 0 (delta 0), pack-reused 26        \n",
            "Cloning into '/root/torch/exe/luajit-rocks'...\n",
            "remote: Enumerating objects: 2737, done.        \n",
            "remote: Total 2737 (delta 0), reused 0 (delta 0), pack-reused 2737        \n",
            "Receiving objects: 100% (2737/2737), 7.53 MiB | 12.52 MiB/s, done.\n",
            "Resolving deltas: 100% (1759/1759), done.\n",
            "Cloning into '/root/torch/exe/qtlua'...\n",
            "remote: Enumerating objects: 710, done.        \n",
            "remote: Total 710 (delta 0), reused 0 (delta 0), pack-reused 710        \n",
            "Receiving objects: 100% (710/710), 597.10 KiB | 2.30 MiB/s, done.\n",
            "Resolving deltas: 100% (354/354), done.\n",
            "Cloning into '/root/torch/exe/trepl'...\n",
            "remote: Enumerating objects: 514, done.        \n",
            "remote: Total 514 (delta 0), reused 0 (delta 0), pack-reused 514        \n",
            "Receiving objects: 100% (514/514), 115.87 KiB | 949.00 KiB/s, done.\n",
            "Resolving deltas: 100% (294/294), done.\n",
            "Cloning into '/root/torch/extra/argcheck'...\n",
            "remote: Enumerating objects: 538, done.        \n",
            "remote: Total 538 (delta 0), reused 0 (delta 0), pack-reused 538        \n",
            "Receiving objects: 100% (538/538), 646.22 KiB | 2.49 MiB/s, done.\n",
            "Resolving deltas: 100% (291/291), done.\n",
            "Cloning into '/root/torch/extra/cudnn'...\n",
            "remote: Enumerating objects: 2112, done.        \n",
            "remote: Total 2112 (delta 0), reused 0 (delta 0), pack-reused 2112        \n",
            "Receiving objects: 100% (2112/2112), 821.19 KiB | 2.56 MiB/s, done.\n",
            "Resolving deltas: 100% (1379/1379), done.\n",
            "Cloning into '/root/torch/extra/cunn'...\n",
            "remote: Enumerating objects: 7, done.        \n",
            "remote: Counting objects: 100% (7/7), done.        \n",
            "remote: Compressing objects: 100% (7/7), done.        \n",
            "remote: Total 4002 (delta 0), reused 2 (delta 0), pack-reused 3995        \n",
            "Receiving objects: 100% (4002/4002), 1.47 MiB | 4.61 MiB/s, done.\n",
            "Resolving deltas: 100% (2581/2581), done.\n",
            "Cloning into '/root/torch/extra/cutorch'...\n",
            "warning: redirecting to https://github.com/nagadomi/cutorch.git/\n",
            "remote: Enumerating objects: 23, done.        \n",
            "remote: Counting objects: 100% (23/23), done.        \n",
            "remote: Compressing objects: 100% (22/22), done.        \n",
            "remote: Total 5729 (delta 5), reused 11 (delta 1), pack-reused 5706        \n",
            "Receiving objects: 100% (5729/5729), 2.12 MiB | 6.34 MiB/s, done.\n",
            "Resolving deltas: 100% (3473/3473), done.\n",
            "Cloning into '/root/torch/extra/graph'...\n",
            "remote: Enumerating objects: 225, done.        \n",
            "remote: Total 225 (delta 0), reused 0 (delta 0), pack-reused 225        \n",
            "Receiving objects: 100% (225/225), 56.70 KiB | 936.00 KiB/s, done.\n",
            "Resolving deltas: 100% (112/112), done.\n",
            "Cloning into '/root/torch/extra/lua-cjson'...\n",
            "remote: Enumerating objects: 1040, done.        \n",
            "remote: Total 1040 (delta 0), reused 0 (delta 0), pack-reused 1040        \n",
            "Receiving objects: 100% (1040/1040), 269.29 KiB | 1.39 MiB/s, done.\n",
            "Resolving deltas: 100% (661/661), done.\n",
            "Cloning into '/root/torch/extra/luaffifb'...\n",
            "remote: Enumerating objects: 963, done.        \n",
            "remote: Total 963 (delta 0), reused 0 (delta 0), pack-reused 963\n",
            "Receiving objects: 100% (963/963), 452.83 KiB | 1.79 MiB/s, done.\n",
            "Resolving deltas: 100% (684/684), done.\n",
            "Cloning into '/root/torch/extra/luafilesystem'...\n",
            "remote: Enumerating objects: 1643, done.        \n",
            "remote: Total 1643 (delta 0), reused 0 (delta 0), pack-reused 1643        \n",
            "Receiving objects: 100% (1643/1643), 327.00 KiB | 1.71 MiB/s, done.\n",
            "Resolving deltas: 100% (746/746), done.\n",
            "Cloning into '/root/torch/extra/moses'...\n",
            "remote: Enumerating objects: 2013, done.        \n",
            "remote: Total 2013 (delta 0), reused 0 (delta 0), pack-reused 2013\n",
            "Receiving objects: 100% (2013/2013), 1.41 MiB | 3.74 MiB/s, done.\n",
            "Resolving deltas: 100% (1179/1179), done.\n",
            "Cloning into '/root/torch/extra/nn'...\n",
            "remote: Enumerating objects: 7662, done.        \n",
            "remote: Total 7662 (delta 0), reused 0 (delta 0), pack-reused 7662        \n",
            "Receiving objects: 100% (7662/7662), 3.72 MiB | 9.55 MiB/s, done.\n",
            "Resolving deltas: 100% (4898/4898), done.\n",
            "Cloning into '/root/torch/extra/nngraph'...\n",
            "remote: Enumerating objects: 664, done.        \n",
            "remote: Total 664 (delta 0), reused 0 (delta 0), pack-reused 664        \n",
            "Receiving objects: 100% (664/664), 1.87 MiB | 4.97 MiB/s, done.\n",
            "Resolving deltas: 100% (356/356), done.\n",
            "Cloning into '/root/torch/extra/nnx'...\n",
            "remote: Enumerating objects: 2483, done.        \n",
            "remote: Total 2483 (delta 0), reused 0 (delta 0), pack-reused 2483        \n",
            "Receiving objects: 100% (2483/2483), 1.27 MiB | 3.36 MiB/s, done.\n",
            "Resolving deltas: 100% (1420/1420), done.\n",
            "Cloning into '/root/torch/extra/penlight'...\n",
            "remote: Enumerating objects: 4677, done.        \n",
            "remote: Total 4677 (delta 0), reused 0 (delta 0), pack-reused 4677\n",
            "Receiving objects: 100% (4677/4677), 1.75 MiB | 4.73 MiB/s, done.\n",
            "Resolving deltas: 100% (2860/2860), done.\n",
            "Cloning into '/root/torch/extra/threads'...\n",
            "remote: Enumerating objects: 429, done.        \n",
            "remote: Total 429 (delta 0), reused 0 (delta 0), pack-reused 429        \n",
            "Receiving objects: 100% (429/429), 108.21 KiB | 893.00 KiB/s, done.\n",
            "Resolving deltas: 100% (228/228), done.\n",
            "Cloning into '/root/torch/pkg/cwrap'...\n",
            "remote: Enumerating objects: 109, done.        \n",
            "remote: Total 109 (delta 0), reused 0 (delta 0), pack-reused 109        \n",
            "Receiving objects: 100% (109/109), 38.05 KiB | 649.00 KiB/s, done.\n",
            "Resolving deltas: 100% (43/43), done.\n",
            "Cloning into '/root/torch/pkg/dok'...\n",
            "remote: Enumerating objects: 186, done.        \n",
            "remote: Total 186 (delta 0), reused 0 (delta 0), pack-reused 186        \n",
            "Receiving objects: 100% (186/186), 133.83 KiB | 1.06 MiB/s, done.\n",
            "Resolving deltas: 100% (59/59), done.\n",
            "Cloning into '/root/torch/pkg/gnuplot'...\n",
            "remote: Enumerating objects: 308, done.        \n",
            "remote: Total 308 (delta 0), reused 0 (delta 0), pack-reused 308        \n",
            "Receiving objects: 100% (308/308), 240.88 KiB | 1.26 MiB/s, done.\n",
            "Resolving deltas: 100% (167/167), done.\n",
            "Cloning into '/root/torch/pkg/image'...\n",
            "remote: Enumerating objects: 1392, done.        \n",
            "remote: Total 1392 (delta 0), reused 0 (delta 0), pack-reused 1392        \n",
            "Receiving objects: 100% (1392/1392), 2.75 MiB | 6.28 MiB/s, done.\n",
            "Resolving deltas: 100% (767/767), done.\n",
            "Cloning into '/root/torch/pkg/optim'...\n",
            "remote: Enumerating objects: 929, done.        \n",
            "remote: Total 929 (delta 0), reused 0 (delta 0), pack-reused 929        \n",
            "Receiving objects: 100% (929/929), 408.10 KiB | 2.11 MiB/s, done.\n",
            "Resolving deltas: 100% (512/512), done.\n",
            "Cloning into '/root/torch/pkg/paths'...\n",
            "remote: Enumerating objects: 153, done.        \n",
            "remote: Total 153 (delta 0), reused 0 (delta 0), pack-reused 153        \n",
            "Receiving objects: 100% (153/153), 53.42 KiB | 896.00 KiB/s, done.\n",
            "Resolving deltas: 100% (62/62), done.\n",
            "Cloning into '/root/torch/pkg/qttorch'...\n",
            "remote: Enumerating objects: 60, done.        \n",
            "remote: Total 60 (delta 0), reused 0 (delta 0), pack-reused 60        \n",
            "Cloning into '/root/torch/pkg/sundown'...\n",
            "remote: Enumerating objects: 238, done.        \n",
            "remote: Total 238 (delta 0), reused 0 (delta 0), pack-reused 238        \n",
            "Receiving objects: 100% (238/238), 140.57 KiB | 1.10 MiB/s, done.\n",
            "Resolving deltas: 100% (80/80), done.\n",
            "Cloning into '/root/torch/pkg/sys'...\n",
            "remote: Enumerating objects: 220, done.        \n",
            "remote: Total 220 (delta 0), reused 0 (delta 0), pack-reused 220        \n",
            "Receiving objects: 100% (220/220), 36.83 KiB | 618.00 KiB/s, done.\n",
            "Resolving deltas: 100% (115/115), done.\n",
            "Cloning into '/root/torch/pkg/torch'...\n",
            "remote: Enumerating objects: 3, done.        \n",
            "remote: Counting objects: 100% (3/3), done.        \n",
            "remote: Compressing objects: 100% (3/3), done.        \n",
            "remote: Total 6725 (delta 0), reused 0 (delta 0), pack-reused 6722        \n",
            "Receiving objects: 100% (6725/6725), 2.56 MiB | 7.83 MiB/s, done.\n",
            "Resolving deltas: 100% (4214/4214), done.\n",
            "Cloning into '/root/torch/pkg/xlua'...\n",
            "remote: Enumerating objects: 282, done.        \n",
            "remote: Total 282 (delta 0), reused 0 (delta 0), pack-reused 282        \n",
            "Receiving objects: 100% (282/282), 59.22 KiB | 493.00 KiB/s, done.\n",
            "Resolving deltas: 100% (156/156), done.\n",
            "Submodule path 'exe/env': checked out 'd28424ac5b638686410304c60c31693849f3d1dd'\n",
            "Submodule path 'exe/luajit-rocks': checked out '411f4b9d9c4be176d4aab965ebfce50911583e14'\n",
            "Submodule path 'exe/qtlua': checked out '8b80419ca2458e172b0d245999114f2b9d4ac118'\n",
            "Submodule path 'exe/trepl': checked out 'e5e17e3a56997123bd6c66cb8575175d3a6945bb'\n",
            "Submodule path 'extra/argcheck': checked out 'b3b32c060c4269c25d11cf9f983c291d9448e1ee'\n",
            "Submodule path 'extra/cudnn': checked out 'fcc8c042f024621932ebffce67655402dd6c634c'\n",
            "Submodule path 'extra/cunn': checked out '9f057781ab34d76370d73cd85f2de31dd0fc7de2'\n",
            "Submodule path 'extra/cutorch': checked out '927e45666c2056f4bd583c8a7ba32cadf19c372a'\n",
            "Submodule path 'extra/graph': checked out '37dac07a19eb3809b8081514bc781206241863a0'\n",
            "Submodule path 'extra/lua-cjson': checked out 'e8972ac754788d3ef10a57a36016d6c3e85ba20d'\n",
            "Submodule path 'extra/luaffifb': checked out '610ce4dc6de318c8f0eb027f052be081349097be'\n",
            "Submodule path 'extra/luafilesystem': checked out '3c4e563d9c140319e28c419f2710b51a2f6d6d24'\n",
            "Submodule path 'extra/moses': checked out 'ded0a9b773bb78ded2c1dd5da721bbee4a3e32c6'\n",
            "Submodule path 'extra/nn': checked out '200ae7d55a3381a232256223c0694498f8f51df0'\n",
            "Submodule path 'extra/nngraph': checked out '3ed3b9ba9d1adf72c1fe15291a1e50b843cf04f9'\n",
            "Submodule path 'extra/nnx': checked out '1c28e231f885899a4ed68266e788306cab2ac07a'\n",
            "Submodule path 'extra/penlight': checked out '6d108e6a699fbafd5dace1019d03f4b4b18231fa'\n",
            "Submodule path 'extra/threads': checked out '7094a90be44ecdd5f9f0b90560473ad27f3bb07d'\n",
            "Submodule path 'pkg/cwrap': checked out 'dbd0a623dc4dfb4b8169d5aecc6dd9aec2f22792'\n",
            "Submodule path 'pkg/dok': checked out '1b36900e1bfa6ee7f48db52c577bdeb7d9e85909'\n",
            "Submodule path 'pkg/gnuplot': checked out 'a75e6782bdd5a7aa3ed5c2a0a88b63a916472c66'\n",
            "Submodule path 'pkg/image': checked out '5aa18819b6a7b44751f8a858bd232d1c07b67985'\n",
            "Submodule path 'pkg/optim': checked out '656c42af1f996e4a5d6aae3b9aeac831ca162241'\n",
            "Submodule path 'pkg/paths': checked out '4ebe222ba12589fb9d86c1d3895d7f509df77b6a'\n",
            "Submodule path 'pkg/qttorch': checked out 'ba5b5a143482857f80237181d5fde0a3ba20477b'\n",
            "Submodule path 'pkg/sundown': checked out '4324669b1adbde92cef2dbf4550428a13a03ca6f'\n",
            "Submodule path 'pkg/sys': checked out 'f073f057d3fd2148866eaa0444a62ababfdf935e'\n",
            "Submodule path 'pkg/torch': checked out '3e9e141ced1afd0cad451e69f90e6e53503647ca'\n",
            "Submodule path 'pkg/xlua': checked out '41308fe696bf8b0892f4ad4f9857d12a87a3f75e'\n"
          ],
          "name": "stdout"
        }
      ]
    },
    {
      "cell_type": "code",
      "metadata": {
        "id": "9-gTJygqfUDk",
        "colab_type": "code",
        "outputId": "39fcd5aa-3c8c-40c4-a5af-d7d3461de981",
        "colab": {
          "base_uri": "https://localhost:8080/",
          "height": 34
        }
      },
      "source": [
        "cd torch/"
      ],
      "execution_count": 0,
      "outputs": [
        {
          "output_type": "stream",
          "text": [
            "/root/torch\n"
          ],
          "name": "stdout"
        }
      ]
    },
    {
      "cell_type": "code",
      "metadata": {
        "id": "e5fBYHONfX0v",
        "colab_type": "code",
        "outputId": "1496372d-61cf-4e79-8483-b5c6e18655ce",
        "colab": {
          "base_uri": "https://localhost:8080/",
          "height": 12753
        }
      },
      "source": [
        "!bash install-deps"
      ],
      "execution_count": 0,
      "outputs": [
        {
          "output_type": "stream",
          "text": [
            "\r0% [Working]\r            \rGet:1 https://cloud.r-project.org/bin/linux/ubuntu bionic-cran35/ InRelease [3,609 B]\n",
            "\r0% [Connecting to archive.ubuntu.com] [Waiting for headers] [1 InRelease 0 B/3,\r0% [Connecting to archive.ubuntu.com] [Waiting for headers] [Waiting for header\r0% [1 InRelease gpgv 3,609 B] [Connecting to archive.ubuntu.com (91.189.88.162)\r                                                                               \rGet:2 http://security.ubuntu.com/ubuntu bionic-security InRelease [88.7 kB]\n",
            "Ign:3 https://developer.download.nvidia.com/compute/cuda/repos/ubuntu1804/x86_64  InRelease\n",
            "Ign:4 https://developer.download.nvidia.com/compute/machine-learning/repos/ubuntu1804/x86_64  InRelease\n",
            "Get:5 https://developer.download.nvidia.com/compute/cuda/repos/ubuntu1804/x86_64  Release [564 B]\n",
            "Hit:6 https://developer.download.nvidia.com/compute/machine-learning/repos/ubuntu1804/x86_64  Release\n",
            "Get:7 https://developer.download.nvidia.com/compute/cuda/repos/ubuntu1804/x86_64  Release.gpg [801 B]\n",
            "Hit:8 http://ppa.launchpad.net/graphics-drivers/ppa/ubuntu bionic InRelease\n",
            "Hit:10 http://archive.ubuntu.com/ubuntu bionic InRelease\n",
            "Get:11 https://developer.download.nvidia.com/compute/cuda/repos/ubuntu1804/x86_64  Packages [85.5 kB]\n",
            "Get:12 http://archive.ubuntu.com/ubuntu bionic-updates InRelease [88.7 kB]\n",
            "Get:13 http://ppa.launchpad.net/marutter/c2d4u3.5/ubuntu bionic InRelease [15.4 kB]\n",
            "Get:14 http://security.ubuntu.com/ubuntu bionic-security/universe amd64 Packages [310 kB]\n",
            "Get:15 http://security.ubuntu.com/ubuntu bionic-security/main amd64 Packages [451 kB]\n",
            "Hit:16 http://archive.ubuntu.com/ubuntu bionic-backports InRelease\n",
            "Get:17 http://archive.ubuntu.com/ubuntu bionic-updates/universe amd64 Packages [1,199 kB]\n",
            "Get:18 http://ppa.launchpad.net/marutter/c2d4u3.5/ubuntu bionic/main Sources [1,643 kB]\n",
            "Get:19 http://archive.ubuntu.com/ubuntu bionic-updates/main amd64 Packages [803 kB]\n",
            "Get:20 http://ppa.launchpad.net/marutter/c2d4u3.5/ubuntu bionic/main amd64 Packages [788 kB]\n",
            "Fetched 5,479 kB in 4s (1,472 kB/s)\n",
            "Reading package lists... Done\n",
            "Updated successfully.\n",
            "==> Found Ubuntu version 18.xx\n",
            "Reading package lists... Done\n",
            "Building dependency tree       \n",
            "Reading state information... Done\n",
            "software-properties-common is already the newest version (0.96.24.32.8).\n",
            "The following package was automatically installed and is no longer required:\n",
            "  libnvidia-common-410\n",
            "Use 'sudo apt autoremove' to remove it.\n",
            "0 upgraded, 0 newly installed, 0 to remove and 9 not upgraded.\n",
            "Reading package lists... Done\n",
            "Building dependency tree       \n",
            "Reading state information... Done\n",
            "software-properties-common is already the newest version (0.96.24.32.8).\n",
            "The following package was automatically installed and is no longer required:\n",
            "  libnvidia-common-410\n",
            "Use 'sudo apt autoremove' to remove it.\n",
            "The following additional packages will be installed:\n",
            "  fonts-droid-fallback fonts-noto-mono ghostscript gsfonts libao-common libao4\n",
            "  libcupsfilters1 libcupsimage2 libfftw3-bin libfftw3-long3 libfftw3-quad3\n",
            "  libfftw3-single3 libgraphicsmagick-q16-3 libgs9 libgs9-common libid3tag0\n",
            "  libijs-0.35 libjbig2dec0 liblcms2-dev libmad0 libopencore-amrnb0\n",
            "  libopencore-amrwb0 libsox-fmt-alsa libsox-fmt-ao libsox-fmt-base\n",
            "  libsox-fmt-mp3 libsox-fmt-oss libsox-fmt-pulse libsox3 libwebp-dev\n",
            "  libwmf-dev libwmf0.2-7 poppler-data\n",
            "Suggested packages:\n",
            "  fonts-noto ghostscript-x libaudio2 libfftw3-doc graphicsmagick-dbg\n",
            "  graphicsmagick libwmf-doc libwmf0.2-7-gtk poppler-utils\n",
            "  fonts-japanese-mincho | fonts-ipafont-mincho fonts-japanese-gothic\n",
            "  | fonts-ipafont-gothic fonts-arphic-ukai fonts-arphic-uming fonts-nanum\n",
            "The following NEW packages will be installed:\n",
            "  fonts-droid-fallback fonts-noto-mono ghostscript gsfonts libao-common libao4\n",
            "  libcupsfilters1 libcupsimage2 libfftw3-bin libfftw3-dev libfftw3-long3\n",
            "  libfftw3-quad3 libfftw3-single3 libgraphicsmagick-q16-3\n",
            "  libgraphicsmagick1-dev libgs9 libgs9-common libid3tag0 libijs-0.35\n",
            "  libjbig2dec0 liblcms2-dev libmad0 libopencore-amrnb0 libopencore-amrwb0\n",
            "  libsox-dev libsox-fmt-all libsox-fmt-alsa libsox-fmt-ao libsox-fmt-base\n",
            "  libsox-fmt-mp3 libsox-fmt-oss libsox-fmt-pulse libsox3 libwebp-dev\n",
            "  libwmf-dev libwmf0.2-7 poppler-data sox\n",
            "0 upgraded, 38 newly installed, 0 to remove and 9 not upgraded.\n",
            "Need to get 31.0 MB of archives.\n",
            "After this operation, 97.9 MB of additional disk space will be used.\n",
            "Get:1 http://archive.ubuntu.com/ubuntu bionic/main amd64 fonts-droid-fallback all 1:6.0.1r16-1.1 [1,805 kB]\n",
            "Get:2 http://archive.ubuntu.com/ubuntu bionic/universe amd64 libopencore-amrnb0 amd64 0.1.3-2.1 [92.0 kB]\n",
            "Get:3 http://archive.ubuntu.com/ubuntu bionic/universe amd64 libopencore-amrwb0 amd64 0.1.3-2.1 [45.8 kB]\n",
            "Get:4 http://archive.ubuntu.com/ubuntu bionic/main amd64 poppler-data all 0.4.8-2 [1,479 kB]\n",
            "Get:5 http://archive.ubuntu.com/ubuntu bionic/main amd64 fonts-noto-mono all 20171026-2 [75.5 kB]\n",
            "Get:6 http://archive.ubuntu.com/ubuntu bionic-updates/main amd64 libcupsimage2 amd64 2.2.7-1ubuntu2.5 [18.6 kB]\n",
            "Get:7 http://archive.ubuntu.com/ubuntu bionic/main amd64 libijs-0.35 amd64 0.35-13 [15.5 kB]\n",
            "Get:8 http://archive.ubuntu.com/ubuntu bionic/main amd64 libjbig2dec0 amd64 0.13-6 [55.9 kB]\n",
            "Get:9 http://archive.ubuntu.com/ubuntu bionic-updates/main amd64 libgs9-common all 9.26~dfsg+0-0ubuntu0.18.04.9 [5,092 kB]\n",
            "Get:10 http://archive.ubuntu.com/ubuntu bionic-updates/main amd64 libgs9 amd64 9.26~dfsg+0-0ubuntu0.18.04.9 [2,264 kB]\n",
            "Get:11 http://archive.ubuntu.com/ubuntu bionic-updates/main amd64 ghostscript amd64 9.26~dfsg+0-0ubuntu0.18.04.9 [51.3 kB]\n",
            "Get:12 http://archive.ubuntu.com/ubuntu bionic/main amd64 gsfonts all 1:8.11+urwcyr1.0.7~pre44-4.4 [3,120 kB]\n",
            "Get:13 http://archive.ubuntu.com/ubuntu bionic/main amd64 libao-common all 1.2.2+20180113-1ubuntu1 [6,644 B]\n",
            "Get:14 http://archive.ubuntu.com/ubuntu bionic/main amd64 libao4 amd64 1.2.2+20180113-1ubuntu1 [35.1 kB]\n",
            "Get:15 http://archive.ubuntu.com/ubuntu bionic-updates/main amd64 libcupsfilters1 amd64 1.20.2-0ubuntu3.1 [108 kB]\n",
            "Get:16 http://archive.ubuntu.com/ubuntu bionic/main amd64 libfftw3-long3 amd64 3.3.7-1 [308 kB]\n",
            "Get:17 http://archive.ubuntu.com/ubuntu bionic/main amd64 libfftw3-quad3 amd64 3.3.7-1 [552 kB]\n",
            "Get:18 http://archive.ubuntu.com/ubuntu bionic/main amd64 libfftw3-single3 amd64 3.3.7-1 [764 kB]\n",
            "Get:19 http://archive.ubuntu.com/ubuntu bionic/main amd64 libfftw3-bin amd64 3.3.7-1 [32.7 kB]\n",
            "Get:20 http://archive.ubuntu.com/ubuntu bionic/main amd64 libfftw3-dev amd64 3.3.7-1 [2,108 kB]\n",
            "Get:21 http://archive.ubuntu.com/ubuntu bionic/main amd64 libwmf0.2-7 amd64 0.2.8.4-12 [150 kB]\n",
            "Get:22 http://archive.ubuntu.com/ubuntu bionic/universe amd64 libgraphicsmagick-q16-3 amd64 1.3.28-2 [1,112 kB]\n",
            "Get:23 http://archive.ubuntu.com/ubuntu bionic-updates/main amd64 liblcms2-dev amd64 2.9-1ubuntu0.1 [9,096 kB]\n",
            "Get:24 http://archive.ubuntu.com/ubuntu bionic/main amd64 libwmf-dev amd64 0.2.8.4-12 [172 kB]\n",
            "Get:25 http://archive.ubuntu.com/ubuntu bionic/main amd64 libwebp-dev amd64 0.6.1-2 [267 kB]\n",
            "Get:26 http://archive.ubuntu.com/ubuntu bionic/universe amd64 libgraphicsmagick1-dev amd64 1.3.28-2 [1,336 kB]\n",
            "Get:27 http://archive.ubuntu.com/ubuntu bionic/universe amd64 libid3tag0 amd64 0.15.1b-13 [31.2 kB]\n",
            "Get:28 http://archive.ubuntu.com/ubuntu bionic-updates/universe amd64 libmad0 amd64 0.15.1b-9ubuntu18.04.1 [64.6 kB]\n",
            "Get:29 http://archive.ubuntu.com/ubuntu bionic/universe amd64 libsox3 amd64 14.4.2-3 [225 kB]\n",
            "Get:30 http://archive.ubuntu.com/ubuntu bionic/universe amd64 libsox-fmt-alsa amd64 14.4.2-3 [10.6 kB]\n",
            "Get:31 http://archive.ubuntu.com/ubuntu bionic/universe amd64 libsox-fmt-ao amd64 14.4.2-3 [7,452 B]\n",
            "Get:32 http://archive.ubuntu.com/ubuntu bionic/universe amd64 libsox-fmt-base amd64 14.4.2-3 [32.0 kB]\n",
            "Get:33 http://archive.ubuntu.com/ubuntu bionic/universe amd64 libsox-fmt-mp3 amd64 14.4.2-3 [15.8 kB]\n",
            "Get:34 http://archive.ubuntu.com/ubuntu bionic/universe amd64 libsox-fmt-oss amd64 14.4.2-3 [9,004 B]\n",
            "Get:35 http://archive.ubuntu.com/ubuntu bionic/universe amd64 libsox-fmt-pulse amd64 14.4.2-3 [7,372 B]\n",
            "Get:36 http://archive.ubuntu.com/ubuntu bionic/universe amd64 libsox-fmt-all amd64 14.4.2-3 [5,116 B]\n",
            "Get:37 http://archive.ubuntu.com/ubuntu bionic/universe amd64 libsox-dev amd64 14.4.2-3 [325 kB]\n",
            "Get:38 http://archive.ubuntu.com/ubuntu bionic/universe amd64 sox amd64 14.4.2-3 [101 kB]\n",
            "Fetched 31.0 MB in 3s (10.2 MB/s)\n",
            "debconf: unable to initialize frontend: Dialog\n",
            "debconf: (No usable dialog-like program is installed, so the dialog based frontend cannot be used. at /usr/share/perl5/Debconf/FrontEnd/Dialog.pm line 76, <> line 38.)\n",
            "debconf: falling back to frontend: Readline\n",
            "debconf: unable to initialize frontend: Readline\n",
            "debconf: (This frontend requires a controlling tty.)\n",
            "debconf: falling back to frontend: Teletype\n",
            "dpkg-preconfigure: unable to re-open stdin: \n",
            "Selecting previously unselected package fonts-droid-fallback.\n",
            "(Reading database ... 131375 files and directories currently installed.)\n",
            "Preparing to unpack .../00-fonts-droid-fallback_1%3a6.0.1r16-1.1_all.deb ...\n",
            "Unpacking fonts-droid-fallback (1:6.0.1r16-1.1) ...\n",
            "Selecting previously unselected package libopencore-amrnb0:amd64.\n",
            "Preparing to unpack .../01-libopencore-amrnb0_0.1.3-2.1_amd64.deb ...\n",
            "Unpacking libopencore-amrnb0:amd64 (0.1.3-2.1) ...\n",
            "Selecting previously unselected package libopencore-amrwb0:amd64.\n",
            "Preparing to unpack .../02-libopencore-amrwb0_0.1.3-2.1_amd64.deb ...\n",
            "Unpacking libopencore-amrwb0:amd64 (0.1.3-2.1) ...\n",
            "Selecting previously unselected package poppler-data.\n",
            "Preparing to unpack .../03-poppler-data_0.4.8-2_all.deb ...\n",
            "Unpacking poppler-data (0.4.8-2) ...\n",
            "Selecting previously unselected package fonts-noto-mono.\n",
            "Preparing to unpack .../04-fonts-noto-mono_20171026-2_all.deb ...\n",
            "Unpacking fonts-noto-mono (20171026-2) ...\n",
            "Selecting previously unselected package libcupsimage2:amd64.\n",
            "Preparing to unpack .../05-libcupsimage2_2.2.7-1ubuntu2.5_amd64.deb ...\n",
            "Unpacking libcupsimage2:amd64 (2.2.7-1ubuntu2.5) ...\n",
            "Selecting previously unselected package libijs-0.35:amd64.\n",
            "Preparing to unpack .../06-libijs-0.35_0.35-13_amd64.deb ...\n",
            "Unpacking libijs-0.35:amd64 (0.35-13) ...\n",
            "Selecting previously unselected package libjbig2dec0:amd64.\n",
            "Preparing to unpack .../07-libjbig2dec0_0.13-6_amd64.deb ...\n",
            "Unpacking libjbig2dec0:amd64 (0.13-6) ...\n",
            "Selecting previously unselected package libgs9-common.\n",
            "Preparing to unpack .../08-libgs9-common_9.26~dfsg+0-0ubuntu0.18.04.9_all.deb ...\n",
            "Unpacking libgs9-common (9.26~dfsg+0-0ubuntu0.18.04.9) ...\n",
            "Selecting previously unselected package libgs9:amd64.\n",
            "Preparing to unpack .../09-libgs9_9.26~dfsg+0-0ubuntu0.18.04.9_amd64.deb ...\n",
            "Unpacking libgs9:amd64 (9.26~dfsg+0-0ubuntu0.18.04.9) ...\n",
            "Selecting previously unselected package ghostscript.\n",
            "Preparing to unpack .../10-ghostscript_9.26~dfsg+0-0ubuntu0.18.04.9_amd64.deb ...\n",
            "Unpacking ghostscript (9.26~dfsg+0-0ubuntu0.18.04.9) ...\n",
            "Selecting previously unselected package gsfonts.\n",
            "Preparing to unpack .../11-gsfonts_1%3a8.11+urwcyr1.0.7~pre44-4.4_all.deb ...\n",
            "Unpacking gsfonts (1:8.11+urwcyr1.0.7~pre44-4.4) ...\n",
            "Selecting previously unselected package libao-common.\n",
            "Preparing to unpack .../12-libao-common_1.2.2+20180113-1ubuntu1_all.deb ...\n",
            "Unpacking libao-common (1.2.2+20180113-1ubuntu1) ...\n",
            "Selecting previously unselected package libao4:amd64.\n",
            "Preparing to unpack .../13-libao4_1.2.2+20180113-1ubuntu1_amd64.deb ...\n",
            "Unpacking libao4:amd64 (1.2.2+20180113-1ubuntu1) ...\n",
            "Selecting previously unselected package libcupsfilters1:amd64.\n",
            "Preparing to unpack .../14-libcupsfilters1_1.20.2-0ubuntu3.1_amd64.deb ...\n",
            "Unpacking libcupsfilters1:amd64 (1.20.2-0ubuntu3.1) ...\n",
            "Selecting previously unselected package libfftw3-long3:amd64.\n",
            "Preparing to unpack .../15-libfftw3-long3_3.3.7-1_amd64.deb ...\n",
            "Unpacking libfftw3-long3:amd64 (3.3.7-1) ...\n",
            "Selecting previously unselected package libfftw3-quad3:amd64.\n",
            "Preparing to unpack .../16-libfftw3-quad3_3.3.7-1_amd64.deb ...\n",
            "Unpacking libfftw3-quad3:amd64 (3.3.7-1) ...\n",
            "Selecting previously unselected package libfftw3-single3:amd64.\n",
            "Preparing to unpack .../17-libfftw3-single3_3.3.7-1_amd64.deb ...\n",
            "Unpacking libfftw3-single3:amd64 (3.3.7-1) ...\n",
            "Selecting previously unselected package libfftw3-bin.\n",
            "Preparing to unpack .../18-libfftw3-bin_3.3.7-1_amd64.deb ...\n",
            "Unpacking libfftw3-bin (3.3.7-1) ...\n",
            "Selecting previously unselected package libfftw3-dev:amd64.\n",
            "Preparing to unpack .../19-libfftw3-dev_3.3.7-1_amd64.deb ...\n",
            "Unpacking libfftw3-dev:amd64 (3.3.7-1) ...\n",
            "Selecting previously unselected package libwmf0.2-7:amd64.\n",
            "Preparing to unpack .../20-libwmf0.2-7_0.2.8.4-12_amd64.deb ...\n",
            "Unpacking libwmf0.2-7:amd64 (0.2.8.4-12) ...\n",
            "Selecting previously unselected package libgraphicsmagick-q16-3.\n",
            "Preparing to unpack .../21-libgraphicsmagick-q16-3_1.3.28-2_amd64.deb ...\n",
            "Unpacking libgraphicsmagick-q16-3 (1.3.28-2) ...\n",
            "Selecting previously unselected package liblcms2-dev:amd64.\n",
            "Preparing to unpack .../22-liblcms2-dev_2.9-1ubuntu0.1_amd64.deb ...\n",
            "Unpacking liblcms2-dev:amd64 (2.9-1ubuntu0.1) ...\n",
            "Selecting previously unselected package libwmf-dev.\n",
            "Preparing to unpack .../23-libwmf-dev_0.2.8.4-12_amd64.deb ...\n",
            "Unpacking libwmf-dev (0.2.8.4-12) ...\n",
            "Selecting previously unselected package libwebp-dev:amd64.\n",
            "Preparing to unpack .../24-libwebp-dev_0.6.1-2_amd64.deb ...\n",
            "Unpacking libwebp-dev:amd64 (0.6.1-2) ...\n",
            "Selecting previously unselected package libgraphicsmagick1-dev.\n",
            "Preparing to unpack .../25-libgraphicsmagick1-dev_1.3.28-2_amd64.deb ...\n",
            "Unpacking libgraphicsmagick1-dev (1.3.28-2) ...\n",
            "Selecting previously unselected package libid3tag0:amd64.\n",
            "Preparing to unpack .../26-libid3tag0_0.15.1b-13_amd64.deb ...\n",
            "Unpacking libid3tag0:amd64 (0.15.1b-13) ...\n",
            "Selecting previously unselected package libmad0:amd64.\n",
            "Preparing to unpack .../27-libmad0_0.15.1b-9ubuntu18.04.1_amd64.deb ...\n",
            "Unpacking libmad0:amd64 (0.15.1b-9ubuntu18.04.1) ...\n",
            "Selecting previously unselected package libsox3:amd64.\n",
            "Preparing to unpack .../28-libsox3_14.4.2-3_amd64.deb ...\n",
            "Unpacking libsox3:amd64 (14.4.2-3) ...\n",
            "Selecting previously unselected package libsox-fmt-alsa:amd64.\n",
            "Preparing to unpack .../29-libsox-fmt-alsa_14.4.2-3_amd64.deb ...\n",
            "Unpacking libsox-fmt-alsa:amd64 (14.4.2-3) ...\n",
            "Selecting previously unselected package libsox-fmt-ao:amd64.\n",
            "Preparing to unpack .../30-libsox-fmt-ao_14.4.2-3_amd64.deb ...\n",
            "Unpacking libsox-fmt-ao:amd64 (14.4.2-3) ...\n",
            "Selecting previously unselected package libsox-fmt-base:amd64.\n",
            "Preparing to unpack .../31-libsox-fmt-base_14.4.2-3_amd64.deb ...\n",
            "Unpacking libsox-fmt-base:amd64 (14.4.2-3) ...\n",
            "Selecting previously unselected package libsox-fmt-mp3:amd64.\n",
            "Preparing to unpack .../32-libsox-fmt-mp3_14.4.2-3_amd64.deb ...\n",
            "Unpacking libsox-fmt-mp3:amd64 (14.4.2-3) ...\n",
            "Selecting previously unselected package libsox-fmt-oss:amd64.\n",
            "Preparing to unpack .../33-libsox-fmt-oss_14.4.2-3_amd64.deb ...\n",
            "Unpacking libsox-fmt-oss:amd64 (14.4.2-3) ...\n",
            "Selecting previously unselected package libsox-fmt-pulse:amd64.\n",
            "Preparing to unpack .../34-libsox-fmt-pulse_14.4.2-3_amd64.deb ...\n",
            "Unpacking libsox-fmt-pulse:amd64 (14.4.2-3) ...\n",
            "Selecting previously unselected package libsox-fmt-all:amd64.\n",
            "Preparing to unpack .../35-libsox-fmt-all_14.4.2-3_amd64.deb ...\n",
            "Unpacking libsox-fmt-all:amd64 (14.4.2-3) ...\n",
            "Selecting previously unselected package libsox-dev:amd64.\n",
            "Preparing to unpack .../36-libsox-dev_14.4.2-3_amd64.deb ...\n",
            "Unpacking libsox-dev:amd64 (14.4.2-3) ...\n",
            "Selecting previously unselected package sox.\n",
            "Preparing to unpack .../37-sox_14.4.2-3_amd64.deb ...\n",
            "Unpacking sox (14.4.2-3) ...\n",
            "Setting up libgs9-common (9.26~dfsg+0-0ubuntu0.18.04.9) ...\n",
            "Setting up fonts-droid-fallback (1:6.0.1r16-1.1) ...\n",
            "Setting up libid3tag0:amd64 (0.15.1b-13) ...\n",
            "Setting up liblcms2-dev:amd64 (2.9-1ubuntu0.1) ...\n",
            "Processing triggers for mime-support (3.60ubuntu1) ...\n",
            "Setting up gsfonts (1:8.11+urwcyr1.0.7~pre44-4.4) ...\n",
            "Setting up poppler-data (0.4.8-2) ...\n",
            "Setting up libao-common (1.2.2+20180113-1ubuntu1) ...\n",
            "Setting up fonts-noto-mono (20171026-2) ...\n",
            "Setting up libwebp-dev:amd64 (0.6.1-2) ...\n",
            "Setting up libcupsfilters1:amd64 (1.20.2-0ubuntu3.1) ...\n",
            "Setting up libfftw3-quad3:amd64 (3.3.7-1) ...\n",
            "Setting up libcupsimage2:amd64 (2.2.7-1ubuntu2.5) ...\n",
            "Setting up libjbig2dec0:amd64 (0.13-6) ...\n",
            "Processing triggers for libc-bin (2.27-3ubuntu1) ...\n",
            "Setting up libijs-0.35:amd64 (0.35-13) ...\n",
            "Setting up libfftw3-single3:amd64 (3.3.7-1) ...\n",
            "Setting up libopencore-amrnb0:amd64 (0.1.3-2.1) ...\n",
            "Processing triggers for man-db (2.8.3-2ubuntu0.1) ...\n",
            "Setting up libmad0:amd64 (0.15.1b-9ubuntu18.04.1) ...\n",
            "Setting up libfftw3-long3:amd64 (3.3.7-1) ...\n",
            "Setting up libopencore-amrwb0:amd64 (0.1.3-2.1) ...\n",
            "Setting up libgs9:amd64 (9.26~dfsg+0-0ubuntu0.18.04.9) ...\n",
            "Setting up libsox3:amd64 (14.4.2-3) ...\n",
            "Setting up libwmf0.2-7:amd64 (0.2.8.4-12) ...\n",
            "Setting up libsox-fmt-mp3:amd64 (14.4.2-3) ...\n",
            "Processing triggers for fontconfig (2.12.6-0ubuntu2) ...\n",
            "Setting up libsox-fmt-base:amd64 (14.4.2-3) ...\n",
            "Setting up libwmf-dev (0.2.8.4-12) ...\n",
            "Setting up libfftw3-bin (3.3.7-1) ...\n",
            "Setting up libsox-fmt-pulse:amd64 (14.4.2-3) ...\n",
            "Setting up libao4:amd64 (1.2.2+20180113-1ubuntu1) ...\n",
            "Setting up libsox-fmt-alsa:amd64 (14.4.2-3) ...\n",
            "Setting up ghostscript (9.26~dfsg+0-0ubuntu0.18.04.9) ...\n",
            "Setting up libgraphicsmagick-q16-3 (1.3.28-2) ...\n",
            "Setting up libsox-fmt-oss:amd64 (14.4.2-3) ...\n",
            "Setting up libfftw3-dev:amd64 (3.3.7-1) ...\n",
            "Setting up libsox-fmt-ao:amd64 (14.4.2-3) ...\n",
            "Setting up sox (14.4.2-3) ...\n",
            "Setting up libsox-fmt-all:amd64 (14.4.2-3) ...\n",
            "Setting up libgraphicsmagick1-dev (1.3.28-2) ...\n",
            "Setting up libsox-dev:amd64 (14.4.2-3) ...\n",
            "Processing triggers for libc-bin (2.27-3ubuntu1) ...\n",
            "Ign:1 https://developer.download.nvidia.com/compute/cuda/repos/ubuntu1804/x86_64  InRelease\n",
            "Ign:2 https://developer.download.nvidia.com/compute/machine-learning/repos/ubuntu1804/x86_64  InRelease\n",
            "Hit:3 https://cloud.r-project.org/bin/linux/ubuntu bionic-cran35/ InRelease\n",
            "Hit:4 https://developer.download.nvidia.com/compute/cuda/repos/ubuntu1804/x86_64  Release\n",
            "Hit:5 https://developer.download.nvidia.com/compute/machine-learning/repos/ubuntu1804/x86_64  Release\n",
            "Hit:6 http://security.ubuntu.com/ubuntu bionic-security InRelease\n",
            "Hit:7 http://archive.ubuntu.com/ubuntu bionic InRelease\n",
            "Hit:8 http://ppa.launchpad.net/graphics-drivers/ppa/ubuntu bionic InRelease\n",
            "Hit:11 http://archive.ubuntu.com/ubuntu bionic-updates InRelease\n",
            "Hit:12 http://archive.ubuntu.com/ubuntu bionic-backports InRelease\n",
            "Hit:13 http://ppa.launchpad.net/marutter/c2d4u3.5/ubuntu bionic InRelease\n",
            "Reading package lists... Done\n",
            "Updated successfully.\n",
            "Reading package lists... Done\n",
            "Building dependency tree       \n",
            "Reading state information... Done\n",
            "Note, selecting 'git' instead of 'git-core'\n",
            "Note, selecting 'libncurses5-dev' instead of 'ncurses-dev'\n",
            "build-essential is already the newest version (12.4ubuntu1).\n",
            "cmake is already the newest version (3.10.2-1ubuntu2).\n",
            "libjpeg-dev is already the newest version (8c-2ubuntu8).\n",
            "libjpeg-dev set to manually installed.\n",
            "libreadline-dev is already the newest version (7.0-3).\n",
            "unzip is already the newest version (6.0-21ubuntu1).\n",
            "curl is already the newest version (7.58.0-2ubuntu3.7).\n",
            "g++ is already the newest version (4:7.4.0-1ubuntu2.2).\n",
            "g++ set to manually installed.\n",
            "gcc is already the newest version (4:7.4.0-1ubuntu2.2).\n",
            "gcc set to manually installed.\n",
            "gfortran is already the newest version (4:7.4.0-1ubuntu2.2).\n",
            "git is already the newest version (1:2.17.1-1ubuntu0.4).\n",
            "libncurses5-dev is already the newest version (6.1-1ubuntu1.18.04).\n",
            "libpng-dev is already the newest version (1.6.34-1ubuntu0.18.04.2).\n",
            "libzmq3-dev is already the newest version (4.2.5-1ubuntu0.1).\n",
            "The following package was automatically installed and is no longer required:\n",
            "  libnvidia-common-410\n",
            "Use 'sudo apt autoremove' to remove it.\n",
            "The following additional packages will be installed:\n",
            "  aglfn gnuplot-data imagemagick-6-common imagemagick-6.q16 libaudio2\n",
            "  libdjvulibre-text libdjvulibre21 libgail-common libgail18 libgtk2.0-0\n",
            "  libgtk2.0-bin libgtk2.0-common liblqr-1-0 liblua5.3-0 libmagickcore-6.q16-3\n",
            "  libmagickcore-6.q16-3-extra libmagickwand-6.q16-3 libmng2 libnetpbm10\n",
            "  libnotify4 libqt4-dbus libqt4-declarative libqt4-designer libqt4-dev-bin\n",
            "  libqt4-help libqt4-network libqt4-opengl libqt4-opengl-dev libqt4-qt3support\n",
            "  libqt4-script libqt4-scripttools libqt4-sql libqt4-sql-mysql libqt4-svg\n",
            "  libqt4-test libqt4-xml libqt4-xmlpatterns libqtcore4 libqtdbus4 libqtgui4\n",
            "  libwxbase3.0-0v5 libwxgtk3.0-0v5 netpbm notification-daemon\n",
            "  python-backports-shutil-get-terminal-size python-chardet python-decorator\n",
            "  python-enum34 python-ipython python-ipython-genutils python-pathlib2\n",
            "  python-pexpect python-pickleshare python-pkg-resources python-prompt-toolkit\n",
            "  python-ptyprocess python-pygments python-scandir python-simplegeneric\n",
            "  python-six python-traitlets python-wcwidth qdbus qt-at-spi\n",
            "  qt4-linguist-tools qt4-qmake qtcore4-l10n\n",
            "Suggested packages:\n",
            "  gnuplot-doc imagemagick-doc autotrace cups-bsd | lpr | lprng enscript gimp\n",
            "  grads hp2xx html2ps libwmf-bin mplayer povray radiance sane-utils\n",
            "  texlive-base-bin transfig ufraw-batch nas gvfs inkscape libjxr-tools\n",
            "  libqt4-declarative-folderlistmodel libqt4-declarative-gestures\n",
            "  libqt4-declarative-particles libqt4-declarative-shaders qt4-qmlviewer\n",
            "  firebird-dev libmysqlclient-dev libpq-dev libsqlite0-dev libsqlite3-dev\n",
            "  qt4-dev-tools qt4-doc unixodbc-dev libicu55 qt4-qtconfig python-enum34-doc\n",
            "  python-pexpect-doc python-setuptools ttf-bitstream-vera\n",
            "The following NEW packages will be installed:\n",
            "  aglfn gnuplot gnuplot-data gnuplot-x11 imagemagick imagemagick-6-common\n",
            "  imagemagick-6.q16 ipython libaudio2 libdjvulibre-text libdjvulibre21\n",
            "  libgail-common libgail18 libgtk2.0-0 libgtk2.0-bin libgtk2.0-common\n",
            "  liblqr-1-0 liblua5.3-0 libmagickcore-6.q16-3 libmagickcore-6.q16-3-extra\n",
            "  libmagickwand-6.q16-3 libmng2 libnetpbm10 libnotify4 libqt4-dbus\n",
            "  libqt4-declarative libqt4-designer libqt4-dev libqt4-dev-bin libqt4-help\n",
            "  libqt4-network libqt4-opengl libqt4-opengl-dev libqt4-qt3support\n",
            "  libqt4-script libqt4-scripttools libqt4-sql libqt4-sql-mysql libqt4-svg\n",
            "  libqt4-test libqt4-xml libqt4-xmlpatterns libqtcore4 libqtdbus4 libqtgui4\n",
            "  libwxbase3.0-0v5 libwxgtk3.0-0v5 netpbm notification-daemon\n",
            "  python-backports-shutil-get-terminal-size python-chardet python-decorator\n",
            "  python-enum34 python-ipython python-ipython-genutils python-pathlib2\n",
            "  python-pexpect python-pickleshare python-pkg-resources python-prompt-toolkit\n",
            "  python-ptyprocess python-pygments python-scandir python-simplegeneric\n",
            "  python-six python-traitlets python-wcwidth qdbus qt-at-spi\n",
            "  qt4-linguist-tools qt4-qmake qtcore4-l10n\n",
            "0 upgraded, 72 newly installed, 0 to remove and 9 not upgraded.\n",
            "Need to get 35.1 MB of archives.\n",
            "After this operation, 142 MB of additional disk space will be used.\n",
            "Get:1 http://archive.ubuntu.com/ubuntu bionic/main amd64 liblqr-1-0 amd64 0.4.2-2.1 [27.7 kB]\n",
            "Get:2 http://archive.ubuntu.com/ubuntu bionic-updates/main amd64 imagemagick-6-common all 8:6.9.7.4+dfsg-16ubuntu6.4 [60.9 kB]\n",
            "Get:3 http://archive.ubuntu.com/ubuntu bionic-updates/main amd64 libmagickcore-6.q16-3 amd64 8:6.9.7.4+dfsg-16ubuntu6.4 [1,616 kB]\n",
            "Get:4 http://archive.ubuntu.com/ubuntu bionic-updates/main amd64 libmagickwand-6.q16-3 amd64 8:6.9.7.4+dfsg-16ubuntu6.4 [293 kB]\n",
            "Get:5 http://archive.ubuntu.com/ubuntu bionic/universe amd64 libmng2 amd64 2.0.2-0ubuntu3 [169 kB]\n",
            "Get:6 http://archive.ubuntu.com/ubuntu bionic/universe amd64 aglfn all 1.7-3 [29.4 kB]\n",
            "Get:7 http://archive.ubuntu.com/ubuntu bionic/universe amd64 gnuplot-data all 5.2.2+dfsg1-2ubuntu1 [56.7 kB]\n",
            "Get:8 http://archive.ubuntu.com/ubuntu bionic-updates/main amd64 liblua5.3-0 amd64 5.3.3-1ubuntu0.18.04.1 [115 kB]\n",
            "Get:9 http://archive.ubuntu.com/ubuntu bionic/universe amd64 libwxbase3.0-0v5 amd64 3.0.4+dfsg-3 [954 kB]\n",
            "Get:10 http://archive.ubuntu.com/ubuntu bionic/main amd64 libgtk2.0-common all 2.24.32-1ubuntu1 [125 kB]\n",
            "Get:11 http://archive.ubuntu.com/ubuntu bionic/main amd64 libgtk2.0-0 amd64 2.24.32-1ubuntu1 [1,769 kB]\n",
            "Get:12 http://archive.ubuntu.com/ubuntu bionic/main amd64 libnotify4 amd64 0.7.7-3 [17.3 kB]\n",
            "Get:13 http://archive.ubuntu.com/ubuntu bionic/universe amd64 libwxgtk3.0-0v5 amd64 3.0.4+dfsg-3 [4,182 kB]\n",
            "Get:14 http://archive.ubuntu.com/ubuntu bionic/universe amd64 gnuplot-x11 amd64 5.2.2+dfsg1-2ubuntu1 [926 kB]\n",
            "Get:15 http://archive.ubuntu.com/ubuntu bionic/universe amd64 gnuplot all 5.2.2+dfsg1-2ubuntu1 [3,816 B]\n",
            "Get:16 http://archive.ubuntu.com/ubuntu bionic-updates/main amd64 imagemagick-6.q16 amd64 8:6.9.7.4+dfsg-16ubuntu6.4 [423 kB]\n",
            "Get:17 http://archive.ubuntu.com/ubuntu bionic-updates/main amd64 imagemagick amd64 8:6.9.7.4+dfsg-16ubuntu6.4 [14.2 kB]\n",
            "Get:18 http://archive.ubuntu.com/ubuntu bionic/main amd64 python-decorator all 4.1.2-1 [9,300 B]\n",
            "Get:19 http://archive.ubuntu.com/ubuntu bionic/universe amd64 python-ptyprocess all 0.5.2-1 [12.6 kB]\n",
            "Get:20 http://archive.ubuntu.com/ubuntu bionic/universe amd64 python-pexpect all 4.2.1-1 [41.7 kB]\n",
            "Get:21 http://archive.ubuntu.com/ubuntu bionic/main amd64 python-six all 1.11.0-2 [11.3 kB]\n",
            "Get:22 http://archive.ubuntu.com/ubuntu bionic/universe amd64 python-scandir amd64 1.7-1 [17.7 kB]\n",
            "Get:23 http://archive.ubuntu.com/ubuntu bionic/universe amd64 python-pathlib2 all 2.3.0-1 [15.9 kB]\n",
            "Get:24 http://archive.ubuntu.com/ubuntu bionic/universe amd64 python-pickleshare all 0.7.4-2 [6,832 B]\n",
            "Get:25 http://archive.ubuntu.com/ubuntu bionic/main amd64 python-pkg-resources all 39.0.1-2 [128 kB]\n",
            "Get:26 http://archive.ubuntu.com/ubuntu bionic/universe amd64 python-wcwidth all 0.1.7+dfsg1-1 [14.7 kB]\n",
            "Get:27 http://archive.ubuntu.com/ubuntu bionic/universe amd64 python-prompt-toolkit all 1.0.15-1 [163 kB]\n",
            "Get:28 http://archive.ubuntu.com/ubuntu bionic/main amd64 python-pygments all 2.2.0+dfsg-1 [577 kB]\n",
            "Get:29 http://archive.ubuntu.com/ubuntu bionic/main amd64 python-simplegeneric all 0.8.1-1 [11.5 kB]\n",
            "Get:30 http://archive.ubuntu.com/ubuntu bionic/universe amd64 python-ipython-genutils all 0.2.0-1 [20.8 kB]\n",
            "Get:31 http://archive.ubuntu.com/ubuntu bionic/main amd64 python-enum34 all 1.1.6-2 [34.8 kB]\n",
            "Get:32 http://archive.ubuntu.com/ubuntu bionic/universe amd64 python-traitlets all 4.3.2-1 [59.0 kB]\n",
            "Get:33 http://archive.ubuntu.com/ubuntu bionic/universe amd64 python-backports-shutil-get-terminal-size all 1.0.0-5 [5,024 B]\n",
            "Get:34 http://archive.ubuntu.com/ubuntu bionic/universe amd64 python-ipython all 5.5.0-1 [381 kB]\n",
            "Get:35 http://archive.ubuntu.com/ubuntu bionic/universe amd64 ipython all 5.5.0-1 [5,284 B]\n",
            "Get:36 http://archive.ubuntu.com/ubuntu bionic/main amd64 libaudio2 amd64 1.9.4-6 [50.3 kB]\n",
            "Get:37 http://archive.ubuntu.com/ubuntu bionic/main amd64 libdjvulibre-text all 3.5.27.1-8 [49.1 kB]\n",
            "Get:38 http://archive.ubuntu.com/ubuntu bionic/main amd64 libdjvulibre21 amd64 3.5.27.1-8 [559 kB]\n",
            "Get:39 http://archive.ubuntu.com/ubuntu bionic/main amd64 libgail18 amd64 2.24.32-1ubuntu1 [14.2 kB]\n",
            "Get:40 http://archive.ubuntu.com/ubuntu bionic/main amd64 libgail-common amd64 2.24.32-1ubuntu1 [112 kB]\n",
            "Get:41 http://archive.ubuntu.com/ubuntu bionic/main amd64 libgtk2.0-bin amd64 2.24.32-1ubuntu1 [7,536 B]\n",
            "Get:42 http://archive.ubuntu.com/ubuntu bionic-updates/main amd64 libmagickcore-6.q16-3-extra amd64 8:6.9.7.4+dfsg-16ubuntu6.4 [62.3 kB]\n",
            "Get:43 http://archive.ubuntu.com/ubuntu bionic/main amd64 libnetpbm10 amd64 2:10.0-15.3build1 [58.0 kB]\n",
            "Get:44 http://archive.ubuntu.com/ubuntu bionic/universe amd64 qtcore4-l10n all 4:4.8.7+dfsg-7ubuntu1 [617 kB]\n",
            "Get:45 http://archive.ubuntu.com/ubuntu bionic/universe amd64 libqtcore4 amd64 4:4.8.7+dfsg-7ubuntu1 [1,552 kB]\n",
            "Get:46 http://archive.ubuntu.com/ubuntu bionic/universe amd64 libqt4-xml amd64 4:4.8.7+dfsg-7ubuntu1 [96.1 kB]\n",
            "Get:47 http://archive.ubuntu.com/ubuntu bionic/universe amd64 libqtdbus4 amd64 4:4.8.7+dfsg-7ubuntu1 [186 kB]\n",
            "Get:48 http://archive.ubuntu.com/ubuntu bionic/universe amd64 qdbus amd64 4:4.8.7+dfsg-7ubuntu1 [30.0 kB]\n",
            "Get:49 http://archive.ubuntu.com/ubuntu bionic/universe amd64 libqt4-dbus amd64 4:4.8.7+dfsg-7ubuntu1 [6,440 B]\n",
            "Get:50 http://archive.ubuntu.com/ubuntu bionic/universe amd64 libqt4-network amd64 4:4.8.7+dfsg-7ubuntu1 [562 kB]\n",
            "Get:51 http://archive.ubuntu.com/ubuntu bionic/universe amd64 libqt4-script amd64 4:4.8.7+dfsg-7ubuntu1 [815 kB]\n",
            "Get:52 http://archive.ubuntu.com/ubuntu bionic/universe amd64 libqt4-sql amd64 4:4.8.7+dfsg-7ubuntu1 [98.5 kB]\n",
            "Get:53 http://archive.ubuntu.com/ubuntu bionic/universe amd64 libqt4-xmlpatterns amd64 4:4.8.7+dfsg-7ubuntu1 [1,091 kB]\n",
            "Get:54 http://archive.ubuntu.com/ubuntu bionic/universe amd64 libqtgui4 amd64 4:4.8.7+dfsg-7ubuntu1 [4,115 kB]\n",
            "Get:55 http://archive.ubuntu.com/ubuntu bionic/universe amd64 libqt4-declarative amd64 4:4.8.7+dfsg-7ubuntu1 [1,089 kB]\n",
            "Get:56 http://archive.ubuntu.com/ubuntu bionic/universe amd64 libqt4-designer amd64 4:4.8.7+dfsg-7ubuntu1 [3,629 kB]\n",
            "Get:57 http://archive.ubuntu.com/ubuntu bionic/universe amd64 libqt4-qt3support amd64 4:4.8.7+dfsg-7ubuntu1 [1,049 kB]\n",
            "Get:58 http://archive.ubuntu.com/ubuntu bionic/universe amd64 libqt4-dev-bin amd64 4:4.8.7+dfsg-7ubuntu1 [1,706 kB]\n",
            "Get:59 http://archive.ubuntu.com/ubuntu bionic/universe amd64 libqt4-help amd64 4:4.8.7+dfsg-7ubuntu1 [207 kB]\n",
            "Get:60 http://archive.ubuntu.com/ubuntu bionic/universe amd64 libqt4-scripttools amd64 4:4.8.7+dfsg-7ubuntu1 [225 kB]\n",
            "Get:61 http://archive.ubuntu.com/ubuntu bionic/universe amd64 libqt4-svg amd64 4:4.8.7+dfsg-7ubuntu1 [138 kB]\n",
            "Get:62 http://archive.ubuntu.com/ubuntu bionic/universe amd64 libqt4-test amd64 4:4.8.7+dfsg-7ubuntu1 [61.2 kB]\n",
            "Get:63 http://archive.ubuntu.com/ubuntu bionic/universe amd64 qt4-linguist-tools amd64 4:4.8.7+dfsg-7ubuntu1 [879 kB]\n",
            "Get:64 http://archive.ubuntu.com/ubuntu bionic/universe amd64 qt4-qmake amd64 4:4.8.7+dfsg-7ubuntu1 [1,366 kB]\n",
            "Get:65 http://archive.ubuntu.com/ubuntu bionic/universe amd64 libqt4-dev amd64 4:4.8.7+dfsg-7ubuntu1 [853 kB]\n",
            "Get:66 http://archive.ubuntu.com/ubuntu bionic/universe amd64 libqt4-opengl amd64 4:4.8.7+dfsg-7ubuntu1 [301 kB]\n",
            "Get:67 http://archive.ubuntu.com/ubuntu bionic/universe amd64 libqt4-opengl-dev amd64 4:4.8.7+dfsg-7ubuntu1 [22.8 kB]\n",
            "Get:68 http://archive.ubuntu.com/ubuntu bionic/universe amd64 libqt4-sql-mysql amd64 4:4.8.7+dfsg-7ubuntu1 [30.5 kB]\n",
            "Get:69 http://archive.ubuntu.com/ubuntu bionic/main amd64 netpbm amd64 2:10.0-15.3build1 [1,017 kB]\n",
            "Get:70 http://archive.ubuntu.com/ubuntu bionic/main amd64 notification-daemon amd64 3.20.0-3 [36.9 kB]\n",
            "Get:71 http://archive.ubuntu.com/ubuntu bionic/main amd64 python-chardet all 3.0.4-1 [80.3 kB]\n",
            "Get:72 http://archive.ubuntu.com/ubuntu bionic/universe amd64 qt-at-spi amd64 0.4.0-8 [58.6 kB]\n",
            "Fetched 35.1 MB in 4s (9,456 kB/s)\n",
            "debconf: unable to initialize frontend: Dialog\n",
            "debconf: (No usable dialog-like program is installed, so the dialog based frontend cannot be used. at /usr/share/perl5/Debconf/FrontEnd/Dialog.pm line 76, <> line 72.)\n",
            "debconf: falling back to frontend: Readline\n",
            "debconf: unable to initialize frontend: Readline\n",
            "debconf: (This frontend requires a controlling tty.)\n",
            "debconf: falling back to frontend: Teletype\n",
            "dpkg-preconfigure: unable to re-open stdin: \n",
            "Selecting previously unselected package liblqr-1-0:amd64.\n",
            "(Reading database ... 132933 files and directories currently installed.)\n",
            "Preparing to unpack .../00-liblqr-1-0_0.4.2-2.1_amd64.deb ...\n",
            "Unpacking liblqr-1-0:amd64 (0.4.2-2.1) ...\n",
            "Selecting previously unselected package imagemagick-6-common.\n",
            "Preparing to unpack .../01-imagemagick-6-common_8%3a6.9.7.4+dfsg-16ubuntu6.4_all.deb ...\n",
            "Unpacking imagemagick-6-common (8:6.9.7.4+dfsg-16ubuntu6.4) ...\n",
            "Selecting previously unselected package libmagickcore-6.q16-3:amd64.\n",
            "Preparing to unpack .../02-libmagickcore-6.q16-3_8%3a6.9.7.4+dfsg-16ubuntu6.4_amd64.deb ...\n",
            "Unpacking libmagickcore-6.q16-3:amd64 (8:6.9.7.4+dfsg-16ubuntu6.4) ...\n",
            "Selecting previously unselected package libmagickwand-6.q16-3:amd64.\n",
            "Preparing to unpack .../03-libmagickwand-6.q16-3_8%3a6.9.7.4+dfsg-16ubuntu6.4_amd64.deb ...\n",
            "Unpacking libmagickwand-6.q16-3:amd64 (8:6.9.7.4+dfsg-16ubuntu6.4) ...\n",
            "Selecting previously unselected package libmng2:amd64.\n",
            "Preparing to unpack .../04-libmng2_2.0.2-0ubuntu3_amd64.deb ...\n",
            "Unpacking libmng2:amd64 (2.0.2-0ubuntu3) ...\n",
            "Selecting previously unselected package aglfn.\n",
            "Preparing to unpack .../05-aglfn_1.7-3_all.deb ...\n",
            "Unpacking aglfn (1.7-3) ...\n",
            "Selecting previously unselected package gnuplot-data.\n",
            "Preparing to unpack .../06-gnuplot-data_5.2.2+dfsg1-2ubuntu1_all.deb ...\n",
            "Unpacking gnuplot-data (5.2.2+dfsg1-2ubuntu1) ...\n",
            "Selecting previously unselected package liblua5.3-0:amd64.\n",
            "Preparing to unpack .../07-liblua5.3-0_5.3.3-1ubuntu0.18.04.1_amd64.deb ...\n",
            "Unpacking liblua5.3-0:amd64 (5.3.3-1ubuntu0.18.04.1) ...\n",
            "Selecting previously unselected package libwxbase3.0-0v5:amd64.\n",
            "Preparing to unpack .../08-libwxbase3.0-0v5_3.0.4+dfsg-3_amd64.deb ...\n",
            "Unpacking libwxbase3.0-0v5:amd64 (3.0.4+dfsg-3) ...\n",
            "Selecting previously unselected package libgtk2.0-common.\n",
            "Preparing to unpack .../09-libgtk2.0-common_2.24.32-1ubuntu1_all.deb ...\n",
            "Unpacking libgtk2.0-common (2.24.32-1ubuntu1) ...\n",
            "Selecting previously unselected package libgtk2.0-0:amd64.\n",
            "Preparing to unpack .../10-libgtk2.0-0_2.24.32-1ubuntu1_amd64.deb ...\n",
            "Unpacking libgtk2.0-0:amd64 (2.24.32-1ubuntu1) ...\n",
            "Selecting previously unselected package libnotify4:amd64.\n",
            "Preparing to unpack .../11-libnotify4_0.7.7-3_amd64.deb ...\n",
            "Unpacking libnotify4:amd64 (0.7.7-3) ...\n",
            "Selecting previously unselected package libwxgtk3.0-0v5:amd64.\n",
            "Preparing to unpack .../12-libwxgtk3.0-0v5_3.0.4+dfsg-3_amd64.deb ...\n",
            "Unpacking libwxgtk3.0-0v5:amd64 (3.0.4+dfsg-3) ...\n",
            "Selecting previously unselected package gnuplot-x11.\n",
            "Preparing to unpack .../13-gnuplot-x11_5.2.2+dfsg1-2ubuntu1_amd64.deb ...\n",
            "Unpacking gnuplot-x11 (5.2.2+dfsg1-2ubuntu1) ...\n",
            "Selecting previously unselected package gnuplot.\n",
            "Preparing to unpack .../14-gnuplot_5.2.2+dfsg1-2ubuntu1_all.deb ...\n",
            "Unpacking gnuplot (5.2.2+dfsg1-2ubuntu1) ...\n",
            "Selecting previously unselected package imagemagick-6.q16.\n",
            "Preparing to unpack .../15-imagemagick-6.q16_8%3a6.9.7.4+dfsg-16ubuntu6.4_amd64.deb ...\n",
            "Unpacking imagemagick-6.q16 (8:6.9.7.4+dfsg-16ubuntu6.4) ...\n",
            "Selecting previously unselected package imagemagick.\n",
            "Preparing to unpack .../16-imagemagick_8%3a6.9.7.4+dfsg-16ubuntu6.4_amd64.deb ...\n",
            "Unpacking imagemagick (8:6.9.7.4+dfsg-16ubuntu6.4) ...\n",
            "Selecting previously unselected package python-decorator.\n",
            "Preparing to unpack .../17-python-decorator_4.1.2-1_all.deb ...\n",
            "Unpacking python-decorator (4.1.2-1) ...\n",
            "Selecting previously unselected package python-ptyprocess.\n",
            "Preparing to unpack .../18-python-ptyprocess_0.5.2-1_all.deb ...\n",
            "Unpacking python-ptyprocess (0.5.2-1) ...\n",
            "Selecting previously unselected package python-pexpect.\n",
            "Preparing to unpack .../19-python-pexpect_4.2.1-1_all.deb ...\n",
            "Unpacking python-pexpect (4.2.1-1) ...\n",
            "Selecting previously unselected package python-six.\n",
            "Preparing to unpack .../20-python-six_1.11.0-2_all.deb ...\n",
            "Unpacking python-six (1.11.0-2) ...\n",
            "Selecting previously unselected package python-scandir.\n",
            "Preparing to unpack .../21-python-scandir_1.7-1_amd64.deb ...\n",
            "Unpacking python-scandir (1.7-1) ...\n",
            "Selecting previously unselected package python-pathlib2.\n",
            "Preparing to unpack .../22-python-pathlib2_2.3.0-1_all.deb ...\n",
            "Unpacking python-pathlib2 (2.3.0-1) ...\n",
            "Selecting previously unselected package python-pickleshare.\n",
            "Preparing to unpack .../23-python-pickleshare_0.7.4-2_all.deb ...\n",
            "Unpacking python-pickleshare (0.7.4-2) ...\n",
            "Selecting previously unselected package python-pkg-resources.\n",
            "Preparing to unpack .../24-python-pkg-resources_39.0.1-2_all.deb ...\n",
            "Unpacking python-pkg-resources (39.0.1-2) ...\n",
            "Selecting previously unselected package python-wcwidth.\n",
            "Preparing to unpack .../25-python-wcwidth_0.1.7+dfsg1-1_all.deb ...\n",
            "Unpacking python-wcwidth (0.1.7+dfsg1-1) ...\n",
            "Selecting previously unselected package python-prompt-toolkit.\n",
            "Preparing to unpack .../26-python-prompt-toolkit_1.0.15-1_all.deb ...\n",
            "Unpacking python-prompt-toolkit (1.0.15-1) ...\n",
            "Selecting previously unselected package python-pygments.\n",
            "Preparing to unpack .../27-python-pygments_2.2.0+dfsg-1_all.deb ...\n",
            "Unpacking python-pygments (2.2.0+dfsg-1) ...\n",
            "Selecting previously unselected package python-simplegeneric.\n",
            "Preparing to unpack .../28-python-simplegeneric_0.8.1-1_all.deb ...\n",
            "Unpacking python-simplegeneric (0.8.1-1) ...\n",
            "Selecting previously unselected package python-ipython-genutils.\n",
            "Preparing to unpack .../29-python-ipython-genutils_0.2.0-1_all.deb ...\n",
            "Unpacking python-ipython-genutils (0.2.0-1) ...\n",
            "Selecting previously unselected package python-enum34.\n",
            "Preparing to unpack .../30-python-enum34_1.1.6-2_all.deb ...\n",
            "Unpacking python-enum34 (1.1.6-2) ...\n",
            "Selecting previously unselected package python-traitlets.\n",
            "Preparing to unpack .../31-python-traitlets_4.3.2-1_all.deb ...\n",
            "Unpacking python-traitlets (4.3.2-1) ...\n",
            "Selecting previously unselected package python-backports-shutil-get-terminal-size.\n",
            "Preparing to unpack .../32-python-backports-shutil-get-terminal-size_1.0.0-5_all.deb ...\n",
            "Unpacking python-backports-shutil-get-terminal-size (1.0.0-5) ...\n",
            "Selecting previously unselected package python-ipython.\n",
            "Preparing to unpack .../33-python-ipython_5.5.0-1_all.deb ...\n",
            "Unpacking python-ipython (5.5.0-1) ...\n",
            "Selecting previously unselected package ipython.\n",
            "Preparing to unpack .../34-ipython_5.5.0-1_all.deb ...\n",
            "Unpacking ipython (5.5.0-1) ...\n",
            "Selecting previously unselected package libaudio2:amd64.\n",
            "Preparing to unpack .../35-libaudio2_1.9.4-6_amd64.deb ...\n",
            "Unpacking libaudio2:amd64 (1.9.4-6) ...\n",
            "Selecting previously unselected package libdjvulibre-text.\n",
            "Preparing to unpack .../36-libdjvulibre-text_3.5.27.1-8_all.deb ...\n",
            "Unpacking libdjvulibre-text (3.5.27.1-8) ...\n",
            "Selecting previously unselected package libdjvulibre21:amd64.\n",
            "Preparing to unpack .../37-libdjvulibre21_3.5.27.1-8_amd64.deb ...\n",
            "Unpacking libdjvulibre21:amd64 (3.5.27.1-8) ...\n",
            "Selecting previously unselected package libgail18:amd64.\n",
            "Preparing to unpack .../38-libgail18_2.24.32-1ubuntu1_amd64.deb ...\n",
            "Unpacking libgail18:amd64 (2.24.32-1ubuntu1) ...\n",
            "Selecting previously unselected package libgail-common:amd64.\n",
            "Preparing to unpack .../39-libgail-common_2.24.32-1ubuntu1_amd64.deb ...\n",
            "Unpacking libgail-common:amd64 (2.24.32-1ubuntu1) ...\n",
            "Selecting previously unselected package libgtk2.0-bin.\n",
            "Preparing to unpack .../40-libgtk2.0-bin_2.24.32-1ubuntu1_amd64.deb ...\n",
            "Unpacking libgtk2.0-bin (2.24.32-1ubuntu1) ...\n",
            "Selecting previously unselected package libmagickcore-6.q16-3-extra:amd64.\n",
            "Preparing to unpack .../41-libmagickcore-6.q16-3-extra_8%3a6.9.7.4+dfsg-16ubuntu6.4_amd64.deb ...\n",
            "Unpacking libmagickcore-6.q16-3-extra:amd64 (8:6.9.7.4+dfsg-16ubuntu6.4) ...\n",
            "Selecting previously unselected package libnetpbm10.\n",
            "Preparing to unpack .../42-libnetpbm10_2%3a10.0-15.3build1_amd64.deb ...\n",
            "Unpacking libnetpbm10 (2:10.0-15.3build1) ...\n",
            "Selecting previously unselected package qtcore4-l10n.\n",
            "Preparing to unpack .../43-qtcore4-l10n_4%3a4.8.7+dfsg-7ubuntu1_all.deb ...\n",
            "Unpacking qtcore4-l10n (4:4.8.7+dfsg-7ubuntu1) ...\n",
            "Selecting previously unselected package libqtcore4:amd64.\n",
            "Preparing to unpack .../44-libqtcore4_4%3a4.8.7+dfsg-7ubuntu1_amd64.deb ...\n",
            "Unpacking libqtcore4:amd64 (4:4.8.7+dfsg-7ubuntu1) ...\n",
            "Selecting previously unselected package libqt4-xml:amd64.\n",
            "Preparing to unpack .../45-libqt4-xml_4%3a4.8.7+dfsg-7ubuntu1_amd64.deb ...\n",
            "Unpacking libqt4-xml:amd64 (4:4.8.7+dfsg-7ubuntu1) ...\n",
            "Selecting previously unselected package libqtdbus4:amd64.\n",
            "Preparing to unpack .../46-libqtdbus4_4%3a4.8.7+dfsg-7ubuntu1_amd64.deb ...\n",
            "Unpacking libqtdbus4:amd64 (4:4.8.7+dfsg-7ubuntu1) ...\n",
            "Selecting previously unselected package qdbus.\n",
            "Preparing to unpack .../47-qdbus_4%3a4.8.7+dfsg-7ubuntu1_amd64.deb ...\n",
            "Unpacking qdbus (4:4.8.7+dfsg-7ubuntu1) ...\n",
            "Selecting previously unselected package libqt4-dbus:amd64.\n",
            "Preparing to unpack .../48-libqt4-dbus_4%3a4.8.7+dfsg-7ubuntu1_amd64.deb ...\n",
            "Unpacking libqt4-dbus:amd64 (4:4.8.7+dfsg-7ubuntu1) ...\n",
            "Selecting previously unselected package libqt4-network:amd64.\n",
            "Preparing to unpack .../49-libqt4-network_4%3a4.8.7+dfsg-7ubuntu1_amd64.deb ...\n",
            "Unpacking libqt4-network:amd64 (4:4.8.7+dfsg-7ubuntu1) ...\n",
            "Selecting previously unselected package libqt4-script:amd64.\n",
            "Preparing to unpack .../50-libqt4-script_4%3a4.8.7+dfsg-7ubuntu1_amd64.deb ...\n",
            "Unpacking libqt4-script:amd64 (4:4.8.7+dfsg-7ubuntu1) ...\n",
            "Selecting previously unselected package libqt4-sql:amd64.\n",
            "Preparing to unpack .../51-libqt4-sql_4%3a4.8.7+dfsg-7ubuntu1_amd64.deb ...\n",
            "Unpacking libqt4-sql:amd64 (4:4.8.7+dfsg-7ubuntu1) ...\n",
            "Selecting previously unselected package libqt4-xmlpatterns:amd64.\n",
            "Preparing to unpack .../52-libqt4-xmlpatterns_4%3a4.8.7+dfsg-7ubuntu1_amd64.deb ...\n",
            "Unpacking libqt4-xmlpatterns:amd64 (4:4.8.7+dfsg-7ubuntu1) ...\n",
            "Selecting previously unselected package libqtgui4:amd64.\n",
            "Preparing to unpack .../53-libqtgui4_4%3a4.8.7+dfsg-7ubuntu1_amd64.deb ...\n",
            "Unpacking libqtgui4:amd64 (4:4.8.7+dfsg-7ubuntu1) ...\n",
            "Selecting previously unselected package libqt4-declarative:amd64.\n",
            "Preparing to unpack .../54-libqt4-declarative_4%3a4.8.7+dfsg-7ubuntu1_amd64.deb ...\n",
            "Unpacking libqt4-declarative:amd64 (4:4.8.7+dfsg-7ubuntu1) ...\n",
            "Selecting previously unselected package libqt4-designer:amd64.\n",
            "Preparing to unpack .../55-libqt4-designer_4%3a4.8.7+dfsg-7ubuntu1_amd64.deb ...\n",
            "Unpacking libqt4-designer:amd64 (4:4.8.7+dfsg-7ubuntu1) ...\n",
            "Selecting previously unselected package libqt4-qt3support:amd64.\n",
            "Preparing to unpack .../56-libqt4-qt3support_4%3a4.8.7+dfsg-7ubuntu1_amd64.deb ...\n",
            "Unpacking libqt4-qt3support:amd64 (4:4.8.7+dfsg-7ubuntu1) ...\n",
            "Selecting previously unselected package libqt4-dev-bin.\n",
            "Preparing to unpack .../57-libqt4-dev-bin_4%3a4.8.7+dfsg-7ubuntu1_amd64.deb ...\n",
            "Unpacking libqt4-dev-bin (4:4.8.7+dfsg-7ubuntu1) ...\n",
            "Selecting previously unselected package libqt4-help:amd64.\n",
            "Preparing to unpack .../58-libqt4-help_4%3a4.8.7+dfsg-7ubuntu1_amd64.deb ...\n",
            "Unpacking libqt4-help:amd64 (4:4.8.7+dfsg-7ubuntu1) ...\n",
            "Selecting previously unselected package libqt4-scripttools:amd64.\n",
            "Preparing to unpack .../59-libqt4-scripttools_4%3a4.8.7+dfsg-7ubuntu1_amd64.deb ...\n",
            "Unpacking libqt4-scripttools:amd64 (4:4.8.7+dfsg-7ubuntu1) ...\n",
            "Selecting previously unselected package libqt4-svg:amd64.\n",
            "Preparing to unpack .../60-libqt4-svg_4%3a4.8.7+dfsg-7ubuntu1_amd64.deb ...\n",
            "Unpacking libqt4-svg:amd64 (4:4.8.7+dfsg-7ubuntu1) ...\n",
            "Selecting previously unselected package libqt4-test:amd64.\n",
            "Preparing to unpack .../61-libqt4-test_4%3a4.8.7+dfsg-7ubuntu1_amd64.deb ...\n",
            "Unpacking libqt4-test:amd64 (4:4.8.7+dfsg-7ubuntu1) ...\n",
            "Selecting previously unselected package qt4-linguist-tools.\n",
            "Preparing to unpack .../62-qt4-linguist-tools_4%3a4.8.7+dfsg-7ubuntu1_amd64.deb ...\n",
            "Unpacking qt4-linguist-tools (4:4.8.7+dfsg-7ubuntu1) ...\n",
            "Selecting previously unselected package qt4-qmake.\n",
            "Preparing to unpack .../63-qt4-qmake_4%3a4.8.7+dfsg-7ubuntu1_amd64.deb ...\n",
            "Unpacking qt4-qmake (4:4.8.7+dfsg-7ubuntu1) ...\n",
            "Selecting previously unselected package libqt4-dev.\n",
            "Preparing to unpack .../64-libqt4-dev_4%3a4.8.7+dfsg-7ubuntu1_amd64.deb ...\n",
            "Unpacking libqt4-dev (4:4.8.7+dfsg-7ubuntu1) ...\n",
            "Selecting previously unselected package libqt4-opengl:amd64.\n",
            "Preparing to unpack .../65-libqt4-opengl_4%3a4.8.7+dfsg-7ubuntu1_amd64.deb ...\n",
            "Unpacking libqt4-opengl:amd64 (4:4.8.7+dfsg-7ubuntu1) ...\n",
            "Selecting previously unselected package libqt4-opengl-dev.\n",
            "Preparing to unpack .../66-libqt4-opengl-dev_4%3a4.8.7+dfsg-7ubuntu1_amd64.deb ...\n",
            "Unpacking libqt4-opengl-dev (4:4.8.7+dfsg-7ubuntu1) ...\n",
            "Selecting previously unselected package libqt4-sql-mysql:amd64.\n",
            "Preparing to unpack .../67-libqt4-sql-mysql_4%3a4.8.7+dfsg-7ubuntu1_amd64.deb ...\n",
            "Unpacking libqt4-sql-mysql:amd64 (4:4.8.7+dfsg-7ubuntu1) ...\n",
            "Selecting previously unselected package netpbm.\n",
            "Preparing to unpack .../68-netpbm_2%3a10.0-15.3build1_amd64.deb ...\n",
            "Unpacking netpbm (2:10.0-15.3build1) ...\n",
            "Selecting previously unselected package notification-daemon.\n",
            "Preparing to unpack .../69-notification-daemon_3.20.0-3_amd64.deb ...\n",
            "Unpacking notification-daemon (3.20.0-3) ...\n",
            "Selecting previously unselected package python-chardet.\n",
            "Preparing to unpack .../70-python-chardet_3.0.4-1_all.deb ...\n",
            "Unpacking python-chardet (3.0.4-1) ...\n",
            "Selecting previously unselected package qt-at-spi:amd64.\n",
            "Preparing to unpack .../71-qt-at-spi_0.4.0-8_amd64.deb ...\n",
            "Unpacking qt-at-spi:amd64 (0.4.0-8) ...\n",
            "Setting up imagemagick-6-common (8:6.9.7.4+dfsg-16ubuntu6.4) ...\n",
            "Setting up libnotify4:amd64 (0.7.7-3) ...\n",
            "Setting up libgtk2.0-common (2.24.32-1ubuntu1) ...\n",
            "Setting up python-simplegeneric (0.8.1-1) ...\n",
            "Setting up python-scandir (1.7-1) ...\n",
            "Processing triggers for mime-support (3.60ubuntu1) ...\n",
            "Setting up libdjvulibre-text (3.5.27.1-8) ...\n",
            "Setting up qtcore4-l10n (4:4.8.7+dfsg-7ubuntu1) ...\n",
            "Setting up libnetpbm10 (2:10.0-15.3build1) ...\n",
            "Setting up qt4-qmake (4:4.8.7+dfsg-7ubuntu1) ...\n",
            "Setting up python-pkg-resources (39.0.1-2) ...\n",
            "Setting up libmng2:amd64 (2.0.2-0ubuntu3) ...\n",
            "Setting up python-backports-shutil-get-terminal-size (1.0.0-5) ...\n",
            "Setting up libwxbase3.0-0v5:amd64 (3.0.4+dfsg-3) ...\n",
            "Setting up python-ipython-genutils (0.2.0-1) ...\n",
            "Setting up liblqr-1-0:amd64 (0.4.2-2.1) ...\n",
            "Setting up python-six (1.11.0-2) ...\n",
            "Setting up python-wcwidth (0.1.7+dfsg1-1) ...\n",
            "Setting up python-pygments (2.2.0+dfsg-1) ...\n",
            "Setting up python-ptyprocess (0.5.2-1) ...\n",
            "Processing triggers for libc-bin (2.27-3ubuntu1) ...\n",
            "Setting up libqtcore4:amd64 (4:4.8.7+dfsg-7ubuntu1) ...\n",
            "Setting up python-enum34 (1.1.6-2) ...\n",
            "Setting up netpbm (2:10.0-15.3build1) ...\n",
            "Processing triggers for man-db (2.8.3-2ubuntu0.1) ...\n",
            "Setting up python-decorator (4.1.2-1) ...\n",
            "Setting up aglfn (1.7-3) ...\n",
            "Setting up python-pathlib2 (2.3.0-1) ...\n",
            "Setting up python-traitlets (4.3.2-1) ...\n",
            "Setting up liblua5.3-0:amd64 (5.3.3-1ubuntu0.18.04.1) ...\n",
            "Setting up libqt4-test:amd64 (4:4.8.7+dfsg-7ubuntu1) ...\n",
            "Processing triggers for hicolor-icon-theme (0.17-2) ...\n",
            "Setting up libqt4-xml:amd64 (4:4.8.7+dfsg-7ubuntu1) ...\n",
            "Setting up qt4-linguist-tools (4:4.8.7+dfsg-7ubuntu1) ...\n",
            "Setting up libaudio2:amd64 (1.9.4-6) ...\n",
            "Setting up notification-daemon (3.20.0-3) ...\n",
            "Setting up libgtk2.0-0:amd64 (2.24.32-1ubuntu1) ...\n",
            "Setting up python-prompt-toolkit (1.0.15-1) ...\n",
            "Setting up python-chardet (3.0.4-1) ...\n",
            "Setting up libmagickcore-6.q16-3:amd64 (8:6.9.7.4+dfsg-16ubuntu6.4) ...\n",
            "Setting up libgail18:amd64 (2.24.32-1ubuntu1) ...\n",
            "Setting up libdjvulibre21:amd64 (3.5.27.1-8) ...\n",
            "Setting up libwxgtk3.0-0v5:amd64 (3.0.4+dfsg-3) ...\n",
            "Setting up libgail-common:amd64 (2.24.32-1ubuntu1) ...\n",
            "Setting up libqt4-sql:amd64 (4:4.8.7+dfsg-7ubuntu1) ...\n",
            "Setting up python-pexpect (4.2.1-1) ...\n",
            "Setting up gnuplot-data (5.2.2+dfsg1-2ubuntu1) ...\n",
            "Setting up python-pickleshare (0.7.4-2) ...\n",
            "Setting up gnuplot-x11 (5.2.2+dfsg1-2ubuntu1) ...\n",
            "update-alternatives: using /usr/bin/gnuplot-x11 to provide /usr/bin/gnuplot (gnuplot) in auto mode\n",
            "Setting up libmagickwand-6.q16-3:amd64 (8:6.9.7.4+dfsg-16ubuntu6.4) ...\n",
            "Setting up libqtdbus4:amd64 (4:4.8.7+dfsg-7ubuntu1) ...\n",
            "Setting up libgtk2.0-bin (2.24.32-1ubuntu1) ...\n",
            "Setting up libqt4-script:amd64 (4:4.8.7+dfsg-7ubuntu1) ...\n",
            "Setting up libqt4-sql-mysql:amd64 (4:4.8.7+dfsg-7ubuntu1) ...\n",
            "Setting up python-ipython (5.5.0-1) ...\n",
            "Setting up ipython (5.5.0-1) ...\n",
            "Setting up imagemagick-6.q16 (8:6.9.7.4+dfsg-16ubuntu6.4) ...\n",
            "update-alternatives: using /usr/bin/compare-im6.q16 to provide /usr/bin/compare (compare) in auto mode\n",
            "update-alternatives: using /usr/bin/compare-im6.q16 to provide /usr/bin/compare-im6 (compare-im6) in auto mode\n",
            "update-alternatives: using /usr/bin/animate-im6.q16 to provide /usr/bin/animate (animate) in auto mode\n",
            "update-alternatives: using /usr/bin/animate-im6.q16 to provide /usr/bin/animate-im6 (animate-im6) in auto mode\n",
            "update-alternatives: using /usr/bin/convert-im6.q16 to provide /usr/bin/convert (convert) in auto mode\n",
            "update-alternatives: using /usr/bin/convert-im6.q16 to provide /usr/bin/convert-im6 (convert-im6) in auto mode\n",
            "update-alternatives: using /usr/bin/composite-im6.q16 to provide /usr/bin/composite (composite) in auto mode\n",
            "update-alternatives: using /usr/bin/composite-im6.q16 to provide /usr/bin/composite-im6 (composite-im6) in auto mode\n",
            "update-alternatives: using /usr/bin/conjure-im6.q16 to provide /usr/bin/conjure (conjure) in auto mode\n",
            "update-alternatives: using /usr/bin/conjure-im6.q16 to provide /usr/bin/conjure-im6 (conjure-im6) in auto mode\n",
            "update-alternatives: using /usr/bin/import-im6.q16 to provide /usr/bin/import (import) in auto mode\n",
            "update-alternatives: using /usr/bin/import-im6.q16 to provide /usr/bin/import-im6 (import-im6) in auto mode\n",
            "update-alternatives: using /usr/bin/identify-im6.q16 to provide /usr/bin/identify (identify) in auto mode\n",
            "update-alternatives: using /usr/bin/identify-im6.q16 to provide /usr/bin/identify-im6 (identify-im6) in auto mode\n",
            "update-alternatives: using /usr/bin/stream-im6.q16 to provide /usr/bin/stream (stream) in auto mode\n",
            "update-alternatives: using /usr/bin/stream-im6.q16 to provide /usr/bin/stream-im6 (stream-im6) in auto mode\n",
            "update-alternatives: using /usr/bin/display-im6.q16 to provide /usr/bin/display (display) in auto mode\n",
            "update-alternatives: using /usr/bin/display-im6.q16 to provide /usr/bin/display-im6 (display-im6) in auto mode\n",
            "update-alternatives: using /usr/bin/montage-im6.q16 to provide /usr/bin/montage (montage) in auto mode\n",
            "update-alternatives: using /usr/bin/montage-im6.q16 to provide /usr/bin/montage-im6 (montage-im6) in auto mode\n",
            "update-alternatives: using /usr/bin/mogrify-im6.q16 to provide /usr/bin/mogrify (mogrify) in auto mode\n",
            "update-alternatives: using /usr/bin/mogrify-im6.q16 to provide /usr/bin/mogrify-im6 (mogrify-im6) in auto mode\n",
            "Setting up qdbus (4:4.8.7+dfsg-7ubuntu1) ...\n",
            "Setting up gnuplot (5.2.2+dfsg1-2ubuntu1) ...\n",
            "Setting up libmagickcore-6.q16-3-extra:amd64 (8:6.9.7.4+dfsg-16ubuntu6.4) ...\n",
            "Setting up imagemagick (8:6.9.7.4+dfsg-16ubuntu6.4) ...\n",
            "Setting up libqt4-dbus:amd64 (4:4.8.7+dfsg-7ubuntu1) ...\n",
            "Setting up libqt4-network:amd64 (4:4.8.7+dfsg-7ubuntu1) ...\n",
            "Setting up libqt4-xmlpatterns:amd64 (4:4.8.7+dfsg-7ubuntu1) ...\n",
            "Setting up libqtgui4:amd64 (4:4.8.7+dfsg-7ubuntu1) ...\n",
            "Setting up qt-at-spi:amd64 (0.4.0-8) ...\n",
            "Setting up libqt4-designer:amd64 (4:4.8.7+dfsg-7ubuntu1) ...\n",
            "Setting up libqt4-help:amd64 (4:4.8.7+dfsg-7ubuntu1) ...\n",
            "Setting up libqt4-svg:amd64 (4:4.8.7+dfsg-7ubuntu1) ...\n",
            "Setting up libqt4-scripttools:amd64 (4:4.8.7+dfsg-7ubuntu1) ...\n",
            "Setting up libqt4-opengl:amd64 (4:4.8.7+dfsg-7ubuntu1) ...\n",
            "Setting up libqt4-declarative:amd64 (4:4.8.7+dfsg-7ubuntu1) ...\n",
            "Setting up libqt4-qt3support:amd64 (4:4.8.7+dfsg-7ubuntu1) ...\n",
            "Setting up libqt4-dev-bin (4:4.8.7+dfsg-7ubuntu1) ...\n",
            "Setting up libqt4-dev (4:4.8.7+dfsg-7ubuntu1) ...\n",
            "Setting up libqt4-opengl-dev (4:4.8.7+dfsg-7ubuntu1) ...\n",
            "Processing triggers for libc-bin (2.27-3ubuntu1) ...\n",
            "Skipping install of OpenBLAS - it is already installed.\n",
            "==> Torch7's dependencies have been installed\n"
          ],
          "name": "stdout"
        }
      ]
    },
    {
      "cell_type": "code",
      "metadata": {
        "id": "q7df0QDnfaLy",
        "colab_type": "code",
        "colab": {
          "base_uri": "https://localhost:8080/",
          "height": 34
        },
        "outputId": "635a9618-1bf0-4b1a-f5f1-3284f75c4e91"
      },
      "source": [
        "!pwd"
      ],
      "execution_count": 7,
      "outputs": [
        {
          "output_type": "stream",
          "text": [
            "/content\n"
          ],
          "name": "stdout"
        }
      ]
    },
    {
      "cell_type": "code",
      "metadata": {
        "id": "e9VDTwxCWd0L",
        "colab_type": "code",
        "colab": {}
      },
      "source": [
        ""
      ],
      "execution_count": 0,
      "outputs": []
    },
    {
      "cell_type": "markdown",
      "metadata": {
        "id": "076bTuCMWzQ5",
        "colab_type": "text"
      },
      "source": [
        "# New Section"
      ]
    },
    {
      "cell_type": "code",
      "metadata": {
        "id": "sNp_GL-wftAJ",
        "colab_type": "code",
        "outputId": "e8179be9-ca38-4ce0-9a00-1702286a7f89",
        "colab": {
          "base_uri": "https://localhost:8080/",
          "height": 34
        }
      },
      "source": [
        "!TORCH_LUA_VERSION=LUA52 ./install.sh"
      ],
      "execution_count": 6,
      "outputs": [
        {
          "output_type": "stream",
          "text": [
            "/bin/bash: ./install.sh: No such file or directory\n"
          ],
          "name": "stdout"
        }
      ]
    },
    {
      "cell_type": "code",
      "metadata": {
        "id": "GtTEwFbdEPl4",
        "colab_type": "code",
        "colab": {
          "base_uri": "https://localhost:8080/",
          "height": 34
        },
        "outputId": "5adbe2e9-e069-4d8f-96d8-0c369db71046"
      },
      "source": [
        "!th eval.lua -input_img_h5 data_img.h5 -input_ques_h5 data_prepro.h5 -input_json data_prepro.json -model_path model/lstm.t7\n"
      ],
      "execution_count": 1,
      "outputs": [
        {
          "output_type": "stream",
          "text": [
            "/bin/bash: th: command not found\n"
          ],
          "name": "stdout"
        }
      ]
    },
    {
      "cell_type": "code",
      "metadata": {
        "id": "oqa8NLBrEKbY",
        "colab_type": "code",
        "colab": {
          "base_uri": "https://localhost:8080/",
          "height": 34
        },
        "outputId": "fe7dde2b-6956-4fa7-acea-e64762e0b92b"
      },
      "source": [
        "!vi /root/.bashrc\n"
      ],
      "execution_count": 4,
      "outputs": [
        {
          "output_type": "stream",
          "text": [
            "/bin/bash: vi: command not found\n"
          ],
          "name": "stdout"
        }
      ]
    },
    {
      "cell_type": "code",
      "metadata": {
        "id": "8HHOzWWAEBKU",
        "colab_type": "code",
        "colab": {}
      },
      "source": [
        ""
      ],
      "execution_count": 0,
      "outputs": []
    },
    {
      "cell_type": "code",
      "metadata": {
        "id": "s0FfVugtD7iz",
        "colab_type": "code",
        "colab": {}
      },
      "source": [
        ""
      ],
      "execution_count": 0,
      "outputs": []
    },
    {
      "cell_type": "markdown",
      "metadata": {
        "id": "MJ4Hh4IRV3Zb",
        "colab_type": "text"
      },
      "source": [
        "# New Section"
      ]
    }
  ]
}